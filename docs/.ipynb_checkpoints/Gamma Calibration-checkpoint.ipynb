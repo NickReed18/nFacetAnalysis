{
 "cells": [
  {
   "cell_type": "markdown",
   "id": "157c332c",
   "metadata": {},
   "source": [
    "# Gamma Calibration\n",
    "\n",
    "## Introduction and loading data\n",
    "\n",
    "In 2020, data was taken using a Co$^{60}$ source in a lab setting at Imperial. This was used to perform a channel-to-channel light response calibration, using the Compton edge from the first photopeak of Co$^{60}$ as a reference point. \n",
    "\n",
    "The majority of the code used for this analysis can be found in GammaCalib.py, but key sections will be reproduced here."
   ]
  },
  {
   "cell_type": "code",
   "execution_count": 4,
   "id": "b4974017",
   "metadata": {},
   "outputs": [],
   "source": [
    "import GammaCalib as GammaCalib\n",
    "\n",
    "import numpy as np\n",
    "import pandas as pd\n",
    "\n",
    "%matplotlib inline"
   ]
  },
  {
   "cell_type": "markdown",
   "id": "14147131",
   "metadata": {},
   "source": [
    "The analysis code is contained within the CouplingAnalysis class, which is instantiated with a timing window for determining coincidence between signals in the detector."
   ]
  },
  {
   "cell_type": "code",
   "execution_count": 3,
   "id": "4cf7c431",
   "metadata": {},
   "outputs": [],
   "source": [
    "analysis = GammaCalib.CouplingAnalysis(100)"
   ]
  },
  {
   "cell_type": "markdown",
   "id": "0b70b159",
   "metadata": {},
   "source": [
    "Individual data files can be loaded into the CouplingAnalysis object via the add_data method, which takes the ROOT file of the data run. The peak value over pedestal for each signal is calculated on a channel-by-channel basis by subtracting the channel baseline from the peak of the waveform. Coincidence calculation is then performed to prepare the datafile for analysis. Background data is also loaded for the purposes of background subtraction during the analysis."
   ]
  },
  {
   "cell_type": "code",
   "execution_count": 5,
   "id": "43524c2c",
   "metadata": {},
   "outputs": [],
   "source": [
    "analysis.add_data('/home/nr1315/Documents/Project/GammaCalibration/Data/lab_2020-09-16_Co60_lowToT.root')\n",
    "analysis.add_data('/home/nr1315/Documents/Project/GammaCalibration/Data/lab_2020-09-16_bkg_lowToT.root')"
   ]
  },
  {
   "cell_type": "markdown",
   "id": "103e1fba",
   "metadata": {},
   "source": [
    "## Channel fitting\n",
    "\n",
    "Now that the data has been loaded, it is instructive to visualise the distribution of peak values over pedestal for a single channel.\n",
    "\n",
    "![Single channel distribution](Plots/single_channel_Compton_edge.png)\n",
    "\n",
    "This shows the Compton energy distribution from the Co$^{60}$ source incident in the detector, which comprises of Compton scattering from the two photopeaks of the source. However, peak broadening effects in the detector distort these distributions, resulting in the shape seen in this plot. For this analysis, we focus on the distribution from the first photopeak of Co$^{60}$ at 1173.2 keV, with a Compton edge energy of 963.3 keV. The broadening effects give rise to a non-trivial distribution, but here it is approximated by a half-Gaussian function from the peak of the distribution onwards. The ADC value of this Compton edge can be extracted from the value of ADC at the 1$\\sigma$ width of the distribution. "
   ]
  },
  {
   "cell_type": "code",
   "execution_count": null,
   "id": "0d1fbd9b",
   "metadata": {},
   "outputs": [],
   "source": []
  },
  {
   "cell_type": "code",
   "execution_count": null,
   "id": "d9769ef0",
   "metadata": {},
   "outputs": [],
   "source": []
  },
  {
   "cell_type": "code",
   "execution_count": null,
   "id": "d2c738d9",
   "metadata": {},
   "outputs": [],
   "source": []
  }
 ],
 "metadata": {
  "kernelspec": {
   "display_name": "Python 3",
   "language": "python",
   "name": "python3"
  },
  "language_info": {
   "codemirror_mode": {
    "name": "ipython",
    "version": 3
   },
   "file_extension": ".py",
   "mimetype": "text/x-python",
   "name": "python",
   "nbconvert_exporter": "python",
   "pygments_lexer": "ipython3",
   "version": "3.7.6"
  }
 },
 "nbformat": 4,
 "nbformat_minor": 5
}
