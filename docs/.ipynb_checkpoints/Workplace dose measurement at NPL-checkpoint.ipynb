{
 "cells": [
  {
   "cell_type": "markdown",
   "id": "227d2008",
   "metadata": {},
   "source": [
    "### Introduction\n",
    "\n",
    "Following prior calibration measurements at the National Physical Laboratory (NPL) in 2017 and 2021 and MOX fuel source measurements at BR1 as a part of the International Partnership for Nuclear Disarmament Verification exercise in 2019, the nFacet 3D detector response is well understood."
   ]
  },
  {
   "cell_type": "markdown",
   "id": "a1422b7c",
   "metadata": {},
   "source": [
    "### Goals of the campaign\n",
    "\n",
    "The main goal of this measurement campaign was to test the neutron dose rate measurement capabilities of the nFacet 3D detector in comparison with several state-of-the-art dosimeters. For this campaign, there were three reference dosimeters used: a Berthold LB 6411 neutron probe [[1]](https://www.berthold.com/en/radiation-protection/products/dose-and-dose-rate/neutron-dose-rate-probe-lb-6411/), a Thermo-Fisher EPD-N2 [[2]](https://www.berthold.com/en/radiation-protection/products/dose-and-dose-rate/neutron-dose-rate-probe-lb-6411/) and a Bonner sphere spectrometer.  \n",
    " "
   ]
  },
  {
   "cell_type": "markdown",
   "id": "7e431f83",
   "metadata": {},
   "source": [
    "### Experimental setup\n",
    "\n",
    "The nFacet 3D detector was placed on a tripod at 5 different positions in a room beneath the Van der Graaf accelerator at the NPL low scattering facility. This room also contains storerooms for neutron and gamma sources. A $^{252}$Cf source was placed on a tripod level with the centre of the nFacet 3D detector near the far wall. A schematic of the room and of the different positions used for data taking can be seen in Figure X. At each position, the "
   ]
  },
  {
   "cell_type": "markdown",
   "id": "60d6c856",
   "metadata": {},
   "source": [
    "### Results"
   ]
  },
  {
   "cell_type": "markdown",
   "id": "0738ca53",
   "metadata": {},
   "source": [
    "### Future work"
   ]
  }
 ],
 "metadata": {
  "kernelspec": {
   "display_name": "Python 3 (ipykernel)",
   "language": "python",
   "name": "python3"
  },
  "language_info": {
   "codemirror_mode": {
    "name": "ipython",
    "version": 3
   },
   "file_extension": ".py",
   "mimetype": "text/x-python",
   "name": "python",
   "nbconvert_exporter": "python",
   "pygments_lexer": "ipython3",
   "version": "3.9.7"
  }
 },
 "nbformat": 4,
 "nbformat_minor": 5
}
