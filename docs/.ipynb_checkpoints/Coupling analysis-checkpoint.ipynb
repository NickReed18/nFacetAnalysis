{
 "cells": [
  {
   "cell_type": "markdown",
   "metadata": {},
   "source": [
    "# Gamma Calibration"
   ]
  },
  {
   "cell_type": "code",
   "execution_count": 15,
   "metadata": {},
   "outputs": [],
   "source": [
    "import uproot\n",
    "import numpy as np\n",
    "import pandas as pd\n",
    "import matplotlib.pyplot as plt\n",
    "from scipy.optimize import curve_fit\n",
    "%matplotlib tk\n",
    "from scipy.stats import mode"
   ]
  },
  {
   "cell_type": "code",
   "execution_count": 128,
   "metadata": {},
   "outputs": [],
   "source": [
    "class CouplingAnalysis():\n",
    "    def __init__(self,coincidence_window):\n",
    "        self.data={}\n",
    "        self.set={}\n",
    "        self.dfiles=[]\n",
    "        self.cwind=coincidence_window\n",
    "        self.fits={}\n",
    "        self.dfs={}\n",
    "        self.factors={}\n",
    "        self.reconstructed={}\n",
    "        \n",
    "    def add_data(self,dfile):\n",
    "        file=uproot.open(dfile)\n",
    "        ends=[]\n",
    "        for key in file.keys():\n",
    "            if key[0:1]==b'e':\n",
    "                ends.append(int(key[7:]))\n",
    "        maxkey=max(ends)\n",
    "        self.dfiles.append(dfile)\n",
    "        data=file['events;{}'.format(maxkey)].pandas.df(flatten=False)\n",
    "        settings=file['settings'].pandas.df(flatten=False)\n",
    "        data['x']=-2\n",
    "        data['y']=-2\n",
    "        data['z']=-2\n",
    "        data['subtracted']=0\n",
    "        for chann in range(len(settings)):\n",
    "            data.loc[(data[['fpga','channel']]==settings.loc[chann,['fpgaId','chId']].values).all(axis=1),'x']=settings.loc[chann,'x']  \n",
    "            data.loc[(data[['fpga','channel']]==settings.loc[chann,['fpgaId','chId']].values).all(axis=1),'y']=settings.loc[chann,'y']  \n",
    "            data.loc[(data[['fpga','channel']]==settings.loc[chann,['fpgaId','chId']].values).all(axis=1),'z']=settings.loc[chann,'z']  \n",
    "            data.loc[(data[['fpga','channel']]==settings.loc[chann,['fpgaId','chId']].values).all(axis=1),'subtracted']=data.loc[(data[['fpga','channel']]==settings.loc[chann,['fpgaId','chId']].values).all(axis=1),'peakValue']-settings.loc[chann,'pedestal']\n",
    "        data.sort_values(['time'],inplace=True)\n",
    "        data['deltaT']=data['time'].diff()\n",
    "        data['inWindow']=data['deltaT']<self.cwind\n",
    "        data['EventNum']=(~data['inWindow']).cumsum()\n",
    "        data.set_index('EventNum',inplace=True)\n",
    "        data['coincidence']=data.groupby(data.index)['totValue'].count()\n",
    "        self.data[dfile]=data\n",
    "        self.set[dfile]=settings\n",
    "    \n",
    "    def gen_df(self,dfile,binsize,maxval,coincidence_cut=2,bkg=None,plotbkg=False,ToTcut=20,corrected=False):\n",
    "        nbins=int(maxval/binsize)\n",
    "        space=maxval/nbins\n",
    "        bins=np.linspace(0,maxval,nbins)\n",
    "        centres=(bins + space/2)[:-1]\n",
    "        data=self.data[dfile]\n",
    "        bkg=self.data[bkg]\n",
    "        \n",
    "        def half_gauss(x,mu,sigma,amp):\n",
    "            return np.heaviside(x-mu,1)*amp*np.exp(-1*(x-mu)**2/(2*sigma**2)) + np.heaviside(mu-x,0)\n",
    "        \n",
    "        \n",
    "        for i in range(2):\n",
    "            for j in range(16):\n",
    "                d=data.query('fpga=={}&channel=={}&coincidence=={}&totValue<{}'.format(i,j,coincidence_cut,ToTcut))\n",
    "                if corrected:\n",
    "                    dhist,dbins=np.histogram(d['corrected'],bins=bins)\n",
    "                else:\n",
    "                    dhist,dbins=np.histogram(d['subtracted'],bins=bins)\n",
    "                b=bkg.query('fpga=={}&channel=={}&coincidence=={}&totValue<{}'.format(i,j,coincidence_cut,ToTcut))\n",
    "                if corrected:\n",
    "                    bhist,bbins=np.histogram(b['corrected'],bins=bins)\n",
    "                else:\n",
    "                    bhist,bbins=np.histogram(b['subtracted'],bins=bins)\n",
    "                dt=d['time'].values[-1]\n",
    "                bt=b['time'].values[-1]\n",
    "                if dt>bt:\n",
    "                    ratio=bt/dt\n",
    "                    subhist=ratio*dhist-bhist\n",
    "                    subhist2=np.copy(subhist)\n",
    "                    subhist2[:np.argmax(subhist)]=1\n",
    "                    suberror=np.sqrt(ratio**2*dhist + bhist)\n",
    "                    suberror2=np.copy(suberror)\n",
    "                    suberror2[:np.argmax(subhist)]=1\n",
    "                elif dt<bt:\n",
    "                    ratio=dt/bt\n",
    "                    subhist=dhist-ratio*bhist\n",
    "                    subhist2=np.copy(subhist)\n",
    "                    subhist2[:np.argmax(subhist)]=1\n",
    "                    suberror=np.sqrt(dhist + ratio**2*bhist)\n",
    "                    suberror2=np.copy(suberror)\n",
    "                    suberror2[:np.argmax(subhist)]=1\n",
    "                else:\n",
    "                    subhist=dhist-bhist\n",
    "                    suberror=np.sqrt(dhist+bhist)\n",
    "                    subhist2=np.copy(subhist)\n",
    "                    subhist2[:np.argmax(subhist)]=1\n",
    "                    suberror2=np.copy(suberror)\n",
    "                    suberror2[:np.argmax(subhist)]=1\n",
    "                      \n",
    "                med=np.median(np.repeat(centres[:np.argmax(subhist<0)],subhist[:np.argmax(subhist<0)].astype(int)))\n",
    "                \n",
    "                p0=[centres[np.argmax(subhist)],np.sqrt(d['subtracted'].var()),np.max(subhist2)]\n",
    "                popt,pcov=curve_fit(half_gauss,centres,subhist2,p0,sigma=suberror2)\n",
    "                fit=half_gauss(centres,popt[0],popt[1],popt[2])\n",
    "                resid=(subhist2-fit)/suberror2\n",
    "                def chsq(obv,exp,error):\n",
    "                    return np.sum((obv-exp)**2/(error)**2)/(len(centres)-3)\n",
    "                    \n",
    "                chs=chsq(subhist2,fit,suberror2)\n",
    "                t={'fpga':i,'channel':j,'centres':centres,'data':subhist,'error':suberror,'space':space,'p0':p0,'popt':popt,'pcov':pcov,'fit':fit,'residuals':resid,'chsq':chs}\n",
    "                entry=pd.DataFrame.from_dict(t,orient='index').transpose()    \n",
    "            \n",
    "                if (i==0)&(j==0):\n",
    "                    df=entry\n",
    "                else:\n",
    "                    df=pd.concat((df,entry),axis=0)\n",
    "        if corrected:\n",
    "            self.dfs[dfile+\"_corrected\"]=df\n",
    "        else:\n",
    "            self.dfs[dfile]=df\n",
    "        \n",
    "    def refit_mean(self,dfile,chsqthresh=2):\n",
    "        df=self.dfs[dfile]\n",
    "        \n",
    "        mu0,sig0=df.query(\"(fpga==0)&chsq<{}\".format(chsqthresh))['popt'].explode().values.reshape(-1,3)[:,:2].mean(axis=0)\n",
    "        mu1,sig1=df.query(\"(fpga==1)&chsq<{}\".format(chsqthresh))['popt'].explode().values.reshape(-1,3)[:,:2].mean(axis=0)\n",
    "        refs=df.query(\"chsq>{}\".format(chsqthresh))\n",
    "        refs.reset_index(drop=True,inplace=True)\n",
    "        fits=df['fit'].values\n",
    "        opts=df['popt'].values\n",
    "        covs=df['pcov'].values\n",
    "        residuals=df['residuals'].values\n",
    "        chisq=df['chsq'].values\n",
    "        \n",
    "        for ind in refs.index:\n",
    "            subhist=refs.loc[ind,'data']\n",
    "            suberror=refs.loc[ind,'error']\n",
    "            cent=refs.loc[ind,'centres']\n",
    "            hist2=np.copy(subhist)\n",
    "            err2=np.copy(suberror)\n",
    "            hist2[:np.argmax(subhist)]=1\n",
    "            err2[:np.argmax(subhist)]=1\n",
    "            \n",
    "            def half_gauss(x,mu,sigma,amp):\n",
    "                return np.heaviside(x-mu,1)*amp*np.exp(-1*(x-mu)**2/(2*sigma**2)) + np.heaviside(mu-x,0)        \n",
    "            def chsq(obv,exp,error):\n",
    "                return np.sum((obv-exp)**2/(error)**2)/(len(cent)-3)\n",
    "            \n",
    "            if refs.iloc[ind]['fpga']==0:\n",
    "                mu=mu0\n",
    "                sig=sig0\n",
    "            if refs.iloc[ind]['fpga']==1:\n",
    "                mu=mu1\n",
    "                sig=sig1\n",
    "            p0=[mu,sig,np.max(subhist)]\n",
    "            popt,pcov=curve_fit(half_gauss,cent,hist2,p0,sigma=err2)\n",
    "            fit=half_gauss(cent,popt[0],popt[1],popt[2])\n",
    "            resid=(hist2-fit)/err2\n",
    "            i=np.where((df['fpga'].values==refs.loc[ind,'fpga'])&(df['channel'].values==refs.loc[ind,'channel']))[0][0]\n",
    "            fits[i]=fit\n",
    "            covs[i]=pcov\n",
    "            opts[i]=popt\n",
    "            residuals[i]=resid\n",
    "            chisq[i]=chsq(hist2,fit,err2)\n",
    "            \n",
    "        df['fit']=fits\n",
    "        df['popt']=opts\n",
    "        df['pcov']=covs\n",
    "        df['residuals']=residuals\n",
    "        df['chsq']=chisq\n",
    "        #self.dfs[dfile]=df\n",
    "            \n",
    "    \n",
    "    def individual_gauss_fit(self,dfile):\n",
    "\n",
    "        df=self.dfs[dfile]\n",
    "        \n",
    "        fig,(ax1,ax2)=plt.subplots(2,1,gridspec_kw={'height_ratios':[3,1]})\n",
    "        self.curr_pos=0\n",
    "        f=df.iloc[self.curr_pos]\n",
    "        \n",
    "        def key_event(e):\n",
    "            if e.key==\"right\":\n",
    "                self.curr_pos+=1\n",
    "                self.curr_pos%=len(df)\n",
    "                f=df.iloc[self.curr_pos]\n",
    "                \n",
    "                ax1.cla()\n",
    "                ax2.cla()\n",
    "                \n",
    "                fig.suptitle(\"FPGA {}, channel {}\".format(f['fpga'],f['channel']),fontsize=24)\n",
    "                ax1.bar(f['centres'],f['data'],width=f['space'],alpha=0.3,label='Data')\n",
    "                ax1.plot(f['centres'],f['fit'],c='r',label='Fit')\n",
    "                ax1.set_xlabel('Peak value over pedestal',fontsize=20)\n",
    "                ax1.set_ylabel('Frequency',fontsize=20)\n",
    "                ax1.set_xlim(0,6000)\n",
    "                ax1.plot(np.repeat(int(f['popt'][:2].sum()),100),np.linspace(0,np.nanmax(f['data']),100),label=r'Fit $\\mu$ + $\\sigma$')\n",
    "                ax1.legend(loc='upper right')\n",
    "                ax1.text(int(f['popt'][:2].sum())+200,int(np.nanmax(f['fit'])),r\"$\\mu$ + $\\sigma%$ = \"+str(int(f['popt'][:2].sum())))\n",
    "                \n",
    "                ax2.scatter(f['centres'],f['residuals'],marker='+')\n",
    "                ax2.set_ylabel(r'Residuals \\ $\\sigma$',fontsize=20)\n",
    "                ax2.set_xlim(0,6000)\n",
    "                ma=np.nanmax(np.abs(f['residuals']))+1\n",
    "                ax2.set_ylim(-1*ma,ma)\n",
    "                ax2.fill_between((0,6000),(-1,-1),(1,1),alpha=0.3,label=r'1 $\\sigma$')\n",
    "                ax2.legend(loc='upper right')\n",
    "                \n",
    "                fig.canvas.draw()\n",
    "                \n",
    "            elif e.key==\"left\":\n",
    "                self.curr_pos-=1\n",
    "                self.curr_pos%=len(df)\n",
    "                f=df.iloc[self.curr_pos]\n",
    "                \n",
    "                ax1.cla()\n",
    "                ax2.cla()\n",
    "                \n",
    "                fig.suptitle(\"FPGA {}, channel {}\".format(f['fpga'],f['channel']),fontsize=24)\n",
    "                ax1.bar(f['centres'],f['data'],width=f['space'],alpha=0.3,label='Data')\n",
    "                ax1.plot(f['centres'],f['fit'],c='r',label='Fit')\n",
    "                ax1.set_xlabel('Peak value over pedestal',fontsize=20)\n",
    "                ax1.set_ylabel('Frequency',fontsize=20)\n",
    "                ax1.set_xlim(0,6000)\n",
    "                ax1.plot(np.repeat(int(f['popt'][:2].sum()),100),np.linspace(0,max(f['data']),100),label=r'Fit $\\mu$ + $\\sigma$')\n",
    "                ax1.legend(loc='upper right')\n",
    "                ax1.text(int(f['popt'][:2].sum())+200,int(np.nanmax(f['fit'])),r\"$\\mu$ + $\\sigma%$ = \"+str(int(f['popt'][:2].sum())))\n",
    "                \n",
    "                ax2.scatter(f['centres'],f['residuals'],marker='+')\n",
    "                ax2.set_ylabel(r'Residuals \\ $\\sigma$',fontsize=20)\n",
    "                ax2.set_xlim(0,6000)\n",
    "                ma=np.nanmax(np.abs(f['residuals']))+1\n",
    "                ax2.set_ylim(-1*ma,ma)\n",
    "                ax2.fill_between((0,6000),(-1,-1),(1,1),alpha=0.3,label=r'1 $\\sigma$')\n",
    "                ax2.legend(loc='upper right')\n",
    "                \n",
    "                fig.canvas.draw()\n",
    "                \n",
    "        \n",
    "        fig.canvas.mpl_connect('key_press_event',key_event)\n",
    "                \n",
    "                \n",
    "        fig.suptitle(\"FPGA {}, channel {}\".format(f['fpga'],f['channel']),fontsize=24)\n",
    "        ax1.bar(f['centres'],f['data'],width=f['space'],alpha=0.3,label='Data')\n",
    "        ax1.plot(f['centres'],f['fit'],c='r',label='Fit')\n",
    "        ax1.set_xlabel('Peak value over pedestal',fontsize=20)\n",
    "        ax1.set_ylabel('Frequency',fontsize=20)\n",
    "        ax1.set_xlim(0,6000)\n",
    "        ax1.plot(np.repeat(int(f['popt'][:2].sum()),100),np.linspace(0,max(f['data']),100),label=r'Fit $\\mu$ + $\\sigma$')\n",
    "        ax1.legend(loc='including upper right')\n",
    "        ax1.text(int(f['popt'][:2].sum())+200,int(np.nanmax(f['fit'])),r\"$\\mu$ + $\\sigma%$ = \"+str(int(f['popt'][:2].sum())))\n",
    "                \n",
    "        ax2.scatter(f['centres'],f['residuals'],marker='+')\n",
    "        ax2.set_ylabel(r'Residuals \\ $\\sigma$',fontsize=20)\n",
    "        ax2.set_xlim(0,6000)\n",
    "        ma=np.nanmax(np.abs(f['residuals']))+1\n",
    "        ax2.set_ylim(-1*ma,ma)\n",
    "        ax2.fill_between((0,6000),(-1,-1),(1,1),alpha=0.3,label=r'1 $\\sigma$')\n",
    "        ax2.legend(loc='upper right')\n",
    "                \n",
    "        plt.show()\n",
    "        \n",
    "        \n",
    "    def plot_hists(self,dfile):\n",
    "        data=self.dfs[dfile]\n",
    "        fig,ax=plt.subplots(2,4,figsize=(40,20))\n",
    "        for i in range(2):\n",
    "            for j in range(4):\n",
    "                d=data.iloc[16*i+4*j:16*i+4*j+4]\n",
    "                ax[i,j].bar(d.query('fpga=={}&channel=={}'.format(str(i),str(4*j)))['centres'].values[0],\n",
    "                             d.query('fpga=={}&channel=={}'.format(str(i),str(4*j)))['data'].values[0],\n",
    "                             width=d.query('fpga=={}&channel=={}'.format(str(i),str(4*j)))['space'].values[0],\n",
    "                             label=\"fpga {}, channel {}\".format(str(i),str(4*j)),alpha=0.3,linewidth=0)\n",
    "                ax[i,j].bar(d.query('fpga=={}&channel=={}'.format(str(i),str(4*j+1)))['centres'].values[0],\n",
    "                             d.query('fpga=={}&channel=={}'.format(str(i),str(4*j+1)))['data'].values[0],\n",
    "                             width=d.query('fpga=={}&channel=={}'.format(str(i),str(4*j+1)))['space'].values[0],\n",
    "                             label='fpga {}, channel {}'.format(str(i),str(4*j+1)),alpha=0.3,linewidth=0)\n",
    "                ax[i,j].bar(d.query('fpga=={}&channel=={}'.format(str(i),str(4*j+2)))['centres'].values[0],\n",
    "                             d.query('fpga=={}&channel=={}'.format(str(i),str(4*j+2)))['data'].values[0],\n",
    "                             width=d.query('fpga=={}&channel=={}'.format(str(i),str(4*j+2)))['space'].values[0],\n",
    "                             label='fpga {}, channel {}'.format(str(i),str(4*j+2)),alpha=0.3,linewidth=0)\n",
    "                ax[i,j].bar(d.query('fpga=={}&channel=={}'.format(str(i),str(4*j+3)))['centres'].values[0],\n",
    "                             d.query('fpga=={}&channel=={}'.format(str(i),str(4*j+3)))['data'].values[0],\n",
    "                             width=d.query('fpga=={}&channel=={}'.format(str(i),str(4*j+3)))['space'].values[0],\n",
    "                             label='fpga {}, channel {}'.format(str(i),str(4*j+3)),alpha=0.3,linewidth=0)\n",
    "                ax[i,j].legend(loc='upper right')\n",
    "                ax[i,j].set_xlabel('Peak value over pedestal',fontsize=20)\n",
    "                ax[i,j].set_ylabel('Frequency',fontsize=20)\n",
    "                            \n",
    "                            \n",
    "        fig.suptitle(dfile,fontsize=24)\n",
    "        plt.show()\n",
    "        \n",
    "        \n",
    "    def fit_param_dist(self,dfile,sep=False):\n",
    "        df=self.dfs[dfile]\n",
    "        musig=pd.DataFrame(df['popt'].explode().values.reshape(-1,3),columns=['mu','sigma','amp'])\n",
    "        musig.set_index(df.index,inplace=True)\n",
    "        plotdf=pd.concat([df.loc[:,['fpga','channel','chsq']],musig],axis=1)\n",
    "        if sep:\n",
    "            plot0=plotdf.query('fpga==0')\n",
    "            plot1=plotdf.query('fpga==1')\n",
    "            fig,ax=plt.subplots(2,2,figsize=(10,20))\n",
    "            fig.set_tight_layout(True)\n",
    "            ax[0,0].bar((plot0['fpga']*16+plot0['channel']),plot0['mu']+plot0['sigma'],width=0.8)\n",
    "            ax[0,0].plot((plot0['fpga']*16+plot0['channel']),np.repeat((plot0['mu']+plot0['sigma']).mean(),16),c='r',label=r'$\\langle E_i \\rangle$ = {}'.format((plot0['mu']+plot0['sigma']).mean()))\n",
    "            ax[0,0].legend(loc='upper right')\n",
    "            ax[0,0].set_ylabel(r\"$E_i$\",fontsize=24)\n",
    "            ax[0,0].set_xlabel(\"Channel\",fontsize=20)\n",
    "            ax[0,0].set_title(\"FPGA 0: Y channels\",fontsize=20)\n",
    "            \n",
    "            ax02=ax[0,0].twinx()\n",
    "            ax02.scatter(plot0['fpga']*16+plot0['channel'],plot0['chsq'],c='orange')\n",
    "            ax02.set_ylabel('Reduced chi-squared',fontsize=20,c='orange')\n",
    "            \n",
    "            \n",
    "            ax[1,0].bar((plot1['fpga']*16+plot1['channel']),plot1['mu']+plot1['sigma'],width=0.8)\n",
    "            ax[1,0].plot((plot1['fpga']*16+plot1['channel']),np.repeat((plot1['mu']+plot1['sigma']).mean(),16),c='r',label=r'$\\langle E_i \\rangle$ = {}'.format((plot1['mu']+plot1['sigma']).mean()))\n",
    "            ax[1,0].legend(loc='upper right')\n",
    "            ax[1,0].set_ylabel(r\"$E_i$\",fontsize=24)\n",
    "            ax[1,0].set_xlabel(\"Channel\",fontsize=20)\n",
    "            ax[1,0].set_title(\"FPGA 1: X channels\",fontsize=20)\n",
    "\n",
    "            ax12=ax[1,0].twinx()\n",
    "            ax12.scatter(plot1['fpga']*16+plot1['channel'],plot1['chsq'],c='orange')\n",
    "            ax12.set_ylabel('Reduced chi-squared',fontsize=20,c='orange')\n",
    "            \n",
    "            musig0=plot0['mu']+plot0['sigma']\n",
    "            msigplot0=(musig0-musig0.mean())/musig0.mean()\n",
    "            musig1=plot1['mu']+plot1['sigma']\n",
    "            msigplot1=(musig1-musig1.mean())/musig1.mean()\n",
    "            bins=np.linspace(-0.5,0.5,20)\n",
    "            \n",
    "            ax[0,1].hist(msigplot0,bins=bins,ec='b')\n",
    "            ax[0,1].set_ylabel(\"Frequency\",fontsize=20)\n",
    "            ax[0,1].set_xlabel(r\"$(E_i - \\langle E_i \\rangle)/\\langle E_i \\rangle$\",fontsize=20)\n",
    "            \n",
    "            ax[1,1].hist(msigplot1,bins=bins,ec='b')\n",
    "            ax[1,1].set_ylabel(\"Frequency\",fontsize=20)\n",
    "            ax[1,1].set_xlabel(r\"$(E_i - \\langle E_i \\rangle)/\\langle E_i \\rangle$\",fontsize=20)\n",
    "        \n",
    "        \n",
    "        else:    \n",
    "            fig=plt.figure()\n",
    "            ax=fig.add_subplot(111)\n",
    "            ax.bar((plotdf['fpga']*16+plotdf['channel']),plotdf['mu']+plotdf['sigma'],width=0.8)\n",
    "            ax.plot((plotdf['fpga']*16+plotdf['channel']),np.repeat((plotdf['mu']+plotdf['sigma']).mean(),32),c='r',label=r'Mean $\\mu$ + $\\sigma$')\n",
    "            ax.legend(loc='upper right')\n",
    "            ax.set_ylabel(r\"Peak value over pedestal $\\mu$ + $\\sigma$\",fontsize=24)\n",
    "            ax.set_xlabel(\"Channel\",fontsize=24)\n",
    "\n",
    "            ax2=ax.twinx()\n",
    "            ax2.scatter(plotdf['fpga']*16+plotdf['channel'],plotdf['chsq'],c='orange')\n",
    "            ax2.set_ylabel('Reduced chi-squared',fontsize=24,c='orange')\n",
    "\n",
    "        plt.show()\n",
    "        \n",
    "        \n",
    "    def chann_correction_factors(self,dfile,coincidence_cut=2,binsize=128,maxval=4096*1.5,bkg=None,ToTcut=20):\n",
    "        self.gen_df(dfile,binsize,maxval,coincidence_cut,bkg)\n",
    "        self.refit_mean(dfile)\n",
    "        df=self.dfs[dfile]\n",
    "        mu,sig=np.split(df['popt'].explode().values.reshape(-1,3)[:,:2],2,axis=1)\n",
    "        E_i=mu+sig\n",
    "        df['factors']=E_i/E_i.mean()\n",
    "        data=self.data[dfile]\n",
    "        data['factor']=1\n",
    "        for i in range(len(df)):\n",
    "            data.loc[(data[['fpga','channel']]==df.iloc[i][['fpga','channel']].values).all(axis=1),'factor']=df.iloc[i]['factors']\n",
    "        data['corrected']=data['subtracted']/data['factor']\n",
    "        self.data[dfile]=data\n",
    "        factors=df.loc[:,['fpga','channel','factors']]\n",
    "        factors.reset_index(inplace=True,drop=True)\n",
    "        self.factors[dfile]=factors\n",
    "        np.savetxt('corr_factors',factors)\n",
    "        \n",
    "        backg=self.data[bkg]\n",
    "        backg['factor']=1\n",
    "        for i in range(len(df)):\n",
    "            backg.loc[(backg[['fpga','channel']]==df.iloc[i][['fpga','channel']].values).all(axis=1),'factor']=df.iloc[i]['factors']\n",
    "        backg['corrected']=backg['subtracted']/(backg['factor'])\n",
    "        self.data[bkg]=backg\n",
    "        self.gen_df(dfile,binsize,maxval,coincidence_cut,bkg,corrected=True)\n",
    "        self.refit_corr(dfile)\n",
    "        \n",
    "    def refit_corr(self,dfile):\n",
    "        reg=self.dfs[dfile]\n",
    "        corr=self.dfs[dfile+\"_corrected\"]\n",
    "        def fact(n):\n",
    "            return np.heaviside(n-1,1)-np.heaviside(-1*(n-1),0)\n",
    "        ff=fact(reg['factors'].values.astype(float))\n",
    "        regopt=reg['popt'].explode().values.reshape(-1,3)[:,:2].sum(axis=1).astype(float)\n",
    "        corropt=corr['popt'].explode().values.reshape(-1,3)[:,:2].sum(axis=1).astype(float)\n",
    "        refit=ff*regopt<ff*corropt\n",
    "        refs=corr.reset_index(drop=True)\n",
    "        \n",
    "        mu0,sig0=reg.query(\"fpga==0\")['popt'].explode().values.reshape(-1,3)[:,:2].mean(axis=0)\n",
    "        mu1,sig1=reg.query(\"fpga==1\")['popt'].explode().values.reshape(-1,3)[:,:2].mean(axis=0)\n",
    "        fits=refs['fit'].values\n",
    "        opts=refs['popt'].values\n",
    "        covs=refs['pcov'].values\n",
    "        residuals=refs['residuals'].values\n",
    "        chisq=refs['chsq'].values\n",
    "        \n",
    "        for ind in refs.index:\n",
    "            if refit[ind]:\n",
    "                subhist=refs.loc[ind,'data']\n",
    "                suberror=refs.loc[ind,'error']\n",
    "                cent=refs.loc[ind,'centres']\n",
    "                hist2=np.copy(subhist)\n",
    "                err2=np.copy(suberror)\n",
    "                hist2[:np.argmax(subhist)]=1\n",
    "                err2[:np.argmax(subhist)]=1\n",
    "\n",
    "                def half_gauss(x,mu,sigma,amp):\n",
    "                    return np.heaviside(x-mu,1)*amp*np.exp(-1*(x-mu)**2/(2*sigma**2)) + np.heaviside(mu-x,0)        \n",
    "                def chsq(obv,exp,error):\n",
    "                    return np.sum((obv-exp)**2/(error)**2)/(len(cent)-3)\n",
    "\n",
    "                if refs.iloc[ind]['fpga']==0:\n",
    "                    mu=mu0\n",
    "                    sig=sig0\n",
    "                if refs.iloc[ind]['fpga']==1:\n",
    "                    mu=mu1\n",
    "                    sig=sig1\n",
    "                p0=[mu,sig,np.max(subhist)]\n",
    "                popt,pcov=curve_fit(half_gauss,cent,hist2,p0,sigma=err2)\n",
    "                fit=half_gauss(cent,popt[0],popt[1],popt[2])\n",
    "                resid=(hist2-fit)/err2\n",
    "                i=np.where((corr['fpga'].values==refs.loc[ind,'fpga'])&(corr['channel'].values==refs.loc[ind,'channel']))[0][0]\n",
    "                fits[i]=fit\n",
    "                covs[i]=pcov\n",
    "                opts[i]=popt\n",
    "                residuals[i]=resid\n",
    "                chisq[i]=chsq(hist2,fit,err2)\n",
    "            \n",
    "        corr['fit']=fits\n",
    "        corr['popt']=opts\n",
    "        corr['pcov']=covs\n",
    "        corr['residuals']=residuals\n",
    "        corr['chsq']=chisq\n",
    "\n",
    "        self.dfs[dfile+'_corrected']=corr\n",
    "        \n",
    "        \n",
    "    def corrected_gauss_fits(self,dfile):\n",
    "        df=self.dfs[dfile]\n",
    "        corr_df=self.dfs[dfile+\"_corrected\"]\n",
    "        fig,ax=plt.subplots(2,2,gridspec_kw={'height_ratios':[3,1]})\n",
    "        self.curr_pos=0\n",
    "        f=df.iloc[self.curr_pos]\n",
    "        g=corr_df.iloc[self.curr_pos]\n",
    "        \n",
    "        def key_event(e):\n",
    "            if e.key==\"right\":\n",
    "                self.curr_pos+=1\n",
    "                self.curr_pos%=len(df)\n",
    "                f=df.iloc[self.curr_pos]\n",
    "                g=corr_df.iloc[self.curr_pos]\n",
    "                \n",
    "                ax[0,0].cla()\n",
    "                ax[0,1].cla()\n",
    "                ax[1,0].cla()\n",
    "                ax[1,1].cla()\n",
    "                \n",
    "                fig.suptitle(\"FPGA {}, channel {}\".format(f['fpga'],f['channel']),fontsize=24)\n",
    "                \n",
    "                ax[0,0].bar(f['centres'],f['data'],width=f['space'],alpha=0.3,label='Data')\n",
    "                ax[0,0].plot(f['centres'],f['fit'],c='r',label='Fit')\n",
    "                ax[0,0].set_xlabel('Peak value over pedestal',fontsize=20)\n",
    "                ax[0,0].set_ylabel('Frequency',fontsize=20)\n",
    "                ax[0,0].set_xlim(0,6000)\n",
    "                ax[0,0].plot(np.repeat(int(f['popt'][:2].sum()),100),np.linspace(0,np.nanmax(f['data']),100),label=r'Fit $\\mu$ + $\\sigma$')\n",
    "                ax[0,0].legend(loc='upper right')\n",
    "                ax[0,0].text(int(f['popt'][:2].sum())+200,int(np.nanmax(f['fit'])),r\"$\\mu$ + $\\sigma%$ = \"+str(int(f['popt'][:2].sum())))\n",
    "                ax[0,0].set_title(\"Original data\")\n",
    "                \n",
    "                ax[0,1].bar(g['centres'],g['data'],width=g['space'],alpha=0.3,label='Data')\n",
    "                ax[0,1].plot(g['centres'],g['fit'],c='r',label='Fit')\n",
    "                ax[0,1].set_xlabel('Peak value over pedestal',fontsize=20)\n",
    "                ax[0,1].set_ylabel('Frequency',fontsize=20)\n",
    "                ax[0,1].set_xlim(0,6000)\n",
    "                ax[0,1].plot(np.repeat(int(g['popt'][:2].sum()),100),np.linspace(0,np.nanmax(g['data']),100),label=r'Fit $\\mu$ + $\\sigma$')\n",
    "                ax[0,1].legend(loc='upper right')\n",
    "                ax[0,1].text(int(g['popt'][:2].sum())+200,int(np.nanmax(g['fit'])),r\"$\\mu$ + $\\sigma%$ = \"+str(int(g['popt'][:2].sum())))\n",
    "                ax[0,1].set_title(\"Original data\")\n",
    "                \n",
    "                ax[1,0].scatter(f['centres'],f['residuals'],marker='+')\n",
    "                ax[1,0].set_ylabel(r'Residuals \\ $\\sigma$',fontsize=20)\n",
    "                ax[1,0].set_xlim(0,6000)\n",
    "                ma=np.nanmax(np.abs(f['residuals']))+1\n",
    "                ax[1,0].set_ylim(-1*ma,ma)\n",
    "                ax[1,0].fill_between((0,6000),(-1,-1),(1,1),alpha=0.3,label=r'1 $\\sigma$')\n",
    "                ax[1,0].legend(loc='upper right')\n",
    "                \n",
    "                ax[1,1].scatter(g['centres'],g['residuals'],marker='+')\n",
    "                ax[1,1].set_ylabel(r'Residuals \\ $\\sigma$',fontsize=20)\n",
    "                ax[1,1].set_xlim(0,6000)\n",
    "                ma=np.nanmax(np.abs(g['residuals']))+1\n",
    "                ax[1,1].set_ylim(-1*ma,ma)\n",
    "                ax[1,1].fill_between((0,6000),(-1,-1),(1,1),alpha=0.3,label=r'1 $\\sigma$')\n",
    "                ax[1,1].legend(loc='upper right')\n",
    "                \n",
    "                fig.canvas.draw()\n",
    "                \n",
    "            elif e.key==\"left\":\n",
    "                self.curr_pos-=1\n",
    "                self.curr_pos%=len(df)\n",
    "                f=df.iloc[self.curr_pos]\n",
    "                g=corr_df.iloc[self.curr_pos]\n",
    "                \n",
    "                ax[0,0].cla()\n",
    "                ax[0,1].cla()\n",
    "                ax[1,0].cla()\n",
    "                ax[1,1].cla()\n",
    "                \n",
    "                fig.suptitle(\"FPGA {}, channel {}\".format(f['fpga'],f['channel']),fontsize=24)\n",
    "                \n",
    "                ax[0,0].bar(f['centres'],f['data'],width=f['space'],alpha=0.3,label='Data')\n",
    "                ax[0,0].plot(f['centres'],f['fit'],c='r',label='Fit')\n",
    "                ax[0,0].set_xlabel('Peak value over pedestal',fontsize=20)\n",
    "                ax[0,0].set_ylabel('Frequency',fontsize=20)\n",
    "                ax[0,0].set_xlim(0,6000)\n",
    "                ax[0,0].plot(np.repeat(int(f['popt'][:2].sum()),100),np.linspace(0,np.nanmax(f['data']),100),label=r'Fit $\\mu$ + $\\sigma$')\n",
    "                ax[0,0].legend(loc='upper right')\n",
    "                ax[0,0].text(int(f['popt'][:2].sum())+200,int(np.nanmax(f['fit'])),r\"$\\mu$ + $\\sigma%$ = \"+str(int(f['popt'][:2].sum())))\n",
    "                ax[0,0].set_title(\"Original data\")\n",
    "                \n",
    "                ax[0,1].bar(g['centres'],g['data'],width=g['space'],alpha=0.3,label='Data')\n",
    "                ax[0,1].plot(g['centres'],g['fit'],c='r',label='Fit')\n",
    "                ax[0,1].set_xlabel('Peak value over pedestal',fontsize=20)\n",
    "                ax[0,1].set_ylabel('Frequency',fontsize=20)\n",
    "                ax[0,1].set_xlim(0,6000)\n",
    "                ax[0,1].plot(np.repeat(int(g['popt'][:2].sum()),100),np.linspace(0,np.nanmax(g['data']),100),label=r'Fit $\\mu$ + $\\sigma$')\n",
    "                ax[0,1].legend(loc='upper right')\n",
    "                ax[0,1].text(int(g['popt'][:2].sum())+200,int(np.nanmax(g['fit'])),r\"$\\mu$ + $\\sigma%$ = \"+str(int(g['popt'][:2].sum())))\n",
    "                ax[0,1].set_title(\"Original data\")\n",
    "                \n",
    "                ax[1,0].scatter(f['centres'],f['residuals'],marker='+')\n",
    "                ax[1,0].set_ylabel(r'Residuals \\ $\\sigma$',fontsize=20)\n",
    "                ax[1,0].set_xlim(0,6000)\n",
    "                ma=np.nanmax(np.abs(f['residuals']))+1\n",
    "                ax[1,0].set_ylim(-1*ma,ma)\n",
    "                ax[1,0].fill_between((0,6000),(-1,-1),(1,1),alpha=0.3,label=r'1 $\\sigma$')\n",
    "                ax[1,0].legend(loc='upper right')\n",
    "                \n",
    "                ax[1,1].scatter(g['centres'],g['residuals'],marker='+')\n",
    "                ax[1,1].set_ylabel(r'Residuals \\ $\\sigma$',fontsize=20)\n",
    "                ax[1,1].set_xlim(0,6000)\n",
    "                ma=np.nanmax(np.abs(g['residuals']))+1\n",
    "                ax[1,1].set_ylim(-1*ma,ma)\n",
    "                ax[1,1].fill_between((0,6000),(-1,-1),(1,1),alpha=0.3,label=r'1 $\\sigma$')\n",
    "                ax[1,1].legend(loc='upper right')\n",
    "                \n",
    "                fig.canvas.draw()\n",
    "                \n",
    "        \n",
    "        fig.canvas.mpl_connect('key_press_event',key_event)\n",
    "                \n",
    "                \n",
    "        fig.suptitle(\"FPGA {}, channel {}\".format(f['fpga'],f['channel']),fontsize=24)\n",
    "                \n",
    "        ax[0,0].bar(f['centres'],f['data'],width=f['space'],alpha=0.3,label='Data')\n",
    "        ax[0,0].plot(f['centres'],f['fit'],c='r',label='Fit')\n",
    "        ax[0,0].set_xlabel('Peak value over pedestal',fontsize=20)\n",
    "        ax[0,0].set_ylabel('Frequency',fontsize=20)\n",
    "        ax[0,0].set_xlim(0,6000)\n",
    "        ax[0,0].plot(np.repeat(int(f['popt'][:2].sum()),100),np.linspace(0,np.nanmax(f['data']),100),label=r'Fit $\\mu$ + $\\sigma$')\n",
    "        ax[0,0].legend(loc='upper right')\n",
    "        ax[0,0].text(int(f['popt'][:2].sum())+200,int(np.nanmax(f['fit'])),r\"$\\mu$ + $\\sigma%$ = \"+str(int(f['popt'][:2].sum())))\n",
    "        ax[0,0].set_title(\"Original data\")\n",
    "                \n",
    "        ax[0,1].bar(g['centres'],g['data'],width=g['space'],alpha=0.3,label='Data')\n",
    "        ax[0,1].plot(g['centres'],g['fit'],c='r',label='Fit')\n",
    "        ax[0,1].set_xlabel('Peak value over pedestal',fontsize=20)\n",
    "        ax[0,1].set_ylabel('Frequency',fontsize=20)\n",
    "        ax[0,1].set_xlim(0,6000)\n",
    "        ax[0,1].plot(np.repeat(int(g['popt'][:2].sum()),100),np.linspace(0,np.nanmax(g['data']),100),label=r'Fit $\\mu$ + $\\sigma$')\n",
    "        ax[0,1].legend(loc='upper right')\n",
    "        ax[0,1].text(int(g['popt'][:2].sum())+200,int(np.nanmax(g['fit'])),r\"$\\mu$ + $\\sigma%$ = \"+str(int(g['popt'][:2].sum())))\n",
    "        ax[0,1].set_title(\"Original data\")\n",
    "                \n",
    "        ax[1,0].scatter(f['centres'],f['residuals'],marker='+')\n",
    "        ax[1,0].set_ylabel(r'Residuals \\ $\\sigma$',fontsize=20)\n",
    "        ax[1,0].set_xlim(0,6000)\n",
    "        ma=np.nanmax(np.abs(f['residuals']))+1\n",
    "        ax[1,0].set_ylim(-1*ma,ma)\n",
    "        ax[1,0].fill_between((0,6000),(-1,-1),(1,1),alpha=0.3,label=r'1 $\\sigma$')\n",
    "        ax[1,0].legend(loc='upper right')\n",
    "                \n",
    "        ax[1,1].scatter(g['centres'],g['residuals'],marker='+')\n",
    "        ax[1,1].set_ylabel(r'Residuals \\ $\\sigma$',fontsize=20)\n",
    "        ax[1,1].set_xlim(0,6000)\n",
    "        ma=np.nanmax(np.abs(g['residuals']))+1\n",
    "        ax[1,1].set_ylim(-1*ma,ma)\n",
    "        ax[1,1].fill_between((0,6000),(-1,-1),(1,1),alpha=0.3,label=r'1 $\\sigma$')\n",
    "        ax[1,1].legend(loc='upper right')\n",
    "                \n",
    "        plt.show()\n",
    "        \n",
    "        \n",
    "    def ReconstructCubes(self,datafile):\n",
    "        events=self.data[datafile]\n",
    "        # Find all events of coincidence 3\n",
    "        threes=np.unique(events.index.array[np.where(events['coincidence']==3)[0]])\n",
    "\n",
    "        # Get first index of each set of 3 coincident events\n",
    "        StartIndex=np.where(np.isin(events.index.array,threes))[0][::3]\n",
    "\n",
    "        # When dealing with 2 and 3 coincidence events, need to make sure that the coincident fibres \n",
    "        # are orthogonal for cube reconstruction. These snippets of code find any 'bad' coincident events \n",
    "        # and exclude them from cube reconstruction.\n",
    "\n",
    "        # First, find all events of coincidence = 3 & identify the direction with the most hits in each event\n",
    "        xy_threes=np.array(events.loc[threes][['x','y']]).reshape([-1,3,2])\n",
    "        modvals,modes=mode(xy_threes,axis=1)[0][:,0,:],mode(xy_threes,axis=1)[1][:,0,:]\n",
    "        for i in range(modes.shape[0]):\n",
    "            if (modes[i]==np.array([2,2])).all():\n",
    "                modes[i][np.where(modvals[i]!=-1)[0]]=1\n",
    "            elif (modes[i]==np.array([3,3])).all():\n",
    "                modes[i][np.where(modvals[i]!=-1)[0]]=1\n",
    "        duplicate_dir=np.argmax(modes,axis=1)\n",
    "\n",
    "        duplicate_col_vals=np.zeros([xy_threes.shape[0],3])\n",
    "        for i in range(xy_threes.shape[0]):\n",
    "            duplicate_col_vals[i] = xy_threes[i,:,duplicate_dir[i]]\n",
    "\n",
    "        # Remove events where all 3 events are in the same fibre direction i.e. all x or all y.\n",
    "        begone=np.where((duplicate_col_vals==-1).all(axis=1))[0]\n",
    "        events.loc[threes[begone],'inWindow']=False\n",
    "        \n",
    "        duplicate_col_vals=np.delete(duplicate_col_vals,begone,axis=0).reshape([-1,3])\n",
    "        StartIndex_pruned=np.delete(StartIndex,begone,axis=0)\n",
    "\n",
    "        # Find indices of 2 hits in the same direction in each event\n",
    "        Starts_to_compare=np.concatenate([StartIndex_pruned,StartIndex_pruned])\n",
    "        Starts_to_compare.sort()\n",
    "        Starts_to_compare+=np.where(duplicate_col_vals==-1)[1]\n",
    "\n",
    "        # Find which hit of the 2 needs to be disregarded in reconstruction, by removing \n",
    "        # the one with the lowest totValue.\n",
    "        three_to_go=np.argmin(np.array(events['totValue'].iloc[Starts_to_compare]).reshape([-1,2]),axis=1)\n",
    "        Starts_to_compare=Starts_to_compare.reshape([-1,2])\n",
    "        to_go=np.zeros(Starts_to_compare.shape[0],dtype=int)\n",
    "\n",
    "        for i in range(Starts_to_compare.shape[0]):\n",
    "            to_go[i]=Starts_to_compare[i,three_to_go[i]]\n",
    "        \n",
    "        # Find all events of coincidence = 2        \n",
    "        twos=np.where(events['coincidence']==2)[0]\n",
    "        twos_index=np.unique(events.index.array[twos])\n",
    "\n",
    "        # Find all coincidence 2 events where both signals are in the same direction\n",
    "        xminus1=(np.array(events.loc[twos_index,'x']).reshape([-1,2])==-1).all(axis=1)\n",
    "        yminus1=(np.array(events.loc[twos_index,'y']).reshape([-1,2])==-1).all(axis=1)\n",
    "\n",
    "        # Find indices of all hits in events with both signals in the same direction \n",
    "        # & identify them to remove\n",
    "        twos_check=[None]*(xminus1.shape[0]+yminus1.shape[0])\n",
    "        twos_check[::2]=xminus1+yminus1\n",
    "        twos_check[1::2]=xminus1+yminus1\n",
    "        bad_twos=twos[np.where(twos_check)[0]]\n",
    "        events.loc[np.unique(events.index.array[bad_twos]),'inWindow']=False\n",
    "\n",
    "        # Create a boolean array to identify events to calculate cube coordinates for\n",
    "        check=np.zeros(len(events),dtype=bool)\n",
    "        check[np.concatenate([StartIndex,StartIndex+1,StartIndex+2])]=True\n",
    "\n",
    "        go=np.concatenate([StartIndex[begone],StartIndex[begone]+1,StartIndex[begone]+2])\n",
    "        go.sort()\n",
    "\n",
    "        # Remove all coincidence 3 events where all hits are in the same direction \n",
    "        check[go]=False\n",
    "        # Remove the smallest totValue hit in coincidence 3 events with 2 hits in the same direction\n",
    "        check[to_go]=False\n",
    "        \n",
    "        # Remove coincidence 2 events with all hits in the same direction\n",
    "        check[np.where(events['coincidence']==2)]=True\n",
    "        check[bad_twos]=False\n",
    "\n",
    "        events['Combine']=check\n",
    "\n",
    "        events.loc[events['Combine']]\n",
    "\n",
    "        events['CubeX']=-1\n",
    "        events['CubeY']=-1\n",
    "        events['CubeZ']=-1\n",
    "\n",
    "        comb=events.loc[events['Combine']]\n",
    "        # Adding 1 to both the x and y events as for each pair of coincident events, \n",
    "        # one is in an x-fibre and one is in a y-fibre and x/y takes a value of -1 \n",
    "        # when it is in the opposite plane of fibres - e.g. if for one event x = 3, \n",
    "        # for the y fibre event x = -1 and so need to add 1 to offset this when summing. \n",
    "        # Kept summing as it will be faster than some max method\n",
    "        events.loc[events['Combine'],'CubeX']=comb['x'][::2]+comb['x'][1::2]+1\n",
    "        events.loc[events['Combine'],'CubeY']=comb['y'][::2]+comb['y'][1::2]+1\n",
    "        events.loc[events['Combine'],'CubeZ']=(comb['z'][::2]+comb['z'][1::2])/2\n",
    "\n",
    "        events['CubeZ']=events['CubeZ'].astype(int)\n",
    "        comb=events.loc[events['Combine']]\n",
    "\n",
    "        # Compensates for left-handed coordinate system on old detector\n",
    "        events['CubeX']=events['CubeX']*-1 + 3\n",
    "        \n",
    "        events.loc[events['Combine'],'ZCubeID']=comb['CubeX'] + 4*comb['CubeY'] + 16*comb['CubeZ']\n",
    "        events.loc[events['Combine'],'XCubeID']=comb['CubeY'] + 4*comb['CubeZ'] + 16*comb['CubeX']\n",
    "        events.loc[events['Combine'],'YCubeID']=comb['CubeZ'] + 4*comb['CubeX'] + 16*comb['CubeY']\n",
    "        events['XCubeID'].fillna(-1,inplace=True)\n",
    "        events['YCubeID'].fillna(-1,inplace=True)\n",
    "        events['ZCubeID'].fillna(-1,inplace=True)\n",
    "        events['XCubeID']=events['XCubeID'].astype(int)\n",
    "        events['YCubeID']=events['YCubeID'].astype(int)\n",
    "        events['ZCubeID']=events['ZCubeID'].astype(int)\n",
    "        \n",
    "        events['EventNum'] = (~events['inWindow']).cumsum()\n",
    "        \n",
    "        events = events.set_index('EventNum')\n",
    "        self.reconstructed[datafile]=events['Combine']"
   ]
  },
  {
   "cell_type": "code",
   "execution_count": 129,
   "metadata": {},
   "outputs": [],
   "source": [
    "a=CouplingAnalysis(100)"
   ]
  },
  {
   "cell_type": "code",
   "execution_count": 130,
   "metadata": {},
   "outputs": [],
   "source": [
    "a.add_data(\"lab_2020-09-16_Co60_lowToT.root\")"
   ]
  },
  {
   "cell_type": "code",
   "execution_count": 5,
   "metadata": {},
   "outputs": [],
   "source": [
    "a.add_data(\"lab_2020-09-16_Co60_lowToT_+90deg.root\")"
   ]
  },
  {
   "cell_type": "code",
   "execution_count": 160,
   "metadata": {},
   "outputs": [],
   "source": [
    "a.add_data(\"lab_2020-09-16_Co60_lowToT_+90deg_2.root\")"
   ]
  },
  {
   "cell_type": "code",
   "execution_count": 131,
   "metadata": {},
   "outputs": [],
   "source": [
    "a.add_data(\"lab_2020-09-16_bkg_lowToT.root\")"
   ]
  },
  {
   "cell_type": "code",
   "execution_count": 132,
   "metadata": {},
   "outputs": [
    {
     "name": "stderr",
     "output_type": "stream",
     "text": [
      "/home/nr1315/miniconda3/lib/python3.7/site-packages/numpy/core/fromnumeric.py:3335: RuntimeWarning: Mean of empty slice.\n",
      "  out=out, **kwargs)\n",
      "/home/nr1315/miniconda3/lib/python3.7/site-packages/numpy/core/_methods.py:161: RuntimeWarning: invalid value encountered in double_scalars\n",
      "  ret = ret.dtype.type(ret / rcount)\n"
     ]
    }
   ],
   "source": [
    "a.chann_correction_factors(\"lab_2020-09-16_Co60_lowToT.root\",bkg=\"lab_2020-09-16_bkg_lowToT.root\")"
   ]
  },
  {
   "cell_type": "code",
   "execution_count": 133,
   "metadata": {},
   "outputs": [],
   "source": [
    "a.ReconstructCubes('lab_2020-09-16_Co60_lowToT.root')"
   ]
  },
  {
   "cell_type": "code",
   "execution_count": 134,
   "metadata": {},
   "outputs": [],
   "source": [
    "a.ReconstructCubes('lab_2020-09-16_bkg_lowToT.root')"
   ]
  },
  {
   "cell_type": "code",
   "execution_count": null,
   "metadata": {},
   "outputs": [],
   "source": []
  },
  {
   "cell_type": "code",
   "execution_count": 127,
   "metadata": {},
   "outputs": [
    {
     "data": {
      "text/html": [
       "<div>\n",
       "<style scoped>\n",
       "    .dataframe tbody tr th:only-of-type {\n",
       "        vertical-align: middle;\n",
       "    }\n",
       "\n",
       "    .dataframe tbody tr th {\n",
       "        vertical-align: top;\n",
       "    }\n",
       "\n",
       "    .dataframe thead th {\n",
       "        text-align: right;\n",
       "    }\n",
       "</style>\n",
       "<table border=\"1\" class=\"dataframe\">\n",
       "  <thead>\n",
       "    <tr style=\"text-align: right;\">\n",
       "      <th></th>\n",
       "      <th>time</th>\n",
       "      <th>storeTime</th>\n",
       "      <th>channel</th>\n",
       "      <th>fpga</th>\n",
       "      <th>totValue</th>\n",
       "      <th>peakValue</th>\n",
       "      <th>sumValue</th>\n",
       "      <th>neutronFlag</th>\n",
       "      <th>nSamples</th>\n",
       "      <th>nPreSamples</th>\n",
       "      <th>...</th>\n",
       "      <th>coincidence</th>\n",
       "      <th>factor</th>\n",
       "      <th>corrected</th>\n",
       "      <th>Combine</th>\n",
       "      <th>CubeX</th>\n",
       "      <th>CubeY</th>\n",
       "      <th>CubeZ</th>\n",
       "      <th>ZCubeID</th>\n",
       "      <th>XCubeID</th>\n",
       "      <th>YCubeID</th>\n",
       "    </tr>\n",
       "    <tr>\n",
       "      <th>EventNum</th>\n",
       "      <th></th>\n",
       "      <th></th>\n",
       "      <th></th>\n",
       "      <th></th>\n",
       "      <th></th>\n",
       "      <th></th>\n",
       "      <th></th>\n",
       "      <th></th>\n",
       "      <th></th>\n",
       "      <th></th>\n",
       "      <th></th>\n",
       "      <th></th>\n",
       "      <th></th>\n",
       "      <th></th>\n",
       "      <th></th>\n",
       "      <th></th>\n",
       "      <th></th>\n",
       "      <th></th>\n",
       "      <th></th>\n",
       "      <th></th>\n",
       "      <th></th>\n",
       "    </tr>\n",
       "  </thead>\n",
       "  <tbody>\n",
       "    <tr>\n",
       "      <th>1</th>\n",
       "      <td>402652</td>\n",
       "      <td>1600267488</td>\n",
       "      <td>8</td>\n",
       "      <td>1</td>\n",
       "      <td>9</td>\n",
       "      <td>9156</td>\n",
       "      <td>880094</td>\n",
       "      <td>0</td>\n",
       "      <td>130</td>\n",
       "      <td>30</td>\n",
       "      <td>...</td>\n",
       "      <td>3</td>\n",
       "      <td>0.895477</td>\n",
       "      <td>1099.972296</td>\n",
       "      <td>True</td>\n",
       "      <td>3</td>\n",
       "      <td>0</td>\n",
       "      <td>1</td>\n",
       "      <td>16</td>\n",
       "      <td>4</td>\n",
       "      <td>1</td>\n",
       "    </tr>\n",
       "    <tr>\n",
       "      <th>1</th>\n",
       "      <td>402654</td>\n",
       "      <td>1600267488</td>\n",
       "      <td>5</td>\n",
       "      <td>0</td>\n",
       "      <td>9</td>\n",
       "      <td>9202</td>\n",
       "      <td>876917</td>\n",
       "      <td>0</td>\n",
       "      <td>130</td>\n",
       "      <td>30</td>\n",
       "      <td>...</td>\n",
       "      <td>3</td>\n",
       "      <td>0.948493</td>\n",
       "      <td>1115.453484</td>\n",
       "      <td>False</td>\n",
       "      <td>4</td>\n",
       "      <td>-1</td>\n",
       "      <td>-1</td>\n",
       "      <td>-1</td>\n",
       "      <td>-1</td>\n",
       "      <td>-1</td>\n",
       "    </tr>\n",
       "    <tr>\n",
       "      <th>1</th>\n",
       "      <td>402654</td>\n",
       "      <td>1600267488</td>\n",
       "      <td>7</td>\n",
       "      <td>0</td>\n",
       "      <td>9</td>\n",
       "      <td>9812</td>\n",
       "      <td>882309</td>\n",
       "      <td>0</td>\n",
       "      <td>130</td>\n",
       "      <td>30</td>\n",
       "      <td>...</td>\n",
       "      <td>3</td>\n",
       "      <td>0.912828</td>\n",
       "      <td>1790.041271</td>\n",
       "      <td>True</td>\n",
       "      <td>3</td>\n",
       "      <td>0</td>\n",
       "      <td>1</td>\n",
       "      <td>16</td>\n",
       "      <td>4</td>\n",
       "      <td>1</td>\n",
       "    </tr>\n",
       "    <tr>\n",
       "      <th>2</th>\n",
       "      <td>783006</td>\n",
       "      <td>1600267488</td>\n",
       "      <td>11</td>\n",
       "      <td>1</td>\n",
       "      <td>10</td>\n",
       "      <td>10402</td>\n",
       "      <td>883672</td>\n",
       "      <td>0</td>\n",
       "      <td>130</td>\n",
       "      <td>30</td>\n",
       "      <td>...</td>\n",
       "      <td>2</td>\n",
       "      <td>0.900514</td>\n",
       "      <td>2503.014574</td>\n",
       "      <td>True</td>\n",
       "      <td>0</td>\n",
       "      <td>1</td>\n",
       "      <td>1</td>\n",
       "      <td>23</td>\n",
       "      <td>53</td>\n",
       "      <td>29</td>\n",
       "    </tr>\n",
       "    <tr>\n",
       "      <th>2</th>\n",
       "      <td>783008</td>\n",
       "      <td>1600267488</td>\n",
       "      <td>6</td>\n",
       "      <td>0</td>\n",
       "      <td>11</td>\n",
       "      <td>10562</td>\n",
       "      <td>885863</td>\n",
       "      <td>0</td>\n",
       "      <td>130</td>\n",
       "      <td>30</td>\n",
       "      <td>...</td>\n",
       "      <td>2</td>\n",
       "      <td>1.018449</td>\n",
       "      <td>2351.614183</td>\n",
       "      <td>True</td>\n",
       "      <td>0</td>\n",
       "      <td>1</td>\n",
       "      <td>1</td>\n",
       "      <td>23</td>\n",
       "      <td>53</td>\n",
       "      <td>29</td>\n",
       "    </tr>\n",
       "    <tr>\n",
       "      <th>...</th>\n",
       "      <td>...</td>\n",
       "      <td>...</td>\n",
       "      <td>...</td>\n",
       "      <td>...</td>\n",
       "      <td>...</td>\n",
       "      <td>...</td>\n",
       "      <td>...</td>\n",
       "      <td>...</td>\n",
       "      <td>...</td>\n",
       "      <td>...</td>\n",
       "      <td>...</td>\n",
       "      <td>...</td>\n",
       "      <td>...</td>\n",
       "      <td>...</td>\n",
       "      <td>...</td>\n",
       "      <td>...</td>\n",
       "      <td>...</td>\n",
       "      <td>...</td>\n",
       "      <td>...</td>\n",
       "      <td>...</td>\n",
       "      <td>...</td>\n",
       "    </tr>\n",
       "    <tr>\n",
       "      <th>780351</th>\n",
       "      <td>123294680728</td>\n",
       "      <td>1600268721</td>\n",
       "      <td>15</td>\n",
       "      <td>1</td>\n",
       "      <td>8</td>\n",
       "      <td>9094</td>\n",
       "      <td>876264</td>\n",
       "      <td>0</td>\n",
       "      <td>130</td>\n",
       "      <td>30</td>\n",
       "      <td>...</td>\n",
       "      <td>1</td>\n",
       "      <td>0.938317</td>\n",
       "      <td>1014.582304</td>\n",
       "      <td>False</td>\n",
       "      <td>4</td>\n",
       "      <td>-1</td>\n",
       "      <td>-1</td>\n",
       "      <td>-1</td>\n",
       "      <td>-1</td>\n",
       "      <td>-1</td>\n",
       "    </tr>\n",
       "    <tr>\n",
       "      <th>780352</th>\n",
       "      <td>123294694588</td>\n",
       "      <td>1600268721</td>\n",
       "      <td>3</td>\n",
       "      <td>1</td>\n",
       "      <td>9</td>\n",
       "      <td>9276</td>\n",
       "      <td>875928</td>\n",
       "      <td>0</td>\n",
       "      <td>130</td>\n",
       "      <td>30</td>\n",
       "      <td>...</td>\n",
       "      <td>1</td>\n",
       "      <td>1.012331</td>\n",
       "      <td>1126.113919</td>\n",
       "      <td>False</td>\n",
       "      <td>4</td>\n",
       "      <td>-1</td>\n",
       "      <td>-1</td>\n",
       "      <td>-1</td>\n",
       "      <td>-1</td>\n",
       "      <td>-1</td>\n",
       "    </tr>\n",
       "    <tr>\n",
       "      <th>780353</th>\n",
       "      <td>123295166628</td>\n",
       "      <td>1600268721</td>\n",
       "      <td>14</td>\n",
       "      <td>1</td>\n",
       "      <td>14</td>\n",
       "      <td>11763</td>\n",
       "      <td>891525</td>\n",
       "      <td>0</td>\n",
       "      <td>130</td>\n",
       "      <td>30</td>\n",
       "      <td>...</td>\n",
       "      <td>2</td>\n",
       "      <td>1.046935</td>\n",
       "      <td>3446.249908</td>\n",
       "      <td>False</td>\n",
       "      <td>4</td>\n",
       "      <td>-1</td>\n",
       "      <td>-1</td>\n",
       "      <td>-1</td>\n",
       "      <td>-1</td>\n",
       "      <td>-1</td>\n",
       "    </tr>\n",
       "    <tr>\n",
       "      <th>780354</th>\n",
       "      <td>123295166628</td>\n",
       "      <td>1600268721</td>\n",
       "      <td>13</td>\n",
       "      <td>1</td>\n",
       "      <td>8</td>\n",
       "      <td>9183</td>\n",
       "      <td>878688</td>\n",
       "      <td>0</td>\n",
       "      <td>130</td>\n",
       "      <td>30</td>\n",
       "      <td>...</td>\n",
       "      <td>2</td>\n",
       "      <td>1.331437</td>\n",
       "      <td>760.831828</td>\n",
       "      <td>False</td>\n",
       "      <td>4</td>\n",
       "      <td>-1</td>\n",
       "      <td>-1</td>\n",
       "      <td>-1</td>\n",
       "      <td>-1</td>\n",
       "      <td>-1</td>\n",
       "    </tr>\n",
       "    <tr>\n",
       "      <th>780355</th>\n",
       "      <td>123295304960</td>\n",
       "      <td>1600268721</td>\n",
       "      <td>5</td>\n",
       "      <td>1</td>\n",
       "      <td>10</td>\n",
       "      <td>10084</td>\n",
       "      <td>879954</td>\n",
       "      <td>0</td>\n",
       "      <td>130</td>\n",
       "      <td>30</td>\n",
       "      <td>...</td>\n",
       "      <td>1</td>\n",
       "      <td>1.080372</td>\n",
       "      <td>1802.157799</td>\n",
       "      <td>False</td>\n",
       "      <td>4</td>\n",
       "      <td>-1</td>\n",
       "      <td>-1</td>\n",
       "      <td>-1</td>\n",
       "      <td>-1</td>\n",
       "      <td>-1</td>\n",
       "    </tr>\n",
       "  </tbody>\n",
       "</table>\n",
       "<p>1538147 rows × 28 columns</p>\n",
       "</div>"
      ],
      "text/plain": [
       "                  time   storeTime  channel  fpga  totValue  peakValue  \\\n",
       "EventNum                                                                 \n",
       "1               402652  1600267488        8     1         9       9156   \n",
       "1               402654  1600267488        5     0         9       9202   \n",
       "1               402654  1600267488        7     0         9       9812   \n",
       "2               783006  1600267488       11     1        10      10402   \n",
       "2               783008  1600267488        6     0        11      10562   \n",
       "...                ...         ...      ...   ...       ...        ...   \n",
       "780351    123294680728  1600268721       15     1         8       9094   \n",
       "780352    123294694588  1600268721        3     1         9       9276   \n",
       "780353    123295166628  1600268721       14     1        14      11763   \n",
       "780354    123295166628  1600268721       13     1         8       9183   \n",
       "780355    123295304960  1600268721        5     1        10      10084   \n",
       "\n",
       "          sumValue  neutronFlag  nSamples  nPreSamples  ...  coincidence  \\\n",
       "EventNum                                                ...                \n",
       "1           880094            0       130           30  ...            3   \n",
       "1           876917            0       130           30  ...            3   \n",
       "1           882309            0       130           30  ...            3   \n",
       "2           883672            0       130           30  ...            2   \n",
       "2           885863            0       130           30  ...            2   \n",
       "...            ...          ...       ...          ...  ...          ...   \n",
       "780351      876264            0       130           30  ...            1   \n",
       "780352      875928            0       130           30  ...            1   \n",
       "780353      891525            0       130           30  ...            2   \n",
       "780354      878688            0       130           30  ...            2   \n",
       "780355      879954            0       130           30  ...            1   \n",
       "\n",
       "            factor    corrected  Combine  CubeX  CubeY  CubeZ  ZCubeID  \\\n",
       "EventNum                                                                 \n",
       "1         0.895477  1099.972296     True      3      0      1       16   \n",
       "1         0.948493  1115.453484    False      4     -1     -1       -1   \n",
       "1         0.912828  1790.041271     True      3      0      1       16   \n",
       "2         0.900514  2503.014574     True      0      1      1       23   \n",
       "2         1.018449  2351.614183     True      0      1      1       23   \n",
       "...            ...          ...      ...    ...    ...    ...      ...   \n",
       "780351    0.938317  1014.582304    False      4     -1     -1       -1   \n",
       "780352    1.012331  1126.113919    False      4     -1     -1       -1   \n",
       "780353    1.046935  3446.249908    False      4     -1     -1       -1   \n",
       "780354    1.331437   760.831828    False      4     -1     -1       -1   \n",
       "780355    1.080372  1802.157799    False      4     -1     -1       -1   \n",
       "\n",
       "          XCubeID  YCubeID  \n",
       "EventNum                    \n",
       "1               4        1  \n",
       "1              -1       -1  \n",
       "1               4        1  \n",
       "2              53       29  \n",
       "2              53       29  \n",
       "...           ...      ...  \n",
       "780351         -1       -1  \n",
       "780352         -1       -1  \n",
       "780353         -1       -1  \n",
       "780354         -1       -1  \n",
       "780355         -1       -1  \n",
       "\n",
       "[1538147 rows x 28 columns]"
      ]
     },
     "execution_count": 127,
     "metadata": {},
     "output_type": "execute_result"
    }
   ],
   "source": [
    "a.reconstructed['lab_2020-09-16_Co60_lowToT.root']"
   ]
  },
  {
   "cell_type": "code",
   "execution_count": 17,
   "metadata": {},
   "outputs": [],
   "source": [
    "events=a.data['lab_2020-09-16_Co60_lowToT.root']"
   ]
  },
  {
   "cell_type": "code",
   "execution_count": 108,
   "metadata": {},
   "outputs": [],
   "source": [
    "threes=np.unique(events.index.array[np.where(events['coincidence']==3)[0]])\n",
    "StartIndex=np.where(np.isin(events.index.array,threes))[0][::3]\n",
    "\n",
    "xy_threes=np.array(events.loc[threes][['x','y']]).reshape([-1,3,2])\n",
    "modvals,modes=mode(xy_threes,axis=1)[0][:,0,:],mode(xy_threes,axis=1)[1][:,0,:]\n",
    "for i in range(modes.shape[0]):\n",
    "    if (modes[i]==np.array([2,2])).all():\n",
    "        modes[i][np.where(modvals[i]!=-1)[0]]=1\n",
    "    elif (modes[i]==np.array([3,3])).all():\n",
    "        modes[i][np.where(modvals[i]!=-1)[0]]=1\n",
    "duplicate_dir = np.argmax(modes,axis=1)\n",
    "\n",
    "duplicate_col_vals=np.zeros([xy_threes.shape[0],3])\n",
    "for i in range(xy_threes.shape[0]):\n",
    "    duplicate_col_vals[i]=xy_threes[i,:,duplicate_dir[i]]\n",
    "    \n",
    "begone=np.where((duplicate_col_vals==-1).all(axis=1))[0]\n",
    "events.loc[threes[begone],'inWindow']=False\n",
    "\n",
    "duplicate_col_vals=np.delete(duplicate_col_vals,begone,axis=0).reshape([-1,3])\n",
    "StartIndex_pruned=np.delete(StartIndex,begone,axis=0)\n"
   ]
  },
  {
   "cell_type": "code",
   "execution_count": 110,
   "metadata": {},
   "outputs": [
    {
     "data": {
      "text/plain": [
       "44571"
      ]
     },
     "execution_count": 110,
     "metadata": {},
     "output_type": "execute_result"
    }
   ],
   "source": [
    "StartIndex.shape[0]-begone.shape[0]"
   ]
  },
  {
   "cell_type": "code",
   "execution_count": 111,
   "metadata": {},
   "outputs": [
    {
     "data": {
      "text/plain": [
       "(44591,)"
      ]
     },
     "execution_count": 111,
     "metadata": {},
     "output_type": "execute_result"
    }
   ],
   "source": [
    "duplicate_dir.shape"
   ]
  },
  {
   "cell_type": "code",
   "execution_count": 70,
   "metadata": {},
   "outputs": [],
   "source": [
    "dub=np.zeros([xy_threes.shape[0],3])\n",
    "for i in range(xy_threes.shape[0]):\n",
    "    dub[i]=xy_threes[i,:,duplicate_dir[i]]"
   ]
  },
  {
   "cell_type": "code",
   "execution_count": 77,
   "metadata": {},
   "outputs": [],
   "source": [
    "dub2=np.delete(dub,begone,axis=0)"
   ]
  },
  {
   "cell_type": "code",
   "execution_count": 79,
   "metadata": {},
   "outputs": [
    {
     "data": {
      "text/plain": [
       "(44572, 3)"
      ]
     },
     "execution_count": 79,
     "metadata": {},
     "output_type": "execute_result"
    }
   ],
   "source": [
    "    dub2.shape"
   ]
  },
  {
   "cell_type": "code",
   "execution_count": 96,
   "metadata": {},
   "outputs": [
    {
     "data": {
      "text/plain": [
       "0"
      ]
     },
     "execution_count": 96,
     "metadata": {},
     "output_type": "execute_result"
    }
   ],
   "source": [
    "duplicate_dir[23039]"
   ]
  },
  {
   "cell_type": "code",
   "execution_count": null,
   "metadata": {},
   "outputs": [],
   "source": [
    "xy_threes[23039]"
   ]
  },
  {
   "cell_type": "code",
   "execution_count": 98,
   "metadata": {},
   "outputs": [
    {
     "data": {
      "text/plain": [
       "array([[ 0, -1],\n",
       "       [ 0, -1],\n",
       "       [ 0, -1]])"
      ]
     },
     "execution_count": 98,
     "metadata": {},
     "output_type": "execute_result"
    }
   ],
   "source": [
    "xy_threes[23039]"
   ]
  },
  {
   "cell_type": "code",
   "execution_count": 97,
   "metadata": {},
   "outputs": [
    {
     "data": {
      "text/plain": [
       "array([0, 0, 0])"
      ]
     },
     "execution_count": 97,
     "metadata": {},
     "output_type": "execute_result"
    }
   ],
   "source": [
    "xy_threes[23039,:,0]"
   ]
  },
  {
   "cell_type": "code",
   "execution_count": 95,
   "metadata": {},
   "outputs": [
    {
     "data": {
      "text/plain": [
       "array([23039])"
      ]
     },
     "execution_count": 95,
     "metadata": {},
     "output_type": "execute_result"
    }
   ],
   "source": [
    "np.where((dub!=-1).all(axis=1))[0]"
   ]
  },
  {
   "cell_type": "code",
   "execution_count": 82,
   "metadata": {},
   "outputs": [
    {
     "data": {
      "text/plain": [
       "(44572,)"
      ]
     },
     "execution_count": 82,
     "metadata": {},
     "output_type": "execute_result"
    }
   ],
   "source": [
    "StartIndex_pruned.shape"
   ]
  },
  {
   "cell_type": "code",
   "execution_count": 75,
   "metadata": {},
   "outputs": [
    {
     "data": {
      "text/plain": [
       "44572"
      ]
     },
     "execution_count": 75,
     "metadata": {},
     "output_type": "execute_result"
    }
   ],
   "source": [
    "dub.shape[0]-begone.shape[0]"
   ]
  },
  {
   "cell_type": "code",
   "execution_count": 65,
   "metadata": {},
   "outputs": [
    {
     "data": {
      "text/plain": [
       "(44591,)"
      ]
     },
     "execution_count": 65,
     "metadata": {},
     "output_type": "execute_result"
    }
   ],
   "source": [
    "StartIndex.shape"
   ]
  },
  {
   "cell_type": "code",
   "execution_count": 56,
   "metadata": {},
   "outputs": [
    {
     "data": {
      "text/plain": [
       "44591"
      ]
     },
     "execution_count": 56,
     "metadata": {},
     "output_type": "execute_result"
    }
   ],
   "source": [
    "xy_threes.shape[0]"
   ]
  },
  {
   "cell_type": "code",
   "execution_count": 55,
   "metadata": {},
   "outputs": [
    {
     "data": {
      "text/plain": [
       "array([      0,      12,      41, ..., 1537979, 1538085, 1538092])"
      ]
     },
     "execution_count": 55,
     "metadata": {},
     "output_type": "execute_result"
    }
   ],
   "source": [
    "StartIndex_pruned"
   ]
  },
  {
   "cell_type": "code",
   "execution_count": 53,
   "metadata": {},
   "outputs": [
    {
     "data": {
      "text/plain": [
       "(89142,)"
      ]
     },
     "execution_count": 53,
     "metadata": {},
     "output_type": "execute_result"
    }
   ],
   "source": [
    "np.where(duplicate_col_vals==-1)[0].shape"
   ]
  },
  {
   "cell_type": "code",
   "execution_count": 22,
   "metadata": {},
   "outputs": [
    {
     "data": {
      "text/plain": [
       "(44572,)"
      ]
     },
     "execution_count": 22,
     "metadata": {},
     "output_type": "execute_result"
    }
   ],
   "source": [
    "StartIndex_pruned.shape"
   ]
  },
  {
   "cell_type": "code",
   "execution_count": 112,
   "metadata": {},
   "outputs": [],
   "source": [
    "Starts_to_compare=np.concatenate([StartIndex_pruned,StartIndex_pruned])"
   ]
  },
  {
   "cell_type": "code",
   "execution_count": 113,
   "metadata": {},
   "outputs": [],
   "source": [
    "Starts_to_compare.sort()"
   ]
  },
  {
   "cell_type": "code",
   "execution_count": 114,
   "metadata": {},
   "outputs": [],
   "source": [
    "Starts_to_compare+=np.where(duplicate_col_vals==-1)[1]"
   ]
  },
  {
   "cell_type": "code",
   "execution_count": 27,
   "metadata": {},
   "outputs": [
    {
     "data": {
      "text/plain": [
       "(89144,)"
      ]
     },
     "execution_count": 27,
     "metadata": {},
     "output_type": "execute_result"
    }
   ],
   "source": [
    "Starts_to_compare.shape"
   ]
  },
  {
   "cell_type": "code",
   "execution_count": 29,
   "metadata": {},
   "outputs": [
    {
     "data": {
      "text/plain": [
       "(89142,)"
      ]
     },
     "execution_count": 29,
     "metadata": {},
     "output_type": "execute_result"
    }
   ],
   "source": [
    "np.where(duplicate_col_vals==-1)[1].shape"
   ]
  },
  {
   "cell_type": "code",
   "execution_count": null,
   "metadata": {},
   "outputs": [],
   "source": []
  },
  {
   "cell_type": "code",
   "execution_count": 16,
   "metadata": {},
   "outputs": [],
   "source": [
    "dff=a.dfs[\"lab_2020-09-16_Co60_lowToT.root_corrected\"]"
   ]
  },
  {
   "cell_type": "code",
   "execution_count": 19,
   "metadata": {},
   "outputs": [],
   "source": [
    "musig=dff['popt'].explode().values.reshape(-1,3)[:,:2].sum(axis=1)"
   ]
  },
  {
   "cell_type": "code",
   "execution_count": 21,
   "metadata": {},
   "outputs": [],
   "source": [
    "energy=963\n",
    "energyscale=musig/energy"
   ]
  },
  {
   "cell_type": "code",
   "execution_count": 22,
   "metadata": {},
   "outputs": [
    {
     "data": {
      "text/plain": [
       "array([2.0684967562611836, 2.121456266581981, 2.053429583744812,\n",
       "       2.2710647865851885, 2.1534339352047334, 2.118335478237281,\n",
       "       2.173768669858492, 2.1580142793716717, 2.159544949930382,\n",
       "       2.2518437705891423, 2.2284466838449877, 2.0097877936280044,\n",
       "       2.2318888563964374, 2.2148427693995223, 2.123210873195889,\n",
       "       2.1568872138098083, 2.1583078715050474, 2.1625521001562613,\n",
       "       2.150959554810559, 2.162272653203516, 2.1914118742353095,\n",
       "       2.1465569477688544, 2.13252366357153, 2.1877975184831264,\n",
       "       2.148189035319273, 2.1656680820099763, 2.042442375186718,\n",
       "       2.148137952302972, 2.1235950194128255, 1.9896065230722586,\n",
       "       2.1818589200112224, 2.17904710007014], dtype=object)"
      ]
     },
     "execution_count": 22,
     "metadata": {},
     "output_type": "execute_result"
    }
   ],
   "source": [
    "energyscale"
   ]
  },
  {
   "cell_type": "code",
   "execution_count": 23,
   "metadata": {},
   "outputs": [
    {
     "data": {
      "text/html": [
       "<div>\n",
       "<style scoped>\n",
       "    .dataframe tbody tr th:only-of-type {\n",
       "        vertical-align: middle;\n",
       "    }\n",
       "\n",
       "    .dataframe tbody tr th {\n",
       "        vertical-align: top;\n",
       "    }\n",
       "\n",
       "    .dataframe thead th {\n",
       "        text-align: right;\n",
       "    }\n",
       "</style>\n",
       "<table border=\"1\" class=\"dataframe\">\n",
       "  <thead>\n",
       "    <tr style=\"text-align: right;\">\n",
       "      <th></th>\n",
       "      <th>fpga</th>\n",
       "      <th>channel</th>\n",
       "      <th>centres</th>\n",
       "      <th>data</th>\n",
       "      <th>error</th>\n",
       "      <th>space</th>\n",
       "      <th>p0</th>\n",
       "      <th>popt</th>\n",
       "      <th>pcov</th>\n",
       "      <th>fit</th>\n",
       "      <th>residuals</th>\n",
       "      <th>chsq</th>\n",
       "    </tr>\n",
       "  </thead>\n",
       "  <tbody>\n",
       "    <tr>\n",
       "      <th>0</th>\n",
       "      <td>0</td>\n",
       "      <td>0</td>\n",
       "      <td>[64.0, 194.72340425531914, 325.4468085106383, ...</td>\n",
       "      <td>[0.0, 0.0, 0.9417235099493375, 86.317524374648...</td>\n",
       "      <td>[0.0, 0.0, 4.84492050668997, 15.58160746150217...</td>\n",
       "      <td>128</td>\n",
       "      <td>[1109.787234042553, 882.175142236967, 1895.730...</td>\n",
       "      <td>[1109.787234042553, 882.175142236967, 1895.730...</td>\n",
       "      <td>[[1.9378815615742766e-12, -6.3207850420276135e...</td>\n",
       "      <td>[1.0, 1.0, 1.0, 1.0, 1.0, 1.0, 1.0, 1.0, 1895....</td>\n",
       "      <td>[0.0, 0.0, 0.0, 0.0, 0.0, 0.0, 0.0, 0.0, 0.0, ...</td>\n",
       "      <td>4.7481</td>\n",
       "    </tr>\n",
       "    <tr>\n",
       "      <th>0</th>\n",
       "      <td>0</td>\n",
       "      <td>1</td>\n",
       "      <td>[64.0, 194.72340425531914, 325.4468085106383, ...</td>\n",
       "      <td>[0.0, 0.0, 2.0, 21.959490759562584, 83.8120212...</td>\n",
       "      <td>[0.0, 0.0, 1.4142135623730951, 7.6331921037661...</td>\n",
       "      <td>128</td>\n",
       "      <td>[1371.2340425531913, 834.9625815144997, 962.69...</td>\n",
       "      <td>[1371.2340372348115, 671.7283474836366, 866.27...</td>\n",
       "      <td>[[1.7350922038681252e-12, -5.626506008821446e-...</td>\n",
       "      <td>[1.0, 1.0, 1.0, 1.0, 1.0, 1.0, 1.0, 1.0, 1.0, ...</td>\n",
       "      <td>[0.0, 0.0, 0.0, 0.0, 0.0, 0.0, 0.0, 0.0, 0.0, ...</td>\n",
       "      <td>0.797093</td>\n",
       "    </tr>\n",
       "    <tr>\n",
       "      <th>0</th>\n",
       "      <td>0</td>\n",
       "      <td>2</td>\n",
       "      <td>[64.0, 194.72340425531914, 325.4468085106383, ...</td>\n",
       "      <td>[0.0, 0.0, 1.6474766960606848, -10.15233579267...</td>\n",
       "      <td>[0.0, 0.0, 3.0261212553182886, 8.4383217167553...</td>\n",
       "      <td>128</td>\n",
       "      <td>[1240.5106382978722, 923.9179058323394, 559.20...</td>\n",
       "      <td>[1371.2339663926184, 606.2187227536356, 523.70...</td>\n",
       "      <td>[[53495.830261758216, -27361.532552037555, -13...</td>\n",
       "      <td>[1.0, 1.0, 1.0, 1.0, 1.0, 1.0, 1.0, 1.0, 1.0, ...</td>\n",
       "      <td>[0.0, 0.0, 0.0, 0.0, 0.0, 0.0, 0.0, 0.0, 0.0, ...</td>\n",
       "      <td>3.53047</td>\n",
       "    </tr>\n",
       "    <tr>\n",
       "      <th>0</th>\n",
       "      <td>0</td>\n",
       "      <td>3</td>\n",
       "      <td>[64.0, 194.72340425531914, 325.4468085106383, ...</td>\n",
       "      <td>[0.0, 0.0, 1.0, -1.5292728930880983, 14.863130...</td>\n",
       "      <td>[0.0, 0.0, 1.0, 3.1203882328328425, 6.79395620...</td>\n",
       "      <td>128</td>\n",
       "      <td>[1371.2340425531913, 1093.8454286135811, 295.9...</td>\n",
       "      <td>[1371.2340166112067, 815.8013728703299, 206.36...</td>\n",
       "      <td>[[2.9071140533568032e-11, -0.00010971396854128...</td>\n",
       "      <td>[1.0, 1.0, 1.0, 1.0, 1.0, 1.0, 1.0, 1.0, 1.0, ...</td>\n",
       "      <td>[0.0, 0.0, 0.0, 0.0, 0.0, 0.0, 0.0, 0.0, 0.0, ...</td>\n",
       "      <td>1.03369</td>\n",
       "    </tr>\n",
       "    <tr>\n",
       "      <th>0</th>\n",
       "      <td>0</td>\n",
       "      <td>4</td>\n",
       "      <td>[64.0, 194.72340425531914, 325.4468085106383, ...</td>\n",
       "      <td>[0.0, 0.0, 0.0, 37.27527011056224, 217.9056307...</td>\n",
       "      <td>[0.0, 0.0, 0.0, 10.117725539892692, 23.0674016...</td>\n",
       "      <td>128</td>\n",
       "      <td>[1501.9574468085104, 597.1367041047428, 2988.3...</td>\n",
       "      <td>[1501.9574445263586, 571.7994350757996, 2683.7...</td>\n",
       "      <td>[[6.933685841404541e-13, -1.935332418970642e-0...</td>\n",
       "      <td>[1.0, 1.0, 1.0, 1.0, 1.0, 1.0, 1.0, 1.0, 1.0, ...</td>\n",
       "      <td>[0.0, 0.0, 0.0, 0.0, 0.0, 0.0, 0.0, 0.0, 0.0, ...</td>\n",
       "      <td>2.03077</td>\n",
       "    </tr>\n",
       "    <tr>\n",
       "      <th>0</th>\n",
       "      <td>0</td>\n",
       "      <td>5</td>\n",
       "      <td>[64.0, 194.72340425531914, 325.4468085106383, ...</td>\n",
       "      <td>[0.0, 0.0, 10.921915050999578, 18.710336369994...</td>\n",
       "      <td>[0.0, 0.0, 4.436648457519396, 11.4614039167785...</td>\n",
       "      <td>128</td>\n",
       "      <td>[1371.2340425531913, 754.0259311187395, 1237.3...</td>\n",
       "      <td>[1371.2340421194326, 668.723023423069, 1211.11...</td>\n",
       "      <td>[[1.148316628023111e-12, -3.389824439111302e-0...</td>\n",
       "      <td>[1.0, 1.0, 1.0, 1.0, 1.0, 1.0, 1.0, 1.0, 1.0, ...</td>\n",
       "      <td>[0.0, 0.0, 0.0, 0.0, 0.0, 0.0, 0.0, 0.0, 0.0, ...</td>\n",
       "      <td>1.12281</td>\n",
       "    </tr>\n",
       "    <tr>\n",
       "      <th>0</th>\n",
       "      <td>0</td>\n",
       "      <td>6</td>\n",
       "      <td>[64.0, 194.72340425531914, 325.4468085106383, ...</td>\n",
       "      <td>[0.0, 0.0, 6.843324105897022, 21.9434587220279...</td>\n",
       "      <td>[0.0, 0.0, 4.9364393270703335, 15.362296336680...</td>\n",
       "      <td>128</td>\n",
       "      <td>[1501.9574468085104, 860.7207855631475, 710.33...</td>\n",
       "      <td>[1501.9574250771486, 591.3818039965794, 550.89...</td>\n",
       "      <td>[[3.8563151567700394e-12, -1.2554465177524805e...</td>\n",
       "      <td>[1.0, 1.0, 1.0, 1.0, 1.0, 1.0, 1.0, 1.0, 1.0, ...</td>\n",
       "      <td>[0.0, 0.0, 0.0, 0.0, 0.0, 0.0, 0.0, 0.0, 0.0, ...</td>\n",
       "      <td>0.708444</td>\n",
       "    </tr>\n",
       "    <tr>\n",
       "      <th>0</th>\n",
       "      <td>0</td>\n",
       "      <td>7</td>\n",
       "      <td>[64.0, 194.72340425531914, 325.4468085106383, ...</td>\n",
       "      <td>[0.0, 0.0, 0.3725394080857507, 8.2939965418804...</td>\n",
       "      <td>[0.0, 0.0, 2.5752075778814754, 9.3359169486261...</td>\n",
       "      <td>128</td>\n",
       "      <td>[1240.5106382978722, 1011.870386821553, 341.68...</td>\n",
       "      <td>[1240.5106346653274, 837.6571163695925, 313.54...</td>\n",
       "      <td>[[1.1136471313039675e-11, -4.421831326036988e-...</td>\n",
       "      <td>[1.0, 1.0, 1.0, 1.0, 1.0, 1.0, 1.0, 1.0, 1.0, ...</td>\n",
       "      <td>[0.0, 0.0, 0.0, 0.0, 0.0, 0.0, 0.0, 0.0, 0.0, ...</td>\n",
       "      <td>0.984169</td>\n",
       "    </tr>\n",
       "    <tr>\n",
       "      <th>0</th>\n",
       "      <td>0</td>\n",
       "      <td>8</td>\n",
       "      <td>[64.0, 194.72340425531914, 325.4468085106383, ...</td>\n",
       "      <td>[0.0, 0.0, 4.3919145611027695, 108.95802813254...</td>\n",
       "      <td>[0.0, 0.0, 4.941834474392694, 18.3520341021061...</td>\n",
       "      <td>128</td>\n",
       "      <td>[1501.9574468085104, 648.8356511474968, 3662.1...</td>\n",
       "      <td>[1501.9574467554526, 577.6843400275051, 3653.4...</td>\n",
       "      <td>[[2.1672887239956363e-13, -5.484988646165825e-...</td>\n",
       "      <td>[1.0, 1.0, 1.0, 1.0, 1.0, 1.0, 1.0, 1.0, 1.0, ...</td>\n",
       "      <td>[0.0, 0.0, 0.0, 0.0, 0.0, 0.0, 0.0, 0.0, 0.0, ...</td>\n",
       "      <td>0.818774</td>\n",
       "    </tr>\n",
       "    <tr>\n",
       "      <th>0</th>\n",
       "      <td>0</td>\n",
       "      <td>9</td>\n",
       "      <td>[64.0, 194.72340425531914, 325.4468085106383, ...</td>\n",
       "      <td>[0.0, -0.7254305495698259, 3.5896668103241787,...</td>\n",
       "      <td>[0.0, 0.7254305495698259, 5.799136795591247, 2...</td>\n",
       "      <td>128</td>\n",
       "      <td>[1632.6808510638298, 813.3802379252942, 1397.8...</td>\n",
       "      <td>[1632.6808330340511, 535.8447180432928, 1184.2...</td>\n",
       "      <td>[[1.8489321112869674e-12, -5.0918817662124516e...</td>\n",
       "      <td>[1.0, 1.0, 1.0, 1.0, 1.0, 1.0, 1.0, 1.0, 1.0, ...</td>\n",
       "      <td>[0.0, 0.0, 0.0, 0.0, 0.0, 0.0, 0.0, 0.0, 0.0, ...</td>\n",
       "      <td>1.01585</td>\n",
       "    </tr>\n",
       "    <tr>\n",
       "      <th>0</th>\n",
       "      <td>0</td>\n",
       "      <td>10</td>\n",
       "      <td>[64.0, 194.72340425531914, 325.4468085106383, ...</td>\n",
       "      <td>[0.0, 1.0, 5.356133200541052, 77.4258504501555...</td>\n",
       "      <td>[0.0, 1.0, 7.8536927473228495, 25.922205256172...</td>\n",
       "      <td>128</td>\n",
       "      <td>[1632.6808510638298, 1030.9288793340168, 632.6...</td>\n",
       "      <td>[1632.680830092433, 513.3133264502898, 609.928...</td>\n",
       "      <td>[[4.2018701706916825e-12, -1.3275274117292232e...</td>\n",
       "      <td>[1.0, 1.0, 1.0, 1.0, 1.0, 1.0, 1.0, 1.0, 1.0, ...</td>\n",
       "      <td>[0.0, 0.0, 0.0, 0.0, 0.0, 0.0, 0.0, 0.0, 0.0, ...</td>\n",
       "      <td>0.799307</td>\n",
       "    </tr>\n",
       "    <tr>\n",
       "      <th>0</th>\n",
       "      <td>0</td>\n",
       "      <td>11</td>\n",
       "      <td>[64.0, 194.72340425531914, 325.4468085106383, ...</td>\n",
       "      <td>[0.0, 0.0, 0.8235635935988759, 4.3139875509247...</td>\n",
       "      <td>[0.0, 0.0, 2.1398501062074606, 5.7537247348081...</td>\n",
       "      <td>128</td>\n",
       "      <td>[979.063829787234, 882.4717190943014, 375.8067...</td>\n",
       "      <td>[979.0638295278173, 956.3618157359507, 369.142...</td>\n",
       "      <td>[[4.744280006670266e-12, -2.4920020945711e-05,...</td>\n",
       "      <td>[1.0, 1.0, 1.0, 1.0, 1.0, 1.0, 1.0, 369.142158...</td>\n",
       "      <td>[0.0, 0.0, 0.0, 0.0, 0.0, 0.0, 0.0, 0.12501830...</td>\n",
       "      <td>0.901811</td>\n",
       "    </tr>\n",
       "    <tr>\n",
       "      <th>0</th>\n",
       "      <td>0</td>\n",
       "      <td>12</td>\n",
       "      <td>[64.0, 194.72340425531914, 325.4468085106383, ...</td>\n",
       "      <td>[0.0, 0.0, 2.294561966187498, 64.8074020684687...</td>\n",
       "      <td>[0.0, 0.0, 4.161176229550859, 13.5081655418048...</td>\n",
       "      <td>128</td>\n",
       "      <td>[1371.2340425531913, 778.0749261565778, 3116.2...</td>\n",
       "      <td>[1371.2340425531913, 778.0749261565778, 3116.2...</td>\n",
       "      <td>[[6.717744140459972e-12, -1.7969707278318487e-...</td>\n",
       "      <td>[1.0, 1.0, 1.0, 1.0, 1.0, 1.0, 1.0, 1.0, 1.0, ...</td>\n",
       "      <td>[0.0, 0.0, 0.0, 0.0, 0.0, 0.0, 0.0, 0.0, 0.0, ...</td>\n",
       "      <td>23.5365</td>\n",
       "    </tr>\n",
       "    <tr>\n",
       "      <th>0</th>\n",
       "      <td>0</td>\n",
       "      <td>13</td>\n",
       "      <td>[64.0, 194.72340425531914, 325.4468085106383, ...</td>\n",
       "      <td>[0.0, 0.0, 3.0200529628970916, 45.124445251519...</td>\n",
       "      <td>[0.0, 0.0, 4.097444377735152, 15.9816954158369...</td>\n",
       "      <td>128</td>\n",
       "      <td>[1501.9574468085104, 894.4546884962963, 1247.0...</td>\n",
       "      <td>[1501.9574420452886, 630.9361448864515, 1209.0...</td>\n",
       "      <td>[[5.938988180082327e-13, -1.928182640357935e-0...</td>\n",
       "      <td>[1.0, 1.0, 1.0, 1.0, 1.0, 1.0, 1.0, 1.0, 1.0, ...</td>\n",
       "      <td>[0.0, 0.0, 0.0, 0.0, 0.0, 0.0, 0.0, 0.0, 0.0, ...</td>\n",
       "      <td>0.397831</td>\n",
       "    </tr>\n",
       "    <tr>\n",
       "      <th>0</th>\n",
       "      <td>0</td>\n",
       "      <td>14</td>\n",
       "      <td>[64.0, 194.72340425531914, 325.4468085106383, ...</td>\n",
       "      <td>[0.0, 0.0, 0.39311258529810367, 58.81562916990...</td>\n",
       "      <td>[0.0, 0.0, 4.518848273188405, 17.4397498268237...</td>\n",
       "      <td>128</td>\n",
       "      <td>[1371.2340425531913, 959.066676121765, 628.303...</td>\n",
       "      <td>[1371.2340425140385, 673.4180283736027, 657.36...</td>\n",
       "      <td>[[2.790612536374967e-12, -9.136193882939778e-0...</td>\n",
       "      <td>[1.0, 1.0, 1.0, 1.0, 1.0, 1.0, 1.0, 1.0, 1.0, ...</td>\n",
       "      <td>[0.0, 0.0, 0.0, 0.0, 0.0, 0.0, 0.0, 0.0, 0.0, ...</td>\n",
       "      <td>0.663078</td>\n",
       "    </tr>\n",
       "    <tr>\n",
       "      <th>0</th>\n",
       "      <td>0</td>\n",
       "      <td>15</td>\n",
       "      <td>[64.0, 194.72340425531914, 325.4468085106383, ...</td>\n",
       "      <td>[0.0, 0.0, -3.8037709850867802, 10.05944468651...</td>\n",
       "      <td>[0.0, 0.0, 2.492081400339262, 7.16716035378776...</td>\n",
       "      <td>128</td>\n",
       "      <td>[1109.787234042553, 1092.3301991817966, 345.35...</td>\n",
       "      <td>[1109.787232861771, 967.2951540370747, 329.171...</td>\n",
       "      <td>[[9.387857608619014e-12, -4.124381552645761e-0...</td>\n",
       "      <td>[1.0, 1.0, 1.0, 1.0, 1.0, 1.0, 1.0, 1.0, 329.1...</td>\n",
       "      <td>[0.0, 0.0, 0.0, 0.0, 0.0, 0.0, 0.0, 0.0, 0.292...</td>\n",
       "      <td>1.06366</td>\n",
       "    </tr>\n",
       "    <tr>\n",
       "      <th>0</th>\n",
       "      <td>1</td>\n",
       "      <td>0</td>\n",
       "      <td>[64.0, 194.72340425531914, 325.4468085106383, ...</td>\n",
       "      <td>[0.0, 1.0, 6.5908192222106585, 42.788930208224...</td>\n",
       "      <td>[0.0, 1.0, 6.0521331478859235, 18.010842820994...</td>\n",
       "      <td>128</td>\n",
       "      <td>[1763.404255319149, 972.2005586194549, 1154.16...</td>\n",
       "      <td>[1632.6808624162536, 445.76961784310686, 1175....</td>\n",
       "      <td>[[6519.833401213133, -2991.2478405052257, -688...</td>\n",
       "      <td>[1.0, 1.0, 1.0, 1.0, 1.0, 1.0, 1.0, 1.0, 1.0, ...</td>\n",
       "      <td>[0.0, 0.0, 0.0, 0.0, 0.0, 0.0, 0.0, 0.0, 0.0, ...</td>\n",
       "      <td>0.852016</td>\n",
       "    </tr>\n",
       "    <tr>\n",
       "      <th>0</th>\n",
       "      <td>1</td>\n",
       "      <td>1</td>\n",
       "      <td>[64.0, 194.72340425531914, 325.4468085106383, ...</td>\n",
       "      <td>[0.0, 0.0, 6.237293342470409, 104.725474756210...</td>\n",
       "      <td>[0.0, 0.0, 6.617188227290306, 21.7419954085823...</td>\n",
       "      <td>128</td>\n",
       "      <td>[1632.6808510638298, 840.9484283831976, 1603.1...</td>\n",
       "      <td>[1632.680828730828, 449.85684371965175, 1423.9...</td>\n",
       "      <td>[[2.081075876632539e-12, -5.930229601630034e-0...</td>\n",
       "      <td>[1.0, 1.0, 1.0, 1.0, 1.0, 1.0, 1.0, 1.0, 1.0, ...</td>\n",
       "      <td>[0.0, 0.0, 0.0, 0.0, 0.0, 0.0, 0.0, 0.0, 0.0, ...</td>\n",
       "      <td>1.07941</td>\n",
       "    </tr>\n",
       "    <tr>\n",
       "      <th>0</th>\n",
       "      <td>1</td>\n",
       "      <td>2</td>\n",
       "      <td>[64.0, 194.72340425531914, 325.4468085106383, ...</td>\n",
       "      <td>[0.0, 0.0, 1.4127644241243544, 43.360272443578...</td>\n",
       "      <td>[0.0, 0.0, 5.933769639091933, 17.0646973491650...</td>\n",
       "      <td>128</td>\n",
       "      <td>[1501.9574468085104, 821.2619093643552, 1656.7...</td>\n",
       "      <td>[1501.9574399543033, 569.416611328265, 1575.38...</td>\n",
       "      <td>[[1.0713028618697511e-12, -3.296535808385453e-...</td>\n",
       "      <td>[1.0, 1.0, 1.0, 1.0, 1.0, 1.0, 1.0, 1.0, 1.0, ...</td>\n",
       "      <td>[0.0, 0.0, 0.0, 0.0, 0.0, 0.0, 0.0, 0.0, 0.0, ...</td>\n",
       "      <td>1.02768</td>\n",
       "    </tr>\n",
       "    <tr>\n",
       "      <th>0</th>\n",
       "      <td>1</td>\n",
       "      <td>3</td>\n",
       "      <td>[64.0, 194.72340425531914, 325.4468085106383, ...</td>\n",
       "      <td>[0.0, 0.0, 0.2162788579092041, 30.299263766053...</td>\n",
       "      <td>[0.0, 0.0, 4.898930971048795, 15.3895411660880...</td>\n",
       "      <td>128</td>\n",
       "      <td>[1501.9574468085104, 939.665760097582, 1231.13...</td>\n",
       "      <td>[1501.9574330959022, 580.3111319390839, 1105.5...</td>\n",
       "      <td>[[1.7116764980651141e-12, -5.115336938190642e-...</td>\n",
       "      <td>[1.0, 1.0, 1.0, 1.0, 1.0, 1.0, 1.0, 1.0, 1.0, ...</td>\n",
       "      <td>[0.0, 0.0, 0.0, 0.0, 0.0, 0.0, 0.0, 0.0, 0.0, ...</td>\n",
       "      <td>0.826828</td>\n",
       "    </tr>\n",
       "    <tr>\n",
       "      <th>0</th>\n",
       "      <td>1</td>\n",
       "      <td>4</td>\n",
       "      <td>[64.0, 194.72340425531914, 325.4468085106383, ...</td>\n",
       "      <td>[0.0, 0.27454588831347215, 13.238216953391245,...</td>\n",
       "      <td>[0.0, 1.2354285362427442, 10.706492288382504, ...</td>\n",
       "      <td>128</td>\n",
       "      <td>[1371.2340425531913, 888.6913721397686, 1236.7...</td>\n",
       "      <td>[1501.9572903005842, 608.3723445880186, 1233.2...</td>\n",
       "      <td>[[34631.726819913376, -16847.655770248602, -21...</td>\n",
       "      <td>[1.0, 1.0, 1.0, 1.0, 1.0, 1.0, 1.0, 1.0, 1.0, ...</td>\n",
       "      <td>[0.0, 0.0, 0.0, 0.0, 0.0, 0.0, 0.0, 0.0, 0.0, ...</td>\n",
       "      <td>11.3084</td>\n",
       "    </tr>\n",
       "    <tr>\n",
       "      <th>0</th>\n",
       "      <td>1</td>\n",
       "      <td>5</td>\n",
       "      <td>[64.0, 194.72340425531914, 325.4468085106383, ...</td>\n",
       "      <td>[0.0, 1.0, -6.016430959247401, 90.225067496867...</td>\n",
       "      <td>[0.0, 1.0, 6.6369293834061, 23.389540156187625...</td>\n",
       "      <td>128</td>\n",
       "      <td>[1501.9574468085104, 735.21822331892, 1923.843...</td>\n",
       "      <td>[1501.95743836233, 565.176902339077, 1650.1103...</td>\n",
       "      <td>[[1.5907931436978052e-12, -4.017991107522653e-...</td>\n",
       "      <td>[1.0, 1.0, 1.0, 1.0, 1.0, 1.0, 1.0, 1.0, 1.0, ...</td>\n",
       "      <td>[0.0, 0.0, 0.0, 0.0, 0.0, 0.0, 0.0, 0.0, 0.0, ...</td>\n",
       "      <td>1.70374</td>\n",
       "    </tr>\n",
       "    <tr>\n",
       "      <th>0</th>\n",
       "      <td>1</td>\n",
       "      <td>6</td>\n",
       "      <td>[64.0, 194.72340425531914, 325.4468085106383, ...</td>\n",
       "      <td>[0.0, -1.9018155376220065, 23.66913586042589, ...</td>\n",
       "      <td>[0.0, 1.762138857637537, 10.430113470673946, 3...</td>\n",
       "      <td>128</td>\n",
       "      <td>[1501.9574468085104, 869.8183418800866, 1802.7...</td>\n",
       "      <td>[1501.9574435808547, 551.6628444385291, 1871.7...</td>\n",
       "      <td>[[6.885956136149975e-13, -2.010150308136948e-0...</td>\n",
       "      <td>[1.0, 1.0, 1.0, 1.0, 1.0, 1.0, 1.0, 1.0, 1.0, ...</td>\n",
       "      <td>[0.0, 0.0, 0.0, 0.0, 0.0, 0.0, 0.0, 0.0, 0.0, ...</td>\n",
       "      <td>0.913161</td>\n",
       "    </tr>\n",
       "    <tr>\n",
       "      <th>0</th>\n",
       "      <td>1</td>\n",
       "      <td>7</td>\n",
       "      <td>[64.0, 194.72340425531914, 325.4468085106383, ...</td>\n",
       "      <td>[0.0, 0.2745346162206789, 7.530453881268514, 1...</td>\n",
       "      <td>[0.0, 1.2354351553449001, 7.752715715709384, 2...</td>\n",
       "      <td>128</td>\n",
       "      <td>[1501.9574468085104, 880.7846556831665, 1233.7...</td>\n",
       "      <td>[1501.9574443074468, 604.8915659918039, 1244.8...</td>\n",
       "      <td>[[8.715613022902247e-13, -2.5751175196952563e-...</td>\n",
       "      <td>[1.0, 1.0, 1.0, 1.0, 1.0, 1.0, 1.0, 1.0, 1.0, ...</td>\n",
       "      <td>[0.0, 0.0, 0.0, 0.0, 0.0, 0.0, 0.0, 0.0, 0.0, ...</td>\n",
       "      <td>0.665663</td>\n",
       "    </tr>\n",
       "    <tr>\n",
       "      <th>0</th>\n",
       "      <td>1</td>\n",
       "      <td>8</td>\n",
       "      <td>[64.0, 194.72340425531914, 325.4468085106383, ...</td>\n",
       "      <td>[0.0, 0.0, 5.745527290660862, 14.5534838228729...</td>\n",
       "      <td>[0.0, 0.0, 4.2734924159350784, 12.030480840854...</td>\n",
       "      <td>128</td>\n",
       "      <td>[1371.2340425531913, 740.2780987041585, 1086.6...</td>\n",
       "      <td>[1371.234040297156, 697.4720007153038, 966.750...</td>\n",
       "      <td>[[1.1709499510148772e-12, -3.457974629184396e-...</td>\n",
       "      <td>[1.0, 1.0, 1.0, 1.0, 1.0, 1.0, 1.0, 1.0, 1.0, ...</td>\n",
       "      <td>[0.0, 0.0, 0.0, 0.0, 0.0, 0.0, 0.0, 0.0, 0.0, ...</td>\n",
       "      <td>0.894272</td>\n",
       "    </tr>\n",
       "    <tr>\n",
       "      <th>0</th>\n",
       "      <td>1</td>\n",
       "      <td>9</td>\n",
       "      <td>[64.0, 194.72340425531914, 325.4468085106383, ...</td>\n",
       "      <td>[0.0, 0.0, 15.059894148698259, 98.049856993122...</td>\n",
       "      <td>[0.0, 0.0, 7.507831604340718, 22.5526667178938...</td>\n",
       "      <td>128</td>\n",
       "      <td>[1501.9574468085104, 805.4318910651738, 1436.1...</td>\n",
       "      <td>[1501.9574412504378, 583.5809217251691, 1390.3...</td>\n",
       "      <td>[[1.116277803458241e-12, -3.254644673446084e-0...</td>\n",
       "      <td>[1.0, 1.0, 1.0, 1.0, 1.0, 1.0, 1.0, 1.0, 1.0, ...</td>\n",
       "      <td>[0.0, 0.0, 0.0, 0.0, 0.0, 0.0, 0.0, 0.0, 0.0, ...</td>\n",
       "      <td>1.02472</td>\n",
       "    </tr>\n",
       "    <tr>\n",
       "      <th>0</th>\n",
       "      <td>1</td>\n",
       "      <td>10</td>\n",
       "      <td>[64.0, 194.72340425531914, 325.4468085106383, ...</td>\n",
       "      <td>[0.0, 1.2745237039612098, 25.373327421827753, ...</td>\n",
       "      <td>[0.0, 1.5894388494415763, 9.771063808122078, 3...</td>\n",
       "      <td>128</td>\n",
       "      <td>[1371.2340425531913, 876.3287258224187, 1513.2...</td>\n",
       "      <td>[1371.2340397038024, 595.6379676010071, 1539.2...</td>\n",
       "      <td>[[5.570181020252669e-13, -1.7845273477477224e-...</td>\n",
       "      <td>[1.0, 1.0, 1.0, 1.0, 1.0, 1.0, 1.0, 1.0, 1.0, ...</td>\n",
       "      <td>[0.0, 0.0, 0.0, 0.0, 0.0, 0.0, 0.0, 0.0, 0.0, ...</td>\n",
       "      <td>0.683026</td>\n",
       "    </tr>\n",
       "    <tr>\n",
       "      <th>0</th>\n",
       "      <td>1</td>\n",
       "      <td>11</td>\n",
       "      <td>[64.0, 194.72340425531914, 325.4468085106383, ...</td>\n",
       "      <td>[0.0, 0.0, 2.8237172869445386, -5.505357542312...</td>\n",
       "      <td>[0.0, 0.0, 2.5649045756872413, 9.1303563137677...</td>\n",
       "      <td>128</td>\n",
       "      <td>[1371.2340425531913, 742.6704098293573, 1165.8...</td>\n",
       "      <td>[1371.2340415185224, 697.4228065492398, 1106.8...</td>\n",
       "      <td>[[8.488932589697531e-13, -2.667117281248107e-0...</td>\n",
       "      <td>[1.0, 1.0, 1.0, 1.0, 1.0, 1.0, 1.0, 1.0, 1.0, ...</td>\n",
       "      <td>[0.0, 0.0, 0.0, 0.0, 0.0, 0.0, 0.0, 0.0, 0.0, ...</td>\n",
       "      <td>0.716602</td>\n",
       "    </tr>\n",
       "    <tr>\n",
       "      <th>0</th>\n",
       "      <td>1</td>\n",
       "      <td>12</td>\n",
       "      <td>[64.0, 194.72340425531914, 325.4468085106383, ...</td>\n",
       "      <td>[0.0, 0.0, -0.6276114763691139, 14.48791703555...</td>\n",
       "      <td>[0.0, 0.0, 2.3731651869806663, 10.167259447200...</td>\n",
       "      <td>128</td>\n",
       "      <td>[1371.2340425531913, 978.8408503968785, 841.31...</td>\n",
       "      <td>[1371.2340339307166, 673.7879697638344, 775.73...</td>\n",
       "      <td>[[2.1830594856466868e-12, -6.900672007573722e-...</td>\n",
       "      <td>[1.0, 1.0, 1.0, 1.0, 1.0, 1.0, 1.0, 1.0, 1.0, ...</td>\n",
       "      <td>[0.0, 0.0, 0.0, 0.0, 0.0, 0.0, 0.0, 0.0, 0.0, ...</td>\n",
       "      <td>0.795636</td>\n",
       "    </tr>\n",
       "    <tr>\n",
       "      <th>0</th>\n",
       "      <td>1</td>\n",
       "      <td>13</td>\n",
       "      <td>[64.0, 194.72340425531914, 325.4468085106383, ...</td>\n",
       "      <td>[0.0, 0.5488312195184442, 30.246236097848424, ...</td>\n",
       "      <td>[0.0, 1.747267985948968, 12.059663721564524, 3...</td>\n",
       "      <td>128</td>\n",
       "      <td>[979.063829787234, 1081.3096057562614, 959.328...</td>\n",
       "      <td>[979.0638288131072, 936.9272529054779, 933.659...</td>\n",
       "      <td>[[1.5271880459302356e-12, -5.221405313517904e-...</td>\n",
       "      <td>[1.0, 1.0, 1.0, 1.0, 1.0, 1.0, 1.0, 933.659932...</td>\n",
       "      <td>[0.0, 0.0, 0.0, 0.0, 0.0, 0.0, 0.0, 0.42603989...</td>\n",
       "      <td>1.45941</td>\n",
       "    </tr>\n",
       "    <tr>\n",
       "      <th>0</th>\n",
       "      <td>1</td>\n",
       "      <td>14</td>\n",
       "      <td>[64.0, 194.72340425531914, 325.4468085106383, ...</td>\n",
       "      <td>[0.0, 0.0, 2.9412581295416977, 51.020351846935...</td>\n",
       "      <td>[0.0, 0.0, 5.047170490258548, 16.0099353060474...</td>\n",
       "      <td>128</td>\n",
       "      <td>[1109.787234042553, 920.7714931333203, 890.361...</td>\n",
       "      <td>[1109.7872323754523, 991.3429075953551, 800.70...</td>\n",
       "      <td>[[1.088360387149319e-12, -3.8473261552244905e-...</td>\n",
       "      <td>[1.0, 1.0, 1.0, 1.0, 1.0, 1.0, 1.0, 1.0, 800.7...</td>\n",
       "      <td>[0.0, 0.0, 0.0, 0.0, 0.0, 0.0, 0.0, 0.0, 1.589...</td>\n",
       "      <td>0.844853</td>\n",
       "    </tr>\n",
       "    <tr>\n",
       "      <th>0</th>\n",
       "      <td>1</td>\n",
       "      <td>15</td>\n",
       "      <td>[64.0, 194.72340425531914, 325.4468085106383, ...</td>\n",
       "      <td>[0.0, 0.0, 4.64700237070004, 20.97953595561728...</td>\n",
       "      <td>[0.0, 0.0, 3.4868464348340864, 11.614552104081...</td>\n",
       "      <td>128</td>\n",
       "      <td>[1501.9574468085104, 981.0656733227909, 788.80...</td>\n",
       "      <td>[1501.9574270466755, 596.4649303208694, 673.73...</td>\n",
       "      <td>[[4.483946966359848e-12, -1.3302622929788e-05,...</td>\n",
       "      <td>[1.0, 1.0, 1.0, 1.0, 1.0, 1.0, 1.0, 1.0, 1.0, ...</td>\n",
       "      <td>[0.0, 0.0, 0.0, 0.0, 0.0, 0.0, 0.0, 0.0, 0.0, ...</td>\n",
       "      <td>0.962606</td>\n",
       "    </tr>\n",
       "  </tbody>\n",
       "</table>\n",
       "</div>"
      ],
      "text/plain": [
       "  fpga channel                                            centres  \\\n",
       "0    0       0  [64.0, 194.72340425531914, 325.4468085106383, ...   \n",
       "0    0       1  [64.0, 194.72340425531914, 325.4468085106383, ...   \n",
       "0    0       2  [64.0, 194.72340425531914, 325.4468085106383, ...   \n",
       "0    0       3  [64.0, 194.72340425531914, 325.4468085106383, ...   \n",
       "0    0       4  [64.0, 194.72340425531914, 325.4468085106383, ...   \n",
       "0    0       5  [64.0, 194.72340425531914, 325.4468085106383, ...   \n",
       "0    0       6  [64.0, 194.72340425531914, 325.4468085106383, ...   \n",
       "0    0       7  [64.0, 194.72340425531914, 325.4468085106383, ...   \n",
       "0    0       8  [64.0, 194.72340425531914, 325.4468085106383, ...   \n",
       "0    0       9  [64.0, 194.72340425531914, 325.4468085106383, ...   \n",
       "0    0      10  [64.0, 194.72340425531914, 325.4468085106383, ...   \n",
       "0    0      11  [64.0, 194.72340425531914, 325.4468085106383, ...   \n",
       "0    0      12  [64.0, 194.72340425531914, 325.4468085106383, ...   \n",
       "0    0      13  [64.0, 194.72340425531914, 325.4468085106383, ...   \n",
       "0    0      14  [64.0, 194.72340425531914, 325.4468085106383, ...   \n",
       "0    0      15  [64.0, 194.72340425531914, 325.4468085106383, ...   \n",
       "0    1       0  [64.0, 194.72340425531914, 325.4468085106383, ...   \n",
       "0    1       1  [64.0, 194.72340425531914, 325.4468085106383, ...   \n",
       "0    1       2  [64.0, 194.72340425531914, 325.4468085106383, ...   \n",
       "0    1       3  [64.0, 194.72340425531914, 325.4468085106383, ...   \n",
       "0    1       4  [64.0, 194.72340425531914, 325.4468085106383, ...   \n",
       "0    1       5  [64.0, 194.72340425531914, 325.4468085106383, ...   \n",
       "0    1       6  [64.0, 194.72340425531914, 325.4468085106383, ...   \n",
       "0    1       7  [64.0, 194.72340425531914, 325.4468085106383, ...   \n",
       "0    1       8  [64.0, 194.72340425531914, 325.4468085106383, ...   \n",
       "0    1       9  [64.0, 194.72340425531914, 325.4468085106383, ...   \n",
       "0    1      10  [64.0, 194.72340425531914, 325.4468085106383, ...   \n",
       "0    1      11  [64.0, 194.72340425531914, 325.4468085106383, ...   \n",
       "0    1      12  [64.0, 194.72340425531914, 325.4468085106383, ...   \n",
       "0    1      13  [64.0, 194.72340425531914, 325.4468085106383, ...   \n",
       "0    1      14  [64.0, 194.72340425531914, 325.4468085106383, ...   \n",
       "0    1      15  [64.0, 194.72340425531914, 325.4468085106383, ...   \n",
       "\n",
       "                                                data  \\\n",
       "0  [0.0, 0.0, 0.9417235099493375, 86.317524374648...   \n",
       "0  [0.0, 0.0, 2.0, 21.959490759562584, 83.8120212...   \n",
       "0  [0.0, 0.0, 1.6474766960606848, -10.15233579267...   \n",
       "0  [0.0, 0.0, 1.0, -1.5292728930880983, 14.863130...   \n",
       "0  [0.0, 0.0, 0.0, 37.27527011056224, 217.9056307...   \n",
       "0  [0.0, 0.0, 10.921915050999578, 18.710336369994...   \n",
       "0  [0.0, 0.0, 6.843324105897022, 21.9434587220279...   \n",
       "0  [0.0, 0.0, 0.3725394080857507, 8.2939965418804...   \n",
       "0  [0.0, 0.0, 4.3919145611027695, 108.95802813254...   \n",
       "0  [0.0, -0.7254305495698259, 3.5896668103241787,...   \n",
       "0  [0.0, 1.0, 5.356133200541052, 77.4258504501555...   \n",
       "0  [0.0, 0.0, 0.8235635935988759, 4.3139875509247...   \n",
       "0  [0.0, 0.0, 2.294561966187498, 64.8074020684687...   \n",
       "0  [0.0, 0.0, 3.0200529628970916, 45.124445251519...   \n",
       "0  [0.0, 0.0, 0.39311258529810367, 58.81562916990...   \n",
       "0  [0.0, 0.0, -3.8037709850867802, 10.05944468651...   \n",
       "0  [0.0, 1.0, 6.5908192222106585, 42.788930208224...   \n",
       "0  [0.0, 0.0, 6.237293342470409, 104.725474756210...   \n",
       "0  [0.0, 0.0, 1.4127644241243544, 43.360272443578...   \n",
       "0  [0.0, 0.0, 0.2162788579092041, 30.299263766053...   \n",
       "0  [0.0, 0.27454588831347215, 13.238216953391245,...   \n",
       "0  [0.0, 1.0, -6.016430959247401, 90.225067496867...   \n",
       "0  [0.0, -1.9018155376220065, 23.66913586042589, ...   \n",
       "0  [0.0, 0.2745346162206789, 7.530453881268514, 1...   \n",
       "0  [0.0, 0.0, 5.745527290660862, 14.5534838228729...   \n",
       "0  [0.0, 0.0, 15.059894148698259, 98.049856993122...   \n",
       "0  [0.0, 1.2745237039612098, 25.373327421827753, ...   \n",
       "0  [0.0, 0.0, 2.8237172869445386, -5.505357542312...   \n",
       "0  [0.0, 0.0, -0.6276114763691139, 14.48791703555...   \n",
       "0  [0.0, 0.5488312195184442, 30.246236097848424, ...   \n",
       "0  [0.0, 0.0, 2.9412581295416977, 51.020351846935...   \n",
       "0  [0.0, 0.0, 4.64700237070004, 20.97953595561728...   \n",
       "\n",
       "                                               error space  \\\n",
       "0  [0.0, 0.0, 4.84492050668997, 15.58160746150217...   128   \n",
       "0  [0.0, 0.0, 1.4142135623730951, 7.6331921037661...   128   \n",
       "0  [0.0, 0.0, 3.0261212553182886, 8.4383217167553...   128   \n",
       "0  [0.0, 0.0, 1.0, 3.1203882328328425, 6.79395620...   128   \n",
       "0  [0.0, 0.0, 0.0, 10.117725539892692, 23.0674016...   128   \n",
       "0  [0.0, 0.0, 4.436648457519396, 11.4614039167785...   128   \n",
       "0  [0.0, 0.0, 4.9364393270703335, 15.362296336680...   128   \n",
       "0  [0.0, 0.0, 2.5752075778814754, 9.3359169486261...   128   \n",
       "0  [0.0, 0.0, 4.941834474392694, 18.3520341021061...   128   \n",
       "0  [0.0, 0.7254305495698259, 5.799136795591247, 2...   128   \n",
       "0  [0.0, 1.0, 7.8536927473228495, 25.922205256172...   128   \n",
       "0  [0.0, 0.0, 2.1398501062074606, 5.7537247348081...   128   \n",
       "0  [0.0, 0.0, 4.161176229550859, 13.5081655418048...   128   \n",
       "0  [0.0, 0.0, 4.097444377735152, 15.9816954158369...   128   \n",
       "0  [0.0, 0.0, 4.518848273188405, 17.4397498268237...   128   \n",
       "0  [0.0, 0.0, 2.492081400339262, 7.16716035378776...   128   \n",
       "0  [0.0, 1.0, 6.0521331478859235, 18.010842820994...   128   \n",
       "0  [0.0, 0.0, 6.617188227290306, 21.7419954085823...   128   \n",
       "0  [0.0, 0.0, 5.933769639091933, 17.0646973491650...   128   \n",
       "0  [0.0, 0.0, 4.898930971048795, 15.3895411660880...   128   \n",
       "0  [0.0, 1.2354285362427442, 10.706492288382504, ...   128   \n",
       "0  [0.0, 1.0, 6.6369293834061, 23.389540156187625...   128   \n",
       "0  [0.0, 1.762138857637537, 10.430113470673946, 3...   128   \n",
       "0  [0.0, 1.2354351553449001, 7.752715715709384, 2...   128   \n",
       "0  [0.0, 0.0, 4.2734924159350784, 12.030480840854...   128   \n",
       "0  [0.0, 0.0, 7.507831604340718, 22.5526667178938...   128   \n",
       "0  [0.0, 1.5894388494415763, 9.771063808122078, 3...   128   \n",
       "0  [0.0, 0.0, 2.5649045756872413, 9.1303563137677...   128   \n",
       "0  [0.0, 0.0, 2.3731651869806663, 10.167259447200...   128   \n",
       "0  [0.0, 1.747267985948968, 12.059663721564524, 3...   128   \n",
       "0  [0.0, 0.0, 5.047170490258548, 16.0099353060474...   128   \n",
       "0  [0.0, 0.0, 3.4868464348340864, 11.614552104081...   128   \n",
       "\n",
       "                                                  p0  \\\n",
       "0  [1109.787234042553, 882.175142236967, 1895.730...   \n",
       "0  [1371.2340425531913, 834.9625815144997, 962.69...   \n",
       "0  [1240.5106382978722, 923.9179058323394, 559.20...   \n",
       "0  [1371.2340425531913, 1093.8454286135811, 295.9...   \n",
       "0  [1501.9574468085104, 597.1367041047428, 2988.3...   \n",
       "0  [1371.2340425531913, 754.0259311187395, 1237.3...   \n",
       "0  [1501.9574468085104, 860.7207855631475, 710.33...   \n",
       "0  [1240.5106382978722, 1011.870386821553, 341.68...   \n",
       "0  [1501.9574468085104, 648.8356511474968, 3662.1...   \n",
       "0  [1632.6808510638298, 813.3802379252942, 1397.8...   \n",
       "0  [1632.6808510638298, 1030.9288793340168, 632.6...   \n",
       "0  [979.063829787234, 882.4717190943014, 375.8067...   \n",
       "0  [1371.2340425531913, 778.0749261565778, 3116.2...   \n",
       "0  [1501.9574468085104, 894.4546884962963, 1247.0...   \n",
       "0  [1371.2340425531913, 959.066676121765, 628.303...   \n",
       "0  [1109.787234042553, 1092.3301991817966, 345.35...   \n",
       "0  [1763.404255319149, 972.2005586194549, 1154.16...   \n",
       "0  [1632.6808510638298, 840.9484283831976, 1603.1...   \n",
       "0  [1501.9574468085104, 821.2619093643552, 1656.7...   \n",
       "0  [1501.9574468085104, 939.665760097582, 1231.13...   \n",
       "0  [1371.2340425531913, 888.6913721397686, 1236.7...   \n",
       "0  [1501.9574468085104, 735.21822331892, 1923.843...   \n",
       "0  [1501.9574468085104, 869.8183418800866, 1802.7...   \n",
       "0  [1501.9574468085104, 880.7846556831665, 1233.7...   \n",
       "0  [1371.2340425531913, 740.2780987041585, 1086.6...   \n",
       "0  [1501.9574468085104, 805.4318910651738, 1436.1...   \n",
       "0  [1371.2340425531913, 876.3287258224187, 1513.2...   \n",
       "0  [1371.2340425531913, 742.6704098293573, 1165.8...   \n",
       "0  [1371.2340425531913, 978.8408503968785, 841.31...   \n",
       "0  [979.063829787234, 1081.3096057562614, 959.328...   \n",
       "0  [1109.787234042553, 920.7714931333203, 890.361...   \n",
       "0  [1501.9574468085104, 981.0656733227909, 788.80...   \n",
       "\n",
       "                                                popt  \\\n",
       "0  [1109.787234042553, 882.175142236967, 1895.730...   \n",
       "0  [1371.2340372348115, 671.7283474836366, 866.27...   \n",
       "0  [1371.2339663926184, 606.2187227536356, 523.70...   \n",
       "0  [1371.2340166112067, 815.8013728703299, 206.36...   \n",
       "0  [1501.9574445263586, 571.7994350757996, 2683.7...   \n",
       "0  [1371.2340421194326, 668.723023423069, 1211.11...   \n",
       "0  [1501.9574250771486, 591.3818039965794, 550.89...   \n",
       "0  [1240.5106346653274, 837.6571163695925, 313.54...   \n",
       "0  [1501.9574467554526, 577.6843400275051, 3653.4...   \n",
       "0  [1632.6808330340511, 535.8447180432928, 1184.2...   \n",
       "0  [1632.680830092433, 513.3133264502898, 609.928...   \n",
       "0  [979.0638295278173, 956.3618157359507, 369.142...   \n",
       "0  [1371.2340425531913, 778.0749261565778, 3116.2...   \n",
       "0  [1501.9574420452886, 630.9361448864515, 1209.0...   \n",
       "0  [1371.2340425140385, 673.4180283736027, 657.36...   \n",
       "0  [1109.787232861771, 967.2951540370747, 329.171...   \n",
       "0  [1632.6808624162536, 445.76961784310686, 1175....   \n",
       "0  [1632.680828730828, 449.85684371965175, 1423.9...   \n",
       "0  [1501.9574399543033, 569.416611328265, 1575.38...   \n",
       "0  [1501.9574330959022, 580.3111319390839, 1105.5...   \n",
       "0  [1501.9572903005842, 608.3723445880186, 1233.2...   \n",
       "0  [1501.95743836233, 565.176902339077, 1650.1103...   \n",
       "0  [1501.9574435808547, 551.6628444385291, 1871.7...   \n",
       "0  [1501.9574443074468, 604.8915659918039, 1244.8...   \n",
       "0  [1371.234040297156, 697.4720007153038, 966.750...   \n",
       "0  [1501.9574412504378, 583.5809217251691, 1390.3...   \n",
       "0  [1371.2340397038024, 595.6379676010071, 1539.2...   \n",
       "0  [1371.2340415185224, 697.4228065492398, 1106.8...   \n",
       "0  [1371.2340339307166, 673.7879697638344, 775.73...   \n",
       "0  [979.0638288131072, 936.9272529054779, 933.659...   \n",
       "0  [1109.7872323754523, 991.3429075953551, 800.70...   \n",
       "0  [1501.9574270466755, 596.4649303208694, 673.73...   \n",
       "\n",
       "                                                pcov  \\\n",
       "0  [[1.9378815615742766e-12, -6.3207850420276135e...   \n",
       "0  [[1.7350922038681252e-12, -5.626506008821446e-...   \n",
       "0  [[53495.830261758216, -27361.532552037555, -13...   \n",
       "0  [[2.9071140533568032e-11, -0.00010971396854128...   \n",
       "0  [[6.933685841404541e-13, -1.935332418970642e-0...   \n",
       "0  [[1.148316628023111e-12, -3.389824439111302e-0...   \n",
       "0  [[3.8563151567700394e-12, -1.2554465177524805e...   \n",
       "0  [[1.1136471313039675e-11, -4.421831326036988e-...   \n",
       "0  [[2.1672887239956363e-13, -5.484988646165825e-...   \n",
       "0  [[1.8489321112869674e-12, -5.0918817662124516e...   \n",
       "0  [[4.2018701706916825e-12, -1.3275274117292232e...   \n",
       "0  [[4.744280006670266e-12, -2.4920020945711e-05,...   \n",
       "0  [[6.717744140459972e-12, -1.7969707278318487e-...   \n",
       "0  [[5.938988180082327e-13, -1.928182640357935e-0...   \n",
       "0  [[2.790612536374967e-12, -9.136193882939778e-0...   \n",
       "0  [[9.387857608619014e-12, -4.124381552645761e-0...   \n",
       "0  [[6519.833401213133, -2991.2478405052257, -688...   \n",
       "0  [[2.081075876632539e-12, -5.930229601630034e-0...   \n",
       "0  [[1.0713028618697511e-12, -3.296535808385453e-...   \n",
       "0  [[1.7116764980651141e-12, -5.115336938190642e-...   \n",
       "0  [[34631.726819913376, -16847.655770248602, -21...   \n",
       "0  [[1.5907931436978052e-12, -4.017991107522653e-...   \n",
       "0  [[6.885956136149975e-13, -2.010150308136948e-0...   \n",
       "0  [[8.715613022902247e-13, -2.5751175196952563e-...   \n",
       "0  [[1.1709499510148772e-12, -3.457974629184396e-...   \n",
       "0  [[1.116277803458241e-12, -3.254644673446084e-0...   \n",
       "0  [[5.570181020252669e-13, -1.7845273477477224e-...   \n",
       "0  [[8.488932589697531e-13, -2.667117281248107e-0...   \n",
       "0  [[2.1830594856466868e-12, -6.900672007573722e-...   \n",
       "0  [[1.5271880459302356e-12, -5.221405313517904e-...   \n",
       "0  [[1.088360387149319e-12, -3.8473261552244905e-...   \n",
       "0  [[4.483946966359848e-12, -1.3302622929788e-05,...   \n",
       "\n",
       "                                                 fit  \\\n",
       "0  [1.0, 1.0, 1.0, 1.0, 1.0, 1.0, 1.0, 1.0, 1895....   \n",
       "0  [1.0, 1.0, 1.0, 1.0, 1.0, 1.0, 1.0, 1.0, 1.0, ...   \n",
       "0  [1.0, 1.0, 1.0, 1.0, 1.0, 1.0, 1.0, 1.0, 1.0, ...   \n",
       "0  [1.0, 1.0, 1.0, 1.0, 1.0, 1.0, 1.0, 1.0, 1.0, ...   \n",
       "0  [1.0, 1.0, 1.0, 1.0, 1.0, 1.0, 1.0, 1.0, 1.0, ...   \n",
       "0  [1.0, 1.0, 1.0, 1.0, 1.0, 1.0, 1.0, 1.0, 1.0, ...   \n",
       "0  [1.0, 1.0, 1.0, 1.0, 1.0, 1.0, 1.0, 1.0, 1.0, ...   \n",
       "0  [1.0, 1.0, 1.0, 1.0, 1.0, 1.0, 1.0, 1.0, 1.0, ...   \n",
       "0  [1.0, 1.0, 1.0, 1.0, 1.0, 1.0, 1.0, 1.0, 1.0, ...   \n",
       "0  [1.0, 1.0, 1.0, 1.0, 1.0, 1.0, 1.0, 1.0, 1.0, ...   \n",
       "0  [1.0, 1.0, 1.0, 1.0, 1.0, 1.0, 1.0, 1.0, 1.0, ...   \n",
       "0  [1.0, 1.0, 1.0, 1.0, 1.0, 1.0, 1.0, 369.142158...   \n",
       "0  [1.0, 1.0, 1.0, 1.0, 1.0, 1.0, 1.0, 1.0, 1.0, ...   \n",
       "0  [1.0, 1.0, 1.0, 1.0, 1.0, 1.0, 1.0, 1.0, 1.0, ...   \n",
       "0  [1.0, 1.0, 1.0, 1.0, 1.0, 1.0, 1.0, 1.0, 1.0, ...   \n",
       "0  [1.0, 1.0, 1.0, 1.0, 1.0, 1.0, 1.0, 1.0, 329.1...   \n",
       "0  [1.0, 1.0, 1.0, 1.0, 1.0, 1.0, 1.0, 1.0, 1.0, ...   \n",
       "0  [1.0, 1.0, 1.0, 1.0, 1.0, 1.0, 1.0, 1.0, 1.0, ...   \n",
       "0  [1.0, 1.0, 1.0, 1.0, 1.0, 1.0, 1.0, 1.0, 1.0, ...   \n",
       "0  [1.0, 1.0, 1.0, 1.0, 1.0, 1.0, 1.0, 1.0, 1.0, ...   \n",
       "0  [1.0, 1.0, 1.0, 1.0, 1.0, 1.0, 1.0, 1.0, 1.0, ...   \n",
       "0  [1.0, 1.0, 1.0, 1.0, 1.0, 1.0, 1.0, 1.0, 1.0, ...   \n",
       "0  [1.0, 1.0, 1.0, 1.0, 1.0, 1.0, 1.0, 1.0, 1.0, ...   \n",
       "0  [1.0, 1.0, 1.0, 1.0, 1.0, 1.0, 1.0, 1.0, 1.0, ...   \n",
       "0  [1.0, 1.0, 1.0, 1.0, 1.0, 1.0, 1.0, 1.0, 1.0, ...   \n",
       "0  [1.0, 1.0, 1.0, 1.0, 1.0, 1.0, 1.0, 1.0, 1.0, ...   \n",
       "0  [1.0, 1.0, 1.0, 1.0, 1.0, 1.0, 1.0, 1.0, 1.0, ...   \n",
       "0  [1.0, 1.0, 1.0, 1.0, 1.0, 1.0, 1.0, 1.0, 1.0, ...   \n",
       "0  [1.0, 1.0, 1.0, 1.0, 1.0, 1.0, 1.0, 1.0, 1.0, ...   \n",
       "0  [1.0, 1.0, 1.0, 1.0, 1.0, 1.0, 1.0, 933.659932...   \n",
       "0  [1.0, 1.0, 1.0, 1.0, 1.0, 1.0, 1.0, 1.0, 800.7...   \n",
       "0  [1.0, 1.0, 1.0, 1.0, 1.0, 1.0, 1.0, 1.0, 1.0, ...   \n",
       "\n",
       "                                           residuals      chsq  \n",
       "0  [0.0, 0.0, 0.0, 0.0, 0.0, 0.0, 0.0, 0.0, 0.0, ...    4.7481  \n",
       "0  [0.0, 0.0, 0.0, 0.0, 0.0, 0.0, 0.0, 0.0, 0.0, ...  0.797093  \n",
       "0  [0.0, 0.0, 0.0, 0.0, 0.0, 0.0, 0.0, 0.0, 0.0, ...   3.53047  \n",
       "0  [0.0, 0.0, 0.0, 0.0, 0.0, 0.0, 0.0, 0.0, 0.0, ...   1.03369  \n",
       "0  [0.0, 0.0, 0.0, 0.0, 0.0, 0.0, 0.0, 0.0, 0.0, ...   2.03077  \n",
       "0  [0.0, 0.0, 0.0, 0.0, 0.0, 0.0, 0.0, 0.0, 0.0, ...   1.12281  \n",
       "0  [0.0, 0.0, 0.0, 0.0, 0.0, 0.0, 0.0, 0.0, 0.0, ...  0.708444  \n",
       "0  [0.0, 0.0, 0.0, 0.0, 0.0, 0.0, 0.0, 0.0, 0.0, ...  0.984169  \n",
       "0  [0.0, 0.0, 0.0, 0.0, 0.0, 0.0, 0.0, 0.0, 0.0, ...  0.818774  \n",
       "0  [0.0, 0.0, 0.0, 0.0, 0.0, 0.0, 0.0, 0.0, 0.0, ...   1.01585  \n",
       "0  [0.0, 0.0, 0.0, 0.0, 0.0, 0.0, 0.0, 0.0, 0.0, ...  0.799307  \n",
       "0  [0.0, 0.0, 0.0, 0.0, 0.0, 0.0, 0.0, 0.12501830...  0.901811  \n",
       "0  [0.0, 0.0, 0.0, 0.0, 0.0, 0.0, 0.0, 0.0, 0.0, ...   23.5365  \n",
       "0  [0.0, 0.0, 0.0, 0.0, 0.0, 0.0, 0.0, 0.0, 0.0, ...  0.397831  \n",
       "0  [0.0, 0.0, 0.0, 0.0, 0.0, 0.0, 0.0, 0.0, 0.0, ...  0.663078  \n",
       "0  [0.0, 0.0, 0.0, 0.0, 0.0, 0.0, 0.0, 0.0, 0.292...   1.06366  \n",
       "0  [0.0, 0.0, 0.0, 0.0, 0.0, 0.0, 0.0, 0.0, 0.0, ...  0.852016  \n",
       "0  [0.0, 0.0, 0.0, 0.0, 0.0, 0.0, 0.0, 0.0, 0.0, ...   1.07941  \n",
       "0  [0.0, 0.0, 0.0, 0.0, 0.0, 0.0, 0.0, 0.0, 0.0, ...   1.02768  \n",
       "0  [0.0, 0.0, 0.0, 0.0, 0.0, 0.0, 0.0, 0.0, 0.0, ...  0.826828  \n",
       "0  [0.0, 0.0, 0.0, 0.0, 0.0, 0.0, 0.0, 0.0, 0.0, ...   11.3084  \n",
       "0  [0.0, 0.0, 0.0, 0.0, 0.0, 0.0, 0.0, 0.0, 0.0, ...   1.70374  \n",
       "0  [0.0, 0.0, 0.0, 0.0, 0.0, 0.0, 0.0, 0.0, 0.0, ...  0.913161  \n",
       "0  [0.0, 0.0, 0.0, 0.0, 0.0, 0.0, 0.0, 0.0, 0.0, ...  0.665663  \n",
       "0  [0.0, 0.0, 0.0, 0.0, 0.0, 0.0, 0.0, 0.0, 0.0, ...  0.894272  \n",
       "0  [0.0, 0.0, 0.0, 0.0, 0.0, 0.0, 0.0, 0.0, 0.0, ...   1.02472  \n",
       "0  [0.0, 0.0, 0.0, 0.0, 0.0, 0.0, 0.0, 0.0, 0.0, ...  0.683026  \n",
       "0  [0.0, 0.0, 0.0, 0.0, 0.0, 0.0, 0.0, 0.0, 0.0, ...  0.716602  \n",
       "0  [0.0, 0.0, 0.0, 0.0, 0.0, 0.0, 0.0, 0.0, 0.0, ...  0.795636  \n",
       "0  [0.0, 0.0, 0.0, 0.0, 0.0, 0.0, 0.0, 0.42603989...   1.45941  \n",
       "0  [0.0, 0.0, 0.0, 0.0, 0.0, 0.0, 0.0, 0.0, 1.589...  0.844853  \n",
       "0  [0.0, 0.0, 0.0, 0.0, 0.0, 0.0, 0.0, 0.0, 0.0, ...  0.962606  "
      ]
     },
     "execution_count": 23,
     "metadata": {},
     "output_type": "execute_result"
    }
   ],
   "source": [
    "dff"
   ]
  },
  {
   "cell_type": "code",
   "execution_count": 36,
   "metadata": {},
   "outputs": [],
   "source": [
    "dff['ecentres']=[arr for arr in dff['centres'].explode().values.reshape(32,-1)/energyscale[:,np.newaxis]]"
   ]
  },
  {
   "cell_type": "code",
   "execution_count": 37,
   "metadata": {},
   "outputs": [
    {
     "data": {
      "text/html": [
       "<div>\n",
       "<style scoped>\n",
       "    .dataframe tbody tr th:only-of-type {\n",
       "        vertical-align: middle;\n",
       "    }\n",
       "\n",
       "    .dataframe tbody tr th {\n",
       "        vertical-align: top;\n",
       "    }\n",
       "\n",
       "    .dataframe thead th {\n",
       "        text-align: right;\n",
       "    }\n",
       "</style>\n",
       "<table border=\"1\" class=\"dataframe\">\n",
       "  <thead>\n",
       "    <tr style=\"text-align: right;\">\n",
       "      <th></th>\n",
       "      <th>fpga</th>\n",
       "      <th>channel</th>\n",
       "      <th>centres</th>\n",
       "      <th>data</th>\n",
       "      <th>error</th>\n",
       "      <th>space</th>\n",
       "      <th>p0</th>\n",
       "      <th>popt</th>\n",
       "      <th>pcov</th>\n",
       "      <th>fit</th>\n",
       "      <th>residuals</th>\n",
       "      <th>chsq</th>\n",
       "      <th>ecentres</th>\n",
       "    </tr>\n",
       "  </thead>\n",
       "  <tbody>\n",
       "    <tr>\n",
       "      <th>0</th>\n",
       "      <td>0</td>\n",
       "      <td>0</td>\n",
       "      <td>[64.0, 194.72340425531914, 325.4468085106383, ...</td>\n",
       "      <td>[0.0, 0.0, 0.9417235099493375, 86.317524374648...</td>\n",
       "      <td>[0.0, 0.0, 4.84492050668997, 15.58160746150217...</td>\n",
       "      <td>128</td>\n",
       "      <td>[1109.787234042553, 882.175142236967, 1895.730...</td>\n",
       "      <td>[1109.787234042553, 882.175142236967, 1895.730...</td>\n",
       "      <td>[[1.9378815615742766e-12, -6.3207850420276135e...</td>\n",
       "      <td>[1.0, 1.0, 1.0, 1.0, 1.0, 1.0, 1.0, 1.0, 1895....</td>\n",
       "      <td>[0.0, 0.0, 0.0, 0.0, 0.0, 0.0, 0.0, 0.0, 0.0, ...</td>\n",
       "      <td>4.7481</td>\n",
       "      <td>[30.940343419092553, 94.13764061553691, 157.33...</td>\n",
       "    </tr>\n",
       "    <tr>\n",
       "      <th>0</th>\n",
       "      <td>0</td>\n",
       "      <td>1</td>\n",
       "      <td>[64.0, 194.72340425531914, 325.4468085106383, ...</td>\n",
       "      <td>[0.0, 0.0, 2.0, 21.959490759562584, 83.8120212...</td>\n",
       "      <td>[0.0, 0.0, 1.4142135623730951, 7.6331921037661...</td>\n",
       "      <td>128</td>\n",
       "      <td>[1371.2340425531913, 834.9625815144997, 962.69...</td>\n",
       "      <td>[1371.2340372348115, 671.7283474836366, 866.27...</td>\n",
       "      <td>[[1.7350922038681252e-12, -5.626506008821446e-...</td>\n",
       "      <td>[1.0, 1.0, 1.0, 1.0, 1.0, 1.0, 1.0, 1.0, 1.0, ...</td>\n",
       "      <td>[0.0, 0.0, 0.0, 0.0, 0.0, 0.0, 0.0, 0.0, 0.0, ...</td>\n",
       "      <td>0.797093</td>\n",
       "      <td>[30.16795632705389, 91.78761180358948, 153.407...</td>\n",
       "    </tr>\n",
       "    <tr>\n",
       "      <th>0</th>\n",
       "      <td>0</td>\n",
       "      <td>2</td>\n",
       "      <td>[64.0, 194.72340425531914, 325.4468085106383, ...</td>\n",
       "      <td>[0.0, 0.0, 1.6474766960606848, -10.15233579267...</td>\n",
       "      <td>[0.0, 0.0, 3.0261212553182886, 8.4383217167553...</td>\n",
       "      <td>128</td>\n",
       "      <td>[1240.5106382978722, 923.9179058323394, 559.20...</td>\n",
       "      <td>[1371.2339663926184, 606.2187227536356, 523.70...</td>\n",
       "      <td>[[53495.830261758216, -27361.532552037555, -13...</td>\n",
       "      <td>[1.0, 1.0, 1.0, 1.0, 1.0, 1.0, 1.0, 1.0, 1.0, ...</td>\n",
       "      <td>[0.0, 0.0, 0.0, 0.0, 0.0, 0.0, 0.0, 0.0, 0.0, ...</td>\n",
       "      <td>3.53047</td>\n",
       "      <td>[31.167370192107615, 94.82838164832742, 158.48...</td>\n",
       "    </tr>\n",
       "    <tr>\n",
       "      <th>0</th>\n",
       "      <td>0</td>\n",
       "      <td>3</td>\n",
       "      <td>[64.0, 194.72340425531914, 325.4468085106383, ...</td>\n",
       "      <td>[0.0, 0.0, 1.0, -1.5292728930880983, 14.863130...</td>\n",
       "      <td>[0.0, 0.0, 1.0, 3.1203882328328425, 6.79395620...</td>\n",
       "      <td>128</td>\n",
       "      <td>[1371.2340425531913, 1093.8454286135811, 295.9...</td>\n",
       "      <td>[1371.2340166112067, 815.8013728703299, 206.36...</td>\n",
       "      <td>[[2.9071140533568032e-11, -0.00010971396854128...</td>\n",
       "      <td>[1.0, 1.0, 1.0, 1.0, 1.0, 1.0, 1.0, 1.0, 1.0, ...</td>\n",
       "      <td>[0.0, 0.0, 0.0, 0.0, 0.0, 0.0, 0.0, 0.0, 0.0, ...</td>\n",
       "      <td>1.03369</td>\n",
       "      <td>[28.180613947271617, 85.74101690340088, 143.30...</td>\n",
       "    </tr>\n",
       "    <tr>\n",
       "      <th>0</th>\n",
       "      <td>0</td>\n",
       "      <td>4</td>\n",
       "      <td>[64.0, 194.72340425531914, 325.4468085106383, ...</td>\n",
       "      <td>[0.0, 0.0, 0.0, 37.27527011056224, 217.9056307...</td>\n",
       "      <td>[0.0, 0.0, 0.0, 10.117725539892692, 23.0674016...</td>\n",
       "      <td>128</td>\n",
       "      <td>[1501.9574468085104, 597.1367041047428, 2988.3...</td>\n",
       "      <td>[1501.9574445263586, 571.7994350757996, 2683.7...</td>\n",
       "      <td>[[6.933685841404541e-13, -1.935332418970642e-0...</td>\n",
       "      <td>[1.0, 1.0, 1.0, 1.0, 1.0, 1.0, 1.0, 1.0, 1.0, ...</td>\n",
       "      <td>[0.0, 0.0, 0.0, 0.0, 0.0, 0.0, 0.0, 0.0, 0.0, ...</td>\n",
       "      <td>2.03077</td>\n",
       "      <td>[29.71997373762726, 90.42460094639783, 151.129...</td>\n",
       "    </tr>\n",
       "    <tr>\n",
       "      <th>0</th>\n",
       "      <td>0</td>\n",
       "      <td>5</td>\n",
       "      <td>[64.0, 194.72340425531914, 325.4468085106383, ...</td>\n",
       "      <td>[0.0, 0.0, 10.921915050999578, 18.710336369994...</td>\n",
       "      <td>[0.0, 0.0, 4.436648457519396, 11.4614039167785...</td>\n",
       "      <td>128</td>\n",
       "      <td>[1371.2340425531913, 754.0259311187395, 1237.3...</td>\n",
       "      <td>[1371.2340421194326, 668.723023423069, 1211.11...</td>\n",
       "      <td>[[1.148316628023111e-12, -3.389824439111302e-0...</td>\n",
       "      <td>[1.0, 1.0, 1.0, 1.0, 1.0, 1.0, 1.0, 1.0, 1.0, ...</td>\n",
       "      <td>[0.0, 0.0, 0.0, 0.0, 0.0, 0.0, 0.0, 0.0, 0.0, ...</td>\n",
       "      <td>1.12281</td>\n",
       "      <td>[30.2124005652098, 91.92283576223407, 153.6332...</td>\n",
       "    </tr>\n",
       "    <tr>\n",
       "      <th>0</th>\n",
       "      <td>0</td>\n",
       "      <td>6</td>\n",
       "      <td>[64.0, 194.72340425531914, 325.4468085106383, ...</td>\n",
       "      <td>[0.0, 0.0, 6.843324105897022, 21.9434587220279...</td>\n",
       "      <td>[0.0, 0.0, 4.9364393270703335, 15.362296336680...</td>\n",
       "      <td>128</td>\n",
       "      <td>[1501.9574468085104, 860.7207855631475, 710.33...</td>\n",
       "      <td>[1501.9574250771486, 591.3818039965794, 550.89...</td>\n",
       "      <td>[[3.8563151567700394e-12, -1.2554465177524805e...</td>\n",
       "      <td>[1.0, 1.0, 1.0, 1.0, 1.0, 1.0, 1.0, 1.0, 1.0, ...</td>\n",
       "      <td>[0.0, 0.0, 0.0, 0.0, 0.0, 0.0, 0.0, 0.0, 0.0, ...</td>\n",
       "      <td>0.708444</td>\n",
       "      <td>[29.441955295163154, 89.57871504698576, 149.71...</td>\n",
       "    </tr>\n",
       "    <tr>\n",
       "      <th>0</th>\n",
       "      <td>0</td>\n",
       "      <td>7</td>\n",
       "      <td>[64.0, 194.72340425531914, 325.4468085106383, ...</td>\n",
       "      <td>[0.0, 0.0, 0.3725394080857507, 8.2939965418804...</td>\n",
       "      <td>[0.0, 0.0, 2.5752075778814754, 9.3359169486261...</td>\n",
       "      <td>128</td>\n",
       "      <td>[1240.5106382978722, 1011.870386821553, 341.68...</td>\n",
       "      <td>[1240.5106346653274, 837.6571163695925, 313.54...</td>\n",
       "      <td>[[1.1136471313039675e-11, -4.421831326036988e-...</td>\n",
       "      <td>[1.0, 1.0, 1.0, 1.0, 1.0, 1.0, 1.0, 1.0, 1.0, ...</td>\n",
       "      <td>[0.0, 0.0, 0.0, 0.0, 0.0, 0.0, 0.0, 0.0, 0.0, ...</td>\n",
       "      <td>0.984169</td>\n",
       "      <td>[29.656893659959593, 90.23267645477067, 150.80...</td>\n",
       "    </tr>\n",
       "    <tr>\n",
       "      <th>0</th>\n",
       "      <td>0</td>\n",
       "      <td>8</td>\n",
       "      <td>[64.0, 194.72340425531914, 325.4468085106383, ...</td>\n",
       "      <td>[0.0, 0.0, 4.3919145611027695, 108.95802813254...</td>\n",
       "      <td>[0.0, 0.0, 4.941834474392694, 18.3520341021061...</td>\n",
       "      <td>128</td>\n",
       "      <td>[1501.9574468085104, 648.8356511474968, 3662.1...</td>\n",
       "      <td>[1501.9574467554526, 577.6843400275051, 3653.4...</td>\n",
       "      <td>[[2.1672887239956363e-13, -5.484988646165825e-...</td>\n",
       "      <td>[1.0, 1.0, 1.0, 1.0, 1.0, 1.0, 1.0, 1.0, 1.0, ...</td>\n",
       "      <td>[0.0, 0.0, 0.0, 0.0, 0.0, 0.0, 0.0, 0.0, 0.0, ...</td>\n",
       "      <td>0.818774</td>\n",
       "      <td>[29.635873058378895, 90.16872015634429, 150.70...</td>\n",
       "    </tr>\n",
       "    <tr>\n",
       "      <th>0</th>\n",
       "      <td>0</td>\n",
       "      <td>9</td>\n",
       "      <td>[64.0, 194.72340425531914, 325.4468085106383, ...</td>\n",
       "      <td>[0.0, -0.7254305495698259, 3.5896668103241787,...</td>\n",
       "      <td>[0.0, 0.7254305495698259, 5.799136795591247, 2...</td>\n",
       "      <td>128</td>\n",
       "      <td>[1632.6808510638298, 813.3802379252942, 1397.8...</td>\n",
       "      <td>[1632.6808330340511, 535.8447180432928, 1184.2...</td>\n",
       "      <td>[[1.8489321112869674e-12, -5.0918817662124516e...</td>\n",
       "      <td>[1.0, 1.0, 1.0, 1.0, 1.0, 1.0, 1.0, 1.0, 1.0, ...</td>\n",
       "      <td>[0.0, 0.0, 0.0, 0.0, 0.0, 0.0, 0.0, 0.0, 0.0, ...</td>\n",
       "      <td>1.01585</td>\n",
       "      <td>[28.421154627106255, 86.47287471651477, 144.52...</td>\n",
       "    </tr>\n",
       "    <tr>\n",
       "      <th>0</th>\n",
       "      <td>0</td>\n",
       "      <td>10</td>\n",
       "      <td>[64.0, 194.72340425531914, 325.4468085106383, ...</td>\n",
       "      <td>[0.0, 1.0, 5.356133200541052, 77.4258504501555...</td>\n",
       "      <td>[0.0, 1.0, 7.8536927473228495, 25.922205256172...</td>\n",
       "      <td>128</td>\n",
       "      <td>[1632.6808510638298, 1030.9288793340168, 632.6...</td>\n",
       "      <td>[1632.680830092433, 513.3133264502898, 609.928...</td>\n",
       "      <td>[[4.2018701706916825e-12, -1.3275274117292232e...</td>\n",
       "      <td>[1.0, 1.0, 1.0, 1.0, 1.0, 1.0, 1.0, 1.0, 1.0, ...</td>\n",
       "      <td>[0.0, 0.0, 0.0, 0.0, 0.0, 0.0, 0.0, 0.0, 0.0, ...</td>\n",
       "      <td>0.799307</td>\n",
       "      <td>[28.71955630079229, 87.38077768113398, 146.041...</td>\n",
       "    </tr>\n",
       "    <tr>\n",
       "      <th>0</th>\n",
       "      <td>0</td>\n",
       "      <td>11</td>\n",
       "      <td>[64.0, 194.72340425531914, 325.4468085106383, ...</td>\n",
       "      <td>[0.0, 0.0, 0.8235635935988759, 4.3139875509247...</td>\n",
       "      <td>[0.0, 0.0, 2.1398501062074606, 5.7537247348081...</td>\n",
       "      <td>128</td>\n",
       "      <td>[979.063829787234, 882.4717190943014, 375.8067...</td>\n",
       "      <td>[979.0638295278173, 956.3618157359507, 369.142...</td>\n",
       "      <td>[[4.744280006670266e-12, -2.4920020945711e-05,...</td>\n",
       "      <td>[1.0, 1.0, 1.0, 1.0, 1.0, 1.0, 1.0, 369.142158...</td>\n",
       "      <td>[0.0, 0.0, 0.0, 0.0, 0.0, 0.0, 0.0, 0.12501830...</td>\n",
       "      <td>0.901811</td>\n",
       "      <td>[31.844157976733083, 96.88754448240066, 161.93...</td>\n",
       "    </tr>\n",
       "    <tr>\n",
       "      <th>0</th>\n",
       "      <td>0</td>\n",
       "      <td>12</td>\n",
       "      <td>[64.0, 194.72340425531914, 325.4468085106383, ...</td>\n",
       "      <td>[0.0, 0.0, 2.294561966187498, 64.8074020684687...</td>\n",
       "      <td>[0.0, 0.0, 4.161176229550859, 13.5081655418048...</td>\n",
       "      <td>128</td>\n",
       "      <td>[1371.2340425531913, 778.0749261565778, 3116.2...</td>\n",
       "      <td>[1371.2340425531913, 778.0749261565778, 3116.2...</td>\n",
       "      <td>[[6.717744140459972e-12, -1.7969707278318487e-...</td>\n",
       "      <td>[1.0, 1.0, 1.0, 1.0, 1.0, 1.0, 1.0, 1.0, 1.0, ...</td>\n",
       "      <td>[0.0, 0.0, 0.0, 0.0, 0.0, 0.0, 0.0, 0.0, 0.0, ...</td>\n",
       "      <td>23.5365</td>\n",
       "      <td>[28.675263025119047, 87.24601303387284, 145.81...</td>\n",
       "    </tr>\n",
       "    <tr>\n",
       "      <th>0</th>\n",
       "      <td>0</td>\n",
       "      <td>13</td>\n",
       "      <td>[64.0, 194.72340425531914, 325.4468085106383, ...</td>\n",
       "      <td>[0.0, 0.0, 3.0200529628970916, 45.124445251519...</td>\n",
       "      <td>[0.0, 0.0, 4.097444377735152, 15.9816954158369...</td>\n",
       "      <td>128</td>\n",
       "      <td>[1501.9574468085104, 894.4546884962963, 1247.0...</td>\n",
       "      <td>[1501.9574420452886, 630.9361448864515, 1209.0...</td>\n",
       "      <td>[[5.938988180082327e-13, -1.928182640357935e-0...</td>\n",
       "      <td>[1.0, 1.0, 1.0, 1.0, 1.0, 1.0, 1.0, 1.0, 1.0, ...</td>\n",
       "      <td>[0.0, 0.0, 0.0, 0.0, 0.0, 0.0, 0.0, 0.0, 0.0, ...</td>\n",
       "      <td>0.397831</td>\n",
       "      <td>[28.895956356013198, 87.91748423212526, 146.93...</td>\n",
       "    </tr>\n",
       "    <tr>\n",
       "      <th>0</th>\n",
       "      <td>0</td>\n",
       "      <td>14</td>\n",
       "      <td>[64.0, 194.72340425531914, 325.4468085106383, ...</td>\n",
       "      <td>[0.0, 0.0, 0.39311258529810367, 58.81562916990...</td>\n",
       "      <td>[0.0, 0.0, 4.518848273188405, 17.4397498268237...</td>\n",
       "      <td>128</td>\n",
       "      <td>[1371.2340425531913, 959.066676121765, 628.303...</td>\n",
       "      <td>[1371.2340425140385, 673.4180283736027, 657.36...</td>\n",
       "      <td>[[2.790612536374967e-12, -9.136193882939778e-0...</td>\n",
       "      <td>[1.0, 1.0, 1.0, 1.0, 1.0, 1.0, 1.0, 1.0, 1.0, ...</td>\n",
       "      <td>[0.0, 0.0, 0.0, 0.0, 0.0, 0.0, 0.0, 0.0, 0.0, ...</td>\n",
       "      <td>0.663078</td>\n",
       "      <td>[30.143025738967808, 91.71175916324248, 153.28...</td>\n",
       "    </tr>\n",
       "    <tr>\n",
       "      <th>0</th>\n",
       "      <td>0</td>\n",
       "      <td>15</td>\n",
       "      <td>[64.0, 194.72340425531914, 325.4468085106383, ...</td>\n",
       "      <td>[0.0, 0.0, -3.8037709850867802, 10.05944468651...</td>\n",
       "      <td>[0.0, 0.0, 2.492081400339262, 7.16716035378776...</td>\n",
       "      <td>128</td>\n",
       "      <td>[1109.787234042553, 1092.3301991817966, 345.35...</td>\n",
       "      <td>[1109.787232861771, 967.2951540370747, 329.171...</td>\n",
       "      <td>[[9.387857608619014e-12, -4.124381552645761e-0...</td>\n",
       "      <td>[1.0, 1.0, 1.0, 1.0, 1.0, 1.0, 1.0, 1.0, 329.1...</td>\n",
       "      <td>[0.0, 0.0, 0.0, 0.0, 0.0, 0.0, 0.0, 0.0, 0.292...</td>\n",
       "      <td>1.06366</td>\n",
       "      <td>[29.6723906517828, 90.27982687670085, 150.8872...</td>\n",
       "    </tr>\n",
       "    <tr>\n",
       "      <th>0</th>\n",
       "      <td>1</td>\n",
       "      <td>0</td>\n",
       "      <td>[64.0, 194.72340425531914, 325.4468085106383, ...</td>\n",
       "      <td>[0.0, 1.0, 6.5908192222106585, 42.788930208224...</td>\n",
       "      <td>[0.0, 1.0, 6.0521331478859235, 18.010842820994...</td>\n",
       "      <td>128</td>\n",
       "      <td>[1763.404255319149, 972.2005586194549, 1154.16...</td>\n",
       "      <td>[1632.6808624162536, 445.76961784310686, 1175....</td>\n",
       "      <td>[[6519.833401213133, -2991.2478405052257, -688...</td>\n",
       "      <td>[1.0, 1.0, 1.0, 1.0, 1.0, 1.0, 1.0, 1.0, 1.0, ...</td>\n",
       "      <td>[0.0, 0.0, 0.0, 0.0, 0.0, 0.0, 0.0, 0.0, 0.0, ...</td>\n",
       "      <td>0.852016</td>\n",
       "      <td>[29.652859466879967, 90.22040220774117, 150.78...</td>\n",
       "    </tr>\n",
       "    <tr>\n",
       "      <th>0</th>\n",
       "      <td>1</td>\n",
       "      <td>1</td>\n",
       "      <td>[64.0, 194.72340425531914, 325.4468085106383, ...</td>\n",
       "      <td>[0.0, 0.0, 6.237293342470409, 104.725474756210...</td>\n",
       "      <td>[0.0, 0.0, 6.617188227290306, 21.7419954085823...</td>\n",
       "      <td>128</td>\n",
       "      <td>[1632.6808510638298, 840.9484283831976, 1603.1...</td>\n",
       "      <td>[1632.680828730828, 449.85684371965175, 1423.9...</td>\n",
       "      <td>[[2.081075876632539e-12, -5.930229601630034e-0...</td>\n",
       "      <td>[1.0, 1.0, 1.0, 1.0, 1.0, 1.0, 1.0, 1.0, 1.0, ...</td>\n",
       "      <td>[0.0, 0.0, 0.0, 0.0, 0.0, 0.0, 0.0, 0.0, 0.0, ...</td>\n",
       "      <td>1.07941</td>\n",
       "      <td>[29.594662711421147, 90.04333548368562, 150.49...</td>\n",
       "    </tr>\n",
       "    <tr>\n",
       "      <th>0</th>\n",
       "      <td>1</td>\n",
       "      <td>2</td>\n",
       "      <td>[64.0, 194.72340425531914, 325.4468085106383, ...</td>\n",
       "      <td>[0.0, 0.0, 1.4127644241243544, 43.360272443578...</td>\n",
       "      <td>[0.0, 0.0, 5.933769639091933, 17.0646973491650...</td>\n",
       "      <td>128</td>\n",
       "      <td>[1501.9574468085104, 821.2619093643552, 1656.7...</td>\n",
       "      <td>[1501.9574399543033, 569.416611328265, 1575.38...</td>\n",
       "      <td>[[1.0713028618697511e-12, -3.296535808385453e-...</td>\n",
       "      <td>[1.0, 1.0, 1.0, 1.0, 1.0, 1.0, 1.0, 1.0, 1.0, ...</td>\n",
       "      <td>[0.0, 0.0, 0.0, 0.0, 0.0, 0.0, 0.0, 0.0, 0.0, ...</td>\n",
       "      <td>1.02768</td>\n",
       "      <td>[29.7541624419975, 90.52862189799238, 151.3030...</td>\n",
       "    </tr>\n",
       "    <tr>\n",
       "      <th>0</th>\n",
       "      <td>1</td>\n",
       "      <td>3</td>\n",
       "      <td>[64.0, 194.72340425531914, 325.4468085106383, ...</td>\n",
       "      <td>[0.0, 0.0, 0.2162788579092041, 30.299263766053...</td>\n",
       "      <td>[0.0, 0.0, 4.898930971048795, 15.3895411660880...</td>\n",
       "      <td>128</td>\n",
       "      <td>[1501.9574468085104, 939.665760097582, 1231.13...</td>\n",
       "      <td>[1501.9574330959022, 580.3111319390839, 1105.5...</td>\n",
       "      <td>[[1.7116764980651141e-12, -5.115336938190642e-...</td>\n",
       "      <td>[1.0, 1.0, 1.0, 1.0, 1.0, 1.0, 1.0, 1.0, 1.0, ...</td>\n",
       "      <td>[0.0, 0.0, 0.0, 0.0, 0.0, 0.0, 0.0, 0.0, 0.0, ...</td>\n",
       "      <td>0.826828</td>\n",
       "      <td>[29.598487454938105, 90.05497246927976, 150.51...</td>\n",
       "    </tr>\n",
       "    <tr>\n",
       "      <th>0</th>\n",
       "      <td>1</td>\n",
       "      <td>4</td>\n",
       "      <td>[64.0, 194.72340425531914, 325.4468085106383, ...</td>\n",
       "      <td>[0.0, 0.27454588831347215, 13.238216953391245,...</td>\n",
       "      <td>[0.0, 1.2354285362427442, 10.706492288382504, ...</td>\n",
       "      <td>128</td>\n",
       "      <td>[1371.2340425531913, 888.6913721397686, 1236.7...</td>\n",
       "      <td>[1501.9572903005842, 608.3723445880186, 1233.2...</td>\n",
       "      <td>[[34631.726819913376, -16847.655770248602, -21...</td>\n",
       "      <td>[1.0, 1.0, 1.0, 1.0, 1.0, 1.0, 1.0, 1.0, 1.0, ...</td>\n",
       "      <td>[0.0, 0.0, 0.0, 0.0, 0.0, 0.0, 0.0, 0.0, 0.0, ...</td>\n",
       "      <td>11.3084</td>\n",
       "      <td>[29.204916133044467, 88.85751078777358, 148.51...</td>\n",
       "    </tr>\n",
       "    <tr>\n",
       "      <th>0</th>\n",
       "      <td>1</td>\n",
       "      <td>5</td>\n",
       "      <td>[64.0, 194.72340425531914, 325.4468085106383, ...</td>\n",
       "      <td>[0.0, 1.0, -6.016430959247401, 90.225067496867...</td>\n",
       "      <td>[0.0, 1.0, 6.6369293834061, 23.389540156187625...</td>\n",
       "      <td>128</td>\n",
       "      <td>[1501.9574468085104, 735.21822331892, 1923.843...</td>\n",
       "      <td>[1501.95743836233, 565.176902339077, 1650.1103...</td>\n",
       "      <td>[[1.5907931436978052e-12, -4.017991107522653e-...</td>\n",
       "      <td>[1.0, 1.0, 1.0, 1.0, 1.0, 1.0, 1.0, 1.0, 1.0, ...</td>\n",
       "      <td>[0.0, 0.0, 0.0, 0.0, 0.0, 0.0, 0.0, 0.0, 0.0, ...</td>\n",
       "      <td>1.70374</td>\n",
       "      <td>[29.815188488952984, 90.71429689192078, 151.61...</td>\n",
       "    </tr>\n",
       "    <tr>\n",
       "      <th>0</th>\n",
       "      <td>1</td>\n",
       "      <td>6</td>\n",
       "      <td>[64.0, 194.72340425531914, 325.4468085106383, ...</td>\n",
       "      <td>[0.0, -1.9018155376220065, 23.66913586042589, ...</td>\n",
       "      <td>[0.0, 1.762138857637537, 10.430113470673946, 3...</td>\n",
       "      <td>128</td>\n",
       "      <td>[1501.9574468085104, 869.8183418800866, 1802.7...</td>\n",
       "      <td>[1501.9574435808547, 551.6628444385291, 1871.7...</td>\n",
       "      <td>[[6.885956136149975e-13, -2.010150308136948e-0...</td>\n",
       "      <td>[1.0, 1.0, 1.0, 1.0, 1.0, 1.0, 1.0, 1.0, 1.0, ...</td>\n",
       "      <td>[0.0, 0.0, 0.0, 0.0, 0.0, 0.0, 0.0, 0.0, 0.0, ...</td>\n",
       "      <td>0.913161</td>\n",
       "      <td>[30.011390304018207, 91.31125135052348, 152.61...</td>\n",
       "    </tr>\n",
       "    <tr>\n",
       "      <th>0</th>\n",
       "      <td>1</td>\n",
       "      <td>7</td>\n",
       "      <td>[64.0, 194.72340425531914, 325.4468085106383, ...</td>\n",
       "      <td>[0.0, 0.2745346162206789, 7.530453881268514, 1...</td>\n",
       "      <td>[0.0, 1.2354351553449001, 7.752715715709384, 2...</td>\n",
       "      <td>128</td>\n",
       "      <td>[1501.9574468085104, 880.7846556831665, 1233.7...</td>\n",
       "      <td>[1501.9574443074468, 604.8915659918039, 1244.8...</td>\n",
       "      <td>[[8.715613022902247e-13, -2.5751175196952563e-...</td>\n",
       "      <td>[1.0, 1.0, 1.0, 1.0, 1.0, 1.0, 1.0, 1.0, 1.0, ...</td>\n",
       "      <td>[0.0, 0.0, 0.0, 0.0, 0.0, 0.0, 0.0, 0.0, 0.0, ...</td>\n",
       "      <td>0.665663</td>\n",
       "      <td>[29.253164179641885, 89.00430803593169, 148.75...</td>\n",
       "    </tr>\n",
       "    <tr>\n",
       "      <th>0</th>\n",
       "      <td>1</td>\n",
       "      <td>8</td>\n",
       "      <td>[64.0, 194.72340425531914, 325.4468085106383, ...</td>\n",
       "      <td>[0.0, 0.0, 5.745527290660862, 14.5534838228729...</td>\n",
       "      <td>[0.0, 0.0, 4.2734924159350784, 12.030480840854...</td>\n",
       "      <td>128</td>\n",
       "      <td>[1371.2340425531913, 740.2780987041585, 1086.6...</td>\n",
       "      <td>[1371.234040297156, 697.4720007153038, 966.750...</td>\n",
       "      <td>[[1.1709499510148772e-12, -3.457974629184396e-...</td>\n",
       "      <td>[1.0, 1.0, 1.0, 1.0, 1.0, 1.0, 1.0, 1.0, 1.0, ...</td>\n",
       "      <td>[0.0, 0.0, 0.0, 0.0, 0.0, 0.0, 0.0, 0.0, 0.0, ...</td>\n",
       "      <td>0.894272</td>\n",
       "      <td>[29.79253638657924, 90.64537666554959, 151.498...</td>\n",
       "    </tr>\n",
       "    <tr>\n",
       "      <th>0</th>\n",
       "      <td>1</td>\n",
       "      <td>9</td>\n",
       "      <td>[64.0, 194.72340425531914, 325.4468085106383, ...</td>\n",
       "      <td>[0.0, 0.0, 15.059894148698259, 98.049856993122...</td>\n",
       "      <td>[0.0, 0.0, 7.507831604340718, 22.5526667178938...</td>\n",
       "      <td>128</td>\n",
       "      <td>[1501.9574468085104, 805.4318910651738, 1436.1...</td>\n",
       "      <td>[1501.9574412504378, 583.5809217251691, 1390.3...</td>\n",
       "      <td>[[1.116277803458241e-12, -3.254644673446084e-0...</td>\n",
       "      <td>[1.0, 1.0, 1.0, 1.0, 1.0, 1.0, 1.0, 1.0, 1.0, ...</td>\n",
       "      <td>[0.0, 0.0, 0.0, 0.0, 0.0, 0.0, 0.0, 0.0, 0.0, ...</td>\n",
       "      <td>1.02472</td>\n",
       "      <td>[29.552081656299343, 89.91378035852779, 150.27...</td>\n",
       "    </tr>\n",
       "    <tr>\n",
       "      <th>0</th>\n",
       "      <td>1</td>\n",
       "      <td>10</td>\n",
       "      <td>[64.0, 194.72340425531914, 325.4468085106383, ...</td>\n",
       "      <td>[0.0, 1.2745237039612098, 25.373327421827753, ...</td>\n",
       "      <td>[0.0, 1.5894388494415763, 9.771063808122078, 3...</td>\n",
       "      <td>128</td>\n",
       "      <td>[1371.2340425531913, 876.3287258224187, 1513.2...</td>\n",
       "      <td>[1371.2340397038024, 595.6379676010071, 1539.2...</td>\n",
       "      <td>[[5.570181020252669e-13, -1.7845273477477224e-...</td>\n",
       "      <td>[1.0, 1.0, 1.0, 1.0, 1.0, 1.0, 1.0, 1.0, 1.0, ...</td>\n",
       "      <td>[0.0, 0.0, 0.0, 0.0, 0.0, 0.0, 0.0, 0.0, 0.0, ...</td>\n",
       "      <td>0.683026</td>\n",
       "      <td>[31.335033378432126, 95.33850581097434, 159.34...</td>\n",
       "    </tr>\n",
       "    <tr>\n",
       "      <th>0</th>\n",
       "      <td>1</td>\n",
       "      <td>11</td>\n",
       "      <td>[64.0, 194.72340425531914, 325.4468085106383, ...</td>\n",
       "      <td>[0.0, 0.0, 2.8237172869445386, -5.505357542312...</td>\n",
       "      <td>[0.0, 0.0, 2.5649045756872413, 9.1303563137677...</td>\n",
       "      <td>128</td>\n",
       "      <td>[1371.2340425531913, 742.6704098293573, 1165.8...</td>\n",
       "      <td>[1371.2340415185224, 697.4228065492398, 1106.8...</td>\n",
       "      <td>[[8.488932589697531e-13, -2.667117281248107e-0...</td>\n",
       "      <td>[1.0, 1.0, 1.0, 1.0, 1.0, 1.0, 1.0, 1.0, 1.0, ...</td>\n",
       "      <td>[0.0, 0.0, 0.0, 0.0, 0.0, 0.0, 0.0, 0.0, 0.0, ...</td>\n",
       "      <td>0.716602</td>\n",
       "      <td>[29.793244857196896, 90.64753222508843, 151.50...</td>\n",
       "    </tr>\n",
       "    <tr>\n",
       "      <th>0</th>\n",
       "      <td>1</td>\n",
       "      <td>12</td>\n",
       "      <td>[64.0, 194.72340425531914, 325.4468085106383, ...</td>\n",
       "      <td>[0.0, 0.0, -0.6276114763691139, 14.48791703555...</td>\n",
       "      <td>[0.0, 0.0, 2.3731651869806663, 10.167259447200...</td>\n",
       "      <td>128</td>\n",
       "      <td>[1371.2340425531913, 978.8408503968785, 841.31...</td>\n",
       "      <td>[1371.2340339307166, 673.7879697638344, 775.73...</td>\n",
       "      <td>[[2.1830594856466868e-12, -6.900672007573722e-...</td>\n",
       "      <td>[1.0, 1.0, 1.0, 1.0, 1.0, 1.0, 1.0, 1.0, 1.0, ...</td>\n",
       "      <td>[0.0, 0.0, 0.0, 0.0, 0.0, 0.0, 0.0, 0.0, 0.0, ...</td>\n",
       "      <td>0.795636</td>\n",
       "      <td>[30.137573037676464, 91.69516902952627, 153.25...</td>\n",
       "    </tr>\n",
       "    <tr>\n",
       "      <th>0</th>\n",
       "      <td>1</td>\n",
       "      <td>13</td>\n",
       "      <td>[64.0, 194.72340425531914, 325.4468085106383, ...</td>\n",
       "      <td>[0.0, 0.5488312195184442, 30.246236097848424, ...</td>\n",
       "      <td>[0.0, 1.747267985948968, 12.059663721564524, 3...</td>\n",
       "      <td>128</td>\n",
       "      <td>[979.063829787234, 1081.3096057562614, 959.328...</td>\n",
       "      <td>[979.0638288131072, 936.9272529054779, 933.659...</td>\n",
       "      <td>[[1.5271880459302356e-12, -5.221405313517904e-...</td>\n",
       "      <td>[1.0, 1.0, 1.0, 1.0, 1.0, 1.0, 1.0, 933.659932...</td>\n",
       "      <td>[0.0, 0.0, 0.0, 0.0, 0.0, 0.0, 0.0, 0.42603989...</td>\n",
       "      <td>1.45941</td>\n",
       "      <td>[32.16716434020037, 97.87030852443941, 163.573...</td>\n",
       "    </tr>\n",
       "    <tr>\n",
       "      <th>0</th>\n",
       "      <td>1</td>\n",
       "      <td>14</td>\n",
       "      <td>[64.0, 194.72340425531914, 325.4468085106383, ...</td>\n",
       "      <td>[0.0, 0.0, 2.9412581295416977, 51.020351846935...</td>\n",
       "      <td>[0.0, 0.0, 5.047170490258548, 16.0099353060474...</td>\n",
       "      <td>128</td>\n",
       "      <td>[1109.787234042553, 920.7714931333203, 890.361...</td>\n",
       "      <td>[1109.7872323754523, 991.3429075953551, 800.70...</td>\n",
       "      <td>[[1.088360387149319e-12, -3.8473261552244905e-...</td>\n",
       "      <td>[1.0, 1.0, 1.0, 1.0, 1.0, 1.0, 1.0, 1.0, 800.7...</td>\n",
       "      <td>[0.0, 0.0, 0.0, 0.0, 0.0, 0.0, 0.0, 0.0, 1.589...</td>\n",
       "      <td>0.844853</td>\n",
       "      <td>[29.33278564118656, 89.24656056786549, 149.160...</td>\n",
       "    </tr>\n",
       "    <tr>\n",
       "      <th>0</th>\n",
       "      <td>1</td>\n",
       "      <td>15</td>\n",
       "      <td>[64.0, 194.72340425531914, 325.4468085106383, ...</td>\n",
       "      <td>[0.0, 0.0, 4.64700237070004, 20.97953595561728...</td>\n",
       "      <td>[0.0, 0.0, 3.4868464348340864, 11.614552104081...</td>\n",
       "      <td>128</td>\n",
       "      <td>[1501.9574468085104, 981.0656733227909, 788.80...</td>\n",
       "      <td>[1501.9574270466755, 596.4649303208694, 673.73...</td>\n",
       "      <td>[[4.483946966359848e-12, -1.3302622929788e-05,...</td>\n",
       "      <td>[1.0, 1.0, 1.0, 1.0, 1.0, 1.0, 1.0, 1.0, 1.0, ...</td>\n",
       "      <td>[0.0, 0.0, 0.0, 0.0, 0.0, 0.0, 0.0, 0.0, 0.0, ...</td>\n",
       "      <td>0.962606</td>\n",
       "      <td>[29.37063636574902, 89.3617234106832, 149.3528...</td>\n",
       "    </tr>\n",
       "  </tbody>\n",
       "</table>\n",
       "</div>"
      ],
      "text/plain": [
       "  fpga channel                                            centres  \\\n",
       "0    0       0  [64.0, 194.72340425531914, 325.4468085106383, ...   \n",
       "0    0       1  [64.0, 194.72340425531914, 325.4468085106383, ...   \n",
       "0    0       2  [64.0, 194.72340425531914, 325.4468085106383, ...   \n",
       "0    0       3  [64.0, 194.72340425531914, 325.4468085106383, ...   \n",
       "0    0       4  [64.0, 194.72340425531914, 325.4468085106383, ...   \n",
       "0    0       5  [64.0, 194.72340425531914, 325.4468085106383, ...   \n",
       "0    0       6  [64.0, 194.72340425531914, 325.4468085106383, ...   \n",
       "0    0       7  [64.0, 194.72340425531914, 325.4468085106383, ...   \n",
       "0    0       8  [64.0, 194.72340425531914, 325.4468085106383, ...   \n",
       "0    0       9  [64.0, 194.72340425531914, 325.4468085106383, ...   \n",
       "0    0      10  [64.0, 194.72340425531914, 325.4468085106383, ...   \n",
       "0    0      11  [64.0, 194.72340425531914, 325.4468085106383, ...   \n",
       "0    0      12  [64.0, 194.72340425531914, 325.4468085106383, ...   \n",
       "0    0      13  [64.0, 194.72340425531914, 325.4468085106383, ...   \n",
       "0    0      14  [64.0, 194.72340425531914, 325.4468085106383, ...   \n",
       "0    0      15  [64.0, 194.72340425531914, 325.4468085106383, ...   \n",
       "0    1       0  [64.0, 194.72340425531914, 325.4468085106383, ...   \n",
       "0    1       1  [64.0, 194.72340425531914, 325.4468085106383, ...   \n",
       "0    1       2  [64.0, 194.72340425531914, 325.4468085106383, ...   \n",
       "0    1       3  [64.0, 194.72340425531914, 325.4468085106383, ...   \n",
       "0    1       4  [64.0, 194.72340425531914, 325.4468085106383, ...   \n",
       "0    1       5  [64.0, 194.72340425531914, 325.4468085106383, ...   \n",
       "0    1       6  [64.0, 194.72340425531914, 325.4468085106383, ...   \n",
       "0    1       7  [64.0, 194.72340425531914, 325.4468085106383, ...   \n",
       "0    1       8  [64.0, 194.72340425531914, 325.4468085106383, ...   \n",
       "0    1       9  [64.0, 194.72340425531914, 325.4468085106383, ...   \n",
       "0    1      10  [64.0, 194.72340425531914, 325.4468085106383, ...   \n",
       "0    1      11  [64.0, 194.72340425531914, 325.4468085106383, ...   \n",
       "0    1      12  [64.0, 194.72340425531914, 325.4468085106383, ...   \n",
       "0    1      13  [64.0, 194.72340425531914, 325.4468085106383, ...   \n",
       "0    1      14  [64.0, 194.72340425531914, 325.4468085106383, ...   \n",
       "0    1      15  [64.0, 194.72340425531914, 325.4468085106383, ...   \n",
       "\n",
       "                                                data  \\\n",
       "0  [0.0, 0.0, 0.9417235099493375, 86.317524374648...   \n",
       "0  [0.0, 0.0, 2.0, 21.959490759562584, 83.8120212...   \n",
       "0  [0.0, 0.0, 1.6474766960606848, -10.15233579267...   \n",
       "0  [0.0, 0.0, 1.0, -1.5292728930880983, 14.863130...   \n",
       "0  [0.0, 0.0, 0.0, 37.27527011056224, 217.9056307...   \n",
       "0  [0.0, 0.0, 10.921915050999578, 18.710336369994...   \n",
       "0  [0.0, 0.0, 6.843324105897022, 21.9434587220279...   \n",
       "0  [0.0, 0.0, 0.3725394080857507, 8.2939965418804...   \n",
       "0  [0.0, 0.0, 4.3919145611027695, 108.95802813254...   \n",
       "0  [0.0, -0.7254305495698259, 3.5896668103241787,...   \n",
       "0  [0.0, 1.0, 5.356133200541052, 77.4258504501555...   \n",
       "0  [0.0, 0.0, 0.8235635935988759, 4.3139875509247...   \n",
       "0  [0.0, 0.0, 2.294561966187498, 64.8074020684687...   \n",
       "0  [0.0, 0.0, 3.0200529628970916, 45.124445251519...   \n",
       "0  [0.0, 0.0, 0.39311258529810367, 58.81562916990...   \n",
       "0  [0.0, 0.0, -3.8037709850867802, 10.05944468651...   \n",
       "0  [0.0, 1.0, 6.5908192222106585, 42.788930208224...   \n",
       "0  [0.0, 0.0, 6.237293342470409, 104.725474756210...   \n",
       "0  [0.0, 0.0, 1.4127644241243544, 43.360272443578...   \n",
       "0  [0.0, 0.0, 0.2162788579092041, 30.299263766053...   \n",
       "0  [0.0, 0.27454588831347215, 13.238216953391245,...   \n",
       "0  [0.0, 1.0, -6.016430959247401, 90.225067496867...   \n",
       "0  [0.0, -1.9018155376220065, 23.66913586042589, ...   \n",
       "0  [0.0, 0.2745346162206789, 7.530453881268514, 1...   \n",
       "0  [0.0, 0.0, 5.745527290660862, 14.5534838228729...   \n",
       "0  [0.0, 0.0, 15.059894148698259, 98.049856993122...   \n",
       "0  [0.0, 1.2745237039612098, 25.373327421827753, ...   \n",
       "0  [0.0, 0.0, 2.8237172869445386, -5.505357542312...   \n",
       "0  [0.0, 0.0, -0.6276114763691139, 14.48791703555...   \n",
       "0  [0.0, 0.5488312195184442, 30.246236097848424, ...   \n",
       "0  [0.0, 0.0, 2.9412581295416977, 51.020351846935...   \n",
       "0  [0.0, 0.0, 4.64700237070004, 20.97953595561728...   \n",
       "\n",
       "                                               error space  \\\n",
       "0  [0.0, 0.0, 4.84492050668997, 15.58160746150217...   128   \n",
       "0  [0.0, 0.0, 1.4142135623730951, 7.6331921037661...   128   \n",
       "0  [0.0, 0.0, 3.0261212553182886, 8.4383217167553...   128   \n",
       "0  [0.0, 0.0, 1.0, 3.1203882328328425, 6.79395620...   128   \n",
       "0  [0.0, 0.0, 0.0, 10.117725539892692, 23.0674016...   128   \n",
       "0  [0.0, 0.0, 4.436648457519396, 11.4614039167785...   128   \n",
       "0  [0.0, 0.0, 4.9364393270703335, 15.362296336680...   128   \n",
       "0  [0.0, 0.0, 2.5752075778814754, 9.3359169486261...   128   \n",
       "0  [0.0, 0.0, 4.941834474392694, 18.3520341021061...   128   \n",
       "0  [0.0, 0.7254305495698259, 5.799136795591247, 2...   128   \n",
       "0  [0.0, 1.0, 7.8536927473228495, 25.922205256172...   128   \n",
       "0  [0.0, 0.0, 2.1398501062074606, 5.7537247348081...   128   \n",
       "0  [0.0, 0.0, 4.161176229550859, 13.5081655418048...   128   \n",
       "0  [0.0, 0.0, 4.097444377735152, 15.9816954158369...   128   \n",
       "0  [0.0, 0.0, 4.518848273188405, 17.4397498268237...   128   \n",
       "0  [0.0, 0.0, 2.492081400339262, 7.16716035378776...   128   \n",
       "0  [0.0, 1.0, 6.0521331478859235, 18.010842820994...   128   \n",
       "0  [0.0, 0.0, 6.617188227290306, 21.7419954085823...   128   \n",
       "0  [0.0, 0.0, 5.933769639091933, 17.0646973491650...   128   \n",
       "0  [0.0, 0.0, 4.898930971048795, 15.3895411660880...   128   \n",
       "0  [0.0, 1.2354285362427442, 10.706492288382504, ...   128   \n",
       "0  [0.0, 1.0, 6.6369293834061, 23.389540156187625...   128   \n",
       "0  [0.0, 1.762138857637537, 10.430113470673946, 3...   128   \n",
       "0  [0.0, 1.2354351553449001, 7.752715715709384, 2...   128   \n",
       "0  [0.0, 0.0, 4.2734924159350784, 12.030480840854...   128   \n",
       "0  [0.0, 0.0, 7.507831604340718, 22.5526667178938...   128   \n",
       "0  [0.0, 1.5894388494415763, 9.771063808122078, 3...   128   \n",
       "0  [0.0, 0.0, 2.5649045756872413, 9.1303563137677...   128   \n",
       "0  [0.0, 0.0, 2.3731651869806663, 10.167259447200...   128   \n",
       "0  [0.0, 1.747267985948968, 12.059663721564524, 3...   128   \n",
       "0  [0.0, 0.0, 5.047170490258548, 16.0099353060474...   128   \n",
       "0  [0.0, 0.0, 3.4868464348340864, 11.614552104081...   128   \n",
       "\n",
       "                                                  p0  \\\n",
       "0  [1109.787234042553, 882.175142236967, 1895.730...   \n",
       "0  [1371.2340425531913, 834.9625815144997, 962.69...   \n",
       "0  [1240.5106382978722, 923.9179058323394, 559.20...   \n",
       "0  [1371.2340425531913, 1093.8454286135811, 295.9...   \n",
       "0  [1501.9574468085104, 597.1367041047428, 2988.3...   \n",
       "0  [1371.2340425531913, 754.0259311187395, 1237.3...   \n",
       "0  [1501.9574468085104, 860.7207855631475, 710.33...   \n",
       "0  [1240.5106382978722, 1011.870386821553, 341.68...   \n",
       "0  [1501.9574468085104, 648.8356511474968, 3662.1...   \n",
       "0  [1632.6808510638298, 813.3802379252942, 1397.8...   \n",
       "0  [1632.6808510638298, 1030.9288793340168, 632.6...   \n",
       "0  [979.063829787234, 882.4717190943014, 375.8067...   \n",
       "0  [1371.2340425531913, 778.0749261565778, 3116.2...   \n",
       "0  [1501.9574468085104, 894.4546884962963, 1247.0...   \n",
       "0  [1371.2340425531913, 959.066676121765, 628.303...   \n",
       "0  [1109.787234042553, 1092.3301991817966, 345.35...   \n",
       "0  [1763.404255319149, 972.2005586194549, 1154.16...   \n",
       "0  [1632.6808510638298, 840.9484283831976, 1603.1...   \n",
       "0  [1501.9574468085104, 821.2619093643552, 1656.7...   \n",
       "0  [1501.9574468085104, 939.665760097582, 1231.13...   \n",
       "0  [1371.2340425531913, 888.6913721397686, 1236.7...   \n",
       "0  [1501.9574468085104, 735.21822331892, 1923.843...   \n",
       "0  [1501.9574468085104, 869.8183418800866, 1802.7...   \n",
       "0  [1501.9574468085104, 880.7846556831665, 1233.7...   \n",
       "0  [1371.2340425531913, 740.2780987041585, 1086.6...   \n",
       "0  [1501.9574468085104, 805.4318910651738, 1436.1...   \n",
       "0  [1371.2340425531913, 876.3287258224187, 1513.2...   \n",
       "0  [1371.2340425531913, 742.6704098293573, 1165.8...   \n",
       "0  [1371.2340425531913, 978.8408503968785, 841.31...   \n",
       "0  [979.063829787234, 1081.3096057562614, 959.328...   \n",
       "0  [1109.787234042553, 920.7714931333203, 890.361...   \n",
       "0  [1501.9574468085104, 981.0656733227909, 788.80...   \n",
       "\n",
       "                                                popt  \\\n",
       "0  [1109.787234042553, 882.175142236967, 1895.730...   \n",
       "0  [1371.2340372348115, 671.7283474836366, 866.27...   \n",
       "0  [1371.2339663926184, 606.2187227536356, 523.70...   \n",
       "0  [1371.2340166112067, 815.8013728703299, 206.36...   \n",
       "0  [1501.9574445263586, 571.7994350757996, 2683.7...   \n",
       "0  [1371.2340421194326, 668.723023423069, 1211.11...   \n",
       "0  [1501.9574250771486, 591.3818039965794, 550.89...   \n",
       "0  [1240.5106346653274, 837.6571163695925, 313.54...   \n",
       "0  [1501.9574467554526, 577.6843400275051, 3653.4...   \n",
       "0  [1632.6808330340511, 535.8447180432928, 1184.2...   \n",
       "0  [1632.680830092433, 513.3133264502898, 609.928...   \n",
       "0  [979.0638295278173, 956.3618157359507, 369.142...   \n",
       "0  [1371.2340425531913, 778.0749261565778, 3116.2...   \n",
       "0  [1501.9574420452886, 630.9361448864515, 1209.0...   \n",
       "0  [1371.2340425140385, 673.4180283736027, 657.36...   \n",
       "0  [1109.787232861771, 967.2951540370747, 329.171...   \n",
       "0  [1632.6808624162536, 445.76961784310686, 1175....   \n",
       "0  [1632.680828730828, 449.85684371965175, 1423.9...   \n",
       "0  [1501.9574399543033, 569.416611328265, 1575.38...   \n",
       "0  [1501.9574330959022, 580.3111319390839, 1105.5...   \n",
       "0  [1501.9572903005842, 608.3723445880186, 1233.2...   \n",
       "0  [1501.95743836233, 565.176902339077, 1650.1103...   \n",
       "0  [1501.9574435808547, 551.6628444385291, 1871.7...   \n",
       "0  [1501.9574443074468, 604.8915659918039, 1244.8...   \n",
       "0  [1371.234040297156, 697.4720007153038, 966.750...   \n",
       "0  [1501.9574412504378, 583.5809217251691, 1390.3...   \n",
       "0  [1371.2340397038024, 595.6379676010071, 1539.2...   \n",
       "0  [1371.2340415185224, 697.4228065492398, 1106.8...   \n",
       "0  [1371.2340339307166, 673.7879697638344, 775.73...   \n",
       "0  [979.0638288131072, 936.9272529054779, 933.659...   \n",
       "0  [1109.7872323754523, 991.3429075953551, 800.70...   \n",
       "0  [1501.9574270466755, 596.4649303208694, 673.73...   \n",
       "\n",
       "                                                pcov  \\\n",
       "0  [[1.9378815615742766e-12, -6.3207850420276135e...   \n",
       "0  [[1.7350922038681252e-12, -5.626506008821446e-...   \n",
       "0  [[53495.830261758216, -27361.532552037555, -13...   \n",
       "0  [[2.9071140533568032e-11, -0.00010971396854128...   \n",
       "0  [[6.933685841404541e-13, -1.935332418970642e-0...   \n",
       "0  [[1.148316628023111e-12, -3.389824439111302e-0...   \n",
       "0  [[3.8563151567700394e-12, -1.2554465177524805e...   \n",
       "0  [[1.1136471313039675e-11, -4.421831326036988e-...   \n",
       "0  [[2.1672887239956363e-13, -5.484988646165825e-...   \n",
       "0  [[1.8489321112869674e-12, -5.0918817662124516e...   \n",
       "0  [[4.2018701706916825e-12, -1.3275274117292232e...   \n",
       "0  [[4.744280006670266e-12, -2.4920020945711e-05,...   \n",
       "0  [[6.717744140459972e-12, -1.7969707278318487e-...   \n",
       "0  [[5.938988180082327e-13, -1.928182640357935e-0...   \n",
       "0  [[2.790612536374967e-12, -9.136193882939778e-0...   \n",
       "0  [[9.387857608619014e-12, -4.124381552645761e-0...   \n",
       "0  [[6519.833401213133, -2991.2478405052257, -688...   \n",
       "0  [[2.081075876632539e-12, -5.930229601630034e-0...   \n",
       "0  [[1.0713028618697511e-12, -3.296535808385453e-...   \n",
       "0  [[1.7116764980651141e-12, -5.115336938190642e-...   \n",
       "0  [[34631.726819913376, -16847.655770248602, -21...   \n",
       "0  [[1.5907931436978052e-12, -4.017991107522653e-...   \n",
       "0  [[6.885956136149975e-13, -2.010150308136948e-0...   \n",
       "0  [[8.715613022902247e-13, -2.5751175196952563e-...   \n",
       "0  [[1.1709499510148772e-12, -3.457974629184396e-...   \n",
       "0  [[1.116277803458241e-12, -3.254644673446084e-0...   \n",
       "0  [[5.570181020252669e-13, -1.7845273477477224e-...   \n",
       "0  [[8.488932589697531e-13, -2.667117281248107e-0...   \n",
       "0  [[2.1830594856466868e-12, -6.900672007573722e-...   \n",
       "0  [[1.5271880459302356e-12, -5.221405313517904e-...   \n",
       "0  [[1.088360387149319e-12, -3.8473261552244905e-...   \n",
       "0  [[4.483946966359848e-12, -1.3302622929788e-05,...   \n",
       "\n",
       "                                                 fit  \\\n",
       "0  [1.0, 1.0, 1.0, 1.0, 1.0, 1.0, 1.0, 1.0, 1895....   \n",
       "0  [1.0, 1.0, 1.0, 1.0, 1.0, 1.0, 1.0, 1.0, 1.0, ...   \n",
       "0  [1.0, 1.0, 1.0, 1.0, 1.0, 1.0, 1.0, 1.0, 1.0, ...   \n",
       "0  [1.0, 1.0, 1.0, 1.0, 1.0, 1.0, 1.0, 1.0, 1.0, ...   \n",
       "0  [1.0, 1.0, 1.0, 1.0, 1.0, 1.0, 1.0, 1.0, 1.0, ...   \n",
       "0  [1.0, 1.0, 1.0, 1.0, 1.0, 1.0, 1.0, 1.0, 1.0, ...   \n",
       "0  [1.0, 1.0, 1.0, 1.0, 1.0, 1.0, 1.0, 1.0, 1.0, ...   \n",
       "0  [1.0, 1.0, 1.0, 1.0, 1.0, 1.0, 1.0, 1.0, 1.0, ...   \n",
       "0  [1.0, 1.0, 1.0, 1.0, 1.0, 1.0, 1.0, 1.0, 1.0, ...   \n",
       "0  [1.0, 1.0, 1.0, 1.0, 1.0, 1.0, 1.0, 1.0, 1.0, ...   \n",
       "0  [1.0, 1.0, 1.0, 1.0, 1.0, 1.0, 1.0, 1.0, 1.0, ...   \n",
       "0  [1.0, 1.0, 1.0, 1.0, 1.0, 1.0, 1.0, 369.142158...   \n",
       "0  [1.0, 1.0, 1.0, 1.0, 1.0, 1.0, 1.0, 1.0, 1.0, ...   \n",
       "0  [1.0, 1.0, 1.0, 1.0, 1.0, 1.0, 1.0, 1.0, 1.0, ...   \n",
       "0  [1.0, 1.0, 1.0, 1.0, 1.0, 1.0, 1.0, 1.0, 1.0, ...   \n",
       "0  [1.0, 1.0, 1.0, 1.0, 1.0, 1.0, 1.0, 1.0, 329.1...   \n",
       "0  [1.0, 1.0, 1.0, 1.0, 1.0, 1.0, 1.0, 1.0, 1.0, ...   \n",
       "0  [1.0, 1.0, 1.0, 1.0, 1.0, 1.0, 1.0, 1.0, 1.0, ...   \n",
       "0  [1.0, 1.0, 1.0, 1.0, 1.0, 1.0, 1.0, 1.0, 1.0, ...   \n",
       "0  [1.0, 1.0, 1.0, 1.0, 1.0, 1.0, 1.0, 1.0, 1.0, ...   \n",
       "0  [1.0, 1.0, 1.0, 1.0, 1.0, 1.0, 1.0, 1.0, 1.0, ...   \n",
       "0  [1.0, 1.0, 1.0, 1.0, 1.0, 1.0, 1.0, 1.0, 1.0, ...   \n",
       "0  [1.0, 1.0, 1.0, 1.0, 1.0, 1.0, 1.0, 1.0, 1.0, ...   \n",
       "0  [1.0, 1.0, 1.0, 1.0, 1.0, 1.0, 1.0, 1.0, 1.0, ...   \n",
       "0  [1.0, 1.0, 1.0, 1.0, 1.0, 1.0, 1.0, 1.0, 1.0, ...   \n",
       "0  [1.0, 1.0, 1.0, 1.0, 1.0, 1.0, 1.0, 1.0, 1.0, ...   \n",
       "0  [1.0, 1.0, 1.0, 1.0, 1.0, 1.0, 1.0, 1.0, 1.0, ...   \n",
       "0  [1.0, 1.0, 1.0, 1.0, 1.0, 1.0, 1.0, 1.0, 1.0, ...   \n",
       "0  [1.0, 1.0, 1.0, 1.0, 1.0, 1.0, 1.0, 1.0, 1.0, ...   \n",
       "0  [1.0, 1.0, 1.0, 1.0, 1.0, 1.0, 1.0, 933.659932...   \n",
       "0  [1.0, 1.0, 1.0, 1.0, 1.0, 1.0, 1.0, 1.0, 800.7...   \n",
       "0  [1.0, 1.0, 1.0, 1.0, 1.0, 1.0, 1.0, 1.0, 1.0, ...   \n",
       "\n",
       "                                           residuals      chsq  \\\n",
       "0  [0.0, 0.0, 0.0, 0.0, 0.0, 0.0, 0.0, 0.0, 0.0, ...    4.7481   \n",
       "0  [0.0, 0.0, 0.0, 0.0, 0.0, 0.0, 0.0, 0.0, 0.0, ...  0.797093   \n",
       "0  [0.0, 0.0, 0.0, 0.0, 0.0, 0.0, 0.0, 0.0, 0.0, ...   3.53047   \n",
       "0  [0.0, 0.0, 0.0, 0.0, 0.0, 0.0, 0.0, 0.0, 0.0, ...   1.03369   \n",
       "0  [0.0, 0.0, 0.0, 0.0, 0.0, 0.0, 0.0, 0.0, 0.0, ...   2.03077   \n",
       "0  [0.0, 0.0, 0.0, 0.0, 0.0, 0.0, 0.0, 0.0, 0.0, ...   1.12281   \n",
       "0  [0.0, 0.0, 0.0, 0.0, 0.0, 0.0, 0.0, 0.0, 0.0, ...  0.708444   \n",
       "0  [0.0, 0.0, 0.0, 0.0, 0.0, 0.0, 0.0, 0.0, 0.0, ...  0.984169   \n",
       "0  [0.0, 0.0, 0.0, 0.0, 0.0, 0.0, 0.0, 0.0, 0.0, ...  0.818774   \n",
       "0  [0.0, 0.0, 0.0, 0.0, 0.0, 0.0, 0.0, 0.0, 0.0, ...   1.01585   \n",
       "0  [0.0, 0.0, 0.0, 0.0, 0.0, 0.0, 0.0, 0.0, 0.0, ...  0.799307   \n",
       "0  [0.0, 0.0, 0.0, 0.0, 0.0, 0.0, 0.0, 0.12501830...  0.901811   \n",
       "0  [0.0, 0.0, 0.0, 0.0, 0.0, 0.0, 0.0, 0.0, 0.0, ...   23.5365   \n",
       "0  [0.0, 0.0, 0.0, 0.0, 0.0, 0.0, 0.0, 0.0, 0.0, ...  0.397831   \n",
       "0  [0.0, 0.0, 0.0, 0.0, 0.0, 0.0, 0.0, 0.0, 0.0, ...  0.663078   \n",
       "0  [0.0, 0.0, 0.0, 0.0, 0.0, 0.0, 0.0, 0.0, 0.292...   1.06366   \n",
       "0  [0.0, 0.0, 0.0, 0.0, 0.0, 0.0, 0.0, 0.0, 0.0, ...  0.852016   \n",
       "0  [0.0, 0.0, 0.0, 0.0, 0.0, 0.0, 0.0, 0.0, 0.0, ...   1.07941   \n",
       "0  [0.0, 0.0, 0.0, 0.0, 0.0, 0.0, 0.0, 0.0, 0.0, ...   1.02768   \n",
       "0  [0.0, 0.0, 0.0, 0.0, 0.0, 0.0, 0.0, 0.0, 0.0, ...  0.826828   \n",
       "0  [0.0, 0.0, 0.0, 0.0, 0.0, 0.0, 0.0, 0.0, 0.0, ...   11.3084   \n",
       "0  [0.0, 0.0, 0.0, 0.0, 0.0, 0.0, 0.0, 0.0, 0.0, ...   1.70374   \n",
       "0  [0.0, 0.0, 0.0, 0.0, 0.0, 0.0, 0.0, 0.0, 0.0, ...  0.913161   \n",
       "0  [0.0, 0.0, 0.0, 0.0, 0.0, 0.0, 0.0, 0.0, 0.0, ...  0.665663   \n",
       "0  [0.0, 0.0, 0.0, 0.0, 0.0, 0.0, 0.0, 0.0, 0.0, ...  0.894272   \n",
       "0  [0.0, 0.0, 0.0, 0.0, 0.0, 0.0, 0.0, 0.0, 0.0, ...   1.02472   \n",
       "0  [0.0, 0.0, 0.0, 0.0, 0.0, 0.0, 0.0, 0.0, 0.0, ...  0.683026   \n",
       "0  [0.0, 0.0, 0.0, 0.0, 0.0, 0.0, 0.0, 0.0, 0.0, ...  0.716602   \n",
       "0  [0.0, 0.0, 0.0, 0.0, 0.0, 0.0, 0.0, 0.0, 0.0, ...  0.795636   \n",
       "0  [0.0, 0.0, 0.0, 0.0, 0.0, 0.0, 0.0, 0.42603989...   1.45941   \n",
       "0  [0.0, 0.0, 0.0, 0.0, 0.0, 0.0, 0.0, 0.0, 1.589...  0.844853   \n",
       "0  [0.0, 0.0, 0.0, 0.0, 0.0, 0.0, 0.0, 0.0, 0.0, ...  0.962606   \n",
       "\n",
       "                                            ecentres  \n",
       "0  [30.940343419092553, 94.13764061553691, 157.33...  \n",
       "0  [30.16795632705389, 91.78761180358948, 153.407...  \n",
       "0  [31.167370192107615, 94.82838164832742, 158.48...  \n",
       "0  [28.180613947271617, 85.74101690340088, 143.30...  \n",
       "0  [29.71997373762726, 90.42460094639783, 151.129...  \n",
       "0  [30.2124005652098, 91.92283576223407, 153.6332...  \n",
       "0  [29.441955295163154, 89.57871504698576, 149.71...  \n",
       "0  [29.656893659959593, 90.23267645477067, 150.80...  \n",
       "0  [29.635873058378895, 90.16872015634429, 150.70...  \n",
       "0  [28.421154627106255, 86.47287471651477, 144.52...  \n",
       "0  [28.71955630079229, 87.38077768113398, 146.041...  \n",
       "0  [31.844157976733083, 96.88754448240066, 161.93...  \n",
       "0  [28.675263025119047, 87.24601303387284, 145.81...  \n",
       "0  [28.895956356013198, 87.91748423212526, 146.93...  \n",
       "0  [30.143025738967808, 91.71175916324248, 153.28...  \n",
       "0  [29.6723906517828, 90.27982687670085, 150.8872...  \n",
       "0  [29.652859466879967, 90.22040220774117, 150.78...  \n",
       "0  [29.594662711421147, 90.04333548368562, 150.49...  \n",
       "0  [29.7541624419975, 90.52862189799238, 151.3030...  \n",
       "0  [29.598487454938105, 90.05497246927976, 150.51...  \n",
       "0  [29.204916133044467, 88.85751078777358, 148.51...  \n",
       "0  [29.815188488952984, 90.71429689192078, 151.61...  \n",
       "0  [30.011390304018207, 91.31125135052348, 152.61...  \n",
       "0  [29.253164179641885, 89.00430803593169, 148.75...  \n",
       "0  [29.79253638657924, 90.64537666554959, 151.498...  \n",
       "0  [29.552081656299343, 89.91378035852779, 150.27...  \n",
       "0  [31.335033378432126, 95.33850581097434, 159.34...  \n",
       "0  [29.793244857196896, 90.64753222508843, 151.50...  \n",
       "0  [30.137573037676464, 91.69516902952627, 153.25...  \n",
       "0  [32.16716434020037, 97.87030852443941, 163.573...  \n",
       "0  [29.33278564118656, 89.24656056786549, 149.160...  \n",
       "0  [29.37063636574902, 89.3617234106832, 149.3528...  "
      ]
     },
     "execution_count": 37,
     "metadata": {},
     "output_type": "execute_result"
    }
   ],
   "source": [
    "dff"
   ]
  },
  {
   "cell_type": "code",
   "execution_count": null,
   "metadata": {},
   "outputs": [],
   "source": []
  },
  {
   "cell_type": "code",
   "execution_count": 42,
   "metadata": {},
   "outputs": [
    {
     "ename": "ValueError",
     "evalue": "operands could not be broadcast together with shapes (88970,) (88968,) (88970,) ",
     "output_type": "error",
     "traceback": [
      "\u001b[0;31m---------------------------------------------------------------------------\u001b[0m",
      "\u001b[0;31mValueError\u001b[0m                                Traceback (most recent call last)",
      "\u001b[0;32m<ipython-input-42-d4596651bf68>\u001b[0m in \u001b[0;36m<module>\u001b[0;34m\u001b[0m\n\u001b[1;32m      1\u001b[0m \u001b[0;32mimport\u001b[0m \u001b[0mDataProcess\u001b[0m \u001b[0;32mas\u001b[0m \u001b[0mDP\u001b[0m\u001b[0;34m\u001b[0m\u001b[0;34m\u001b[0m\u001b[0m\n\u001b[1;32m      2\u001b[0m \u001b[0mc\u001b[0m\u001b[0;34m=\u001b[0m\u001b[0mDP\u001b[0m\u001b[0;34m.\u001b[0m\u001b[0mPlotter\u001b[0m\u001b[0;34m(\u001b[0m\u001b[0;34m)\u001b[0m\u001b[0;34m\u001b[0m\u001b[0;34m\u001b[0m\u001b[0m\n\u001b[0;32m----> 3\u001b[0;31m \u001b[0mc\u001b[0m\u001b[0;34m.\u001b[0m\u001b[0madd_data\u001b[0m\u001b[0;34m(\u001b[0m\u001b[0;34m'/home/nr1315/Documents/Project/New data runs/'\u001b[0m\u001b[0;34m,\u001b[0m\u001b[0;34m'lab_2020-09-16_Co60_lowToT.root'\u001b[0m\u001b[0;34m,\u001b[0m\u001b[0;34m'Co60'\u001b[0m\u001b[0;34m,\u001b[0m\u001b[0mraw\u001b[0m\u001b[0;34m=\u001b[0m\u001b[0;32mTrue\u001b[0m\u001b[0;34m)\u001b[0m\u001b[0;34m\u001b[0m\u001b[0;34m\u001b[0m\u001b[0m\n\u001b[0m",
      "\u001b[0;32m~/Documents/Project/Analysis/AnalysisRepo/DataProcess.py\u001b[0m in \u001b[0;36madd_data\u001b[0;34m(self, folder, filename, name, cut, cut_thresh, raw)\u001b[0m\n\u001b[1;32m    228\u001b[0m         \u001b[0mStarts_to_compare\u001b[0m\u001b[0;34m=\u001b[0m\u001b[0mnp\u001b[0m\u001b[0;34m.\u001b[0m\u001b[0mconcatenate\u001b[0m\u001b[0;34m(\u001b[0m\u001b[0;34m[\u001b[0m\u001b[0mStartIndex_pruned\u001b[0m\u001b[0;34m,\u001b[0m\u001b[0mStartIndex_pruned\u001b[0m\u001b[0;34m]\u001b[0m\u001b[0;34m)\u001b[0m\u001b[0;34m\u001b[0m\u001b[0;34m\u001b[0m\u001b[0m\n\u001b[1;32m    229\u001b[0m         \u001b[0mStarts_to_compare\u001b[0m\u001b[0;34m.\u001b[0m\u001b[0msort\u001b[0m\u001b[0;34m(\u001b[0m\u001b[0;34m)\u001b[0m\u001b[0;34m\u001b[0m\u001b[0;34m\u001b[0m\u001b[0m\n\u001b[0;32m--> 230\u001b[0;31m         \u001b[0mStarts_to_compare\u001b[0m\u001b[0;34m+=\u001b[0m\u001b[0mnp\u001b[0m\u001b[0;34m.\u001b[0m\u001b[0mwhere\u001b[0m\u001b[0;34m(\u001b[0m\u001b[0mduplicate_col_vals\u001b[0m\u001b[0;34m==\u001b[0m\u001b[0;34m-\u001b[0m\u001b[0;36m1\u001b[0m\u001b[0;34m)\u001b[0m\u001b[0;34m[\u001b[0m\u001b[0;36m1\u001b[0m\u001b[0;34m]\u001b[0m\u001b[0;34m\u001b[0m\u001b[0;34m\u001b[0m\u001b[0m\n\u001b[0m\u001b[1;32m    231\u001b[0m \u001b[0;34m\u001b[0m\u001b[0m\n\u001b[1;32m    232\u001b[0m         \u001b[0;31m# Find which hit of the 2 needs to be disregarded in reconstruction, by removing\u001b[0m\u001b[0;34m\u001b[0m\u001b[0;34m\u001b[0m\u001b[0;34m\u001b[0m\u001b[0m\n",
      "\u001b[0;31mValueError\u001b[0m: operands could not be broadcast together with shapes (88970,) (88968,) (88970,) "
     ]
    }
   ],
   "source": [
    "import DataProcess as DP\n",
    "c=DP.Plotter()\n",
    "c.add_data('/home/nr1315/Documents/Project/New data runs/','lab_2020-09-16_Co60_lowToT.root','Co60',raw=True)"
   ]
  },
  {
   "cell_type": "code",
   "execution_count": 94,
   "metadata": {},
   "outputs": [],
   "source": [
    "dd=np.loadtxt(\"corr_factors\")"
   ]
  },
  {
   "cell_type": "code",
   "execution_count": null,
   "metadata": {},
   "outputs": [],
   "source": []
  },
  {
   "cell_type": "code",
   "execution_count": null,
   "metadata": {},
   "outputs": [],
   "source": []
  },
  {
   "cell_type": "code",
   "execution_count": null,
   "metadata": {},
   "outputs": [],
   "source": []
  },
  {
   "cell_type": "code",
   "execution_count": 108,
   "metadata": {},
   "outputs": [],
   "source": [
    "corr_factors=pd.DataFrame(dd,columns=['fpga','channel','factor']).astype({'fpga':int,'channel':int})"
   ]
  },
  {
   "cell_type": "code",
   "execution_count": 111,
   "metadata": {},
   "outputs": [],
   "source": [
    "a=uproot.open(\"/home/nr1315/Documents/Project/NPL_2017-06-13/data/nemenix2_npl_2017-06-13_cf-4774_1m5_0deg_1V0_v01.root\")"
   ]
  },
  {
   "cell_type": "code",
   "execution_count": 113,
   "metadata": {},
   "outputs": [],
   "source": [
    "ee=a['events'].pandas.df(flatten=False)"
   ]
  },
  {
   "cell_type": "code",
   "execution_count": 115,
   "metadata": {},
   "outputs": [],
   "source": [
    "event=ee.iloc[0]"
   ]
  },
  {
   "cell_type": "code",
   "execution_count": 123,
   "metadata": {},
   "outputs": [
    {
     "data": {
      "text/html": [
       "<div>\n",
       "<style scoped>\n",
       "    .dataframe tbody tr th:only-of-type {\n",
       "        vertical-align: middle;\n",
       "    }\n",
       "\n",
       "    .dataframe tbody tr th {\n",
       "        vertical-align: top;\n",
       "    }\n",
       "\n",
       "    .dataframe thead th {\n",
       "        text-align: right;\n",
       "    }\n",
       "</style>\n",
       "<table border=\"1\" class=\"dataframe\">\n",
       "  <thead>\n",
       "    <tr style=\"text-align: right;\">\n",
       "      <th></th>\n",
       "      <th>fpga</th>\n",
       "      <th>channel</th>\n",
       "      <th>factor</th>\n",
       "    </tr>\n",
       "  </thead>\n",
       "  <tbody>\n",
       "    <tr>\n",
       "      <th>16</th>\n",
       "      <td>1</td>\n",
       "      <td>0</td>\n",
       "      <td>1.010323</td>\n",
       "    </tr>\n",
       "    <tr>\n",
       "      <th>17</th>\n",
       "      <td>1</td>\n",
       "      <td>1</td>\n",
       "      <td>1.098340</td>\n",
       "    </tr>\n",
       "    <tr>\n",
       "      <th>18</th>\n",
       "      <td>1</td>\n",
       "      <td>2</td>\n",
       "      <td>1.002268</td>\n",
       "    </tr>\n",
       "    <tr>\n",
       "      <th>19</th>\n",
       "      <td>1</td>\n",
       "      <td>3</td>\n",
       "      <td>1.012331</td>\n",
       "    </tr>\n",
       "    <tr>\n",
       "      <th>20</th>\n",
       "      <td>1</td>\n",
       "      <td>4</td>\n",
       "      <td>1.141760</td>\n",
       "    </tr>\n",
       "    <tr>\n",
       "      <th>21</th>\n",
       "      <td>1</td>\n",
       "      <td>5</td>\n",
       "      <td>1.080372</td>\n",
       "    </tr>\n",
       "    <tr>\n",
       "      <th>22</th>\n",
       "      <td>1</td>\n",
       "      <td>6</td>\n",
       "      <td>1.235082</td>\n",
       "    </tr>\n",
       "    <tr>\n",
       "      <th>23</th>\n",
       "      <td>1</td>\n",
       "      <td>7</td>\n",
       "      <td>1.139952</td>\n",
       "    </tr>\n",
       "    <tr>\n",
       "      <th>24</th>\n",
       "      <td>1</td>\n",
       "      <td>8</td>\n",
       "      <td>0.895477</td>\n",
       "    </tr>\n",
       "    <tr>\n",
       "      <th>25</th>\n",
       "      <td>1</td>\n",
       "      <td>9</td>\n",
       "      <td>1.108541</td>\n",
       "    </tr>\n",
       "    <tr>\n",
       "      <th>26</th>\n",
       "      <td>1</td>\n",
       "      <td>10</td>\n",
       "      <td>1.221025</td>\n",
       "    </tr>\n",
       "    <tr>\n",
       "      <th>27</th>\n",
       "      <td>1</td>\n",
       "      <td>11</td>\n",
       "      <td>0.900514</td>\n",
       "    </tr>\n",
       "    <tr>\n",
       "      <th>28</th>\n",
       "      <td>1</td>\n",
       "      <td>12</td>\n",
       "      <td>0.874059</td>\n",
       "    </tr>\n",
       "    <tr>\n",
       "      <th>29</th>\n",
       "      <td>1</td>\n",
       "      <td>13</td>\n",
       "      <td>1.331437</td>\n",
       "    </tr>\n",
       "    <tr>\n",
       "      <th>30</th>\n",
       "      <td>1</td>\n",
       "      <td>14</td>\n",
       "      <td>1.046935</td>\n",
       "    </tr>\n",
       "    <tr>\n",
       "      <th>31</th>\n",
       "      <td>1</td>\n",
       "      <td>15</td>\n",
       "      <td>0.938317</td>\n",
       "    </tr>\n",
       "  </tbody>\n",
       "</table>\n",
       "</div>"
      ],
      "text/plain": [
       "    fpga  channel    factor\n",
       "16     1        0  1.010323\n",
       "17     1        1  1.098340\n",
       "18     1        2  1.002268\n",
       "19     1        3  1.012331\n",
       "20     1        4  1.141760\n",
       "21     1        5  1.080372\n",
       "22     1        6  1.235082\n",
       "23     1        7  1.139952\n",
       "24     1        8  0.895477\n",
       "25     1        9  1.108541\n",
       "26     1       10  1.221025\n",
       "27     1       11  0.900514\n",
       "28     1       12  0.874059\n",
       "29     1       13  1.331437\n",
       "30     1       14  1.046935\n",
       "31     1       15  0.938317"
      ]
     },
     "execution_count": 123,
     "metadata": {},
     "output_type": "execute_result"
    }
   ],
   "source": [
    "corr_factors.query('fpga==@event.fpga')"
   ]
  },
  {
   "cell_type": "code",
   "execution_count": 126,
   "metadata": {},
   "outputs": [
    {
     "data": {
      "text/plain": [
       "1.1417603575594149"
      ]
     },
     "execution_count": 126,
     "metadata": {},
     "output_type": "execute_result"
    }
   ],
   "source": [
    "corr_factors.query('fpga==@event.fpga&channel==@event.channel')['factor'].values[0]"
   ]
  },
  {
   "cell_type": "code",
   "execution_count": null,
   "metadata": {},
   "outputs": [],
   "source": []
  },
  {
   "cell_type": "code",
   "execution_count": 57,
   "metadata": {},
   "outputs": [
    {
     "data": {
      "text/plain": [
       "array([[0, 0, 0.952870035186678],\n",
       "       [0, 1, 0.8679846661149118],\n",
       "       [0, 2, 0.9267927992822578],\n",
       "       [0, 3, 0.6990968820275678],\n",
       "       [0, 4, 0.8295721782241214],\n",
       "       [0, 5, 0.948493160317351],\n",
       "       [0, 6, 1.0184493772984209],\n",
       "       [0, 7, 0.9128281153089829],\n",
       "       [0, 8, 0.9315182512461163],\n",
       "       [0, 9, 1.04950090279921],\n",
       "       [0, 10, 1.1955281409464062],\n",
       "       [0, 11, 0.8232720817890736],\n",
       "       [0, 12, 0.9103718433555316],\n",
       "       [0, 13, 0.9971182933148869],\n",
       "       [0, 14, 1.0241684350432283],\n",
       "       [0, 15, 0.8757011861621944],\n",
       "       [1, 0, 1.010323407440098],\n",
       "       [1, 1, 1.098340014348423],\n",
       "       [1, 2, 1.0022681804585176],\n",
       "       [1, 3, 1.0123309738091248],\n",
       "       [1, 4, 1.1417603575594149],\n",
       "       [1, 5, 1.0803715419554225],\n",
       "       [1, 6, 1.2350820435022718],\n",
       "       [1, 7, 1.1399515304938255],\n",
       "       [1, 8, 0.8954770982557148],\n",
       "       [1, 9, 1.1085406801562887],\n",
       "       [1, 10, 1.2210250922506831],\n",
       "       [1, 11, 0.9005141334031077],\n",
       "       [1, 12, 0.8740588583542231],\n",
       "       [1, 13, 1.3314374637438953],\n",
       "       [1, 14, 1.0469351023534408],\n",
       "       [1, 15, 0.9383171734986084]], dtype=object)"
      ]
     },
     "execution_count": 57,
     "metadata": {},
     "output_type": "execute_result"
    }
   ],
   "source": [
    "a.factors[\"lab_2020-09-16_Co60_lowToT.root\"].values"
   ]
  },
  {
   "cell_type": "code",
   "execution_count": 8,
   "metadata": {},
   "outputs": [],
   "source": [
    "e_i={}\n",
    "e_i[\"fpga 0\"]=a.dfs['lab_2020-09-16_Co60_lowToT.root_corrected'].query('fpga==0')['popt'].explode().values.reshape(-1,3)[:,:2].sum(axis=1).mean()\n",
    "e_i[\"fpga 1\"]=a.dfs['lab_2020-09-16_Co60_lowToT.root_corrected'].query('fpga==1')['popt'].explode().values.reshape(-1,3)[:,:2].sum(axis=1).mean()"
   ]
  },
  {
   "cell_type": "code",
   "execution_count": 17,
   "metadata": {},
   "outputs": [
    {
     "ename": "KeyError",
     "evalue": "'lab_2020-09-16_Co60_lowToT.root_corrected'",
     "output_type": "error",
     "traceback": [
      "\u001b[0;31m---------------------------------------------------------------------------\u001b[0m",
      "\u001b[0;31mKeyError\u001b[0m                                  Traceback (most recent call last)",
      "\u001b[0;32m<ipython-input-17-1cb62d4933ef>\u001b[0m in \u001b[0;36m<module>\u001b[0;34m\u001b[0m\n\u001b[0;32m----> 1\u001b[0;31m \u001b[0ma\u001b[0m\u001b[0;34m.\u001b[0m\u001b[0mdata\u001b[0m\u001b[0;34m[\u001b[0m\u001b[0;34m'lab_2020-09-16_Co60_lowToT.root_corrected'\u001b[0m\u001b[0;34m]\u001b[0m\u001b[0;34m.\u001b[0m\u001b[0mkeys\u001b[0m\u001b[0;34m(\u001b[0m\u001b[0;34m)\u001b[0m\u001b[0;34m\u001b[0m\u001b[0;34m\u001b[0m\u001b[0m\n\u001b[0m",
      "\u001b[0;31mKeyError\u001b[0m: 'lab_2020-09-16_Co60_lowToT.root_corrected'"
     ]
    }
   ],
   "source": [
    "a.data['lab_2020-09-16_Co60_lowToT.root_corrected'].keys()"
   ]
  },
  {
   "cell_type": "code",
   "execution_count": 60,
   "metadata": {},
   "outputs": [
    {
     "data": {
      "text/plain": [
       "2.1550305378645884"
      ]
     },
     "execution_count": 60,
     "metadata": {},
     "output_type": "execute_result"
    }
   ],
   "source": [
    "e_i['fpga 0']/963.39"
   ]
  },
  {
   "cell_type": "code",
   "execution_count": 61,
   "metadata": {},
   "outputs": [
    {
     "data": {
      "text/plain": [
       "2.141065851125204"
      ]
     },
     "execution_count": 61,
     "metadata": {},
     "output_type": "execute_result"
    }
   ],
   "source": [
    "e_i['fpga 1']/963.39"
   ]
  },
  {
   "cell_type": "code",
   "execution_count": 65,
   "metadata": {},
   "outputs": [
    {
     "data": {
      "text/plain": [
       "Index(['applyTime', 'fpgaId', 'chId', 'sipmId', 'type', 'pedestal', 'th',\n",
       "       'wfPre', 'wfPost', 'calcPre', 'calcPost', 'totMin', 'idAreaMin',\n",
       "       'idPeakMax', 'idTotMin', 'nomV', 'trimV', 'temV', 'setV', 'tem', 'x',\n",
       "       'y', 'z'],\n",
       "      dtype='object')"
      ]
     },
     "execution_count": 65,
     "metadata": {},
     "output_type": "execute_result"
    }
   ],
   "source": [
    "a.set['lab_2020-09-16_Co60_lowToT.root'].keys()"
   ]
  },
  {
   "cell_type": "code",
   "execution_count": 25,
   "metadata": {},
   "outputs": [],
   "source": [
    "a.fit_param_dist(\"lab_2020-09-16_Co60_lowToT.root_corrected\",sep=True)"
   ]
  },
  {
   "cell_type": "code",
   "execution_count": 85,
   "metadata": {},
   "outputs": [],
   "source": [
    "a.fit_param_dist(\"lab_2020-09-16_Co60_lowToT.root\",sep=True)"
   ]
  },
  {
   "cell_type": "code",
   "execution_count": 76,
   "metadata": {},
   "outputs": [],
   "source": [
    "a.refit_corr(\"lab_2020-09-16_Co60_lowToT.root\")"
   ]
  },
  {
   "cell_type": "code",
   "execution_count": 8,
   "metadata": {},
   "outputs": [],
   "source": [
    "a.corrected_gauss_fits(\"lab_2020-09-16_Co60_lowToT.root\")"
   ]
  },
  {
   "cell_type": "code",
   "execution_count": 53,
   "metadata": {},
   "outputs": [
    {
     "data": {
      "text/plain": [
       "2078.624695057299"
      ]
     },
     "execution_count": 53,
     "metadata": {},
     "output_type": "execute_result"
    }
   ],
   "source": [
    "a.dfs['lab_2020-09-16_Co60_lowToT.root']['popt'].explode().values.reshape(-1,3)[:,:2].sum(axis=1).mean()"
   ]
  },
  {
   "cell_type": "code",
   "execution_count": 54,
   "metadata": {},
   "outputs": [
    {
     "data": {
      "text/plain": [
       "2057.851994420908"
      ]
     },
     "execution_count": 54,
     "metadata": {},
     "output_type": "execute_result"
    }
   ],
   "source": [
    "a.dfs['lab_2020-09-16_Co60_lowToT.root_corrected']['popt'].explode().values.reshape(-1,3)[:,:2].sum(axis=1).mean()"
   ]
  },
  {
   "cell_type": "code",
   "execution_count": 7,
   "metadata": {},
   "outputs": [],
   "source": [
    "dfile='lab_2020-09-16_Co60_lowToT.root'\n",
    "reg=a.dfs[dfile]\n",
    "corr=a.dfs[dfile+\"_corrected\"]"
   ]
  },
  {
   "cell_type": "code",
   "execution_count": 27,
   "metadata": {},
   "outputs": [],
   "source": [
    "def fact(n):\n",
    "    return np.heaviside(n-1,1)-np.heaviside(-1*(n-1),0)\n",
    "ff=fact(reg['factors'].values.astype(float))\n",
    "regopt=reg['popt'].explode().values.reshape(-1,3)[:,:2].sum(axis=1).astype(float)\n",
    "corropt=corr['popt'].explode().values.reshape(-1,3)[:,:2].sum(axis=1).astype(float)\n",
    "refit=ff*regopt<ff*corropt\n",
    "\n"
   ]
  },
  {
   "cell_type": "code",
   "execution_count": 37,
   "metadata": {},
   "outputs": [],
   "source": []
  },
  {
   "cell_type": "code",
   "execution_count": 35,
   "metadata": {},
   "outputs": [],
   "source": []
  },
  {
   "cell_type": "code",
   "execution_count": 34,
   "metadata": {},
   "outputs": [],
   "source": []
  },
  {
   "cell_type": "code",
   "execution_count": 38,
   "metadata": {},
   "outputs": [
    {
     "data": {
      "text/plain": [
       "array([False, False,  True, False, False,  True, False, False, False,\n",
       "       False, False, False, False, False, False, False, False, False,\n",
       "       False, False, False, False, False, False, False, False, False,\n",
       "       False, False, False, False, False])"
      ]
     },
     "execution_count": 38,
     "metadata": {},
     "output_type": "execute_result"
    }
   ],
   "source": []
  },
  {
   "cell_type": "code",
   "execution_count": 42,
   "metadata": {},
   "outputs": [
    {
     "data": {
      "text/plain": [
       "array([0.96920885, 0.86457113, 0.92314799, 0.69634754, 0.82630971,\n",
       "       0.96595887, 1.01444411, 0.90923823, 0.92785486, 1.04537352,\n",
       "       1.19082647, 0.82003439, 0.87778913, 1.02379174, 1.02014068,\n",
       "       0.87225731, 1.0063501 , 1.09402056, 0.99832655, 1.00834977,\n",
       "       1.18820656, 1.07612275, 1.23022482, 1.16750437, 0.89195545,\n",
       "       1.10418111, 1.21622315, 0.89697267, 0.87062144, 1.32620131,\n",
       "       1.04281781, 0.93462704])"
      ]
     },
     "execution_count": 42,
     "metadata": {},
     "output_type": "execute_result"
    }
   ],
   "source": [
    "reg['factors'].values.astype(float)"
   ]
  },
  {
   "cell_type": "code",
   "execution_count": 39,
   "metadata": {},
   "outputs": [
    {
     "data": {
      "text/plain": [
       "array([2014.62145639, 1797.11890862, 1918.87821177, 1447.44518503,\n",
       "       1717.58777056, 2007.86595952, 2108.64857971, 1889.96503093,\n",
       "       1928.6620241 , 2172.93921271, 2475.28131746, 1704.54373548,\n",
       "       1824.59416209, 2128.07880222, 2120.48960319, 1813.09557805,\n",
       "       2091.82416489, 2274.0581544 , 2075.14621966, 2095.98073081,\n",
       "       2469.83550758, 2236.85532957, 2557.17569759, 2426.80342295,\n",
       "       1854.04061654, 2295.17812359, 2528.07148196, 1864.46954629,\n",
       "       1809.69522034, 2756.67478372, 2167.62685101, 1942.73885312])"
      ]
     },
     "execution_count": 39,
     "metadata": {},
     "output_type": "execute_result"
    }
   ],
   "source": [
    "regopt"
   ]
  },
  {
   "cell_type": "code",
   "execution_count": 41,
   "metadata": {},
   "outputs": [
    {
     "data": {
      "text/plain": [
       "array([2063.54966008, 2046.04352067, 1903.21948869, 2199.35602344,\n",
       "       2077.73532909, 1863.81316516, 2095.58254842, 2085.09192817,\n",
       "       2078.52315269, 2171.96938082, 2146.37596084, 1936.22961857,\n",
       "       2119.5041111 , 2020.9217731 , 2051.17960388, 2086.72021605,\n",
       "       2085.00735139, 2086.80060331, 2077.68127165, 2085.42010808,\n",
       "       1990.28896445, 2070.89857404, 2058.72736436, 2074.5408052 ,\n",
       "       1983.47736048, 2090.00899062, 2044.87856683, 2073.46624142,\n",
       "       2052.62870728, 1921.92859989, 2106.62360263, 2103.0712291 ])"
      ]
     },
     "execution_count": 41,
     "metadata": {},
     "output_type": "execute_result"
    }
   ],
   "source": [
    "corropt"
   ]
  },
  {
   "cell_type": "code",
   "execution_count": 21,
   "metadata": {},
   "outputs": [
    {
     "name": "stderr",
     "output_type": "stream",
     "text": [
      "/home/nr1315/miniconda3/lib/python3.7/site-packages/numpy/core/fromnumeric.py:3335: RuntimeWarning: Mean of empty slice.\n",
      "  out=out, **kwargs)\n",
      "/home/nr1315/miniconda3/lib/python3.7/site-packages/numpy/core/_methods.py:161: RuntimeWarning: invalid value encountered in double_scalars\n",
      "  ret = ret.dtype.type(ret / rcount)\n"
     ]
    }
   ],
   "source": [
    "a.gen_df(\"lab_2020-09-16_Co60_lowToT.root\",128,4096*1.5,2,\"lab_2020-09-16_bkg_lowToT.root\")"
   ]
  },
  {
   "cell_type": "code",
   "execution_count": null,
   "metadata": {},
   "outputs": [],
   "source": []
  },
  {
   "cell_type": "code",
   "execution_count": null,
   "metadata": {},
   "outputs": [],
   "source": []
  },
  {
   "cell_type": "code",
   "execution_count": null,
   "metadata": {},
   "outputs": [],
   "source": []
  },
  {
   "cell_type": "code",
   "execution_count": 345,
   "metadata": {},
   "outputs": [],
   "source": [
    "a.fit_param_dist(\"lab_2020-09-16_Co60_lowToT.root\",sep=True)"
   ]
  },
  {
   "cell_type": "code",
   "execution_count": null,
   "metadata": {},
   "outputs": [],
   "source": []
  },
  {
   "cell_type": "code",
   "execution_count": 38,
   "metadata": {},
   "outputs": [],
   "source": [
    "mu,sig=np.split(df['popt'].explode().values.reshape(-1,3)[:,:2],2,axis=1)"
   ]
  },
  {
   "cell_type": "code",
   "execution_count": 39,
   "metadata": {},
   "outputs": [],
   "source": [
    "E_i=mu+sig"
   ]
  },
  {
   "cell_type": "code",
   "execution_count": 41,
   "metadata": {},
   "outputs": [
    {
     "data": {
      "text/plain": [
       "(32, 1)"
      ]
     },
     "execution_count": 41,
     "metadata": {},
     "output_type": "execute_result"
    }
   ],
   "source": [
    "(E_i/E_i.mean()).shape"
   ]
  },
  {
   "cell_type": "code",
   "execution_count": 272,
   "metadata": {},
   "outputs": [],
   "source": [
    "refs=df.query('chsq>2')"
   ]
  },
  {
   "cell_type": "code",
   "execution_count": 273,
   "metadata": {},
   "outputs": [],
   "source": [
    "refs.reset_index(drop=True,inplace=True)"
   ]
  },
  {
   "cell_type": "code",
   "execution_count": 280,
   "metadata": {},
   "outputs": [],
   "source": [
    "def half_gauss(x,mu,sigma,amp):\n",
    "    return np.heaviside(x-mu,1)*amp*np.exp(-1*(x-mu)**2/(2*sigma**2)) + np.heaviside(mu-x,0)        \n",
    "    \n",
    "def chsq(obv,exp,error):\n",
    "    return np.sum((obv-exp)**2/(error)**2)/(len(centres)-3)"
   ]
  },
  {
   "cell_type": "code",
   "execution_count": 292,
   "metadata": {},
   "outputs": [],
   "source": [
    "fits=df['fit'].values\n",
    "covs=df['pcov'].values\n",
    "opts=df['popt'].values\n",
    "residuals=df['residuals'].values\n",
    "\n",
    "for ind in refs.index:\n",
    "    subhist=refs.loc[ind,'data']\n",
    "    suberror=refs.loc[ind,'error']\n",
    "    cent=refs.loc[ind,'centres']\n",
    "    hist2=np.copy(subhist)\n",
    "    err2=np.copy(suberror)\n",
    "    hist2[:np.argmax(subhist)]=1\n",
    "    err2[:np.argmax(subhist)]=1\n",
    "    \n",
    "    \n",
    "    p0=[mu,sig,np.max(subhist)]\n",
    "    popt,pcov=curve_fit(half_gauss,cent,hist2,p0,sigma=err2)\n",
    "    fit=half_gauss(cent,popt[0],popt[1],popt[2])\n",
    "    resid=(hist2-fit)/err2\n",
    "    fits[ind]=fit\n",
    "    covs[ind]=pcov\n",
    "    opts[ind]=popt\n",
    "    residuals[ind]=resid\n",
    "\n",
    "df['fit']=fits\n",
    "df['popt']=opts\n",
    "df['pcov']=covs\n",
    "df['residuals']=residuals"
   ]
  },
  {
   "cell_type": "code",
   "execution_count": 2,
   "metadata": {},
   "outputs": [
    {
     "ename": "NameError",
     "evalue": "name 'a' is not defined",
     "output_type": "error",
     "traceback": [
      "\u001b[0;31m---------------------------------------------------------------------------\u001b[0m",
      "\u001b[0;31mNameError\u001b[0m                                 Traceback (most recent call last)",
      "\u001b[0;32m<ipython-input-2-3f786850e387>\u001b[0m in \u001b[0;36m<module>\u001b[0;34m\u001b[0m\n\u001b[0;32m----> 1\u001b[0;31m \u001b[0ma\u001b[0m\u001b[0;34m\u001b[0m\u001b[0;34m\u001b[0m\u001b[0m\n\u001b[0m",
      "\u001b[0;31mNameError\u001b[0m: name 'a' is not defined"
     ]
    }
   ],
   "source": []
  },
  {
   "cell_type": "code",
   "execution_count": 287,
   "metadata": {},
   "outputs": [
    {
     "data": {
      "text/plain": [
       "(47,)"
      ]
     },
     "execution_count": 287,
     "metadata": {},
     "output_type": "execute_result"
    }
   ],
   "source": []
  },
  {
   "cell_type": "code",
   "execution_count": null,
   "metadata": {},
   "outputs": [],
   "source": []
  },
  {
   "cell_type": "code",
   "execution_count": null,
   "metadata": {},
   "outputs": [],
   "source": []
  },
  {
   "cell_type": "code",
   "execution_count": null,
   "metadata": {},
   "outputs": [],
   "source": []
  },
  {
   "cell_type": "code",
   "execution_count": 227,
   "metadata": {},
   "outputs": [],
   "source": [
    "n=a.data['lab_2020-09-16_Co60_lowToT.root'].query('neutronFlag==1&coincidence==2').loc[:,['totValue','peakValue']]"
   ]
  },
  {
   "cell_type": "code",
   "execution_count": 228,
   "metadata": {},
   "outputs": [],
   "source": [
    "e=a.data['lab_2020-09-16_Co60_lowToT.root'].query('neutronFlag==0&coincidence==2').loc[:,['totValue','peakValue']]"
   ]
  },
  {
   "cell_type": "code",
   "execution_count": 230,
   "metadata": {},
   "outputs": [],
   "source": [
    "fig=plt.figure()\n",
    "ax=fig.add_subplot(111)\n",
    "ax.scatter(e['peakValue'],e['totValue'],alpha=0.05,c='xkcd:dark blue',marker='.',label='ES')\n",
    "ax.scatter(n['peakValue'],n['totValue'],alpha=0.3,c='xkcd:magenta',marker='.',label='NS')\n",
    "leg=ax.legend(frameon=0,scatterpoints=3,title='Neutron flag',fontsize=24)\n",
    "ax.set_xlabel('Peak Amplitude',fontsize=30)\n",
    "ax.set_ylabel('ToT value',fontsize=30)\n",
    "ax.set_title(\"PID plot\",fontsize=30)\n",
    "for l in leg.legendHandles:\n",
    "    l.set_alpha(0.5)\n",
    "ax.minorticks_on()\n",
    "ax.tick_params(direction='in',which='both',labelsize=30)\n",
    "plt.show()"
   ]
  },
  {
   "cell_type": "code",
   "execution_count": null,
   "metadata": {},
   "outputs": [],
   "source": []
  },
  {
   "cell_type": "code",
   "execution_count": 129,
   "metadata": {},
   "outputs": [],
   "source": [
    "a.fit_param_dist(\"lab_2020-09-16_Co60_lowToT_+90deg.root\")"
   ]
  },
  {
   "cell_type": "code",
   "execution_count": 248,
   "metadata": {},
   "outputs": [],
   "source": [
    "musig=pd.DataFrame(a.dfs['lab_2020-09-16_Co60_lowToT.root']['popt'].explode().values.reshape(-1,3),columns=['mu','sigma','amp'])"
   ]
  },
  {
   "cell_type": "code",
   "execution_count": 249,
   "metadata": {},
   "outputs": [],
   "source": [
    "musig.set_index(a.dfs['lab_2020-09-16_Co60_lowToT.root'].loc[:,['fpga','channel','chsq']].index,inplace=True)"
   ]
  },
  {
   "cell_type": "code",
   "execution_count": 250,
   "metadata": {},
   "outputs": [],
   "source": [
    "plotdf=pd.concat([a.dfs['lab_2020-09-16_Co60_lowToT.root'].loc[:,['fpga','channel','chsq']],musig],axis=1)"
   ]
  },
  {
   "cell_type": "code",
   "execution_count": 87,
   "metadata": {},
   "outputs": [
    {
     "data": {
      "text/plain": [
       "Text(0, 0.5, 'Reduced chi-squared')"
      ]
     },
     "execution_count": 87,
     "metadata": {},
     "output_type": "execute_result"
    }
   ],
   "source": [
    "fig=plt.figure()\n",
    "ax=fig.add_subplot(111)\n",
    "ax.bar((plotdf['fpga']*16 + plotdf['channel']),plotdf['mu']+plotdf['sigma'],width=0.8)\n",
    "ax.plot((plotdf['fpga']*16 + plotdf['channel']),np.repeat((plotdf['mu']+plotdf['sigma']).mean(),32),c='r',label=r'Mean $\\mu$ + $\\sigma$')\n",
    "ax.legend(loc='upper right')\n",
    "ax.set_ylabel(r\"Peak value over pedestal $\\mu$ + $\\sigma$\",fontsize=24)\n",
    "ax.set_xlabel(\"Channel\",fontsize=24)\n",
    "\n",
    "ax2=ax.twinx()\n",
    "ax2.scatter(plotdf['fpga']*16+plotdf['channel'],plotdf['chsq'],c='orange')\n",
    "ax2.set_ylabel('Reduced chi-squared',fontsize=24,c='orange')\n"
   ]
  },
  {
   "cell_type": "code",
   "execution_count": 256,
   "metadata": {},
   "outputs": [
    {
     "data": {
      "text/plain": [
       "array([1991.96237627952, 1797.1189086177656, 1918.8782117729638,\n",
       "       1447.445185029498, 1717.5877705567952, 1863.8131651612925,\n",
       "       2108.6485797096702, 1889.9650309289127, 1928.6620241000019,\n",
       "       2172.939212709755, 2475.2813174639573, 1704.543735481594,\n",
       "       1864.235927536786, 2134.9653267941685, 2120.4896031907347,\n",
       "       1813.0955780533795, 2091.82416488606, 2274.0581544049337,\n",
       "       2075.1462196562193, 2095.980730805861, 2521.3722232035984,\n",
       "       2236.855329565903, 2557.1756975927415, 2513.465506746996,\n",
       "       1854.0406165383372, 2295.1781235927065, 2528.0714819562827,\n",
       "       1864.4695462880636, 1809.695220336158, 2756.6747837218827,\n",
       "       2167.6268510093223, 1942.738853121493], dtype=object)"
      ]
     },
     "execution_count": 256,
     "metadata": {},
     "output_type": "execute_result"
    }
   ],
   "source": [
    "a.dfs['lab_2020-09-16_Co60_lowToT.root']['popt'].explode().values.reshape(-1,3)[:,:2].sum(axis=1)"
   ]
  },
  {
   "cell_type": "code",
   "execution_count": 252,
   "metadata": {},
   "outputs": [],
   "source": [
    "msig=plotdf['mu']+plotdf['sigma']"
   ]
  },
  {
   "cell_type": "code",
   "execution_count": 91,
   "metadata": {},
   "outputs": [],
   "source": [
    "msigplot=(msig-msig.mean())/msig.mean()"
   ]
  },
  {
   "cell_type": "code",
   "execution_count": 107,
   "metadata": {},
   "outputs": [
    {
     "data": {
      "text/plain": [
       "<matplotlib.legend.Legend at 0x7f79e79f6050>"
      ]
     },
     "execution_count": 107,
     "metadata": {},
     "output_type": "execute_result"
    }
   ],
   "source": [
    "plt.hist(msigplot,bins=bins,ec='b',alpha=0.3,label='all fits')\n",
    "plt.ylabel('Frequency',fontsize=24)"
   ]
  },
  {
   "cell_type": "code",
   "execution_count": 103,
   "metadata": {},
   "outputs": [
    {
     "data": {
      "text/plain": [
       "Text(0, 0.5, 'Frequency')"
      ]
     },
     "execution_count": 103,
     "metadata": {},
     "output_type": "execute_result"
    }
   ],
   "source": [
    "plt.hist(ofplot,ec='b')\n",
    "plt.ylabel('Frequency',fontsize=24)"
   ]
  },
  {
   "cell_type": "code",
   "execution_count": null,
   "metadata": {},
   "outputs": [],
   "source": []
  },
  {
   "cell_type": "code",
   "execution_count": 257,
   "metadata": {},
   "outputs": [],
   "source": [
    "a.individual_gauss_fit('lab_2020-09-16_Co60_lowToT.root')"
   ]
  },
  {
   "cell_type": "code",
   "execution_count": null,
   "metadata": {},
   "outputs": [],
   "source": []
  },
  {
   "cell_type": "code",
   "execution_count": null,
   "metadata": {},
   "outputs": [],
   "source": []
  },
  {
   "cell_type": "code",
   "execution_count": 90,
   "metadata": {},
   "outputs": [],
   "source": [
    "fa=a.dfs['lab_2020-09-16_Co60_lowToT.root']['fit'].explode().values.reshape(-1,47)"
   ]
  },
  {
   "cell_type": "code",
   "execution_count": 91,
   "metadata": {},
   "outputs": [],
   "source": [
    "da=a.dfs['lab_2020-09-16_Co60_lowToT.root']['data'].explode().values.reshape(-1,47)"
   ]
  },
  {
   "cell_type": "code",
   "execution_count": 92,
   "metadata": {},
   "outputs": [],
   "source": [
    "ea=a.dfs['lab_2020-09-16_Co60_lowToT.root']['error'].explode().values.reshape(-1,47)"
   ]
  },
  {
   "cell_type": "code",
   "execution_count": 116,
   "metadata": {},
   "outputs": [
    {
     "data": {
      "text/plain": [
       "array([[0.0, 1.0, 6.056697957265391, ..., 3.980175256539765,\n",
       "        3.2605919161056645, 2.874529402658323],\n",
       "       [0.0, 0.0, 4.71287661458214, ..., 2.856292087340931,\n",
       "        2.5854990304080205, 2.5546821226983214],\n",
       "       [0.0, 1.0, 4.406785631845245, ..., 3.3402709249234763,\n",
       "        2.384039602692034, 3.363750838539958],\n",
       "       ...,\n",
       "       [0.0, 0.0, 3.4183781171086927, ..., 6.501362050637648,\n",
       "        5.482328597829823, 5.405068278823978],\n",
       "       [0.0, 0.0, 4.039301091173795, ..., 4.68482662599591,\n",
       "        4.628311903226028, 4.79585856753858],\n",
       "       [0.0, 0.0, 4.565363709160117, ..., 3.4182521464633124,\n",
       "        3.9001022311584226, 3.3561133423736793]], dtype=object)"
      ]
     },
     "execution_count": 116,
     "metadata": {},
     "output_type": "execute_result"
    }
   ],
   "source": [
    "ea"
   ]
  },
  {
   "cell_type": "code",
   "execution_count": 122,
   "metadata": {},
   "outputs": [],
   "source": [
    "def chsq(obvs,exp,error):\n",
    "    return np.nansum((obvs-exp)**2/(error)**2)/32"
   ]
  },
  {
   "cell_type": "code",
   "execution_count": 123,
   "metadata": {},
   "outputs": [],
   "source": [
    "for i in range(da.shape[0]):\n",
    "    da[i][:np.argmax(da[i])]=1\n",
    "    ea[i][:np.argmax(da[i])]=1"
   ]
  },
  {
   "cell_type": "code",
   "execution_count": 124,
   "metadata": {},
   "outputs": [],
   "source": [
    "chisq=[]\n",
    "for i in range(32):\n",
    "    chisq.append(chsq(da[i],fa[i],ea[i]))"
   ]
  },
  {
   "cell_type": "code",
   "execution_count": 130,
   "metadata": {},
   "outputs": [],
   "source": [
    "dp=a.dfs['lab_2020-09-16_Co60_lowToT.root'].iloc[0]"
   ]
  },
  {
   "cell_type": "code",
   "execution_count": 136,
   "metadata": {},
   "outputs": [],
   "source": [
    "dp['data'][:np.argmax(dp['data'])]=1\n",
    "dp['error'][:np.argmax(dp['data'])]=1"
   ]
  },
  {
   "cell_type": "code",
   "execution_count": 137,
   "metadata": {},
   "outputs": [
    {
     "data": {
      "text/plain": [
       "20.55192710733036"
      ]
     },
     "execution_count": 137,
     "metadata": {},
     "output_type": "execute_result"
    }
   ],
   "source": []
  },
  {
   "cell_type": "code",
   "execution_count": 126,
   "metadata": {},
   "outputs": [
    {
     "name": "stderr",
     "output_type": "stream",
     "text": [
      "/home/nr1315/miniconda3/lib/python3.7/site-packages/numpy/core/fromnumeric.py:3335: RuntimeWarning: Mean of empty slice.\n",
      "  out=out, **kwargs)\n",
      "/home/nr1315/miniconda3/lib/python3.7/site-packages/numpy/core/_methods.py:161: RuntimeWarning: invalid value encountered in double_scalars\n",
      "  ret = ret.dtype.type(ret / rcount)\n"
     ]
    }
   ],
   "source": [
    "a.individual_gauss_fit(\"lab_2020-09-16_Co60_lowToT.root\",128,4096*1.5,2,\"lab_2020-09-16_bkg_lowToT.root\")"
   ]
  },
  {
   "cell_type": "code",
   "execution_count": 70,
   "metadata": {},
   "outputs": [
    {
     "name": "stderr",
     "output_type": "stream",
     "text": [
      "Traceback (most recent call last):\n",
      "  File \"/home/nr1315/miniconda3/lib/python3.7/site-packages/matplotlib/cbook/__init__.py\", line 216, in process\n",
      "    func(*args, **kwargs)\n",
      "  File \"<ipython-input-64-297fe46d0ff6>\", line 265, in key_event\n",
      "    ax1.plot(np.repeat(f['dmean'].values,100),np.linspace(0,max(f['data']),100),label='Dmean')\n",
      "AttributeError: 'numpy.float64' object has no attribute 'values'\n",
      "Traceback (most recent call last):\n",
      "  File \"/home/nr1315/miniconda3/lib/python3.7/site-packages/matplotlib/cbook/__init__.py\", line 216, in process\n",
      "    func(*args, **kwargs)\n",
      "  File \"<ipython-input-64-297fe46d0ff6>\", line 265, in key_event\n",
      "    ax1.plot(np.repeat(f['dmean'].values,100),np.linspace(0,max(f['data']),100),label='Dmean')\n",
      "AttributeError: 'numpy.float64' object has no attribute 'values'\n",
      "Traceback (most recent call last):\n",
      "  File \"/home/nr1315/miniconda3/lib/python3.7/site-packages/matplotlib/cbook/__init__.py\", line 216, in process\n",
      "    func(*args, **kwargs)\n",
      "  File \"<ipython-input-64-297fe46d0ff6>\", line 265, in key_event\n",
      "    ax1.plot(np.repeat(f['dmean'].values,100),np.linspace(0,max(f['data']),100),label='Dmean')\n",
      "AttributeError: 'numpy.float64' object has no attribute 'values'\n"
     ]
    }
   ],
   "source": [
    "a.individual_gauss_fit(\"lab_2020-09-16_Co60_lowToT_+90deg.root\",128,4096*1.5,2,\"lab_2020-09-16_bkg_lowToT.root\")"
   ]
  },
  {
   "cell_type": "code",
   "execution_count": 470,
   "metadata": {},
   "outputs": [
    {
     "name": "stderr",
     "output_type": "stream",
     "text": [
      "/home/nr1315/miniconda3/lib/python3.7/site-packages/scipy/optimize/minpack.py:808: OptimizeWarning: Covariance of the parameters could not be estimated\n",
      "  category=OptimizeWarning)\n"
     ]
    }
   ],
   "source": [
    "a.individual_gauss_fit(\"lab_2020-09-16_Co60_lowToT_+90deg_2.root\",128,4096*1.5,2,\"lab_2020-09-16_bkg_lowToT.root\")"
   ]
  },
  {
   "cell_type": "code",
   "execution_count": 112,
   "metadata": {},
   "outputs": [],
   "source": [
    "t=a.dfs['lab_2020-09-16_Co60_lowToT.root']['popt'].explode().values.reshape(-1,3)[:,:2]"
   ]
  },
  {
   "cell_type": "code",
   "execution_count": 110,
   "metadata": {},
   "outputs": [],
   "source": [
    "bad=np.max(a.dfs['lab_2020-09-16_Co60_lowToT.root']['data'].explode().values.reshape(-1,47),axis=1)<1000"
   ]
  },
  {
   "cell_type": "code",
   "execution_count": 113,
   "metadata": {},
   "outputs": [],
   "source": [
    "t[bad]=np.nan"
   ]
  },
  {
   "cell_type": "code",
   "execution_count": 115,
   "metadata": {},
   "outputs": [
    {
     "data": {
      "text/plain": [
       "array([2005.2357259586927, 1796.2790885764653, nan, nan,\n",
       "       1717.667741480521, 1865.7395519948554, nan, nan,\n",
       "       1929.2960703772037, 2172.9788969921856, nan, nan,\n",
       "       1815.0279835959268, 2145.2780759914544, nan, nan,\n",
       "       2091.8765467099656, 2273.932199341382, 2075.1249153751223,\n",
       "       2095.927747640033, 2525.1442093415762, 2236.972771598097,\n",
       "       2557.3438619566236, 2518.530544100811, 1853.8115095278542,\n",
       "       2295.7835470542655, 2528.202583788623, 1864.8204639704304, nan,\n",
       "       nan, nan, nan], dtype=object)"
      ]
     },
     "execution_count": 115,
     "metadata": {},
     "output_type": "execute_result"
    }
   ],
   "source": [
    "t.sum(axis=1)"
   ]
  },
  {
   "cell_type": "code",
   "execution_count": null,
   "metadata": {},
   "outputs": [],
   "source": []
  },
  {
   "cell_type": "code",
   "execution_count": 339,
   "metadata": {},
   "outputs": [],
   "source": [
    "a.plot_fits(\"lab_2020-09-16_Co60_lowToT.root\",int(4096*1.5/128),4096*1.5,coincidence_cut=2,bkg=\"lab_2020-09-16_bkg_lowToT.root\")"
   ]
  },
  {
   "cell_type": "code",
   "execution_count": null,
   "metadata": {},
   "outputs": [],
   "source": []
  },
  {
   "cell_type": "code",
   "execution_count": 95,
   "metadata": {},
   "outputs": [],
   "source": [
    "data=a.return_fits(\"lab_2020-09-16_Co60_lowToT_+90deg.root\")"
   ]
  },
  {
   "cell_type": "code",
   "execution_count": 108,
   "metadata": {},
   "outputs": [],
   "source": [
    "things=data.loc(axis=0)[:,['mu','sigma']].loc[:,0]"
   ]
  },
  {
   "cell_type": "code",
   "execution_count": 116,
   "metadata": {},
   "outputs": [],
   "source": [
    "musig=things.loc(axis=0)[:,'mu'].values+things.loc(axis=0)[:,'sigma'].values"
   ]
  },
  {
   "cell_type": "code",
   "execution_count": 118,
   "metadata": {},
   "outputs": [
    {
     "data": {
      "text/plain": [
       "array([1656.738765351417, 1736.6398661227547, 1864.9341686828245,\n",
       "       1528.7102260276474, 1538.829628979781, 1956.4564677250437,\n",
       "       2230.3820756583837, 2004.4377109236218, 1732.1272456322051,\n",
       "       1998.475717531963, 2629.1802715417825, 1552.6435270452957,\n",
       "       1647.382511138353, 2045.005424668539, 2031.1776739296183,\n",
       "       1981.4947827390733, 1781.9919501701224, 1877.541273112508,\n",
       "       1877.8093459825525, 1931.3707387796221, 1917.8903038639842,\n",
       "       1704.2557100283227, 2142.2314739669405, 2369.3507444208017,\n",
       "       1656.18096846347, 1909.183745815746, 2100.173144079446,\n",
       "       1998.5422381299145, 1622.3609757519466, 1954.0813481167777,\n",
       "       1823.9433031562621, 1734.9384975037296], dtype=object)"
      ]
     },
     "execution_count": 118,
     "metadata": {},
     "output_type": "execute_result"
    }
   ],
   "source": [
    "musig"
   ]
  },
  {
   "cell_type": "code",
   "execution_count": 5,
   "metadata": {},
   "outputs": [],
   "source": [
    "a.fit_halfgauss(\"lab_2020-09-16_Co60_lowToT_+90deg.root\",100,4096*1.5,coincidence_cut=2)#,bkg=\"lab_2020-09-16_bkg_lowToT.root\",plotbkg=False)"
   ]
  },
  {
   "cell_type": "code",
   "execution_count": 13,
   "metadata": {},
   "outputs": [],
   "source": [
    "dic=a.fits[\"lab_2020-09-16_Co60_lowToT_+90deg.root\"]"
   ]
  },
  {
   "cell_type": "code",
   "execution_count": 63,
   "metadata": {},
   "outputs": [],
   "source": [
    "dd=pd.DataFrame.from_dict(dic,orient='index').explode(0)"
   ]
  },
  {
   "cell_type": "code",
   "execution_count": 53,
   "metadata": {},
   "outputs": [],
   "source": [
    "arr=np.array(['mu','sigma','amp'])"
   ]
  },
  {
   "cell_type": "code",
   "execution_count": 54,
   "metadata": {},
   "outputs": [],
   "source": [
    "tt=np.unique(dd.index)"
   ]
  },
  {
   "cell_type": "code",
   "execution_count": 64,
   "metadata": {},
   "outputs": [],
   "source": [
    "mult=pd.MultiIndex.from_product([tt,arr])"
   ]
  },
  {
   "cell_type": "code",
   "execution_count": null,
   "metadata": {},
   "outputs": [],
   "source": []
  },
  {
   "cell_type": "code",
   "execution_count": 67,
   "metadata": {},
   "outputs": [
    {
     "data": {
      "text/plain": [
       "(fpga 0, channel 0)   mu       730.667\n",
       "                      sigma    926.072\n",
       "                      amp      1605.61\n",
       "(fpga 0, channel 1)   mu       887.729\n",
       "                      sigma    848.911\n",
       "                                ...   \n",
       "(fpga 1, channel 14)  sigma    898.229\n",
       "                      amp      1272.87\n",
       "(fpga 1, channel 15)  mu       1023.24\n",
       "                      sigma      711.7\n",
       "                      amp      1942.45\n",
       "Name: 0, Length: 96, dtype: object"
      ]
     },
     "execution_count": 67,
     "metadata": {},
     "output_type": "execute_result"
    }
   ],
   "source": [
    "dd.set_index(arrs).loc[:,0]"
   ]
  },
  {
   "cell_type": "code",
   "execution_count": 42,
   "metadata": {},
   "outputs": [
    {
     "data": {
      "text/plain": [
       "(fpga 0, channel 0)     730.667\n",
       "(fpga 0, channel 0)     926.072\n",
       "(fpga 0, channel 0)     1605.61\n",
       "(fpga 0, channel 1)     887.729\n",
       "(fpga 0, channel 1)     848.911\n",
       "                         ...   \n",
       "(fpga 1, channel 14)    898.229\n",
       "(fpga 1, channel 14)    1272.87\n",
       "(fpga 1, channel 15)    1023.24\n",
       "(fpga 1, channel 15)      711.7\n",
       "(fpga 1, channel 15)    1942.45\n",
       "Name: 0, Length: 96, dtype: object"
      ]
     },
     "execution_count": 42,
     "metadata": {},
     "output_type": "execute_result"
    }
   ],
   "source": [
    "dd"
   ]
  },
  {
   "cell_type": "code",
   "execution_count": 19,
   "metadata": {},
   "outputs": [],
   "source": [
    "a.hist(\"lab_2020-09-16_Co60_lowToT_+90deg.root\",100,4096*1.5,bkg=\"lab_2020-09-16_bkg_lowToT.root\",coincidence_cut=2)"
   ]
  },
  {
   "cell_type": "code",
   "execution_count": 10,
   "metadata": {},
   "outputs": [],
   "source": [
    "cent,bar=np.unique(a.data[\"lab_2020-09-16_Co60_lowToT_+90deg.root\"]['coincidence'],return_counts=True)"
   ]
  },
  {
   "cell_type": "code",
   "execution_count": 17,
   "metadata": {},
   "outputs": [],
   "source": [
    "plt.bar(cent,bar,width=1)\n",
    "plt.show()"
   ]
  },
  {
   "cell_type": "code",
   "execution_count": 16,
   "metadata": {},
   "outputs": [],
   "source": [
    "cent2,bar2=np.unique(a.data[\"lab_2020-09-16_bkg_lowToT.root\"]['coincidence'],return_counts=True)\n",
    "plt.bar(cent2,bar2,width=1)\n",
    "plt.show()"
   ]
  },
  {
   "cell_type": "code",
   "execution_count": 21,
   "metadata": {},
   "outputs": [],
   "source": [
    "ratio=a.data['lab_2020-09-16_Co60_lowToT_+90deg.root']['time'].values[-1]/a.data[\"lab_2020-09-16_bkg_lowToT.root\"]['time'].values[-1]"
   ]
  },
  {
   "cell_type": "code",
   "execution_count": 22,
   "metadata": {},
   "outputs": [
    {
     "data": {
      "text/plain": [
       "0.5614473464607604"
      ]
     },
     "execution_count": 22,
     "metadata": {},
     "output_type": "execute_result"
    }
   ],
   "source": [
    "ratio"
   ]
  },
  {
   "cell_type": "code",
   "execution_count": 24,
   "metadata": {},
   "outputs": [],
   "source": [
    "bar3=bar2*ratio"
   ]
  },
  {
   "cell_type": "code",
   "execution_count": 25,
   "metadata": {},
   "outputs": [
    {
     "name": "stderr",
     "output_type": "stream",
     "text": [
      "/home/nr1315/miniconda3/lib/python3.7/site-packages/ipykernel_launcher.py:4: MatplotlibDeprecationWarning: Passing the block parameter of show() positionally is deprecated since Matplotlib 3.1; the parameter will become keyword-only in 3.3.\n",
      "  after removing the cwd from sys.path.\n"
     ]
    }
   ],
   "source": [
    "plt.bar(cent,bar,width=1,alpha=0.3,label='Data')\n",
    "plt.bar(cent2,bar3,width=1,alpha=0.3,label='bkg')\n",
    "plt.legend(loc='upper right')\n",
    "plt.show()"
   ]
  },
  {
   "cell_type": "code",
   "execution_count": null,
   "metadata": {},
   "outputs": [],
   "source": []
  },
  {
   "cell_type": "code",
   "execution_count": null,
   "metadata": {},
   "outputs": [],
   "source": []
  },
  {
   "cell_type": "code",
   "execution_count": 157,
   "metadata": {},
   "outputs": [],
   "source": [
    "maxval=4096*1.5\n",
    "nbins=int(4096*1.5/128)\n",
    "bins=np.linspace(0,4096*1.5,nbins)\n",
    "space=maxval/nbins\n",
    "centres=(bins+space/2)[:-1]"
   ]
  },
  {
   "cell_type": "code",
   "execution_count": 223,
   "metadata": {},
   "outputs": [],
   "source": [
    "b=a.binning(\"lab_2020-09-16_Co60_lowToT_+90deg.root\",bins,0,0,2,bkg=\"lab_2020-09-16_bkg_lowToT.root\")"
   ]
  },
  {
   "cell_type": "code",
   "execution_count": 201,
   "metadata": {},
   "outputs": [],
   "source": [
    "def half_gauss(x,mu,sigma,amp):\n",
    "    return np.heaviside(x-mu,1)*amp*np.exp(-1*(x-mu)**2/(2*sigma**2) + np.heaviside(mu-x,0))\n",
    "\n",
    "def sig_gauss(x,mu,sigma,amp,L,k,x0):\n",
    "    return np.heaviside(mu-x,0)*L/(1+np.exp(-1*k*(x-x0))) + np.heaviside(x-mu,1)*amp*np.exp(-1*(x-mu)**2/(2*sigma**2))"
   ]
  },
  {
   "cell_type": "code",
   "execution_count": 160,
   "metadata": {},
   "outputs": [],
   "source": [
    "from scipy.optimize import curve_fit\n",
    "from scipy.stats import halfnorm\n",
    "from matplotlib import gridspec"
   ]
  },
  {
   "cell_type": "code",
   "execution_count": 194,
   "metadata": {},
   "outputs": [],
   "source": [
    "p0=[1000,200]"
   ]
  },
  {
   "cell_type": "code",
   "execution_count": 224,
   "metadata": {},
   "outputs": [],
   "source": [
    "p00=[1000,200,500]"
   ]
  },
  {
   "cell_type": "code",
   "execution_count": 185,
   "metadata": {},
   "outputs": [],
   "source": [
    "p1=[1000,200,500,2000,5,750]"
   ]
  },
  {
   "cell_type": "code",
   "execution_count": 225,
   "metadata": {},
   "outputs": [],
   "source": [
    "b2=np.copy(b)"
   ]
  },
  {
   "cell_type": "code",
   "execution_count": 226,
   "metadata": {},
   "outputs": [],
   "source": [
    "b2[:np.argmax(b2)]=0"
   ]
  },
  {
   "cell_type": "code",
   "execution_count": 206,
   "metadata": {},
   "outputs": [],
   "source": [
    "popt,pcov=curve_fit(lambda x, mu, sigma: half_gauss(x,mu,sigma,max(b2)),centres,b2,p0)#,sigma=np.sqrt(b2))"
   ]
  },
  {
   "cell_type": "code",
   "execution_count": 227,
   "metadata": {},
   "outputs": [],
   "source": [
    "popt,pcov=curve_fit(half_gauss,centres,b2,p00)"
   ]
  },
  {
   "cell_type": "code",
   "execution_count": 228,
   "metadata": {},
   "outputs": [
    {
     "data": {
      "text/plain": [
       "(array([848.34038326, 809.2806373 , 838.92073211]),\n",
       " array([[ 2588.11640632, -1524.35590144,  -657.09222504],\n",
       "        [-1524.35590144,  1047.48023051,   315.92374105],\n",
       "        [ -657.09222504,   315.92374105,   277.37197929]]))"
      ]
     },
     "execution_count": 228,
     "metadata": {},
     "output_type": "execute_result"
    }
   ],
   "source": [
    "popt,pcov"
   ]
  },
  {
   "cell_type": "code",
   "execution_count": 229,
   "metadata": {},
   "outputs": [],
   "source": [
    "fit=half_gauss(centres,popt[0],popt[1],popt[2])"
   ]
  },
  {
   "cell_type": "code",
   "execution_count": 71,
   "metadata": {},
   "outputs": [
    {
     "name": "stderr",
     "output_type": "stream",
     "text": [
      "/home/nr1315/miniconda3/lib/python3.7/site-packages/ipykernel_launcher.py:5: RuntimeWarning: overflow encountered in exp\n",
      "  \"\"\"\n"
     ]
    }
   ],
   "source": [
    "fit1=sig_gauss(centres,popt1[0],popt1[1],popt1[2],popt1[3],popt1[4],popt1[5])"
   ]
  },
  {
   "cell_type": "code",
   "execution_count": 100,
   "metadata": {},
   "outputs": [],
   "source": [
    "plt.bar(centres,b,width=space,alpha=0.3)\n",
    "plt.plot(centres,fit,c='r')\n",
    "plt.plot(np.repeat(popt[0]+popt[1],100),np.linspace(0,max(b),100))\n",
    "plt.show()"
   ]
  },
  {
   "cell_type": "code",
   "execution_count": 72,
   "metadata": {},
   "outputs": [],
   "source": [
    "plt.bar(centres,b,width=space,alpha=0.3)\n",
    "plt.plot(centres,fit1,c='r')\n",
    "plt.plot(np.repeat(popt[0]+popt[1],100),np.linspace(0,max(b),100))\n",
    "plt.show()"
   ]
  },
  {
   "cell_type": "code",
   "execution_count": null,
   "metadata": {},
   "outputs": [],
   "source": []
  },
  {
   "cell_type": "code",
   "execution_count": null,
   "metadata": {},
   "outputs": [],
   "source": []
  },
  {
   "cell_type": "code",
   "execution_count": 131,
   "metadata": {},
   "outputs": [
    {
     "data": {
      "text/plain": [
       "array([0.00000000e+00, 0.00000000e+00, 0.00000000e+00, 0.00000000e+00,\n",
       "       0.00000000e+00, 0.00000000e+00, 1.84824866e+03, 1.80845166e+03,\n",
       "       1.74401845e+03, 1.65765030e+03, 1.55286043e+03, 1.43373736e+03,\n",
       "       1.30468133e+03, 1.17013767e+03, 1.03434911e+03, 9.01145659e+02,\n",
       "       7.73785371e+02, 6.54852821e+02, 5.46216179e+02, 4.49037989e+02,\n",
       "       3.63830647e+02, 2.90544822e+02, 2.28678150e+02, 1.77391935e+02,\n",
       "       1.35625308e+02, 1.02198677e+02, 7.59009966e+01, 5.55580957e+01,\n",
       "       4.00815855e+01, 2.84996878e+01, 1.99725254e+01, 1.37950579e+01,\n",
       "       9.39099792e+00, 6.30082806e+00, 4.16659397e+00, 2.71557875e+00,\n",
       "       1.74438077e+00, 1.10437826e+00, 6.89115591e-01, 4.23802946e-01,\n",
       "       2.56881918e-01, 1.53461969e-01, 9.03578039e-02, 5.24358408e-02,\n",
       "       2.99908292e-02, 1.69062147e-02, 9.39294878e-03])"
      ]
     },
     "execution_count": 131,
     "metadata": {},
     "output_type": "execute_result"
    }
   ],
   "source": [
    "fit"
   ]
  },
  {
   "cell_type": "code",
   "execution_count": 230,
   "metadata": {},
   "outputs": [
    {
     "name": "stderr",
     "output_type": "stream",
     "text": [
      "/home/nr1315/miniconda3/lib/python3.7/site-packages/ipykernel_launcher.py:1: RuntimeWarning: invalid value encountered in sqrt\n",
      "  \"\"\"Entry point for launching an IPython kernel.\n",
      "/home/nr1315/miniconda3/lib/python3.7/site-packages/ipykernel_launcher.py:1: RuntimeWarning: invalid value encountered in true_divide\n",
      "  \"\"\"Entry point for launching an IPython kernel.\n"
     ]
    }
   ],
   "source": [
    "resid=(b2-fit)/np.sqrt(b2)"
   ]
  },
  {
   "cell_type": "code",
   "execution_count": null,
   "metadata": {},
   "outputs": [],
   "source": [
    "fig=plt.figure(figsize=(8,6))\n",
    "gs=gridspec.GridSpec(2,1,height_ratios=[3,1])"
   ]
  },
  {
   "cell_type": "code",
   "execution_count": 234,
   "metadata": {},
   "outputs": [],
   "source": [
    "fig,(ax1,ax2)=plt.subplots(2,1,gridspec_kw={'height_ratios':[3,1]})\n",
    "ax1.bar(centres,b,width=space,alpha=0.3,label='Data')\n",
    "ax1.plot(centres,fit,c='r',label='Fit')\n",
    "ax1.set_xlabel('Peak value over pedestal',fontsize=20)\n",
    "ax1.set_ylabel('Frequency',fontsize=20)\n",
    "ax1.set_xlim(0,6000)\n",
    "ax1.plot(np.repeat(popt[0]+popt[1],100),np.linspace(0,max(b),100),label=r'Fit $\\mu$ + $\\sigma$')\n",
    "ax1.legend(loc='upper right')\n",
    "ax1.text(1600,2000,r\"$\\mu$ + $\\sigma$ = \"+str(int(popt[0]+popt[1])))\n",
    "\n",
    "ax2.scatter(centres,resid,marker='+')\n",
    "ax2.set_ylabel(r'Residuals / $\\sigma$',fontsize=20)\n",
    "ax2.set_xlim(0,6000)\n",
    "ma=np.nanmax(np.abs(resid))+1\n",
    "ax2.set_ylim(-1*ma,ma)\n",
    "ax2.fill_between((0,6000),(-1,-1),(1,1),alpha=0.3,label=r'1 $\\sigma$')\n",
    "ax2.legend(loc='upper right')\n",
    "fig.suptitle(\"FPGA 0, channel 0\",fontsize=24)\n",
    "plt.show()"
   ]
  },
  {
   "cell_type": "code",
   "execution_count": null,
   "metadata": {},
   "outputs": [],
   "source": []
  },
  {
   "cell_type": "code",
   "execution_count": null,
   "metadata": {},
   "outputs": [],
   "source": [
    "d=data.query('fpga=={}&channel=={}&coincidence=={}'.format(fpga,channel,coincidence_cut))\n",
    "        dhist,dbins=np.histogram(d['subtracted'],bins=bins)\n",
    "        if bkg is not None:\n",
    "            back=self.data[bkg]\n",
    "            b=back.query('fpga=={}&channel=={}&coincidence=={}'.format(fpga,channel,coincidence_cut))\n",
    "            bhist,bbins=np.histogram(b['subtracted'],bins=bins)\n",
    "            ratio=min(d['time'].values[-1],b['time'].values[-1])/max(d['time'].values[-1],b['time'].values[-1])\n",
    "            if plotbkg:\n",
    "                return bhist\n",
    "            else:\n",
    "                if d['time'].values[-1]>b['time'].values[-1]:\n",
    "                    subhist=dhist*ratio-bhist\n",
    "                else:\n",
    "                    subhist=dhist-ratio*bhist\n",
    "                return subhist\n",
    "        else:"
   ]
  },
  {
   "cell_type": "code",
   "execution_count": null,
   "metadata": {},
   "outputs": [],
   "source": []
  },
  {
   "cell_type": "code",
   "execution_count": 3,
   "metadata": {},
   "outputs": [],
   "source": [
    "b=CouplingAnalysis(100)\n",
    "b.add_data(\"lab_2020-09-16_Co60_lowToT.root\")\n",
    "b.add_data(\"lab_2020-09-16_bkg_lowToT.root\")"
   ]
  },
  {
   "cell_type": "code",
   "execution_count": 4,
   "metadata": {},
   "outputs": [],
   "source": [
    "maxval=4096*1.5\n",
    "nbins=int(maxval/128)\n",
    "space=maxval/nbins\n",
    "bins=np.linspace(0,maxval,nbins)\n",
    "centres=(bins+space/2)[:-1]\n",
    "data=b.data[\"lab_2020-09-16_Co60_lowToT.root\"]\n",
    "bkg=b.data[\"lab_2020-09-16_bkg_lowToT.root\"]"
   ]
  },
  {
   "cell_type": "code",
   "execution_count": 5,
   "metadata": {},
   "outputs": [
    {
     "name": "stdout",
     "output_type": "stream",
     "text": [
      "123292941468\n",
      "169948454555\n"
     ]
    }
   ],
   "source": [
    "d=data.query('fpga==0&channel==12&coincidence==2')\n",
    "dhist,dbins=np.histogram(d['subtracted'],bins=bins)\n",
    "b=bkg.query('fpga==0&channel==0&coincidence==2')\n",
    "bhist,bbins=np.histogram(b['subtracted'],bins=bins)\n",
    "dt=d['time'].values[-1]\n",
    "bt=b['time'].values[-1]\n",
    "print(dt)\n",
    "print(bt)\n",
    "if dt>bt:\n",
    "    ratio=bt/dt\n",
    "    subhist=ratio*dhist-bhist\n",
    "    suberror=np.sqrt(ratio**2*dhist + bhist)\n",
    "elif dt<bt:\n",
    "    ratio=dt/bt\n",
    "    subhist=dhist-ratio*bhist\n",
    "    subhist[:np.argmax(subhist)]=1\n",
    "    suberror=np.sqrt(dhist+ratio**2*bhist)\n",
    "    suberror[:np.argmax(subhist)]=1\n",
    "else:\n",
    "    subhist=dhist-bhist\n",
    "    subhist[:np.argmax(subhist)]=1\n",
    "    suberror=np.sqrt(dhist+bhist)\n",
    "    suberror[:np.argmax(subhist)]=1"
   ]
  },
  {
   "cell_type": "code",
   "execution_count": 39,
   "metadata": {},
   "outputs": [
    {
     "data": {
      "text/plain": [
       "791.280134162798"
      ]
     },
     "execution_count": 39,
     "metadata": {},
     "output_type": "execute_result"
    }
   ],
   "source": [
    "np.sqrt(d['subtracted'].var())"
   ]
  },
  {
   "cell_type": "code",
   "execution_count": 6,
   "metadata": {},
   "outputs": [],
   "source": [
    "def half_gauss(x,mu,sigma,amp):\n",
    "    return np.heaviside(x-mu,1)*amp*np.exp(-1*(x-mu)**2/(2*sigma**2)) + np.heaviside(mu-x,0)"
   ]
  },
  {
   "cell_type": "code",
   "execution_count": 40,
   "metadata": {},
   "outputs": [],
   "source": [
    "p0=[max(subhist),1.5*centres[np.argmax(subhist)],max(subhist)]\n",
    "p1=[d['subtracted'].mean(),np.sqrt(d['subtracted'].var()),max(subhist)]\n",
    "popt,pcov=curve_fit(half_gauss,centres,subhist,p1,sigma=suberror)"
   ]
  },
  {
   "cell_type": "code",
   "execution_count": 41,
   "metadata": {},
   "outputs": [
    {
     "data": {
      "text/plain": [
       "array([1348.60951081,  530.36117474, 3552.19250735])"
      ]
     },
     "execution_count": 41,
     "metadata": {},
     "output_type": "execute_result"
    }
   ],
   "source": [
    "popt"
   ]
  },
  {
   "cell_type": "code",
   "execution_count": 42,
   "metadata": {},
   "outputs": [],
   "source": [
    "fit=half_gauss(centres,popt[0],popt[1],popt[2])"
   ]
  },
  {
   "cell_type": "code",
   "execution_count": 43,
   "metadata": {},
   "outputs": [],
   "source": [
    "resid=(subhist-fit)/suberror"
   ]
  },
  {
   "cell_type": "code",
   "execution_count": 44,
   "metadata": {},
   "outputs": [],
   "source": [
    "fig,(ax1,ax2)=plt.subplots(2,1,gridspec_kw={'height_ratios':[3,1]})\n",
    "ax1.bar(centres,subhist,width=space,alpha=0.3,label='Data')\n",
    "ax1.plot(centres,fit,c='r',label='Fit')\n",
    "ax1.set_xlabel('Peak value over pedestal',fontsize=20)\n",
    "ax1.set_ylabel('Frequency',fontsize=20)\n",
    "ax1.set_xlim(0,6000)\n",
    "ax1.plot(np.repeat(popt[0]+popt[1],100),np.linspace(0,max(subhist),100),label=r'Fit $\\mu$ + $\\sigma$')\n",
    "ax1.legend(loc='upper right')\n",
    "ax1.text(1600,2000,r\"$\\mu$ + $\\sigma$ = \"+str(int(popt[0]+popt[1])))\n",
    "\n",
    "ax2.scatter(centres,resid,marker='+')\n",
    "ax2.set_ylabel(r'Residuals / $\\sigma$',fontsize=20)\n",
    "ax2.set_xlim(0,6000)\n",
    "ma=np.nanmax(np.abs(resid))+1\n",
    "ax2.set_ylim(-1*ma,ma)\n",
    "ax2.fill_between((0,6000),(-1,-1),(1,1),alpha=0.3,label=r'1 $\\sigma$')\n",
    "ax2.legend(loc='upper right')\n",
    "fig.suptitle(\"FPGA 0, channel 0\",fontsize=24)\n",
    "plt.show()"
   ]
  },
  {
   "cell_type": "code",
   "execution_count": 380,
   "metadata": {},
   "outputs": [],
   "source": [
    "d={'fpga':0,'channel':0,'centres':centres,'data':subhist,'space':space,'popt':popt,'fit':fit,'residuals':resid}"
   ]
  },
  {
   "cell_type": "code",
   "execution_count": 385,
   "metadata": {},
   "outputs": [],
   "source": [
    "df=pd.DataFrame.from_dict(d,orient='index').transpose()"
   ]
  },
  {
   "cell_type": "code",
   "execution_count": 403,
   "metadata": {},
   "outputs": [
    {
     "data": {
      "text/plain": [
       "1854.1223950872811"
      ]
     },
     "execution_count": 403,
     "metadata": {},
     "output_type": "execute_result"
    }
   ],
   "source": [
    "df.iloc[0]['popt'][:2].sum()"
   ]
  }
 ],
 "metadata": {
  "kernelspec": {
   "display_name": "Python 3",
   "language": "python",
   "name": "python3"
  },
  "language_info": {
   "codemirror_mode": {
    "name": "ipython",
    "version": 3
   },
   "file_extension": ".py",
   "mimetype": "text/x-python",
   "name": "python",
   "nbconvert_exporter": "python",
   "pygments_lexer": "ipython3",
   "version": "3.7.6"
  }
 },
 "nbformat": 4,
 "nbformat_minor": 4
}
