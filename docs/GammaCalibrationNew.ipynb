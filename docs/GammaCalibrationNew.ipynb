{
 "cells": [
  {
   "cell_type": "code",
   "execution_count": 26,
   "id": "3fb9c35b",
   "metadata": {},
   "outputs": [],
   "source": [
    "import scipy.constants as c\n",
    "import numpy as np"
   ]
  },
  {
   "cell_type": "code",
   "execution_count": 9,
   "id": "2017cfae",
   "metadata": {},
   "outputs": [],
   "source": [
    "r_e = c.physical_constants['classical electron radius'][0]\n",
    "m_e_keV = c.m_e*c.c**2/c.e/1e3"
   ]
  },
  {
   "cell_type": "code",
   "execution_count": 10,
   "id": "cb3e3407",
   "metadata": {},
   "outputs": [
    {
     "data": {
      "text/plain": [
       "510.9989499961642"
      ]
     },
     "execution_count": 10,
     "metadata": {},
     "output_type": "execute_result"
    }
   ],
   "source": [
    "m_e_keV"
   ]
  },
  {
   "cell_type": "code",
   "execution_count": 12,
   "id": "d71968bb",
   "metadata": {},
   "outputs": [],
   "source": [
    "def KleinNishima(T,E0):\n",
    "    a = E0/m_e_keV\n",
    "    prefactor = np.pi*r_e**2/(m_e_keV*a**2)\n",
    "    return prefactor*(2 + (T/(E0-T))**2*(1/a**2 + (E0-T)/E0 - 2/a*(E0-T)/T))"
   ]
  },
  {
   "cell_type": "code",
   "execution_count": 13,
   "id": "6ee50b6e",
   "metadata": {},
   "outputs": [],
   "source": [
    "def ComptonEdge(E0):\n",
    "    return E0*(1 - 1/(1 + 2*E0/m_e_keV))"
   ]
  },
  {
   "cell_type": "code",
   "execution_count": 15,
   "id": "ae374f53",
   "metadata": {},
   "outputs": [],
   "source": [
    "def Gaussian(T,x,sig):\n",
    "    return 1/(np.sqrt(2*np.pi)*sig*np.sqrt(T))*np.exp(-0.5*(x-T)**2/(sig**2*T))"
   ]
  },
  {
   "cell_type": "code",
   "execution_count": 16,
   "id": "3b7035e9",
   "metadata": {},
   "outputs": [],
   "source": [
    "from scipy.integrate import quad"
   ]
  },
  {
   "cell_type": "code",
   "execution_count": 17,
   "id": "cbe76c88",
   "metadata": {},
   "outputs": [],
   "source": [
    "E0 = 1173.2"
   ]
  },
  {
   "cell_type": "code",
   "execution_count": 21,
   "id": "99d6c853",
   "metadata": {},
   "outputs": [
    {
     "data": {
      "text/plain": [
       "<function __main__.<lambda>(x)>"
      ]
     },
     "execution_count": 21,
     "metadata": {},
     "output_type": "execute_result"
    }
   ],
   "source": [
    "sig = 1\n",
    "lambda x : quad(lambda T : Gaussian(T,x,sig)*KleinNishima(T,E0)(T),0,ComptonEdge(E0))(0)"
   ]
  },
  {
   "cell_type": "code",
   "execution_count": 29,
   "id": "dd045a22",
   "metadata": {},
   "outputs": [],
   "source": [
    "def calc_x_integral(x,T):\n",
    "    return quad(lambda T : Gaussian(T,x,sig)*KleinNishima(T,E0),0,ComptonEdge(E0))"
   ]
  },
  {
   "cell_type": "code",
   "execution_count": 35,
   "id": "358286e1",
   "metadata": {},
   "outputs": [
    {
     "data": {
      "text/plain": [
       "(1.8291920456600152e-32, 3.073422864183561e-32)"
      ]
     },
     "execution_count": 35,
     "metadata": {},
     "output_type": "execute_result"
    }
   ],
   "source": [
    "calc_x_integral(200,500)"
   ]
  },
  {
   "cell_type": "code",
   "execution_count": null,
   "id": "46d85d0b",
   "metadata": {},
   "outputs": [],
   "source": [
    "quad(lambda T : Gaussian(T,x,sig)*KleinNishima(T,E0))"
   ]
  },
  {
   "cell_type": "code",
   "execution_count": null,
   "id": "b9ebf8a1",
   "metadata": {},
   "outputs": [],
   "source": [
    "def IntegralFunction(x,T,E0,sig):\n",
    "    integral = quad(KleinNishima*Gaussian,)"
   ]
  }
 ],
 "metadata": {
  "kernelspec": {
   "display_name": "Python 3 (ipykernel)",
   "language": "python",
   "name": "python3"
  },
  "language_info": {
   "codemirror_mode": {
    "name": "ipython",
    "version": 3
   },
   "file_extension": ".py",
   "mimetype": "text/x-python",
   "name": "python",
   "nbconvert_exporter": "python",
   "pygments_lexer": "ipython3",
   "version": "3.7.6"
  }
 },
 "nbformat": 4,
 "nbformat_minor": 5
}
