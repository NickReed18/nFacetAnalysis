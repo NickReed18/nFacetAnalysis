{
 "cells": [
  {
   "cell_type": "markdown",
   "id": "dd6f36b0",
   "metadata": {},
   "source": [
    "# Neural network for dose measurement"
   ]
  },
  {
   "cell_type": "markdown",
   "id": "81434f7f",
   "metadata": {},
   "source": [
    "### Introduction and motivation\n",
    "In modern dosimetry, the gold standard of radiation dose measurement is _effective dose_. This quantity is defined as a sum over dose to each major organ in the human body, weighted by a set of _tissue weighting factors_ that encode the average risk to health of a dose to that organ. This is a complex and difficult measurement to make, as many modern dosimeters are either optimised for field direction measurement or a fluence measurement. For example, for a Bonner sphere spectrometer, measuring effective dose is a time-consuming and computationally intensive process that requires careful measurement of the radiation field with varying size of polyethylene sphere and a complex unfolding algorithm to reconstruct the fluence, and this still lacks directional information about the field. \n",
    "\n",
    "In contrast, the segmentation of nFacet 3D encodes both the direction and the energy of an incident neutron field. This can be visualised through the direction and intensity of attenuation of neutron count in the detector cubes. There are therefore two components to measuring the effective dose: reconstructing the fluence of the incident neutron field, and the direction of incidence of the neutrons. Here an artificial neural network (ANN) is applied for fluence reconstrunction, as once trained this is a fast method for reconstructing the fluence without need for a complex unfolding algorithm. \n",
    "\n",
    "### Training inputs\n",
    "The neutron fluence is encoded in the distribution of counts across cubes in the detector, and as a result these counts are a natural choice for the neural network inputs. The data used for training the network was generated using a Geant4 simulation of the nFacet detector with the detector inside a Geant4 model of the low scattering facility at NPL. The geometry of this setup can be seen below.\n",
    "\n",
    "**MAKE SCHEMATICS (x-y, y-z)**\n",
    "\n",
    "The neutron spectrum of the source is specified at runtime, and each generated neutron is tracked until capture or reaching zero energy. The simulated detector registers counts for neutron capture on $^{6}$LiF:ZnS(Ag) and on PVT, and these two cases can be distinguished based on the particles remaining at the end of the track of a given neutron. The cube each hit occurs in is registered and saved, and individual neutrons can be grouped by the ID of the cube they capture in. \n",
    "\n",
    "A unique ID number is assigned to each cube and the cube-level counts are flattened into a 1D array for input into the neural network. As the counts are normalised to sum to 1, the input given to the network is the fraction of counts in each cube.  \n",
    "\n",
    "There is also additional information encoded in the bulk response of the detector to an applied neutron field. By summing the counts in planes  of cubes across the detector, we obtain 4 bins for each coordinate axis (X, Y and Z) which encode the attenuation length of the applied field in each of these directions. This can be appended to the cube-counts to produce a 76-length array as an input to the network. Each set of planes is normalised to 1 so that there is equal weighting between the cube counts and each set of plane counts.\n",
    "\n",
    "As discussed in [**put link to real vs sim here]**, there is good agreement between the results of the simulation and real-world data. As a result we use simulated data for training the neural network model, as it is easier and  much cheaper to obtain than real datasets, whilst still describing the real situation well. \n",
    "\n",
    "For this analysis, we assume a 3% uncertainty on the fractional counts in each cube or plane. This corresponds to a real measurement of approximately 64,000 neutrons which in turn gives an average of 1000 neutrons per detector cube, which results in a 3% Poisson error. By the central limit theorem, this is equivalent to a 3% Gaussian error as  This is well motivated as this is size of dataset can be taken in ~10s of minutes at a source neutron rate of ~100 Hz, depending on the energy of the source. To augment the training dataset we take statistical resamples of each unique training data point, assuming the same 3% Gaussian uncertainty. This allows the network to learn the true distribution of cube counts for a given source, rather than learning the noise in the initial data points.\n",
    "\n",
    "### Training targets\n",
    "\n",
    "The aim of this analysis is to reconstruct the fluence of the applied neutron field. In order to do this, the targets are taken to be a binned representation of the true fluence of each source. The specific energy binning scheme depends on the energy resolution of the detector, and we determine appropriate bin boundaries by looking for sources that the detector has sufficient resolution to distinguish. We calculate the absolute percentage difference of count in each cube between the two sources of interest, and any cubes with a difference greater than 3$\\sigma$ are deemed statistically distinguishable. We require that at least 75% of the cube counts are distinguishable in this way for two sources to be distinguishable. An example comparison of this kind is shown in Figure {NUMBER}.\n",
    "\n",
    "![100keV thermal comparison](Plots/resid_comparison_100k_thermal.png)\n",
    "\n",
    "**Figure 1**: comparison between thermal and 100 keV neutron datasets. **Top**: the counts per cube in each dataset, along with the associated uncertainty. Total counts are normalised to 64,000 per dataset. **Bottom**: relative percentage difference between the two datasets. The red bins indicate cubes which are deemed to be statistically indistinguishable, as described above.\n",
    "\n",
    "**INCLUDE EXAMPLE PLOTS TO SHOW DISTINGUISHABLE SOURCES, REFERENCE APPENDIX TO SHOW ALL PLOTS?** \n",
    "\n",
    "### Choice of training dataset\n",
    "\n",
    "The training dataset comprised of several purely monoenergetic sources and some monoenergetic sources with a Gaussian spread, of various sizes. The full selection of sources used for training can be seen in the table below. The sources were selected such that each bin in the fluence targets would have the same number of training data points. \n",
    "\n",
    "| Type of source | Source energy | Source Gaussian spread | \n",
    "|----------------|---------------|------------------------|\n",
    "| Pure monoenergetic | Thermal (0.025 eV) | N/A |\n",
    "| | 200, 400, 800 keV | N/A |\n",
    "| | 2, 5 MeV | N/A |\n",
    "| Gaussian | 1, 10, 25, 40 eV | 10 eV |\n",
    "| | 50, 150, 250, 350, 450, 550, 650, 750, 850, 950 keV | 100 keV |\n",
    "| | 1 MeV | 200 keV |\n",
    "| | 1.4, 1.6 MeV | 100 keV |\n",
    "| | 2.5, 3, 3.5, 4, 4.5 MeV | 250 keV |\n",
    "| | 7, 9, 14, 18, 22, 26, 30 MeV | 1 MeV |\n",
    "| | 40, 55, 70, 85, 100 MeV | 5 MeV |\n",
    "\n",
    "\n",
    "### Neural network architecture\n",
    "\n",
    "The information for the network to learn is encoded in the distribution of neutron count across cubes in the detector. As a result, the first choice of input into the network consisted of 64 input neurons corresponding to the 64 cubes of the detector, whilst the output of the ANN was the binned fluence of the source in a total of 8 bins. The architecture of this model can be seen in Figure 1. When looking at various neural network models, we give them labels of the form \"nnI_L1_L2_L3_..._O\", where I denotes the number of input neurons, L*i* denotes the number of neurons in hidden layer *i*, and O denotes the number of output neurons. The model discussed here is labelled as nn64_128_64_32_8. \n",
    "\n",
    "![nn64_128_634_32_8_architecture](Plots/nn64_128_64_32_8_architecture.png)\n",
    "**Figure 2**: graph of the nn64_128_64_32_8 model architecture. There are 64 input neurons corresponding to the 64 cubes of the detector, three hidden layers with ReLU activations, and 8 output neurons. In this diagram each node actually corresponds to 8 neurons, where all neurons are fully connected. \n",
    "\n",
    "Additionally, summing the counts in planes of cubes provides additional information about the bulk response of the detector to the applied field and thus encodes more detailed information about the energy of the incident neutrons. This can be added to the inputs, adding 12 additional neurons corresponding to the four planes in the x, y and z directions. The number of neurons in hidden layers is also increased to fit the new data. We identify this model with the label nn76_152_76_38_8. \n",
    "\n"
   ]
  },
  {
   "cell_type": "markdown",
   "id": "df1f1677",
   "metadata": {},
   "source": [
    "### Analysis of error\n",
    "\n",
    "In order to determine the effectiveness of the neural network, we must find the error on the effective dose predicted by the model, as this is the quantity of interest for this problem. As the model predicts a coarsely binned fluence, there is error not only from the model itself but also from the binning procedure when the continuous fluence of the source is coarsified into the energy bins used for the neural network targets. The dose conversion coefficients may vary significantly across the width of the bin but from the binned fluence the best estimate of the dose we can make is from the average dose coefficient in the bin, which can result in a significant error in the dose just from coarsifying the fluence. For dose calculations, the AP direction dose coefficients were used. For reference, here is the AP dose curve:\n",
    "\n",
    "![AP dose curve](Plots/reference_AP_dose_curve.png)\n",
    "\n",
    "When calculating the dose from a binned fluence, the exact energies of the neutrons are not known and so instead dose must be calculated from an average dose per fluence for each bin. This average dose per fluence in each bin is found by integrating the dose coefficient curve over each bin and dividing by the bin width. Then, the total binned dose per fluence for each source is found by multiplying the counts in each bin for that source by the binned dose coefficients, and summing these products. This can be expressed as\n",
    "\n",
    "$$D_{binned} = \\sum_i c_i \\frac{\\int_i D(E) dE}{\\Delta E_i}, $$\n",
    "where c_i denotes the count in bin *i*, D(E) denotes the dose coefficients as a function of energy, and $\\Delta E_i$ denotes the width in energy of bin *i*. For dose per fluence, these counts $c_i$ should be normalised such that $\\sum_i c_i = 1$. \n",
    "\n",
    "The true dose per fluence is found by integrating the product of the dose curve and the source distribution over the total energy range, given as\n",
    "\n",
    "$$D_{true} = \\int_0^\\infty f(E) D(E) dE, $$\n",
    "where f(E) is the true source distribution as a function of energy. This distribution is normalised such that $\\int_0^\\infty f(E) dE = 1.$ \n",
    "\n",
    "Finally, the relative dose per fluence error is expressed as $\\frac{D_{binned} - D_{true}}{D_{true}}$. This relative error resulting from the binning is shown in the table below.\n",
    "\n",
    "| Source | Relative binning error |\n",
    "|--------|------------------------|\n",
    "| Cf-252 |          1.2%          |\n",
    "|  AmBe  |         -0.3%          |\n",
    "|  AmLi  |          1.9%          |\n",
    "|144 keV |         25.6%          |\n",
    "|1.2 MeV |         -4.1%          |"
   ]
  },
  {
   "cell_type": "markdown",
   "id": "bc316b4d",
   "metadata": {},
   "source": [
    "### Fluence binning scheme\n",
    "\n",
    "\n",
    "TO BE ADDED"
   ]
  },
  {
   "cell_type": "code",
   "execution_count": 1,
   "id": "5d031b05",
   "metadata": {},
   "outputs": [],
   "source": [
    "import os\n",
    "import torch\n",
    "from torch import nn\n",
    "from torch.utils.data import DataLoader, random_split\n",
    "import numpy as np\n",
    "import pandas as pd\n",
    "\n",
    "import matplotlib.pyplot as plt\n",
    "import matplotlib.patches as mpatches\n",
    "%matplotlib tk\n",
    "\n",
    "import NNPytorchLightning as NNPL\n",
    "from NNPytorchLightning import FluenceReconDataset, Resample\n",
    "\n",
    "\n",
    "import warnings\n",
    "from scipy.integrate import quad,IntegrationWarning\n",
    "from scipy.interpolate import interp1d\n",
    "from scipy.optimize import fminbound\n",
    "warnings.simplefilter(action='ignore', category=IntegrationWarning)\n"
   ]
  },
  {
   "cell_type": "markdown",
   "id": "c0a04e66",
   "metadata": {},
   "source": [
    "Here loading trained models to compare the training and validation losses per model, and look at performance on unseen data. These models are as follows:\n",
    "\n",
    "model_cubes: trained just on cube counts, with a batch size of 200 and 200 samples per data set, learning rate of 1e-3, for 500 epochs (for time)\n",
    "\n",
    "model_cubes_profiles: trained on cube counts and profiles, with a batch size of 200 and 200 samples per data set, learning rate of 1e-3, for 500 epochs (for time)"
   ]
  },
  {
   "cell_type": "code",
   "execution_count": 2,
   "id": "a47ea1dc",
   "metadata": {},
   "outputs": [],
   "source": [
    "coeffs = '/home/nr1315/Documents/Project/effective_dose_coeffs.h5'\n",
    "energy_bins = '/home/nr1315/Documents/Project/MachineLearning/energy_bins.npy'\n",
    "\n",
    "model_cubes = NNPL.LoadModel('/home/nr1315/Documents/Project/MachineLearning/lightning_logs/model_cubes_new_data/version_1/',torch.rand((1,1,64)),coeffs,energy_bins)\n",
    "\n",
    "model_cubes_profiles = NNPL.LoadModel('/home/nr1315/Documents/Project/MachineLearning/lightning_logs/model_cubes_profiles_new_data/version_5/',torch.rand((1,1,76)),coeffs,energy_bins)"
   ]
  },
  {
   "cell_type": "markdown",
   "id": "5bed94dd",
   "metadata": {},
   "source": [
    "Also need to load the loss curves separately, due to the way they are from the logs."
   ]
  },
  {
   "cell_type": "code",
   "execution_count": 3,
   "id": "4a405991",
   "metadata": {},
   "outputs": [],
   "source": [
    "model_cubes_tloss = pd.read_csv('/home/nr1315/Documents/Project/MachineLearning/LoggedParameters/run-model_cubes_new_data_version_1-tag-train_loss.csv')\n",
    "model_cubes_vloss = pd.read_csv('/home/nr1315/Documents/Project/MachineLearning/LoggedParameters/run-model_cubes_new_data_version_1-tag-val_loss.csv')\n",
    "model_cubes_dose_err = pd.read_csv('/home/nr1315/Documents/Project/MachineLearning/LoggedParameters/run-model_cubes_new_data_version_1-tag-dose_err_AP.csv')\n",
    "model_cubes_epoch = pd.read_csv('/home/nr1315/Documents/Project/MachineLearning/LoggedParameters/run-model_cubes_new_data_version_1-tag-epoch.csv')\n",
    "\n",
    "model_cubes_profiles_tloss = pd.read_csv('/home/nr1315/Documents/Project/MachineLearning/LoggedParameters/run-model_cubes_profiles_new_data_version_5-tag-train_loss.csv')\n",
    "model_cubes_profiles_vloss = pd.read_csv('/home/nr1315/Documents/Project/MachineLearning/LoggedParameters/run-model_cubes_profiles_new_data_version_5-tag-val_loss.csv')\n",
    "model_cubes_profiles_dose_err = pd.read_csv('/home/nr1315/Documents/Project/MachineLearning/LoggedParameters/run-model_cubes_profiles_new_data_version_5-tag-dose_err_AP.csv')\n",
    "model_cubes_profiles_epoch = pd.read_csv('/home/nr1315/Documents/Project/MachineLearning/LoggedParameters/run-model_cubes_profiles_new_data_version_5-tag-epoch.csv')"
   ]
  },
  {
   "cell_type": "markdown",
   "id": "9939c8bc",
   "metadata": {},
   "source": [
    "We also define the directories from which to load the testing data, for convenience:"
   ]
  },
  {
   "cell_type": "code",
   "execution_count": 4,
   "id": "999beda1",
   "metadata": {},
   "outputs": [],
   "source": [
    "testing_data_dir = '/home/nr1315/Documents/Project/MachineLearning/TestingData/'\n",
    "\n",
    "AmBe_counts = 'SimCubeCounts_AmBe_5_0-0-0-0-1-0_1500.npy'\n",
    "AmLi_counts = 'SimCubeCounts_AmLi_5_0-0-0-0-1-0_1500.npy'\n",
    "Cf_counts = 'SimCubeCounts_Cf252_6_0-0-0-0-1-0_1500.npy'\n",
    "\n",
    "AmBe_target = 'SimEnergyBins_AmBe.npy'\n",
    "AmLi_target = 'SimEnergyBins_AmLi.npy'\n",
    "Cf_target = 'SimEnergyBins_Cf252.npy'"
   ]
  },
  {
   "cell_type": "markdown",
   "id": "a9908db3",
   "metadata": {},
   "source": [
    "For each model in turn, we will look at the loss curves and prediction on AmBe, AmLi, and Cf-252. \n",
    "\n",
    "### Cubes only model, 500 epochs, 200 samples per dataset\n",
    "\n"
   ]
  },
  {
   "cell_type": "code",
   "execution_count": 5,
   "id": "f27b4824",
   "metadata": {},
   "outputs": [
    {
     "name": "stderr",
     "output_type": "stream",
     "text": [
      "/home/nr1315/miniconda3/envs/NewMLEnv/lib/python3.9/site-packages/scipy/interpolate/interpolate.py:623: RuntimeWarning: invalid value encountered in true_divide\n",
      "  slope = (y_hi - y_lo) / (x_hi - x_lo)[:, None]\n",
      "/home/nr1315/miniconda3/envs/NewMLEnv/lib/python3.9/site-packages/scipy/interpolate/interpolate.py:623: RuntimeWarning: invalid value encountered in true_divide\n",
      "  slope = (y_hi - y_lo) / (x_hi - x_lo)[:, None]\n"
     ]
    }
   ],
   "source": [
    "NNPL.PlotLosses([model_cubes_tloss,model_cubes_vloss],['Training loss','Validation loss'],'Cubes model, lr = 0.001, 200 samples per dataset',model_cubes_epoch)"
   ]
  },
  {
   "cell_type": "markdown",
   "id": "dbaf6301",
   "metadata": {},
   "source": [
    "![Loss curves](Plots/model_cubes_loss.png)"
   ]
  },
  {
   "cell_type": "markdown",
   "id": "bd1e4328",
   "metadata": {},
   "source": [
    "Here the model seems to be training well, although it does not appear to finish training after 500 epochs. \n",
    "\n",
    "It is also informative to look at the quality of model prediction on unseen data, in this case AmLi, AmBe, and Cf252 sources. These can be seen below."
   ]
  },
  {
   "cell_type": "code",
   "execution_count": 6,
   "id": "7ce27fd2",
   "metadata": {},
   "outputs": [],
   "source": [
    "fig,ax = plt.subplots(1,3,figsize=(30,10))\n",
    "\n",
    "loss_fn = nn.MSELoss()\n",
    "\n",
    "AmBe_loss,AmBe_dose_err = NNPL.compare_pred_true(model_cubes,testing_data_dir+AmBe_counts,testing_data_dir+AmBe_target,'AmBe','cubes only model',ax[0],24,np.load(energy_bins),1,loss_fn,'AP')\n",
    "AmLi_loss,AmLi_dose_err = NNPL.compare_pred_true(model_cubes,testing_data_dir+AmLi_counts,testing_data_dir+AmLi_target,'AmLi','cubes only model',ax[1],24,np.load(energy_bins),1,loss_fn,'AP')\n",
    "Cf_loss,Cf_dose_err = NNPL.compare_pred_true(model_cubes,testing_data_dir+Cf_counts,testing_data_dir+Cf_target,r'$^{252}$Cf','cubes only model',ax[2],24,np.load(energy_bins),1,loss_fn,'AP')"
   ]
  },
  {
   "cell_type": "markdown",
   "id": "238cd8d2",
   "metadata": {},
   "source": [
    "![Predictions of test data](Plots/model_cubes_prediction.png)"
   ]
  },
  {
   "cell_type": "markdown",
   "id": "f0fe0286",
   "metadata": {},
   "source": [
    "Whilst the model loss continues to decrease, the model still has poor performance on the unseen sources,  predicting negative values in at least half the bins in all three cases. It generally seems to predict the greatest count in the region around the average energy of each source, i.e. above, below and at 1 MeV for AmBe, AmLi and Cf respectively, as previous iterations of the model did. One possible way to combat this may be to introduce more complex sources into the training set, such as linear combinations of existing monoenergetics, to help the network learn how to better reconstruct a more complicated fluence.\n",
    "\n",
    "It is then informative to see the performance of the model on some of the validation data explicitly, as is shown below. The function used to plot this can be used to scroll through all of the training datasets."
   ]
  },
  {
   "cell_type": "code",
   "execution_count": 7,
   "id": "79942c98",
   "metadata": {},
   "outputs": [],
   "source": [
    "\n",
    "cubes_dataloader = torch.load('/home/nr1315/Documents/Project/MachineLearning/lightning_logs/model_cubes_new_data/version_1/val_dloader.pt')\n",
    "cubes_dataset,cubes_val_inds = cubes_dataloader.dataset.dataset,cubes_dataloader.dataset.indices\n",
    "\n",
    "check = NNPL.CheckTrainData(model_cubes,cubes_dataset,np.load(energy_bins))\n",
    "\n",
    "check.ViewTrainData()"
   ]
  },
  {
   "cell_type": "markdown",
   "id": "548bce26",
   "metadata": {},
   "source": [
    "![550keV model cubes pred](Plots/model_cubes_550keV_pred.png)"
   ]
  },
  {
   "cell_type": "markdown",
   "id": "c9f532f0",
   "metadata": {},
   "source": [
    "The model has generally performed well at predicting the bins for this validation data point with some count in an incorrect bin, but of note is that it is still predicting negative values in several bins. In order to avoid this, it may prove useful to add a term to the loss function that penalises any negative bins in the model prediction. \n",
    "\n",
    "A more thorough check of the validation data set for both this model and the following will be performed later."
   ]
  },
  {
   "cell_type": "markdown",
   "id": "5ec887dc",
   "metadata": {},
   "source": [
    "### Cubes and profiles model, 200 samples per dataset, learning rate 0.001"
   ]
  },
  {
   "cell_type": "code",
   "execution_count": 8,
   "id": "d33d5ca4",
   "metadata": {},
   "outputs": [
    {
     "name": "stderr",
     "output_type": "stream",
     "text": [
      "/home/nr1315/miniconda3/envs/NewMLEnv/lib/python3.9/site-packages/scipy/interpolate/interpolate.py:623: RuntimeWarning: invalid value encountered in true_divide\n",
      "  slope = (y_hi - y_lo) / (x_hi - x_lo)[:, None]\n",
      "/home/nr1315/miniconda3/envs/NewMLEnv/lib/python3.9/site-packages/scipy/interpolate/interpolate.py:623: RuntimeWarning: invalid value encountered in true_divide\n",
      "  slope = (y_hi - y_lo) / (x_hi - x_lo)[:, None]\n"
     ]
    }
   ],
   "source": [
    "NNPL.PlotLosses([model_cubes_profiles_tloss,model_cubes_profiles_vloss],['Training loss','Validation loss'],'Cubes and profiles model, lr = 0.001, 200 samples per dataset',model_cubes_profiles_epoch)"
   ]
  },
  {
   "cell_type": "markdown",
   "id": "7c15676b",
   "metadata": {},
   "source": [
    "![losses](Plots/model_cubes_profiles_200samples.png)"
   ]
  },
  {
   "cell_type": "markdown",
   "id": "1e0ee180",
   "metadata": {},
   "source": [
    "Whilst both the training loss and validation loss do both decrease, it is worth noting that the validation loss here is lower than the training loss, which in turn implies that the model needs to train for longer in this configuration. This is intuitive, as the increased number of bins due to the profile counts will mean there are a greater number of weights for the model to optimize. Other improvements may be found from increasing the learning rate or adding some learning rate scheduling, but otherwise training for longer is realistically required.\n",
    "\n",
    "It is also worthy of note that the loss is higher than for the cubes-only model, but this may be a factor of the incomplete training. "
   ]
  },
  {
   "cell_type": "code",
   "execution_count": 9,
   "id": "2c20cae6",
   "metadata": {},
   "outputs": [],
   "source": [
    "fig,ax = plt.subplots(1,3,figsize=(30,10))\n",
    "\n",
    "cp_AmBe_loss,cp_AmBe_dose_err = NNPL.compare_pred_true(model_cubes_profiles,testing_data_dir+'withProfiles/'+AmBe_counts,testing_data_dir+AmBe_target,'AmBe','cubes and \\n profiles model',ax[0],24,np.load(energy_bins),1,loss_fn,'AP')\n",
    "cp_AmLi_loss,cp_AmLi_dose_err = NNPL.compare_pred_true(model_cubes_profiles,testing_data_dir+'withProfiles/'+AmLi_counts,testing_data_dir+AmLi_target,'AmLi','cubes and \\n profiles model',ax[1],24,np.load(energy_bins),1,loss_fn,'AP')\n",
    "cp_Cf_loss,cp_Cf_dose_err = NNPL.compare_pred_true(model_cubes_profiles,testing_data_dir+'withProfiles/'+Cf_counts,testing_data_dir+Cf_target,r'$^{252}$Cf','cubes and \\n profiles model',ax[2],24,np.load(energy_bins),1,loss_fn,'AP')"
   ]
  },
  {
   "cell_type": "markdown",
   "id": "c3c48bee",
   "metadata": {},
   "source": [
    "![cubes profiles 200 samples prediction](Plots/model_cubes_profiles_200samples_prediction.png)"
   ]
  },
  {
   "cell_type": "code",
   "execution_count": 12,
   "id": "030ea7c9",
   "metadata": {},
   "outputs": [
    {
     "name": "stdout",
     "output_type": "stream",
     "text": [
      "AmBe dose error: 1.065460692649702\n",
      "AmLi dose error: 3.1880135887862817\n",
      "Cf dose error: 7.416363308539327\n"
     ]
    }
   ],
   "source": [
    "print(\"AmBe dose error: {}\".format(100*cp_AmBe_dose_err))\n",
    "print(\"AmLi dose error: {}\".format(100*cp_AmLi_dose_err))\n",
    "print(\"Cf dose error: {}\".format(100*cp_Cf_dose_err))"
   ]
  },
  {
   "cell_type": "markdown",
   "id": "ba312d44",
   "metadata": {},
   "source": [
    "This model also performs poorly on the unseen data, although it has a lower loss than the cubes exclusive model. Most notably, this model predicts a large negative value in the first bin for all three sources, which further motivates introducing a penalty term to the loss to discourage any negative values in the model output. \n",
    "\n",
    "\n",
    "Validation data set checking needs some more work before conclusions can be drawn."
   ]
  },
  {
   "cell_type": "code",
   "execution_count": 14,
   "id": "377b0678",
   "metadata": {},
   "outputs": [],
   "source": [
    "cubes_profiles_dataloader = torch.load('/home/nr1315/Documents/Project/MachineLearning/lightning_logs/model_cubes_profiles_new_data/version_5/val_dloader.pt')\n",
    "cubes_profiles_dataset,cubes_profiles_val_inds = cubes_profiles_dataloader.dataset.dataset,cubes_profiles_dataloader.dataset.indices\n",
    "\n",
    "check = NNPL.CheckTrainData(model_cubes_profiles,cubes_profiles_dataset,np.load(energy_bins))\n",
    "\n",
    "check.ViewTrainData()"
   ]
  },
  {
   "cell_type": "code",
   "execution_count": null,
   "id": "0aae42c0",
   "metadata": {},
   "outputs": [],
   "source": []
  },
  {
   "cell_type": "markdown",
   "id": "e496bb01",
   "metadata": {},
   "source": [
    "After these results both models were trained again for 2000 epochs, as it appeared that neither model had fully trained in the 500 epochs here. These models and the monitoring quantities are loaded in here."
   ]
  },
  {
   "cell_type": "code",
   "execution_count": 99,
   "id": "59b0a3f4",
   "metadata": {},
   "outputs": [],
   "source": [
    "model_cubes_2000 = NNPL.LoadModel('/home/nr1315/Documents/Project/MachineLearning/lightning_logs/model_cubes_new_data/version_4/',torch.rand((1,1,64)),coeffs,energy_bins)\n",
    "\n",
    "model_cubes_profiles_2000 = NNPL.LoadModel('/home/nr1315/Documents/Project/MachineLearning/lightning_logs/model_cubes_profiles_new_data/version_11/',torch.rand((1,1,76)),coeffs,energy_bins)\n",
    "\n",
    "model_cubes_2000_tloss = pd.read_csv('/home/nr1315/Documents/Project/MachineLearning/LoggedParameters/run-model_cubes_new_data_version_4-tag-train_loss.csv')\n",
    "model_cubes_2000_vloss = pd.read_csv('/home/nr1315/Documents/Project/MachineLearning/LoggedParameters/run-model_cubes_new_data_version_4-tag-val_loss.csv')\n",
    "model_cubes_2000_dose_err = pd.read_csv('/home/nr1315/Documents/Project/MachineLearning/LoggedParameters/run-model_cubes_new_data_version_4-tag-dose_err_AP.csv')\n",
    "model_cubes_2000_epoch = pd.read_csv('/home/nr1315/Documents/Project/MachineLearning/LoggedParameters/run-model_cubes_new_data_version_4-tag-epoch.csv')\n",
    "\n",
    "model_cubes_profiles_2000_tloss = pd.read_csv('/home/nr1315/Documents/Project/MachineLearning/LoggedParameters/run-model_cubes_profiles_new_data_version_11-tag-train_loss.csv')\n",
    "model_cubes_profiles_2000_vloss = pd.read_csv('/home/nr1315/Documents/Project/MachineLearning/LoggedParameters/run-model_cubes_profiles_new_data_version_11-tag-val_loss.csv')\n",
    "model_cubes_profiles_2000_dose_err = pd.read_csv('/home/nr1315/Documents/Project/MachineLearning/LoggedParameters/run-model_cubes_profiles_new_data_version_11-tag-dose_err_AP.csv')\n",
    "\n",
    "model_cubes_profiles_2000_epoch = pd.read_csv('/home/nr1315/Documents/Project/MachineLearning/LoggedParameters/run-model_cubes_profiles_new_data_version_11-tag-epoch.csv')"
   ]
  },
  {
   "cell_type": "markdown",
   "id": "db007d47",
   "metadata": {},
   "source": [
    "### Cubes model, learning rate 0.001, 200 samples per dataset, trained for 2000 epochs"
   ]
  },
  {
   "cell_type": "code",
   "execution_count": 15,
   "id": "67448e94",
   "metadata": {},
   "outputs": [],
   "source": [
    "NNPL.PlotLosses([model_cubes_2000_tloss,model_cubes_2000_vloss],['Training loss','Validation loss'],'Cubes model, lr = 0.001, 200 samples per dataset, 2000 epochs',model_cubes_2000_epoch,log=False)"
   ]
  },
  {
   "cell_type": "markdown",
   "id": "0864ef42",
   "metadata": {},
   "source": [
    "![model cubes 2000epochs loss](Plots/model_cubes_2000_loss.png)"
   ]
  },
  {
   "cell_type": "code",
   "execution_count": 16,
   "id": "6b7a4d2e",
   "metadata": {},
   "outputs": [],
   "source": [
    "NNPL.PlotDoseError(model_cubes_2000_dose_err,'Cubes model, lr = 0.001, 200 samples per dataset, 2000 epochs, dose error',model_cubes_2000_epoch)"
   ]
  },
  {
   "cell_type": "markdown",
   "id": "630b5532",
   "metadata": {},
   "source": [
    "![model cubes 2000 dose error](Plots/model_cubes_2000_dose_err.png)"
   ]
  },
  {
   "cell_type": "code",
   "execution_count": 17,
   "id": "b1d26b95",
   "metadata": {},
   "outputs": [],
   "source": [
    "fig,ax = plt.subplots(1,3,figsize=(30,10))\n",
    "\n",
    "loss_fn = nn.MSELoss()\n",
    "\n",
    "cubes_2000_AmBe_loss,cubes_2000_AmBe_dose_err = NNPL.compare_pred_true(model_cubes_2000,testing_data_dir+AmBe_counts,testing_data_dir+AmBe_target,'AmBe','cubes only model,\\n 2000 epochs',ax[0],24,np.load(energy_bins),1,loss_fn,'AP')\n",
    "cubes_2000_AmLi_loss,cubes_2000_AmLi_dose_err = NNPL.compare_pred_true(model_cubes_2000,testing_data_dir+AmLi_counts,testing_data_dir+AmLi_target,'AmLi','cubes only model,\\n 2000 epochs',ax[1],24,np.load(energy_bins),1,loss_fn,'AP')\n",
    "cubes_2000_Cf_loss,cubes_2000_Cf_dose_err = NNPL.compare_pred_true(model_cubes_2000,testing_data_dir+Cf_counts,testing_data_dir+Cf_target,r'$^{252}$Cf','cubes only model,\\n 2000 epochs',ax[2],24,np.load(energy_bins),1,loss_fn,'AP')"
   ]
  },
  {
   "cell_type": "markdown",
   "id": "43ffcf5e",
   "metadata": {},
   "source": [
    "![cubes model 2000 predictions](Plots/model_cubes_2000_prediction_1.png)"
   ]
  },
  {
   "cell_type": "code",
   "execution_count": 34,
   "id": "fa730cc3",
   "metadata": {},
   "outputs": [
    {
     "name": "stdout",
     "output_type": "stream",
     "text": [
      "AmBe loss: 0.0924101173877716\n",
      "AmLi loss: 0.02471756935119629\n",
      "Cf-252 loss: 0.034533705562353134\n"
     ]
    }
   ],
   "source": [
    "print(\"AmBe loss: {}\".format(cubes_2000_AmBe_loss))\n",
    "print(\"AmLi loss: {}\".format(cubes_2000_AmLi_loss))\n",
    "print(\"Cf-252 loss: {}\".format(cubes_2000_Cf_loss))"
   ]
  },
  {
   "cell_type": "code",
   "execution_count": 19,
   "id": "f1c1c0ac",
   "metadata": {},
   "outputs": [
    {
     "name": "stdout",
     "output_type": "stream",
     "text": [
      "AmBe 1.2531776280353704\n",
      "AmLi 17.97001801529823\n",
      "Cf 5.568272436953861\n"
     ]
    }
   ],
   "source": [
    "print(\"AmBe {}\".format(100*cubes_2000_AmBe_dose_err))\n",
    "print(\"AmLi {}\".format(100*cubes_2000_AmLi_dose_err))\n",
    "print(\"Cf {}\".format(100*cubes_2000_Cf_dose_err))"
   ]
  },
  {
   "cell_type": "markdown",
   "id": "f713611e",
   "metadata": {},
   "source": [
    "### Cubes and profiles model, learning rate 0.001, 200 samples per dataset, trained for 2000 epochs"
   ]
  },
  {
   "cell_type": "code",
   "execution_count": 19,
   "id": "0b2f345a",
   "metadata": {},
   "outputs": [],
   "source": [
    "NNPL.PlotLosses([model_cubes_profiles_2000_tloss,model_cubes_profiles_2000_vloss],['Training loss','Validation loss'],'Cubes and profiles model, lr = 0.001, 200 samples per dataset, 2000 epochs',model_cubes_profiles_2000_epoch,log=False)"
   ]
  },
  {
   "cell_type": "markdown",
   "id": "5569e771",
   "metadata": {},
   "source": [
    "![Cubes profiles 2000 epochs loss](Plots/model_cubes_profiles_2000epochs_loss.png)"
   ]
  },
  {
   "cell_type": "code",
   "execution_count": 23,
   "id": "66c9334c",
   "metadata": {},
   "outputs": [],
   "source": [
    "NNPL.PlotDoseError(model_cubes_profiles_2000_dose_err,'Cubes and profiles model dose error',model_cubes_profiles_2000_epoch)"
   ]
  },
  {
   "cell_type": "markdown",
   "id": "adf721d8",
   "metadata": {},
   "source": [
    "![cubes profiles 2000 epochs dose error](Plots/model_cubes_profiles_2000epochs_dose_err.png)"
   ]
  },
  {
   "cell_type": "code",
   "execution_count": 20,
   "id": "9fd0dca8",
   "metadata": {},
   "outputs": [],
   "source": [
    "fig,ax=plt.subplots(1,3,figsize=(30,10))\n",
    "\n",
    "cubes_profiles_2000_AmBe_loss,cp_2000_AmBe_dose_err = NNPL.compare_pred_true(model_cubes_profiles_2000,testing_data_dir+'withProfiles/'+AmBe_counts,testing_data_dir+AmBe_target,'AmBe','cubes and \\n profiles model, 2000 epochs',ax[0],24,np.load(energy_bins),1,loss_fn,'AP')\n",
    "cubes_profiles_2000_AmLi_loss,cp_2000_AmLi_dose_err = NNPL.compare_pred_true(model_cubes_profiles_2000,testing_data_dir+'withProfiles/'+AmLi_counts,testing_data_dir+AmLi_target,'AmLi','cubes and \\n profiles model, 2000 epochs',ax[1],24,np.load(energy_bins),1,loss_fn,'AP')\n",
    "cubes_profiles_2000_Cf_loss,cp_2000_Cf_dose_err = NNPL.compare_pred_true(model_cubes_profiles_2000,testing_data_dir+'withProfiles/'+Cf_counts,testing_data_dir+Cf_target,r'$^{252}$Cf','cubes and \\n profiles model, 2000 epochs',ax[2],24,np.load(energy_bins),1,loss_fn,'AP')"
   ]
  },
  {
   "cell_type": "markdown",
   "id": "78586d47",
   "metadata": {},
   "source": [
    "![cubes profiles 2000 predictions](Plots/model_cubes_profiles_2000_prediction.png)"
   ]
  },
  {
   "cell_type": "code",
   "execution_count": 23,
   "id": "4844a4c4",
   "metadata": {},
   "outputs": [
    {
     "name": "stdout",
     "output_type": "stream",
     "text": [
      "AmBe loss: 0.10277150571346283\n",
      "AmLi loss: 0.05674799904227257\n",
      "Cf-252 loss: 0.03377455845475197\n"
     ]
    }
   ],
   "source": [
    "print(\"AmBe loss: {}\".format(cubes_profiles_2000_AmBe_loss))\n",
    "print(\"AmLi loss: {}\".format(cubes_profiles_2000_AmLi_loss))\n",
    "print(\"Cf-252 loss: {}\".format(cubes_profiles_2000_Cf_loss))"
   ]
  },
  {
   "cell_type": "code",
   "execution_count": 22,
   "id": "9deff860",
   "metadata": {},
   "outputs": [
    {
     "name": "stdout",
     "output_type": "stream",
     "text": [
      "AmBe: 3.3541519263668786\n",
      "AmLi: 1.2462487568431224\n",
      "Cf: 0.891351256055962\n"
     ]
    }
   ],
   "source": [
    "print(\"AmBe: {}\".format(cp_2000_AmBe_dose_err*100))\n",
    "print(\"AmLi: {}\".format(cp_2000_AmLi_dose_err*100))\n",
    "print(\"Cf: {}\".format(cp_2000_Cf_dose_err*100))"
   ]
  },
  {
   "cell_type": "code",
   "execution_count": null,
   "id": "3c671b21",
   "metadata": {},
   "outputs": [],
   "source": []
  },
  {
   "cell_type": "markdown",
   "id": "088c2546",
   "metadata": {},
   "source": [
    "### Current results & future steps\n",
    "\n",
    "Prediction on the test data is approximately equivalently bad for all of these models. All models seem to have learned to predict significant values in at most 2 or 3 bins, likely as the vase majority of the sources used for training only have counts in at most 3 bins. A way of tackling this would be to augment the training dataset with sources that are continuous across more bins than the existing data points, which could be accomplished in several ways:\n",
    "\n",
    "* Generating additional training data with a greater spread in energy (e.g. larger Gaussian spread), such that individual data points cover more energy bins\n",
    "* Implementing a transform to produce new data points composed of a linear combination of two or more existing data points\n",
    "* Training on 1 or 2 of the test sources, to see if that improves prediction on the third (and on more complex sources in general) \n",
    "\n",
    "Whilst the first approach is straightforward, it will add data points that peak around a particular bin and have a spread around that bin, rather than producing a more complex neutron spectrum that may have multiple peaks, although more complex distributions than a Gaussian could be used. It also would require generating a significant amount of additional training data, which is not storage efficient.\n",
    "\n",
    "The second approach can in principle can teach the model more flexibility in how sources with a wide range of energies are encoded in the counts measured by the detector. This transformation would allow the model to learn an how an arbitrary fluence is encoded in the inputs, but in order to result in good prediction on real sources it may require some more careful logic on which sources are combined by the transformation, e.g. only taking those close in energy. However, following implementation of a rotation transform it may be informative to provide training data that is a composite of a high energy source on one side of the detector with a thermal source on the opposite side, to emulate a scenario with backscattered thermal neutrons. \n",
    "\n",
    "Regarding the final approach eventually the model will be trained on all of these sources, but in the mean time training on one of these may be useful to test the ability of the model to learn a more continuous source on top of the monoenergetic sources it is already learning.\n",
    "\n"
   ]
  },
  {
   "cell_type": "markdown",
   "id": "fe524592",
   "metadata": {},
   "source": [
    "The model also can regularly predicit negative values in energy bins, when obviously this is not a physical result. In order to prevent this, I propose adding a term to the loss that penalises any bins with a negative value in the output. This could for example be done with a simple boolean check on each value in the output tensor, adding a factor *k* to the loss for each bin that has a negative value. This factor *k* could be tuned at initialisation of the loss function in order to tune how harshly the model penalises negative bins, and the ideal value of this parameter can be investigated."
   ]
  },
  {
   "cell_type": "markdown",
   "id": "37c975e3",
   "metadata": {},
   "source": [
    "A final point of note is how many epochs the model takes to train - even after 2000 epochs the training and validation losses are still decreasing, along with the average absolute percentage error on dose. This motivates revisiting the optimisation of the network, particularly looking at the learning rate or a learning rate scheduler, as well as the choice of optimisation algorithm."
   ]
  },
  {
   "cell_type": "markdown",
   "id": "ae1e25f7",
   "metadata": {},
   "source": []
  },
  {
   "cell_type": "markdown",
   "id": "cffdfc5f",
   "metadata": {},
   "source": [
    "We can also compare the model predictions to the true and binned doses for each respective testing source. In this analysis, the 144 keV and 1.2 MeV datasets used are real datasets taken at NPL in 2021, with the shadowcone measurement subtracted. \n",
    "\n",
    "|Source | Model | # of epochs | True dose per fluence / pSv cm$^2$ | Binned dose per fluence / pSv cm$^2$ | Relative binning error | Predicted dose per  fluence / pSv cm$^2$ | Prediction error vs target | Prediction error vs true |\n",
    "|---|----|----|----|---|---|---|---|---|\n",
    "| Cf$^{252}$ | nn64_128_64_32_8 | $500$ | $350.4$ | $354.5^{+ 41.4}_{-59.1}$ | $1.2\\%$ | $367.3^{+ 39.3}_{- 59.0}$ | $3.6\\%$ | $4.8\\%$ |\n",
    "| | | $2000$ | $350.4$ | $354.5^{+ 41.4}_{-59.1}$ | $1.2\\%$ | $333.3^{+ 49.8}_{- 71.4}$ | $-6.0\\%$ | $-4.9\\%$ |\n",
    "| | nn76_152_76_38_8 | $500$ | $350.4$ | $354.5^{+ 41.4}_{-59.1}$ | $1.2\\%$ | $194.6^{+ 26.4}_{- 35.6}$ | $-45.1\\%$ | $-44.4\\%$ |\n",
    "| |  | $2000$ | $350.4$ | $354.5^{+ 41.4}_{-59.1}$ | $1.2\\%$ | $321.4^{+ 36.4}_{- 51.5}$ | $-9.4\\%$ | $-8.3\\%$ |\n",
    "| AmBe | nn64_128_64_32_8 | $500$ | $427.0$ | $425.7^{+ 24.5}_{-41.8}$ | $-0.3\\%$ | $426.9^{+ 40.3}_{- 65.5}$ | $0.3\\%$ | $-0.02\\%$ |\n",
    "| | | $2000$ | $427.0$ | $425.7^{+ 24.5}_{-41.8}$ | $-0.3\\%$ | $429.1_{- 68.8}^{+ 42.5}$ | $0.8\\%$ | $0.5\\%$ |\n",
    "| | nn76_152_76_38_8 | $500$ | $427.0$ | $425.7^{+ 24.5}_{-41.8}$ | $-0.3\\%$ | $207.7_{- 37.9}^{+ 27.9}$ | $-51.2\\%$ | $-51.3\\%$ |\n",
    "| | | $2000$ | $427.0$ | $425.7^{+ 24.5}_{-41.8}$ | $-0.3\\%$ | $315.0_{- 48.6}^{+ 34.0}$ | $-26.0\\%$ | $-26.2\\%$ |\n",
    "| AmLi | nn64_128_64_32_8 | $500$ | $175.4$ | $178.7_{- 63.7}^{+ 56.4}$ | $1.9\\%$ | $199.8_{- 62.4}^{+ 55.0}$ | $11.8\\%$ | $13.9\\%$ |\n",
    "| | | $2000$ | $175.4$ | $178.7_{- 63.7}^{+ 56.4}$ | $1.9\\%$ | $147.0_{- 60.5}^{+ 55.3}$ | $-17.7\\%$ | $-16.2\\%$ | \n",
    "| | nn76_152_76_38_8 | $500$ | $175.4$ | $178.7_{- 63.7}^{+ 56.4}$ | $1.9\\%$ | $165.4_{- 35.2}^{+ 27.5}$ | $-7.4\\%$ | $-5.7\\%$ |\n",
    "| | | $2000$ | $175.4$ | $178.7_{- 63.7}^{+ 56.4}$ | $1.9\\%$ | $210.3_{- 42.6}^{+ 33.5}$ | $17.7\\%$ | $19.9\\%$ |\n",
    "| 144 keV, shadowcone subtracted | nn64_128_64_32_8 | $500$ | $58.4$ | $73.3_{- 65.8}^{+ 64.3}$ | $25.6\\%$ | $186.0_{- 71.3}^{+ 61.7}$ | $154.0\\%$ | $218.8\\%$ |\n",
    "| | | $2000$ | $58.4$ | $73.3_{- 65.8}^{+ 64.3}$ | $25.6\\%$ | $95.3_{- 48.3}^{+ 44.5}$ | $30.0\\%$ | $63.3\\%$ |\n",
    "| | nn76_152_76_38_8 | $500$ | $58.4$ | $73.3_{- 65.8}^{+ 64.3}$ | $25.6\\%$ | $161.9_{- 35}^{+ 27.6}$ | $120.9\\%$ | $177.5\\%$ |\n",
    "| | | $2000$ | $58.4$ | $73.3_{- 65.8}^{+ 64.3}$ | $25.6\\%$ | $198.5_{- 41.6}^{+ 33.3}$ | $170.8\\%$ | $240.2\\%$|\n",
    "| 1.2 MeV, shadowcone subtracted | nn64_128_64_32_8 | $500$ | $330.0$ | $316.4_{- 66.8}^{+ 48.6}$ | $-4.1\\%$ | $408.2_{- 69.2}^{+ 43.6}$ | $29.0\\%$ | $23.7\\%$ |\n",
    "| | | $2000$ | $330.0$ | $316.4_{- 66.8}^{+ 48.6}$ | $-4.1\\%$ | $381.1_{- 66.9}^{+ 44.3}$ | $20.4\\%$ | $15.5\\%$ |\n",
    "| | nn76_152_76_38_8 | $500$ | $330.0$ | $316.4_{- 66.8}^{+ 48.6}$ | $-4.1\\%$ | $203.5_{- 37.9}^{+ 28.1}$ | $-35.7\\%$ | $-38.3\\%$ |\n",
    "| | | $2000$ | $330.0$ | $316.4_{- 66.8}^{+ 48.6}$ | $-4.1\\%$ | $320.7_{- 50.6}^{+ 35.5}$ | $1.4\\%$ | $-2.8\\%$ |\n"
   ]
  },
  {
   "cell_type": "markdown",
   "id": "eb636bf8",
   "metadata": {},
   "source": [
    "There are a few points of note from these results:\n",
    "\n",
    " - In general, the error from the binning procedure is higher for the monoenergetic sources than the continuous sources. This is because the dose contribution from a given bin for a continuous source will be from a range of energies across that bin as opposed to from a single energy within the bin. As a result the continuous distribution across the bin effectively averages out the dose more than the monoenergetic source, thus meaning that the average dose coefficient used to calculate the binned dose is a closer match to the true dose.\n",
    " - The relative error between the predicted dose and the true dose decreases as a function of energy for the models with only cubes included, whilst for the models including profiles it underestimates the error more at higher energies. This can be seen in more detail in the plot below.\n",
    " \n",
    "![Energy variation of dose error](Plots/error_on_true_dose_test_data.png)\n",
    "\n",
    "**MORE TO ADD**"
   ]
  },
  {
   "cell_type": "markdown",
   "id": "e2b356d9",
   "metadata": {},
   "source": [
    "#### Working to be neatened\n",
    "\n",
    "**--------------------------------------------------------------------------------------------------------------------------------------------------------------**"
   ]
  },
  {
   "cell_type": "code",
   "execution_count": 100,
   "id": "ed3f70c5",
   "metadata": {},
   "outputs": [],
   "source": [
    "def PrepDoseBounds(coeffs,bins,d):\n",
    "    dose_curve = interp1d(coeffs['Energy / MeV'],coeffs[d])\n",
    "    \n",
    "    avg_dpf,max_dpf,min_dpf = [],[],[]\n",
    "    for i in range(len(bins)-1):\n",
    "        avg_dpf.append(quad(dose_curve,bins[i],bins[i+1],limit=200)[0])\n",
    "        max_dpf.append(dose_curve(fminbound(lambda x : -1*dose_curve(x),bins[i],bins[i+1])))\n",
    "        min_dpf.append(dose_curve(fminbound(dose_curve,bins[i],bins[i+1])))\n",
    "    avg_dpf = np.array(avg_dpf)/np.diff(bins)\n",
    "    max_dpf = np.array(max_dpf)\n",
    "    min_dpf = np.array(min_dpf)\n",
    "    \n",
    "    return np.vstack([min_dpf,avg_dpf,max_dpf])"
   ]
  },
  {
   "cell_type": "code",
   "execution_count": 101,
   "id": "2765a163",
   "metadata": {},
   "outputs": [],
   "source": [
    "def UpperLowerBounds(coeffs,bins,d,bin_counts):\n",
    "    dose_bounds = PrepDoseBounds(coeffs,bins,d)\n",
    "    source_dose_bounds = (bin_counts*dose_bounds).sum(axis=1)\n",
    "    return source_dose_bounds"
   ]
  },
  {
   "cell_type": "code",
   "execution_count": 135,
   "id": "e26aec01",
   "metadata": {},
   "outputs": [
    {
     "data": {
      "text/plain": [
       "array([343.95263369, 409.77910069, 453.5938381 ])"
      ]
     },
     "execution_count": 135,
     "metadata": {},
     "output_type": "execute_result"
    }
   ],
   "source": [
    "UpperLowerBounds(dose_coeffs,bins,'AP',models[0](torch.from_numpy(inputs[0][0]/inputs[0][0].sum()).to(torch.float)).detach().numpy())"
   ]
  },
  {
   "cell_type": "code",
   "execution_count": 102,
   "id": "4e659745",
   "metadata": {},
   "outputs": [],
   "source": [
    "def LoadRealCubes(dfile,sdc,profile):\n",
    "    real_cubes,total_count,real_time = NNPL.PrepareRealInput(dfile,profile)\n",
    "    \n",
    "    if sdc is not None:\n",
    "        sdc_cubes,sdc_count,sdc_time = NNPL.PrepareRealInput(sdc,profile)\n",
    "\n",
    "        sub_cubes = (total_count*real_cubes/real_time - sdc_count*sdc_cubes/sdc_time)*min(real_time,sdc_time)\n",
    "        sub_cubes = sub_cubes/sub_cubes.sum()\n",
    "    else:\n",
    "        sub_cubes = real_cubes/real_cubes.sum()\n",
    "    \n",
    "    return sub_cubes.flatten()"
   ]
  },
  {
   "cell_type": "code",
   "execution_count": 128,
   "id": "401e9b55",
   "metadata": {},
   "outputs": [],
   "source": [
    "def CalcTrueDose(source_dist,d,coeffs):\n",
    "    dose_curve = interp1d(coeffs['Energy / MeV'],coeffs[d])\n",
    "    if callable(source_dist):\n",
    "        true_dose = quad(lambda x:source_dist(x)*dose_curve(x),0,np.inf,limit=200)[0]\n",
    "    else:\n",
    "        true_dose = dose_curve(source_dist)\n",
    "    return true_dose"
   ]
  },
  {
   "cell_type": "code",
   "execution_count": 69,
   "id": "1722b915",
   "metadata": {},
   "outputs": [
    {
     "ename": "NameError",
     "evalue": "name 'LoadRealCubes' is not defined",
     "output_type": "error",
     "traceback": [
      "\u001b[0;31m---------------------------------------------------------------------------\u001b[0m",
      "\u001b[0;31mNameError\u001b[0m                                 Traceback (most recent call last)",
      "\u001b[0;32m/tmp/ipykernel_29268/3173995836.py\u001b[0m in \u001b[0;36m<module>\u001b[0;34m\u001b[0m\n\u001b[1;32m      3\u001b[0m \u001b[0mAmLi\u001b[0m\u001b[0;34m,\u001b[0m\u001b[0mAmLi_bounds\u001b[0m \u001b[0;34m=\u001b[0m \u001b[0mNNPL\u001b[0m\u001b[0;34m.\u001b[0m\u001b[0mPrepareYieldDist\u001b[0m\u001b[0;34m(\u001b[0m\u001b[0;34m'/home/nr1315/Documents/Project/MachineLearning/AmLiYield.npy'\u001b[0m\u001b[0;34m)\u001b[0m\u001b[0;34m\u001b[0m\u001b[0;34m\u001b[0m\u001b[0m\n\u001b[1;32m      4\u001b[0m \u001b[0;34m\u001b[0m\u001b[0m\n\u001b[0;32m----> 5\u001b[0;31m \u001b[0mmonos_144_cubes\u001b[0m \u001b[0;34m=\u001b[0m \u001b[0mLoadRealCubes\u001b[0m\u001b[0;34m(\u001b[0m\u001b[0;34m'/home/nr1315/Documents/Project/NPL_2021/vdg_1um_Li7target19A_433cm_0deg.h5'\u001b[0m\u001b[0;34m,\u001b[0m\u001b[0;34m'/home/nr1315/Documents/Project/NPL_2021/vdg_1um_Li7target19A_433cm_0deg_shadowcone.h5'\u001b[0m\u001b[0;34m,\u001b[0m\u001b[0;32mFalse\u001b[0m\u001b[0;34m)\u001b[0m\u001b[0;34m\u001b[0m\u001b[0;34m\u001b[0m\u001b[0m\n\u001b[0m\u001b[1;32m      6\u001b[0m \u001b[0mmonos_1_2_cubes\u001b[0m \u001b[0;34m=\u001b[0m \u001b[0mLoadRealCubes\u001b[0m\u001b[0;34m(\u001b[0m\u001b[0;34m'/home/nr1315/Documents/Project/NPL_2021/vdg_1um_1_2_MeV_target3_2.h5'\u001b[0m\u001b[0;34m,\u001b[0m\u001b[0;34m'/home/nr1315/Documents/Project/NPL_2021/vdg_1um_1_2_MeV_target3_shadowcone.h5'\u001b[0m\u001b[0;34m,\u001b[0m\u001b[0;32mFalse\u001b[0m\u001b[0;34m)\u001b[0m\u001b[0;34m\u001b[0m\u001b[0;34m\u001b[0m\u001b[0m\n\u001b[1;32m      7\u001b[0m \u001b[0mmonos_144_profiles\u001b[0m \u001b[0;34m=\u001b[0m \u001b[0mLoadRealCubes\u001b[0m\u001b[0;34m(\u001b[0m\u001b[0;34m'/home/nr1315/Documents/Project/NPL_2021/vdg_1um_Li7target19A_433cm_0deg.h5'\u001b[0m\u001b[0;34m,\u001b[0m\u001b[0;34m'/home/nr1315/Documents/Project/NPL_2021/vdg_1um_Li7target19A_433cm_0deg_shadowcone.h5'\u001b[0m\u001b[0;34m,\u001b[0m\u001b[0;32mTrue\u001b[0m\u001b[0;34m)\u001b[0m\u001b[0;34m\u001b[0m\u001b[0;34m\u001b[0m\u001b[0m\n",
      "\u001b[0;31mNameError\u001b[0m: name 'LoadRealCubes' is not defined"
     ]
    }
   ],
   "source": [
    "Cf,Cf_bounds = NNPL.PrepareYieldDist('/home/nr1315/Documents/Project/MachineLearning/Cf252Yield.npy')\n",
    "AmBe,AmBe_bounds = NNPL.PrepareYieldDist('/home/nr1315/Documents/Project/MachineLearning/AmBeYield.npy')\n",
    "AmLi,AmLi_bounds = NNPL.PrepareYieldDist('/home/nr1315/Documents/Project/MachineLearning/AmLiYield.npy')\n",
    "\n",
    "monos_144_cubes = LoadRealCubes('/home/nr1315/Documents/Project/NPL_2021/vdg_1um_Li7target19A_433cm_0deg.h5','/home/nr1315/Documents/Project/NPL_2021/vdg_1um_Li7target19A_433cm_0deg_shadowcone.h5',False)\n",
    "monos_1_2_cubes = LoadRealCubes('/home/nr1315/Documents/Project/NPL_2021/vdg_1um_1_2_MeV_target3_2.h5','/home/nr1315/Documents/Project/NPL_2021/vdg_1um_1_2_MeV_target3_shadowcone.h5',False)\n",
    "monos_144_profiles = LoadRealCubes('/home/nr1315/Documents/Project/NPL_2021/vdg_1um_Li7target19A_433cm_0deg.h5','/home/nr1315/Documents/Project/NPL_2021/vdg_1um_Li7target19A_433cm_0deg_shadowcone.h5',True)\n",
    "monos_1_2_profiles = LoadRealCubes('/home/nr1315/Documents/Project/NPL_2021/vdg_1um_1_2_MeV_target3_2.h5','/home/nr1315/Documents/Project/NPL_2021/vdg_1um_1_2_MeV_target3_shadowcone.h5',True)\n",
    "\n",
    "names = ['nn64_128_64_32_8, 500 epochs','nn76_152_76_38_8, 500 epochs','nn64_128_64_32_8, 2000 epochs','nn76_152_76_38_8, 2000 epochs']\n",
    "\n",
    "\n",
    "\n",
    "bins = np.load(energy_bins)\n",
    "dose_coeffs = pd.read_hdf(coeffs)"
   ]
  },
  {
   "cell_type": "code",
   "execution_count": 155,
   "id": "05ab845c",
   "metadata": {},
   "outputs": [],
   "source": [
    "labels = ['144 keV','AmLi','1.2 MeV','Cf','AmBe']\n",
    "models = [model_cubes,model_cubes_profiles,model_cubes_2000,model_cubes_profiles_2000]\n",
    "\n",
    "source_dists = [0.144,AmLi,1.2,Cf,AmBe]\n",
    "targets = [np.histogram(144e-3,bins=bins)[0],AmLi_bins,np.histogram(1.2,bins=bins)[0],Cf_bins,AmBe_bins]\n",
    "inputs = [[monos_144_cubes,AmLi_cubes,monos_1_2_cubes,Cf_cubes,AmBe_cubes],\n",
    "          [monos_144_profiles,AmLi_profiles,monos_1_2_profiles,Cf_profiles,AmBe_profiles]]\n",
    "Cf_b,AmBe_b,AmLi_b,mono_144_b,mono_1_2_b = {},{},{},{},{}\n",
    "dicts = [mono_144_b,AmLi_b,mono_1_2_b,Cf_b,AmBe_b]\n",
    "for i in range(5):\n",
    "        for j in range(4):\n",
    "            true_dose = CalcTrueDose(source_dists[i],'AP',dose_coeffs)\n",
    "            binned_dose = UpperLowerBounds(dose_coeffs,bins,'AP',targets[i]/targets[i].sum())\n",
    "            pred_dose = UpperLowerBounds(dose_coeffs,bins,'AP',models[j](torch.from_numpy(inputs[j%2][i]/inputs[j%2][i].sum()).to(torch.float)).detach().numpy())\n",
    "            dicts[i][names[j]] = {'true':true_dose,'binned':binned_dose,'pred':pred_dose}"
   ]
  },
  {
   "cell_type": "code",
   "execution_count": null,
   "id": "d735a219",
   "metadata": {},
   "outputs": [],
   "source": []
  },
  {
   "cell_type": "code",
   "execution_count": 200,
   "id": "9de438ef",
   "metadata": {},
   "outputs": [
    {
     "data": {
      "text/plain": [
       "Text(4.221, 160, '$\\\\langle E_{AmBe} \\\\rangle$')"
      ]
     },
     "execution_count": 200,
     "metadata": {},
     "output_type": "execute_result"
    }
   ],
   "source": [
    "energies = [0.144,0.553,1.2,2.176,4.211]\n",
    "colors = {names[0]:'blue',names[1]:'green',names[2]:'red',names[3]:'orange'}\n",
    "mins,maxs = [],[]\n",
    "for name in names:\n",
    "    vals,ubs,lbs = [],[],[]\n",
    "    for d in dicts:\n",
    "        vals.append((d[name]['pred'][1] - d[name]['true'])/d[name]['true'])\n",
    "        ubs.append((d[name]['pred'][2] - d[name]['true'])/d[name]['true'])\n",
    "        lbs.append((d[name]['pred'][0] - d[name]['true'])/d[name]['true'])\n",
    "    plt.plot(energies,100*np.array(vals),label=name,color=colors[name],alpha=0.6)\n",
    "    mins.append(min(vals))\n",
    "    maxs.append(max(vals))\n",
    "    #plt.errorbar(energies,vals,yerr = [lbs,ubs],capsize=10,fmt='none',color=colors[name],alpha=0.6)\n",
    "plt.legend(fontsize=16)\n",
    "plt.xlabel('Energy / MeV',fontsize=18)\n",
    "plt.ylabel('Relative error / %',fontsize=18)\n",
    "plt.title('Error on prediction of true dose for test data',fontsize=24)\n",
    "plt.xticks(fontsize=16)\n",
    "plt.yticks(fontsize=16)\n",
    "plt.grid()\n",
    "plt.ylim(100*(min(mins) - 0.1),100*(max(maxs) + 0.1))\n",
    "plt.xlim(0,4.5)\n",
    "\n",
    "plt.plot(np.repeat(0.553,10),np.linspace(100*(min(mins)-0.1),100*(max(maxs)+0.1),10),color='black',linestyle='--',lw=1)\n",
    "plt.plot(np.repeat(2.176,10),np.linspace(100*(min(mins)-0.1),100*(max(maxs)+0.1),10),color='black',linestyle='--',lw=1)\n",
    "plt.plot(np.repeat(4.211,10),np.linspace(100*(min(mins)-0.1),100*(max(maxs)+0.1),10),color='black',linestyle='--',lw=1)\n",
    "\n",
    "plt.plot(np.linspace(0,4.5,10),np.repeat(0,10),color='black',lw=1)\n",
    "\n",
    "#plt.text(0.553+0.01,160,'AmLi\\navg E',fontsize=16)\n",
    "plt.text(0.553+0.01,160,r'$\\langle E_{AmLi} \\rangle$',fontsize=16)\n",
    "plt.text(2.176 + 0.01,160,r'$\\langle E_{^{252}Cf} \\rangle$',fontsize=16)\n",
    "plt.text(4.211 + 0.01,160,r'$\\langle E_{AmBe} \\rangle$',fontsize=16)"
   ]
  },
  {
   "cell_type": "code",
   "execution_count": 163,
   "id": "40e8a66d",
   "metadata": {},
   "outputs": [
    {
     "data": {
      "text/plain": [
       "-61.36319401179273"
      ]
     },
     "execution_count": 163,
     "metadata": {},
     "output_type": "execute_result"
    }
   ],
   "source": [
    "100*(min(mins) - 0.1)"
   ]
  },
  {
   "cell_type": "code",
   "execution_count": 164,
   "id": "aa24c020",
   "metadata": {},
   "outputs": [
    {
     "data": {
      "text/plain": [
       "array([-61.36319401, -26.74771054,   7.86777293,  42.48325641,\n",
       "        77.09873988, 111.71422335, 146.32970682, 180.9451903 ,\n",
       "       215.56067377, 250.17615724])"
      ]
     },
     "execution_count": 164,
     "metadata": {},
     "output_type": "execute_result"
    }
   ],
   "source": [
    "np.linspace(100*(min(mins) - 0.1),100*(max(maxs) + 0.1),10)"
   ]
  },
  {
   "cell_type": "code",
   "execution_count": 133,
   "id": "543f6a56",
   "metadata": {},
   "outputs": [
    {
     "data": {
      "text/plain": [
       "array([59.00984482, 39.2775272 ])"
      ]
     },
     "execution_count": 133,
     "metadata": {},
     "output_type": "execute_result"
    }
   ],
   "source": [
    "np.diff(((models[0](torch.from_numpy(inputs[0][0]/inputs[0][0].sum()).to(torch.float)).detach().numpy())*PrepDoseBounds(dose_coeffs,bins,'AP')).sum(axis=1))"
   ]
  },
  {
   "cell_type": "code",
   "execution_count": 128,
   "id": "9dea6803",
   "metadata": {},
   "outputs": [
    {
     "data": {
      "text/plain": [
       "{'nn64_128_64_32_8': ((59.13374163451289, 41.37319290883062),\n",
       "  (65.82646700401324, 43.814737411850274)),\n",
       " 'nn76_152_76_38_8': ((59.13374163451289, 41.37319290883062),\n",
       "  (83.21004446166847, 61.56899967260864)),\n",
       " 'nn64_128_64_32_8_2000': ((59.13374163451289, 41.37319290883062),\n",
       "  (70.26762644020357, 49.02129856247541)),\n",
       " 'nn76_152_76_38_8_2000': ((59.13374163451289, 41.37319290883062),\n",
       "  (70.64399666877745, 49.85281107023491))}"
      ]
     },
     "execution_count": 128,
     "metadata": {},
     "output_type": "execute_result"
    }
   ],
   "source": [
    "dicts[0]"
   ]
  },
  {
   "cell_type": "code",
   "execution_count": 89,
   "id": "cd6e22cf",
   "metadata": {},
   "outputs": [
    {
     "data": {
      "text/plain": [
       "(59.13374163451289, 41.37319290883062)"
      ]
     },
     "execution_count": 89,
     "metadata": {},
     "output_type": "execute_result"
    }
   ],
   "source": [
    "UpperLowerBounds(dose_coeffs,bins,'AP',Cf_bins)"
   ]
  },
  {
   "cell_type": "code",
   "execution_count": 90,
   "id": "ee08c475",
   "metadata": {},
   "outputs": [
    {
     "data": {
      "text/plain": [
       "(59.13374163451289, 41.37319290883062)"
      ]
     },
     "execution_count": 90,
     "metadata": {},
     "output_type": "execute_result"
    }
   ],
   "source": [
    "cfd = (PrepDoseBounds(dose_coeffs,bins,'AP')*Cf_bins/Cf_bins.sum()).sum(axis=1)\n",
    "cfd[1] - cfd[0],cfd[2]-cfd[1]"
   ]
  },
  {
   "cell_type": "code",
   "execution_count": 75,
   "id": "0b9845ba",
   "metadata": {},
   "outputs": [
    {
     "data": {
      "text/plain": [
       "array([-0.03849331, -0.03727394, -0.02635773,  0.52332836,  0.37729588,\n",
       "        0.04819015,  0.02464751,  0.02510862], dtype=float32)"
      ]
     },
     "execution_count": 75,
     "metadata": {},
     "output_type": "execute_result"
    }
   ],
   "source": [
    "model_cubes(torch.from_numpy(Cf_cubes/Cf_cubes.sum()).to(torch.float)).detach().numpy()"
   ]
  },
  {
   "cell_type": "code",
   "execution_count": 78,
   "id": "565fa61e",
   "metadata": {},
   "outputs": [
    {
     "data": {
      "text/plain": [
       "array([308.33481773, 367.34466255, 406.62218975])"
      ]
     },
     "execution_count": 78,
     "metadata": {},
     "output_type": "execute_result"
    }
   ],
   "source": [
    "(PrepDoseBounds(dose_coeffs,bins,'AP')*model_cubes(torch.from_numpy(Cf_cubes/Cf_cubes.sum()).to(torch.float)).detach().numpy()).sum(axis=1)"
   ]
  },
  {
   "cell_type": "code",
   "execution_count": 3,
   "id": "e79b871c",
   "metadata": {},
   "outputs": [],
   "source": [
    "import numpy as np\n",
    "import pandas as pd\n",
    "from scipy.interpolate import interp1d"
   ]
  },
  {
   "cell_type": "code",
   "execution_count": 4,
   "id": "6f14e362",
   "metadata": {},
   "outputs": [
    {
     "ename": "NameError",
     "evalue": "name 'coeffs' is not defined",
     "output_type": "error",
     "traceback": [
      "\u001b[0;31m---------------------------------------------------------------------------\u001b[0m",
      "\u001b[0;31mNameError\u001b[0m                                 Traceback (most recent call last)",
      "\u001b[0;32m/tmp/ipykernel_19910/3864481691.py\u001b[0m in \u001b[0;36m<module>\u001b[0;34m\u001b[0m\n\u001b[0;32m----> 1\u001b[0;31m \u001b[0mdose_coeffs\u001b[0m \u001b[0;34m=\u001b[0m \u001b[0mpd\u001b[0m\u001b[0;34m.\u001b[0m\u001b[0mread_hdf\u001b[0m\u001b[0;34m(\u001b[0m\u001b[0mcoeffs\u001b[0m\u001b[0;34m)\u001b[0m\u001b[0;34m\u001b[0m\u001b[0;34m\u001b[0m\u001b[0m\n\u001b[0m\u001b[1;32m      2\u001b[0m \u001b[0mbins\u001b[0m \u001b[0;34m=\u001b[0m \u001b[0mnp\u001b[0m\u001b[0;34m.\u001b[0m\u001b[0mload\u001b[0m\u001b[0;34m(\u001b[0m\u001b[0menergy_bins\u001b[0m\u001b[0;34m)\u001b[0m\u001b[0;34m\u001b[0m\u001b[0;34m\u001b[0m\u001b[0m\n\u001b[1;32m      3\u001b[0m \u001b[0;34m\u001b[0m\u001b[0m\n\u001b[1;32m      4\u001b[0m \u001b[0map_dose_curve\u001b[0m \u001b[0;34m=\u001b[0m \u001b[0minterp1d\u001b[0m\u001b[0;34m(\u001b[0m\u001b[0mdose_coeffs\u001b[0m\u001b[0;34m[\u001b[0m\u001b[0;34m'Energy / MeV'\u001b[0m\u001b[0;34m]\u001b[0m\u001b[0;34m,\u001b[0m\u001b[0mdose_coeffs\u001b[0m\u001b[0;34m[\u001b[0m\u001b[0;34m'AP'\u001b[0m\u001b[0;34m]\u001b[0m\u001b[0;34m)\u001b[0m\u001b[0;34m\u001b[0m\u001b[0;34m\u001b[0m\u001b[0m\n",
      "\u001b[0;31mNameError\u001b[0m: name 'coeffs' is not defined"
     ]
    }
   ],
   "source": [
    "dose_coeffs = pd.read_hdf(coeffs)\n",
    "bins = np.load(energy_bins)\n",
    "\n",
    "ap_dose_curve = interp1d(dose_coeffs['Energy / MeV'],dose_coeffs['AP'])"
   ]
  },
  {
   "cell_type": "code",
   "execution_count": 16,
   "id": "ef61cb8e",
   "metadata": {},
   "outputs": [],
   "source": [
    "integral_bin_dose = []\n",
    "maxima_energy,minima_energy = [],[]\n",
    "for i in range(len(bins)-1):\n",
    "    integral_bin_dose.append(quad(ap_dose_curve,bins[i],bins[i+1],limit=200)[0])\n",
    "    maxima_energy.append(fminbound(lambda x : -1*ap_dose_curve(x),bins[i],bins[i+1]))\n",
    "    minima_energy.append(fminbound(ap_dose_curve,bins[i],bins[i+1]))\n",
    "integral_bin_dose = np.array(integral_bin_dose)/np.diff(bins)\n",
    "maxima_energy = np.array(maxima_energy)\n",
    "minima_energy = np.array(minima_energy)"
   ]
  },
  {
   "cell_type": "code",
   "execution_count": 18,
   "id": "78e6ce4a",
   "metadata": {},
   "outputs": [],
   "source": [
    "min_dpf = ap_dose_curve(minima_energy)\n",
    "max_dpf = ap_dose_curve(maxima_energy)\n",
    "avg_dpf = integral_bin_dose"
   ]
  },
  {
   "cell_type": "code",
   "execution_count": 20,
   "id": "42a19f56",
   "metadata": {},
   "outputs": [],
   "source": [
    "dose_per_fluence_bins = np.vstack([min_dpf,avg_dpf,max_dpf])"
   ]
  },
  {
   "cell_type": "code",
   "execution_count": 22,
   "id": "b3da2257",
   "metadata": {},
   "outputs": [
    {
     "data": {
      "text/plain": [
       "array([0.01930433, 8.7238059 , 0.42822664, 0.26749172, 0.18846897,\n",
       "       0.04087018, 0.05467647, 0.05697613])"
      ]
     },
     "execution_count": 22,
     "metadata": {},
     "output_type": "execute_result"
    }
   ],
   "source": [
    "(dose_per_fluence_bins[1] - dose_per_fluence_bins[0])/dose_per_fluence_bins[0]"
   ]
  },
  {
   "cell_type": "code",
   "execution_count": 23,
   "id": "8054485f",
   "metadata": {},
   "outputs": [
    {
     "data": {
      "text/plain": [
       "array([-0.01905808, -0.46725902, -0.21256423, -0.13315322, -0.09010639,\n",
       "       -0.00753   , -0.04868181, -0.0578616 ])"
      ]
     },
     "execution_count": 23,
     "metadata": {},
     "output_type": "execute_result"
    }
   ],
   "source": [
    "(dose_per_fluence_bins[1] - dose_per_fluence_bins[2])/dose_per_fluence_bins[2]"
   ]
  },
  {
   "cell_type": "code",
   "execution_count": 24,
   "id": "f36f103b",
   "metadata": {},
   "outputs": [],
   "source": [
    "cf_bins = np.load('/home/nr1315/Documents/Project/MachineLearning/TestingData/SimEnergyBins_Cf252.npy')"
   ]
  },
  {
   "cell_type": "code",
   "execution_count": 25,
   "id": "b0a6005b",
   "metadata": {},
   "outputs": [],
   "source": [
    "cf_bins = cf_bins/cf_bins.sum()"
   ]
  },
  {
   "cell_type": "code",
   "execution_count": 50,
   "id": "25886c97",
   "metadata": {},
   "outputs": [],
   "source": [
    "cf_avg_dpf = cf_bins*avg_dpf\n",
    "cf_max_dpf = cf_bins*max_dpf\n",
    "cf_min_dpf = cf_bins*min_dpf"
   ]
  },
  {
   "cell_type": "code",
   "execution_count": 51,
   "id": "4447841f",
   "metadata": {},
   "outputs": [
    {
     "data": {
      "text/plain": [
       "354.5143061942601"
      ]
     },
     "execution_count": 51,
     "metadata": {},
     "output_type": "execute_result"
    }
   ],
   "source": [
    "cf_avg_dpf.sum()"
   ]
  },
  {
   "cell_type": "code",
   "execution_count": 52,
   "id": "552bda67",
   "metadata": {},
   "outputs": [
    {
     "data": {
      "text/plain": [
       "395.8874991030907"
      ]
     },
     "execution_count": 52,
     "metadata": {},
     "output_type": "execute_result"
    }
   ],
   "source": [
    "cf_max_dpf.sum()"
   ]
  },
  {
   "cell_type": "code",
   "execution_count": 53,
   "id": "8405a293",
   "metadata": {},
   "outputs": [
    {
     "data": {
      "text/plain": [
       "295.3805645597472"
      ]
     },
     "execution_count": 53,
     "metadata": {},
     "output_type": "execute_result"
    }
   ],
   "source": [
    "cf_min_dpf.sum()"
   ]
  },
  {
   "cell_type": "code",
   "execution_count": null,
   "id": "f4ddfbc4",
   "metadata": {},
   "outputs": [],
   "source": []
  },
  {
   "cell_type": "code",
   "execution_count": 626,
   "id": "30d71aed",
   "metadata": {},
   "outputs": [],
   "source": [
    "real_cubes_144,total_count_144,time_144 = NNPL.PrepareRealInput('/home/nr1315/Documents/Project/NPL_2021/vdg_1um_Li7target19A_433cm_0deg.h5')\n",
    "sdc_cubes_144,sdc_count_144,sdc_time_144 = NNPL.PrepareRealInput('/home/nr1315/Documents/Project/NPL_2021/vdg_1um_Li7target19A_433cm_0deg_shadowcone.h5')"
   ]
  },
  {
   "cell_type": "code",
   "execution_count": 623,
   "id": "6b0fd72a",
   "metadata": {},
   "outputs": [],
   "source": [
    "true_dose_144,true_count_144,true_count_err_144 = NNPL.CalcTrueDose(144e-3,'144 keV',time_144,dose_coeffs = '/home/nr1315/Documents/Project/effective_dose_coeffs.h5')"
   ]
  },
  {
   "cell_type": "code",
   "execution_count": 641,
   "id": "585e5892",
   "metadata": {},
   "outputs": [],
   "source": [
    "sub_cubes_144 = (total_count_144*real_cubes_144/time_144 - sdc_count_144*sdc_cubes_144/sdc_time_144)*min(time_144,sdc_time_144)"
   ]
  },
  {
   "cell_type": "code",
   "execution_count": null,
   "id": "f77979e7",
   "metadata": {},
   "outputs": [],
   "source": []
  },
  {
   "cell_type": "code",
   "execution_count": 119,
   "id": "3991172c",
   "metadata": {},
   "outputs": [],
   "source": [
    "def CalcDoseNPL2021(dfile,source_dist,dose_curve,model,bins,sdc=None,source_bins = None,profile=False):\n",
    "    real_cubes,total_count,real_time = NNPL.PrepareRealInput(dfile,profile)\n",
    "    \n",
    "    if sdc is not None:\n",
    "        sdc_cubes,sdc_count,sdc_time = NNPL.PrepareRealInput(sdc,profile)\n",
    "\n",
    "        sub_cubes = (total_count*real_cubes/real_time - sdc_count*sdc_cubes/sdc_time)*min(real_time,sdc_time)\n",
    "        sub_cubes = sub_cubes/sub_cubes.sum()\n",
    "    else:\n",
    "        sub_cubes = real_cubes\n",
    "    \n",
    "    pred_fluence = model(torch.from_numpy(sub_cubes).to(torch.float)).detach().numpy()\n",
    "    \n",
    "    integrated_dose_bins = []\n",
    "    for i in range(len(bins)-1):\n",
    "        integrated_dose = quad(dose_curve,bins[i],bins[i+1],limit=200)[0]\n",
    "        integrated_dose_bins.append(integrated_dose)\n",
    "    integrated_dose_bins = np.array(integrated_dose_bins)/np.diff(bins)\n",
    "    \n",
    "    pred_dose = (pred_fluence * integrated_dose_bins).sum()\n",
    "    \n",
    "    if callable(source_dist):\n",
    "        true_dose = quad(lambda x:source_dist(x)*dose_curve(x),0,np.inf,limit=200)[0]\n",
    "    else:\n",
    "        true_dose = dose_curve(source_dist)\n",
    "    \n",
    "    pred_true_err = (pred_dose - true_dose)/true_dose\n",
    "    \n",
    "    if source_bins is not None:\n",
    "        binned_dose = (integrated_dose_bins * source_bins).sum()\n",
    "        \n",
    "        pred_binned_err = (pred_dose - binned_dose)/binned_dose\n",
    "        binned_true_err = (binned_dose - true_dose)/true_dose\n",
    "        \n",
    "        return true_dose,binned_dose,pred_dose,binned_true_err,pred_true_err,pred_binned_err\n",
    "    \n",
    "    else:\n",
    "        return true_dose,pred_dose,pred_true_err\n",
    "        \n",
    "    "
   ]
  },
  {
   "cell_type": "code",
   "execution_count": 65,
   "id": "bb1495e3",
   "metadata": {},
   "outputs": [
    {
     "ename": "NameError",
     "evalue": "name 'dose_coeffs' is not defined",
     "output_type": "error",
     "traceback": [
      "\u001b[0;31m---------------------------------------------------------------------------\u001b[0m",
      "\u001b[0;31mNameError\u001b[0m                                 Traceback (most recent call last)",
      "\u001b[0;32m/tmp/ipykernel_29268/3378537040.py\u001b[0m in \u001b[0;36m<module>\u001b[0;34m\u001b[0m\n\u001b[0;32m----> 1\u001b[0;31m \u001b[0map_dose_curve\u001b[0m \u001b[0;34m=\u001b[0m \u001b[0minterp1d\u001b[0m\u001b[0;34m(\u001b[0m\u001b[0mdose_coeffs\u001b[0m\u001b[0;34m[\u001b[0m\u001b[0;34m'Energy / MeV'\u001b[0m\u001b[0;34m]\u001b[0m\u001b[0;34m,\u001b[0m\u001b[0mdose_coeffs\u001b[0m\u001b[0;34m[\u001b[0m\u001b[0;34m'AP'\u001b[0m\u001b[0;34m]\u001b[0m\u001b[0;34m)\u001b[0m\u001b[0;34m\u001b[0m\u001b[0;34m\u001b[0m\u001b[0m\n\u001b[0m",
      "\u001b[0;31mNameError\u001b[0m: name 'dose_coeffs' is not defined"
     ]
    }
   ],
   "source": [
    "ap_dose_curve = interp1d(dose_coeffs['Energy / MeV'],dose_coeffs['AP'])"
   ]
  },
  {
   "cell_type": "code",
   "execution_count": 122,
   "id": "35dbc2a6",
   "metadata": {},
   "outputs": [
    {
     "data": {
      "text/plain": [
       "(array(58.356),\n",
       " 73.31749652179467,\n",
       " 186.03095087034413,\n",
       " 0.25638317434016505,\n",
       " 2.1878633023227114,\n",
       " 1.5373336474335808)"
      ]
     },
     "execution_count": 122,
     "metadata": {},
     "output_type": "execute_result"
    }
   ],
   "source": [
    "CalcDoseNPL2021('/home/nr1315/Documents/Project/NPL_2021/vdg_1um_Li7target19A_433cm_0deg.h5',\n",
    "                144e-3,\n",
    "                ap_dose_curve,\n",
    "                model_cubes,\n",
    "                bins,\n",
    "                sdc = '/home/nr1315/Documents/Project/NPL_2021/vdg_1um_Li7target19A_433cm_0deg_shadowcone.h5',\n",
    "                source_bins = np.histogram(144e-3,bins=bins)[0])"
   ]
  },
  {
   "cell_type": "code",
   "execution_count": 674,
   "id": "059e240f",
   "metadata": {},
   "outputs": [
    {
     "data": {
      "text/plain": [
       "(array(58.356), 73.31749652179467, 264.9335371437561)"
      ]
     },
     "execution_count": 674,
     "metadata": {},
     "output_type": "execute_result"
    }
   ],
   "source": [
    "CalcDoseNPL2021('/home/nr1315/Documents/Project/NPL_2021/vdg_1um_Li7target19A_433cm_0deg.h5',\n",
    "                144e-3,\n",
    "                ap_dose_curve,\n",
    "                model_cubes,\n",
    "                bins,\n",
    "                source_bins = np.histogram(144e-3,bins=bins)[0])"
   ]
  },
  {
   "cell_type": "code",
   "execution_count": null,
   "id": "d572311c",
   "metadata": {},
   "outputs": [],
   "source": []
  },
  {
   "cell_type": "code",
   "execution_count": 63,
   "id": "5fb13c35",
   "metadata": {},
   "outputs": [],
   "source": [
    "def CalcDosePerFluence(dose_curve,source_dist,bins,model,source_bins,source_input):\n",
    "    integrated_dose_bins = []\n",
    "    for i in range(len(bins)-1):\n",
    "        integrated_dose = quad(dose_curve,bins[i],bins[i+1],limit=200)[0]\n",
    "        integrated_dose_bins.append(integrated_dose)\n",
    "    integrated_dose_bins = np.array(integrated_dose_bins)/np.diff(bins)\n",
    "    \n",
    "    if callable(source_dist):\n",
    "        true_dose = quad(lambda x:source_dist(x)*dose_curve(x),0,np.inf,limit=200)[0]\n",
    "    else:\n",
    "        true_dose = dose_curve(source_dist)\n",
    "    \n",
    "    binned_dose = (source_bins/source_bins.sum()*integrated_dose_bins).sum()\n",
    "    \n",
    "    source_input = source_input/source_input.sum()\n",
    "    \n",
    "    pred_fluence = model(torch.from_numpy(source_input).to(torch.float)).detach().numpy()\n",
    "    pred_dose = (pred_fluence*integrated_dose_bins).sum()\n",
    "    \n",
    "    binned_true_err = (binned_dose - true_dose)/true_dose\n",
    "    pred_true_err = (pred_dose - true_dose)/true_dose\n",
    "    pred_binned_err = (pred_dose - binned_dose)/binned_dose\n",
    "    \n",
    "    return true_dose,binned_dose,pred_dose,binned_true_err,pred_true_err,pred_binned_err"
   ]
  },
  {
   "cell_type": "code",
   "execution_count": 64,
   "id": "fb9f2ea8",
   "metadata": {},
   "outputs": [],
   "source": [
    "Cf_cubes = np.load('/home/nr1315/Documents/Project/MachineLearning/TestingData/SimCubeCounts_Cf252_6_0-0-0-0-1-0_1500.npy').flatten()\n",
    "AmBe_cubes = np.load('/home/nr1315/Documents/Project/MachineLearning/TestingData/SimCubeCounts_AmBe_5_0-0-0-0-1-0_1500.npy').flatten()\n",
    "AmLi_cubes = np.load('/home/nr1315/Documents/Project/MachineLearning/TestingData/SimCubeCounts_AmLi_5_0-0-0-0-1-0_1500.npy').flatten()\n",
    "\n",
    "Cf_bins = np.load('/home/nr1315/Documents/Project/MachineLearning/TestingData/SimEnergyBins_Cf252.npy')\n",
    "AmBe_bins = np.load('/home/nr1315/Documents/Project/MachineLearning/TestingData/SimEnergyBins_AmBe.npy')\n",
    "AmLi_bins = np.load('/home/nr1315/Documents/Project/MachineLearning/TestingData/SimEnergyBins_AmLi.npy')"
   ]
  },
  {
   "cell_type": "code",
   "execution_count": 68,
   "id": "85e41ffb",
   "metadata": {},
   "outputs": [
    {
     "data": {
      "text/plain": [
       "array([    0,  5414,  8532, 14603, 25534,  9768,   149,     0])"
      ]
     },
     "execution_count": 68,
     "metadata": {},
     "output_type": "execute_result"
    }
   ],
   "source": [
    "Cf"
   ]
  },
  {
   "cell_type": "code",
   "execution_count": 72,
   "id": "8b0dd437",
   "metadata": {},
   "outputs": [],
   "source": [
    "Cf_true,Cf_binned,Cf_pred,_,Cf_err,_ = CalcDosePerFluence(ap_dose_curve,Cf,bins,nn64_128_64_32_8,Cf_bins,Cf_cubes)\n",
    "AmBe_true,AmBe_binned,AmBe_pred,_,AmBe_err,_ = CalcDosePerFluence(ap_dose_curve,AmBe,bins,nn64_128_64_32_8,AmBe_bins,AmBe_cubes)\n",
    "AmLi_true,AmLi_binned,AmLi_pred,_,AmLi_err,_ = CalcDosePerFluence(ap_dose_curve,AmLi,bins,nn64_128_64_32_8,AmLi_bins,AmLi_cubes)"
   ]
  },
  {
   "cell_type": "code",
   "execution_count": 73,
   "id": "09a961b0",
   "metadata": {},
   "outputs": [
    {
     "data": {
      "text/plain": [
       "(350.3633013972434, 354.5143061942601, 331.198362467047, -0.054700189357067136)"
      ]
     },
     "execution_count": 73,
     "metadata": {},
     "output_type": "execute_result"
    }
   ],
   "source": [
    "Cf_true,Cf_binned,Cf_pred,Cf_err"
   ]
  },
  {
   "cell_type": "code",
   "execution_count": 74,
   "id": "17446edc",
   "metadata": {},
   "outputs": [
    {
     "data": {
      "text/plain": [
       "(426.9889843094355,\n",
       " 425.6696593507678,\n",
       " 431.21431279505293,\n",
       " 0.009895638156686844)"
      ]
     },
     "execution_count": 74,
     "metadata": {},
     "output_type": "execute_result"
    }
   ],
   "source": [
    "AmBe_true,AmBe_binned,AmBe_pred,AmBe_err"
   ]
  },
  {
   "cell_type": "code",
   "execution_count": 75,
   "id": "49b245c3",
   "metadata": {},
   "outputs": [
    {
     "data": {
      "text/plain": [
       "(175.40909222183572,\n",
       " 178.65467646988012,\n",
       " 186.36554096326438,\n",
       " 0.062462262375614475)"
      ]
     },
     "execution_count": 75,
     "metadata": {},
     "output_type": "execute_result"
    }
   ],
   "source": [
    "AmLi_true,AmLi_binned,AmLi_pred,AmLi_err"
   ]
  },
  {
   "cell_type": "code",
   "execution_count": 71,
   "id": "b9ccde2c",
   "metadata": {},
   "outputs": [
    {
     "data": {
      "text/plain": [
       "(350.3633013972434,\n",
       " 354.5143061942601,\n",
       " 331.198362467047,\n",
       " 0.01184771572953718,\n",
       " -0.054700189357067136,\n",
       " -0.06576869626930335)"
      ]
     },
     "execution_count": 71,
     "metadata": {},
     "output_type": "execute_result"
    }
   ],
   "source": [
    "CalcDosePerFluence(ap_dose_curve,Cf,bins,nn64_128_64_32_8,Cf_bins,Cf_cubes)"
   ]
  },
  {
   "cell_type": "code",
   "execution_count": 698,
   "id": "83eef441",
   "metadata": {},
   "outputs": [
    {
     "name": "stdout",
     "output_type": "stream",
     "text": [
      "Cf doses: \n",
      " true 350.3633574417131 pSv cm2 \n",
      " binned 354.5143061942601 pSv cm2 \n",
      " pred 367.3446625486263 pSv cm2 \n",
      " pred vs true error 4.85%\n"
     ]
    }
   ],
   "source": [
    "print(\"Cf doses: \\n true {} pSv cm2 \\n binned {} pSv cm2 \\n pred {} pSv cm2 \\n pred vs true error {}%\".format(Cf_true,Cf_binned,Cf_pred,np.round(100*(Cf_pred - Cf_true)/Cf_true,2)))"
   ]
  },
  {
   "cell_type": "code",
   "execution_count": 699,
   "id": "3444f95a",
   "metadata": {},
   "outputs": [
    {
     "name": "stdout",
     "output_type": "stream",
     "text": [
      "AmBe doses: \n",
      " true 426.9889843094355 pSv cm2 \n",
      " binned 425.6696593507678 pSv cm2 \n",
      " pred 426.9208444220372 pSv cm2 \n",
      " pred vs true error -0.02%\n"
     ]
    }
   ],
   "source": [
    "print(\"AmBe doses: \\n true {} pSv cm2 \\n binned {} pSv cm2 \\n pred {} pSv cm2 \\n pred vs true error {}%\".format(AmBe_true,AmBe_binned,AmBe_pred,np.round(100*(AmBe_pred - AmBe_true)/AmBe_true,2)))"
   ]
  },
  {
   "cell_type": "code",
   "execution_count": 701,
   "id": "dfba2364",
   "metadata": {},
   "outputs": [
    {
     "name": "stdout",
     "output_type": "stream",
     "text": [
      "AmLi doses: \n",
      " true 175.40909222183572 pSv cm2 \n",
      " binned 178.65467646988012 pSv cm2 \n",
      " pred 199.79060710525727 pSv cm2 \n",
      " pred vs true error 13.9%\n"
     ]
    }
   ],
   "source": [
    "print(\"AmLi doses: \\n true {} pSv cm2 \\n binned {} pSv cm2 \\n pred {} pSv cm2 \\n pred vs true error {}%\".format(AmLi_true,AmLi_binned,AmLi_pred,np.round(100*(AmLi_pred - AmLi_true)/AmLi_true,2)))"
   ]
  },
  {
   "cell_type": "code",
   "execution_count": null,
   "id": "cfb63f6e",
   "metadata": {},
   "outputs": [],
   "source": []
  },
  {
   "cell_type": "code",
   "execution_count": null,
   "id": "17d9f2bb",
   "metadata": {},
   "outputs": [],
   "source": []
  },
  {
   "cell_type": "code",
   "execution_count": 175,
   "id": "57f6d121",
   "metadata": {},
   "outputs": [
    {
     "name": "stderr",
     "output_type": "stream",
     "text": [
      "/tmp/ipykernel_22947/3126944317.py:3: IntegrationWarning: The occurrence of roundoff error is detected, which prevents \n",
      "  the requested tolerance from being achieved.  The error may be \n",
      "  underestimated.\n",
      "  Cftotal = quad(Cf,cfyield[0][0],cfyield[0][-1],limit=200)[0]\n"
     ]
    }
   ],
   "source": [
    "cfyield = np.load('/home/nr1315/Documents/Project/MachineLearning/Cf252Yield.npy')\n",
    "Cf = interp1d(cfyield[0],cfyield[1])\n",
    "Cftotal = quad(Cf,cfyield[0][0],cfyield[0][-1],limit=200)[0]\n",
    "Cf2 = interp1d(cfyield[0],cfyield[1]/Cftotal)#,bounds_error = False,fill_value = 0.)\n"
   ]
  },
  {
   "cell_type": "code",
   "execution_count": 515,
   "id": "b58afd28",
   "metadata": {},
   "outputs": [],
   "source": [
    "def CalcBinningDoseErr(source,coeffs,d,limits,target,energy_bin_centres):\n",
    "    dose_curve = interp1d(coeffs['Energy / MeV'],coeffs[d],bounds_error = False,fill_value = 0)\n",
    "    energies = np.geomspace(limits[0],limits[1],100000)\n",
    "    dose_vals = dose_curve(energies)\n",
    "\n",
    "    if callable(source):\n",
    "        func_vals = source(energies)\n",
    "        integ_curve = interp1d(energies,func_vals*dose_vals/20**2,bounds_error = False,fill_value = 0)\n",
    "        true_dose_per_neutron = quad(integ_curve,energies[0],energies[-1],limit=200)[0]\n",
    "    else:\n",
    "        true_dose_per_neutron = dose_curve(source)/20**2\n",
    "        \n",
    "    binned_dose_per_neutron = (target/target.sum()*dose_curve(energy_bin_centres)/20**2).sum()\n",
    "    \n",
    "    percentage_binning_dose_error = 100*(binned_dose_per_neutron - true_dose_per_neutron)/true_dose_per_neutron\n",
    "    \n",
    "    return true_dose_per_neutron,binned_dose_per_neutron,percentage_binning_dose_error"
   ]
  },
  {
   "cell_type": "code",
   "execution_count": 35,
   "id": "dd492fa6",
   "metadata": {},
   "outputs": [],
   "source": [
    "def PrepareYieldDist(yield_file):\n",
    "    source_yield = np.load(yield_file)\n",
    "    source_dist = interp1d(source_yield[0],source_yield[1])\n",
    "    source_total = quad(source_dist,source_yield[0][0],source_yield[0][-1],limit=200)[0]\n",
    "    source_dist_norm = interp1d(source_yield[0],source_yield[1]/source_total,bounds_error = False,fill_value = 0)\n",
    "    \n",
    "    return source_dist_norm,(source_yield[0][0],source_yield[0][-1])"
   ]
  },
  {
   "cell_type": "code",
   "execution_count": 36,
   "id": "45501e0b",
   "metadata": {},
   "outputs": [],
   "source": [
    "AmLi,AmLi_bounds = NNPL.PrepareYieldDist('/home/nr1315/Documents/Project/MachineLearning/AmLiYield.npy')"
   ]
  },
  {
   "cell_type": "code",
   "execution_count": 37,
   "id": "50b654b4",
   "metadata": {},
   "outputs": [],
   "source": [
    "AmBe,AmBe_bounds = NNPL.PrepareYieldDist('/home/nr1315/Documents/Project/MachineLearning/AmBeYield.npy')"
   ]
  },
  {
   "cell_type": "code",
   "execution_count": 39,
   "id": "2f9a34da",
   "metadata": {},
   "outputs": [],
   "source": [
    "Cf,Cf_bounds = NNPL.PrepareYieldDist('/home/nr1315/Documents/Project/MachineLearning/Cf252Yield.npy')"
   ]
  },
  {
   "cell_type": "code",
   "execution_count": 517,
   "id": "2c0cad57",
   "metadata": {},
   "outputs": [
    {
     "name": "stderr",
     "output_type": "stream",
     "text": [
      "/home/nr1315/Documents/Project/Analysis/AnalysisRepo/NNPytorchLightning.py:441: IntegrationWarning: The occurrence of roundoff error is detected, which prevents \n",
      "  the requested tolerance from being achieved.  The error may be \n",
      "  underestimated.\n",
      "  true_dose_per_neutron = quad(integ_curve,energies[0],energies[-1],limit=200)[0]\n"
     ]
    },
    {
     "data": {
      "text/plain": [
       "(0.43852272942531234, 0.451494915546875, 2.9581559292406125)"
      ]
     },
     "execution_count": 517,
     "metadata": {},
     "output_type": "execute_result"
    }
   ],
   "source": [
    "NNPL.CalcBinningDoseErr(AmLi,dc,'AP',list(AmLi_bounds),np.load('/home/nr1315/Documents/Project/MachineLearning/TestingData/SimEnergyBins_AmLi.npy'),centres)"
   ]
  },
  {
   "cell_type": "code",
   "execution_count": 520,
   "id": "5fd0d005",
   "metadata": {},
   "outputs": [
    {
     "data": {
      "text/plain": [
       "(0.01885, 0.18585249999999998, 885.9549071618036)"
      ]
     },
     "execution_count": 520,
     "metadata": {},
     "output_type": "execute_result"
    }
   ],
   "source": [
    "NNPL.CalcBinningDoseErr(bins[1],dc,'AP',[energies[0],energies[-1]],np.histogram(bins[1],bins=bins)[0],centres)"
   ]
  },
  {
   "cell_type": "code",
   "execution_count": 374,
   "id": "259578e4",
   "metadata": {},
   "outputs": [],
   "source": [
    "bins = np.load(energy_bins)\n",
    "centres = bins[:-1] + np.diff(bins)/2\n",
    "plt.bar(centres,model_cubes(torch.from_numpy(real_cubes_144).to(torch.float)).detach().numpy(),width=np.diff(bins),edgecolor='black')\n",
    "plt.xscale('log')"
   ]
  },
  {
   "cell_type": "code",
   "execution_count": 5,
   "id": "dd403286",
   "metadata": {},
   "outputs": [],
   "source": [
    "dc = pd.read_hdf(coeffs)\n",
    "\n",
    "bins = np.load(energy_bins)\n",
    "centres = bins[:-1] + np.diff(bins)/2"
   ]
  },
  {
   "cell_type": "code",
   "execution_count": 15,
   "id": "8ab6669d",
   "metadata": {},
   "outputs": [],
   "source": [
    "from scipy.interpolate import interp1d\n",
    "ap_dose_curve = interp1d(dc['Energy / MeV'],dc['AP'])"
   ]
  },
  {
   "cell_type": "code",
   "execution_count": 26,
   "id": "f42aec3e",
   "metadata": {},
   "outputs": [],
   "source": [
    "def plot_dose_curve(d,ax):\n",
    "    energies = dc['Energy / MeV']\n",
    "    dose_curve = interp1d(energies,dc[d])\n",
    "    dose_vals = dose_curve(energies)\n",
    "\n",
    "    ax.plot(energies,dose_vals)\n",
    "    ax.set_xscale('log')\n",
    "    ax.set_xlabel('Energy / MeV',fontsize=24)\n",
    "    ax.set_ylabel('Effective dose / pSv cm$^{2}$',fontsize=24)\n",
    "    ax.set_title(d,fontsize=32)\n",
    "    \n",
    "    return dose_curve"
   ]
  },
  {
   "cell_type": "code",
   "execution_count": 32,
   "id": "0461519b",
   "metadata": {},
   "outputs": [
    {
     "data": {
      "text/plain": [
       "(array([-200.,    0.,  200.,  400.,  600.,  800., 1000.]),\n",
       " [Text(0, 0, ''),\n",
       "  Text(0, 0, ''),\n",
       "  Text(0, 0, ''),\n",
       "  Text(0, 0, ''),\n",
       "  Text(0, 0, ''),\n",
       "  Text(0, 0, ''),\n",
       "  Text(0, 0, '')])"
      ]
     },
     "execution_count": 32,
     "metadata": {},
     "output_type": "execute_result"
    }
   ],
   "source": [
    "fig=plt.figure()\n",
    "ax = fig.add_subplot()\n",
    "ap_dose_curve = plot_dose_curve('AP',ax)\n",
    "plt.xticks(fontsize=18)\n",
    "plt.yticks(fontsize=18)"
   ]
  },
  {
   "cell_type": "markdown",
   "id": "219e1adf",
   "metadata": {},
   "source": []
  },
  {
   "cell_type": "code",
   "execution_count": 28,
   "id": "9faf2b2f",
   "metadata": {},
   "outputs": [
    {
     "data": {
      "text/plain": [
       "<scipy.interpolate.interpolate.interp1d at 0x7ff7e85ca180>"
      ]
     },
     "execution_count": 28,
     "metadata": {},
     "output_type": "execute_result"
    }
   ],
   "source": [
    "from scipy.integrate import quad"
   ]
  },
  {
   "cell_type": "code",
   "execution_count": 31,
   "id": "df0b7eed",
   "metadata": {},
   "outputs": [
    {
     "name": "stderr",
     "output_type": "stream",
     "text": [
      "/tmp/ipykernel_32524/3034381115.py:4: IntegrationWarning: The occurrence of roundoff error is detected, which prevents \n",
      "  the requested tolerance from being achieved.  The error may be \n",
      "  underestimated.\n",
      "  bin_dose_integral,bin_dose_integral_err = quad(ap_dose_curve,bins[i],bins[i+1],limit=200)\n"
     ]
    }
   ],
   "source": [
    "dose_integrals = []\n",
    "dose_integral_errs = []\n",
    "for i in range(8):\n",
    "    bin_dose_integral,bin_dose_integral_err = quad(ap_dose_curve,bins[i],bins[i+1],limit=200)\n",
    "    dose_integrals.append(bin_dose_integral)\n",
    "    dose_integral_errs.append(bin_dose_integral_err)"
   ]
  },
  {
   "cell_type": "code",
   "execution_count": 36,
   "id": "8806f224",
   "metadata": {},
   "outputs": [],
   "source": [
    "integral_bin_dose = np.array(dose_integrals)/np.diff(bins)"
   ]
  },
  {
   "cell_type": "code",
   "execution_count": 37,
   "id": "5e1ab0c4",
   "metadata": {},
   "outputs": [],
   "source": [
    "centre_bin_dose = ap_dose_curve(centres)"
   ]
  },
  {
   "cell_type": "code",
   "execution_count": 38,
   "id": "75e72c55",
   "metadata": {},
   "outputs": [
    {
     "data": {
      "text/plain": [
       "array([0.00110829, 0.01376769, 0.00537634, 0.0141423 , 0.01158265,\n",
       "       0.00529191, 0.00350019, 0.00052843])"
      ]
     },
     "execution_count": 38,
     "metadata": {},
     "output_type": "execute_result"
    }
   ],
   "source": [
    "np.abs((centre_bin_dose - integral_bin_dose)/centre_bin_dose)"
   ]
  },
  {
   "cell_type": "code",
   "execution_count": 41,
   "id": "2a727cf5",
   "metadata": {},
   "outputs": [],
   "source": [
    "lower_energy_err = centres-bins[:-1]\n",
    "upper_energy_err = bins[1:] - centres"
   ]
  },
  {
   "cell_type": "code",
   "execution_count": 42,
   "id": "363ff694",
   "metadata": {},
   "outputs": [
    {
     "data": {
      "text/plain": [
       "(array([2.499995e-04, 1.872500e-01, 2.000000e-01, 3.625000e-01,\n",
       "        1.125000e+00, 3.125000e+00, 1.100000e+01, 3.400000e+01]),\n",
       " array([2.499995e-04, 1.872500e-01, 2.000000e-01, 3.625000e-01,\n",
       "        1.125000e+00, 3.125000e+00, 1.100000e+01, 3.400000e+01]))"
      ]
     },
     "execution_count": 42,
     "metadata": {},
     "output_type": "execute_result"
    }
   ],
   "source": [
    "lower_energy_err,upper_energy_err"
   ]
  },
  {
   "cell_type": "code",
   "execution_count": 43,
   "id": "b2b1cc09",
   "metadata": {},
   "outputs": [],
   "source": [
    "bin_edges = np.vstack([bins[:-1],bins[1:]])"
   ]
  },
  {
   "cell_type": "code",
   "execution_count": 53,
   "id": "13b5efa5",
   "metadata": {},
   "outputs": [],
   "source": [
    "dose_per_fluence_at_edges = ap_dose_curve(bin_edges)"
   ]
  },
  {
   "cell_type": "code",
   "execution_count": 55,
   "id": "8374fdd3",
   "metadata": {},
   "outputs": [],
   "source": [
    "dose_per_neutron_at_edges = dose_per_fluence_at_edges/20**2"
   ]
  },
  {
   "cell_type": "code",
   "execution_count": 56,
   "id": "de741280",
   "metadata": {},
   "outputs": [
    {
     "data": {
      "text/plain": [
       "array([[0.007725 , 0.01885  , 0.3440625, 0.6240625, 0.9125   , 1.191875 ,\n",
       "        1.25     , 1.1275   ],\n",
       "       [0.01885  , 0.3440625, 0.6240625, 0.9125   , 1.191875 , 1.25     ,\n",
       "        1.1275   , 1.005    ]])"
      ]
     },
     "execution_count": 56,
     "metadata": {},
     "output_type": "execute_result"
    }
   ],
   "source": [
    "dose_per_neutron_at_edges"
   ]
  },
  {
   "cell_type": "code",
   "execution_count": 57,
   "id": "c14a94e9",
   "metadata": {},
   "outputs": [
    {
     "data": {
      "text/plain": [
       "array([0.0192245 , 0.18329374, 0.49140625, 0.79099677, 1.08447917,\n",
       "       1.2405875 , 1.18914773, 1.06226103])"
      ]
     },
     "execution_count": 57,
     "metadata": {},
     "output_type": "execute_result"
    }
   ],
   "source": [
    "integral_bin_dose/20**2"
   ]
  },
  {
   "cell_type": "code",
   "execution_count": 69,
   "id": "eace6f89",
   "metadata": {},
   "outputs": [
    {
     "data": {
      "text/plain": [
       "Text(0, 0.5, 'Effective dose per neutron / pSv')"
      ]
     },
     "execution_count": 69,
     "metadata": {},
     "output_type": "execute_result"
    }
   ],
   "source": [
    "plt.plot(centres,integral_bin_dose/20**2)\n",
    "plt.errorbar(centres,integral_bin_dose/20**2,yerr = [integral_bin_dose/20**2 - dose_per_neutron_at_edges[0],dose_per_neutron_at_edges[1]-integral_bin_dose/20**2],fmt='o',capsize=3)\n",
    "plt.xlabel('Energy / MeV',fontsize=24)\n",
    "plt.xscale('log')\n",
    "plt.ylabel('Effective dose per neutron / pSv',fontsize=24)"
   ]
  },
  {
   "cell_type": "code",
   "execution_count": null,
   "id": "0e726067",
   "metadata": {},
   "outputs": [],
   "source": []
  },
  {
   "cell_type": "code",
   "execution_count": 32,
   "id": "c8299f4c",
   "metadata": {},
   "outputs": [],
   "source": [
    "cfyield = np.load('/home/nr1315/Documents/Project/MachineLearning/Cf252Yield.npy')"
   ]
  },
  {
   "cell_type": "code",
   "execution_count": 33,
   "id": "10618db2",
   "metadata": {},
   "outputs": [
    {
     "ename": "NameError",
     "evalue": "name 'energies' is not defined",
     "output_type": "error",
     "traceback": [
      "\u001b[0;31m---------------------------------------------------------------------------\u001b[0m",
      "\u001b[0;31mNameError\u001b[0m                                 Traceback (most recent call last)",
      "\u001b[0;32m/tmp/ipykernel_26038/1898761304.py\u001b[0m in \u001b[0;36m<module>\u001b[0;34m\u001b[0m\n\u001b[1;32m      1\u001b[0m \u001b[0mcf_dist\u001b[0m \u001b[0;34m=\u001b[0m \u001b[0minterp1d\u001b[0m\u001b[0;34m(\u001b[0m\u001b[0mcfyield\u001b[0m\u001b[0;34m[\u001b[0m\u001b[0;36m0\u001b[0m\u001b[0;34m]\u001b[0m\u001b[0;34m,\u001b[0m\u001b[0mcfyield\u001b[0m\u001b[0;34m[\u001b[0m\u001b[0;36m1\u001b[0m\u001b[0;34m]\u001b[0m\u001b[0;34m,\u001b[0m\u001b[0mbounds_error\u001b[0m \u001b[0;34m=\u001b[0m \u001b[0;32mFalse\u001b[0m\u001b[0;34m,\u001b[0m\u001b[0mfill_value\u001b[0m\u001b[0;34m=\u001b[0m\u001b[0;36m0.\u001b[0m\u001b[0;34m)\u001b[0m\u001b[0;34m\u001b[0m\u001b[0;34m\u001b[0m\u001b[0m\n\u001b[0;32m----> 2\u001b[0;31m \u001b[0mcf_total\u001b[0m \u001b[0;34m=\u001b[0m \u001b[0mquad\u001b[0m\u001b[0;34m(\u001b[0m\u001b[0mcf_dist\u001b[0m\u001b[0;34m,\u001b[0m\u001b[0menergies\u001b[0m\u001b[0;34m[\u001b[0m\u001b[0;36m0\u001b[0m\u001b[0;34m]\u001b[0m\u001b[0;34m,\u001b[0m\u001b[0menergies\u001b[0m\u001b[0;34m[\u001b[0m\u001b[0;34m-\u001b[0m\u001b[0;36m1\u001b[0m\u001b[0;34m]\u001b[0m\u001b[0;34m,\u001b[0m\u001b[0mlimit\u001b[0m\u001b[0;34m=\u001b[0m\u001b[0;36m200\u001b[0m\u001b[0;34m)\u001b[0m\u001b[0;34m[\u001b[0m\u001b[0;36m0\u001b[0m\u001b[0;34m]\u001b[0m\u001b[0;34m\u001b[0m\u001b[0;34m\u001b[0m\u001b[0m\n\u001b[0m\u001b[1;32m      3\u001b[0m \u001b[0mCf\u001b[0m \u001b[0;34m=\u001b[0m \u001b[0minterp1d\u001b[0m\u001b[0;34m(\u001b[0m\u001b[0mcfyield\u001b[0m\u001b[0;34m[\u001b[0m\u001b[0;36m0\u001b[0m\u001b[0;34m]\u001b[0m\u001b[0;34m,\u001b[0m\u001b[0mcfyield\u001b[0m\u001b[0;34m[\u001b[0m\u001b[0;36m1\u001b[0m\u001b[0;34m]\u001b[0m\u001b[0;34m/\u001b[0m\u001b[0mcf_total\u001b[0m\u001b[0;34m,\u001b[0m\u001b[0mbounds_error\u001b[0m \u001b[0;34m=\u001b[0m \u001b[0;32mFalse\u001b[0m\u001b[0;34m,\u001b[0m\u001b[0mfill_value\u001b[0m\u001b[0;34m=\u001b[0m\u001b[0;36m0.\u001b[0m\u001b[0;34m)\u001b[0m\u001b[0;34m\u001b[0m\u001b[0;34m\u001b[0m\u001b[0m\n",
      "\u001b[0;31mNameError\u001b[0m: name 'energies' is not defined"
     ]
    }
   ],
   "source": [
    "cf_dist = interp1d(cfyield[0],cfyield[1],bounds_error = False,fill_value=0.)\n",
    "cf_total = quad(cf_dist,energies[0],energies[-1],limit=200)[0]\n",
    "Cf = interp1d(cfyield[0],cfyield[1]/cf_total,bounds_error = False,fill_value=0.)"
   ]
  },
  {
   "cell_type": "code",
   "execution_count": 84,
   "id": "61ab373c",
   "metadata": {},
   "outputs": [
    {
     "data": {
      "text/plain": [
       "0.6730263732315502"
      ]
     },
     "execution_count": 84,
     "metadata": {},
     "output_type": "execute_result"
    }
   ],
   "source": [
    "(Cf(centres)*ap_dose_curve(centres))"
   ]
  },
  {
   "cell_type": "code",
   "execution_count": null,
   "id": "f40a6f4a",
   "metadata": {},
   "outputs": [],
   "source": [
    "Cf(energy)*ap_dose_curve(energies)"
   ]
  },
  {
   "cell_type": "code",
   "execution_count": 91,
   "id": "a1cfcb2d",
   "metadata": {},
   "outputs": [
    {
     "data": {
      "text/plain": [
       "array([0., 0., 0., ..., 0., 0., 0.])"
      ]
     },
     "execution_count": 91,
     "metadata": {},
     "output_type": "execute_result"
    }
   ],
   "source": [
    "Cf(energies)*ap_dose_curve(energies)"
   ]
  },
  {
   "cell_type": "code",
   "execution_count": 110,
   "id": "a01e0939",
   "metadata": {},
   "outputs": [
    {
     "data": {
      "text/plain": [
       "array([0.01011893, 0.24707707, 0.33394158, 0.3178533 , 0.17256136,\n",
       "       0.01408293, 0.        , 0.        ])"
      ]
     },
     "execution_count": 110,
     "metadata": {},
     "output_type": "execute_result"
    }
   ],
   "source": [
    "Cf(centres)"
   ]
  },
  {
   "cell_type": "code",
   "execution_count": 256,
   "id": "62b19035",
   "metadata": {},
   "outputs": [
    {
     "data": {
      "text/plain": [
       "<matplotlib.legend.Legend at 0x7ff7e35f27c0>"
      ]
     },
     "execution_count": 256,
     "metadata": {},
     "output_type": "execute_result"
    }
   ],
   "source": [
    "plt.plot(centres,Cf(centres)*integral_bin_dose/20**2,label='Binned Cf dose values',color='blue')\n",
    "plt.plot(energies,Cf(energies)*ap_dose_curve(energies)/20**2,label='Cf true dose values',color='red')\n",
    "#plt.scatter(144e-3,ap_dose_curve(144e-3)/20**2,label='True 144 keV',color='red')\n",
    "plt.errorbar(centres,Cf(centres)*integral_bin_dose/20**2,yerr = [Cf(centres)*(integral_bin_dose/20**2 - dose_per_neutron_at_edges[0]),Cf(centres)*(dose_per_neutron_at_edges[1]-integral_bin_dose/20**2)],fmt='o',capsize=3,color='blue')\n",
    "\n",
    "plt.fill_between(centres,Cf(centres)*dose_per_neutron_at_edges[0],Cf(centres)*dose_per_neutron_at_edges[1],alpha=0.3)\n",
    "\n",
    "plt.xlabel('Energy / MeV',fontsize=24)\n",
    "plt.xscale('log')\n",
    "plt.ylabel('Effective dose per neutron / pSv',fontsize=24)\n",
    "plt.legend(loc='upper left')\n",
    "\n"
   ]
  },
  {
   "cell_type": "code",
   "execution_count": 257,
   "id": "0a5efdb6",
   "metadata": {},
   "outputs": [
    {
     "name": "stderr",
     "output_type": "stream",
     "text": [
      "/tmp/ipykernel_32524/2878908818.py:3: IntegrationWarning: The occurrence of roundoff error is detected, which prevents \n",
      "  the requested tolerance from being achieved.  The error may be \n",
      "  underestimated.\n",
      "  dose = quad(lambda x: Cf(x)*ap_dose_curve(x),bins[i],bins[i+1],limit=200)[0]\n"
     ]
    }
   ],
   "source": [
    "true_cf_dose_per_bin=[]\n",
    "for i in range(8):\n",
    "    dose = quad(lambda x: Cf(x)*ap_dose_curve(x),bins[i],bins[i+1],limit=200)[0]\n",
    "    true_cf_dose_per_bin.append(dose)"
   ]
  },
  {
   "cell_type": "code",
   "execution_count": 262,
   "id": "ff3bd398",
   "metadata": {},
   "outputs": [
    {
     "data": {
      "text/plain": [
       "[3.655549020231811e-05,\n",
       " 7.197645904088434,\n",
       " 26.012700583733448,\n",
       " 72.02507234214457,\n",
       " 169.85867711753284,\n",
       " 74.14979519925443,\n",
       " 1.119350203844603,\n",
       " 0.0]"
      ]
     },
     "execution_count": 262,
     "metadata": {},
     "output_type": "execute_result"
    }
   ],
   "source": [
    "true_cf_dose_per_bin"
   ]
  },
  {
   "cell_type": "code",
   "execution_count": 265,
   "id": "a6bdcf17",
   "metadata": {},
   "outputs": [
    {
     "data": {
      "text/plain": [
       "array([7.78125724e-02, 1.81150722e+01, 6.56403916e+01, 1.00568372e+02,\n",
       "       7.48556800e+01, 6.98844468e+00, 0.00000000e+00, 0.00000000e+00])"
      ]
     },
     "execution_count": 265,
     "metadata": {},
     "output_type": "execute_result"
    }
   ],
   "source": [
    "integral_bin_dose*Cf(centres)"
   ]
  },
  {
   "cell_type": "code",
   "execution_count": 267,
   "id": "720a9787",
   "metadata": {},
   "outputs": [],
   "source": [
    "cf_bins = np.load('/home/nr1315/Documents/Project/MachineLearning/TestingData/SimEnergyBins_Cf252.npy')"
   ]
  },
  {
   "cell_type": "code",
   "execution_count": 270,
   "id": "a8a4603f",
   "metadata": {},
   "outputs": [
    {
     "data": {
      "text/plain": [
       "array([0.        , 0.08459375, 0.1333125 , 0.22817187, 0.39896875,\n",
       "       0.152625  , 0.00232812, 0.        ])"
      ]
     },
     "execution_count": 270,
     "metadata": {},
     "output_type": "execute_result"
    }
   ],
   "source": [
    "cf_bins/cf_bins.sum()"
   ]
  },
  {
   "cell_type": "code",
   "execution_count": 271,
   "id": "b0f77d85",
   "metadata": {},
   "outputs": [
    {
     "data": {
      "text/plain": [
       "array([0.01011893, 0.24707707, 0.33394158, 0.3178533 , 0.17256136,\n",
       "       0.01408293, 0.        , 0.        ])"
      ]
     },
     "execution_count": 271,
     "metadata": {},
     "output_type": "execute_result"
    }
   ],
   "source": [
    "Cf(centres)"
   ]
  },
  {
   "cell_type": "code",
   "execution_count": 287,
   "id": "d8d34237",
   "metadata": {},
   "outputs": [],
   "source": [
    "E,Yield = cfyield"
   ]
  },
  {
   "cell_type": "code",
   "execution_count": 290,
   "id": "069965ff",
   "metadata": {},
   "outputs": [],
   "source": [
    "dist = interp1d(E,Yield,bounds_error = False,fill_value=0)"
   ]
  },
  {
   "cell_type": "code",
   "execution_count": 292,
   "id": "0e509b12",
   "metadata": {},
   "outputs": [
    {
     "name": "stderr",
     "output_type": "stream",
     "text": [
      "/tmp/ipykernel_32524/3828999008.py:1: IntegrationWarning: The occurrence of roundoff error is detected, which prevents \n",
      "  the requested tolerance from being achieved.  The error may be \n",
      "  underestimated.\n",
      "  norm = quad(dist,min(E),max(E),limit=200)[0]\n"
     ]
    }
   ],
   "source": [
    "norm = quad(dist,min(E),max(E),limit=200)[0]\n",
    "dist2 = interp1d(E,np.array(Yield)/norm,bounds_error=False,fill_value = 0)"
   ]
  },
  {
   "cell_type": "code",
   "execution_count": 537,
   "id": "931bc9eb",
   "metadata": {},
   "outputs": [
    {
     "data": {
      "text/plain": [
       "[<matplotlib.lines.Line2D at 0x7ff7e1a9ba90>]"
      ]
     },
     "execution_count": 537,
     "metadata": {},
     "output_type": "execute_result"
    }
   ],
   "source": [
    "plt.bar(centres,cf_bins/max(cf_bins),width=np.diff(bins),edgecolor='black',alpha=0.3)\n",
    "#plt.plot(energies,Cf(energies),color='red')\n",
    "plt.plot(cfyield[0],cfyield[1]/max(cfyield[1]),color='green')\n",
    "\n"
   ]
  },
  {
   "cell_type": "code",
   "execution_count": 269,
   "id": "60def1e4",
   "metadata": {},
   "outputs": [
    {
     "data": {
      "text/plain": [
       "array([  0.        ,   6.20220197,  26.20423828,  72.19328625,\n",
       "       173.06931901,  75.73786686,   1.10739382,   0.        ])"
      ]
     },
     "execution_count": 269,
     "metadata": {},
     "output_type": "execute_result"
    }
   ],
   "source": [
    "integral_bin_dose*cf_bins/cf_bins.sum()"
   ]
  },
  {
   "cell_type": "code",
   "execution_count": 264,
   "id": "a8858755",
   "metadata": {},
   "outputs": [
    {
     "name": "stderr",
     "output_type": "stream",
     "text": [
      "/tmp/ipykernel_32524/730856803.py:1: RuntimeWarning: invalid value encountered in true_divide\n",
      "  np.abs(((integral_bin_dose*Cf(centres)) - true_cf_dose_per_bin)/true_cf_dose_per_bin)\n"
     ]
    },
    {
     "data": {
      "text/plain": [
       "array([2.12761521e+03, 1.51680513e+00, 1.52339781e+00, 3.96296713e-01,\n",
       "       5.59306117e-01, 9.05752340e-01, 1.00000000e+00,            nan])"
      ]
     },
     "execution_count": 264,
     "metadata": {},
     "output_type": "execute_result"
    }
   ],
   "source": [
    "np.abs(((integral_bin_dose*Cf(centres)) - true_cf_dose_per_bin)/true_cf_dose_per_bin)"
   ]
  },
  {
   "cell_type": "code",
   "execution_count": null,
   "id": "6f448688",
   "metadata": {},
   "outputs": [],
   "source": []
  },
  {
   "cell_type": "code",
   "execution_count": 112,
   "id": "2d253fbc",
   "metadata": {},
   "outputs": [],
   "source": [
    "from scipy import optimize"
   ]
  },
  {
   "cell_type": "code",
   "execution_count": 119,
   "id": "a08e491f",
   "metadata": {},
   "outputs": [],
   "source": [
    "minima = []\n",
    "for i in range(8):\n",
    "    local_minimum = optimize.fminbound(ap_dose_curve,bins[i],bins[i+1])\n",
    "    minima.append(local_minimum)"
   ]
  },
  {
   "cell_type": "code",
   "execution_count": 122,
   "id": "93a16e7e",
   "metadata": {},
   "outputs": [],
   "source": [
    "maxima = []\n",
    "for i in range(8):\n",
    "    local_maximum = optimize.fminbound(lambda x: -1*ap_dose_curve(x),bins[i],bins[i+1])\n",
    "    maxima.append(local_maximum)"
   ]
  },
  {
   "cell_type": "code",
   "execution_count": 140,
   "id": "3bf04ed1",
   "metadata": {},
   "outputs": [
    {
     "name": "stderr",
     "output_type": "stream",
     "text": [
      "No artists with labels found to put in legend.  Note that artists whose label start with an underscore are ignored when legend() is called with no argument.\n"
     ]
    },
    {
     "data": {
      "text/plain": [
       "<matplotlib.legend.Legend at 0x7ff7e6af07f0>"
      ]
     },
     "execution_count": 140,
     "metadata": {},
     "output_type": "execute_result"
    }
   ],
   "source": [
    "plt.plot(energies,ap_dose_curve(energies))\n",
    "plt.xscale('log')\n",
    "plt.bar(centres,np.repeat(500,len(centres)),width=np.diff(bins),edgecolor='black',alpha=0.1,color='red')\n",
    "#plt.scatter(minima,ap_dose_curve(minima),label='Minima',alpha=0.6,s=7)\n",
    "#plt.scatter(maxima,ap_dose_curve(maxima),label='Maxima',alpha=0.6,s=7)\n",
    "plt.legend(loc='upper left')"
   ]
  },
  {
   "cell_type": "code",
   "execution_count": 237,
   "id": "aa778437",
   "metadata": {},
   "outputs": [],
   "source": [
    "minima_points = np.repeat(ap_dose_curve(minima)/integral_bin_dose,2)\n",
    "maxima_points = np.repeat(ap_dose_curve(maxima)/integral_bin_dose,2)\n",
    "edges = np.sort(np.concatenate([bins[:-1],bins[1:]]))"
   ]
  },
  {
   "cell_type": "code",
   "execution_count": 311,
   "id": "1368e4dd",
   "metadata": {},
   "outputs": [],
   "source": [
    "plt.plot(energies,np.repeat(1,len(energies)),color='blue')\n",
    "#plt.plot(energies,Cf(energies)*ap_dose_curve(energies)/20**2,label='Cf true dose values',color='red')\n",
    "#plt.scatter(144e-3,ap_dose_curve(144e-3)/20**2,label='True 144 keV',color='red')\n",
    "#plt.errorbar(centres,integral_bin_dose/integral_bin_dose,yerr = [(integral_bin_dose - ap_dose_curve(minima))/integral_bin_dose,(ap_dose_curve(maxima)-integral_bin_dose)/integral_bin_dose],fmt='o',capsize=30,color='blue')\n",
    "#plt.bar(centres,np.repeat(1.5,len(centres)),width=np.diff(bins),edgecolor='black',alpha=0.1,color='red')\n",
    "#plt.plot(energies,ap_dose_curve(energies),label='AP effective dose',color='red')\n",
    "\n",
    "plt.plot(edges,minima_points,color='green',label ='Lower bound')\n",
    "plt.plot(edges,maxima_points,color='purple',label='Upper bound')\n",
    "\n",
    "#for i in range(8):\n",
    "#    rect = mpatches.Rectangle((bins[i],0.9*min(ap_dose_curve(minima)/integral_bin_dose)),np.diff(bins)[i],1.1*max(ap_dose_curve(maxima)/integral_bin_dose) - 0.9*min(ap_dose_curve(minima)/integral_bin_dose),alpha=0.1,color='red')\n",
    " #   plt.gca().add_patch(rect)\n",
    "    \n",
    "#plt.scatter(144e-3,ap_dose_curve(144e-3),label='144 keV',color='green')\n",
    "#plt.scatter(1.2,ap_dose_curve(1.2),label='1.2 MeV',color='purple')\n",
    "\n",
    "#plt.fill_between(centres,ap_dose_curve(minima)/integral_bin_dose,ap_dose_curve(maxima)/integral_bin_dose,alpha=0.3)\n",
    "#plt.plot(centres,ap_dose_curve(minima)/integral_bin_dose)\n",
    "#plt.plot(centres,ap_dose_curve(maxima)/integral_bin_dose)\n",
    "\n",
    "\n",
    "#for i in range(8):\n",
    "#    plt.fill_between([bins[i],bins[i+1]],np.repeat(ap_dose_curve(minima[i])/integral_bin_dose[i],2),np.repeat(ap_dose_curve(maxima[i])/integral_bin_dose[i],2),alpha=0.3,color='blue')\n",
    "#    plt.plot([bins[i],bins[i+1]],np.repeat(ap_dose_curve(minima[i])/integral_bin_dose[i],2),c='r')\n",
    "#    plt.plot([bins[i],bins[i+1]],np.repeat(ap_dose_curve(maxima[i])/integral_bin_dose[i],2),c='g')\n",
    "\n",
    "plt.xlabel('Energy / MeV',fontsize=24)\n",
    "plt.xscale('log')\n",
    "plt.ylabel('Relative uncertainty on effective dose per fluence',fontsize=24)\n",
    "plt.title('')\n",
    "plt.legend(loc='upper left',fontsize=18)\n",
    "plt.xlim(energies[0],energies[-1])\n",
    "\n",
    "plt.xticks(fontsize=18)\n",
    "plt.yticks(fontsize=18)\n",
    "plt.title('Relative uncertainty on binned dose',fontsize=32)\n",
    "plt.grid()"
   ]
  },
  {
   "cell_type": "code",
   "execution_count": 452,
   "id": "8e101c72",
   "metadata": {},
   "outputs": [],
   "source": [
    "def bin_dose_err(energy,int_bin_dose):\n",
    "    minimum = energy>=bins[0]\n",
    "    maximum = energy<=bins[1]\n",
    "    for i in range(1,8):\n",
    "        minimum = np.vstack([minimum,energy>=bins[i]])\n",
    "        maximum = np.vstack([maximum,energy<=bins[i+1]])\n",
    "    in_bin = minimum&maximum\n",
    "    on_boundary = np.where(in_bin.sum(axis=0)==2)[0]\n",
    "    in_bin[np.nonzero(in_bin[:,on_boundary])[0][0]+1:,on_boundary]=False\n",
    "        \n",
    "    bin_dose = int_bin_dose[np.where(in_bin)[0]]\n",
    "    true_dose = ap_dose_curve(energy)\n",
    "    dose_err = (bin_dose - true_dose)/true_dose\n",
    "    return dose_err"
   ]
  },
  {
   "cell_type": "code",
   "execution_count": 497,
   "id": "e7d82115",
   "metadata": {},
   "outputs": [],
   "source": [
    "d = np.array(draws).flatten()"
   ]
  },
  {
   "cell_type": "code",
   "execution_count": 514,
   "id": "79263279",
   "metadata": {},
   "outputs": [],
   "source": [
    "hist,b = np.histogram(d,bins=bins)\n",
    "\n",
    "plt.bar(centres,hist/hist.max(),width=np.diff(bins),edgecolor='black',alpha=0.3)\n",
    "plt.plot(cfyield[0],cfyield[1]/cfyield[1].max())\n",
    "plt.plot(3*cfyield[0],cdist.pdf(cfyield[0])/max(cdist.pdf(cfyield[0])))\n",
    "plt.xscale('log')"
   ]
  },
  {
   "cell_type": "code",
   "execution_count": 511,
   "id": "37a2d1f5",
   "metadata": {},
   "outputs": [
    {
     "data": {
      "text/plain": [
       "([<matplotlib.axis.YTick at 0x7ff7e1a33550>,\n",
       "  <matplotlib.axis.YTick at 0x7ff7e1a3dd90>,\n",
       "  <matplotlib.axis.YTick at 0x7ff7e1a3d460>,\n",
       "  <matplotlib.axis.YTick at 0x7ff7e19ee790>,\n",
       "  <matplotlib.axis.YTick at 0x7ff7e19f6520>,\n",
       "  <matplotlib.axis.YTick at 0x7ff7e19f6c70>,\n",
       "  <matplotlib.axis.YTick at 0x7ff7e19f7400>,\n",
       "  <matplotlib.axis.YTick at 0x7ff7e19f7b50>,\n",
       "  <matplotlib.axis.YTick at 0x7ff7e19f78e0>,\n",
       "  <matplotlib.axis.YTick at 0x7ff7e19f65e0>,\n",
       "  <matplotlib.axis.YTick at 0x7ff7e19ff1c0>,\n",
       "  <matplotlib.axis.YTick at 0x7ff7e19ff7f0>,\n",
       "  <matplotlib.axis.YTick at 0x7ff7e1a040a0>,\n",
       "  <matplotlib.axis.YTick at 0x7ff7e1a046d0>,\n",
       "  <matplotlib.axis.YTick at 0x7ff7e1a04e20>,\n",
       "  <matplotlib.axis.YTick at 0x7ff7e1a04970>,\n",
       "  <matplotlib.axis.YTick at 0x7ff7e19ff580>,\n",
       "  <matplotlib.axis.YTick at 0x7ff7e1a0b370>,\n",
       "  <matplotlib.axis.YTick at 0x7ff7e1a0b9a0>,\n",
       "  <matplotlib.axis.YTick at 0x7ff7e1a13130>,\n",
       "  <matplotlib.axis.YTick at 0x7ff7e1a13880>],\n",
       " [Text(0, 0, ''),\n",
       "  Text(0, 0, ''),\n",
       "  Text(0, 0, ''),\n",
       "  Text(0, 0, ''),\n",
       "  Text(0, 0, ''),\n",
       "  Text(0, 0, ''),\n",
       "  Text(0, 0, ''),\n",
       "  Text(0, 0, ''),\n",
       "  Text(0, 0, ''),\n",
       "  Text(0, 0, ''),\n",
       "  Text(0, 0, ''),\n",
       "  Text(0, 0, ''),\n",
       "  Text(0, 0, ''),\n",
       "  Text(0, 0, ''),\n",
       "  Text(0, 0, ''),\n",
       "  Text(0, 0, ''),\n",
       "  Text(0, 0, ''),\n",
       "  Text(0, 0, ''),\n",
       "  Text(0, 0, ''),\n",
       "  Text(0, 0, ''),\n",
       "  Text(0, 0, '')])"
      ]
     },
     "execution_count": 511,
     "metadata": {},
     "output_type": "execute_result"
    }
   ],
   "source": [
    "dose_err = 100*bin_dose_err(energies,integral_bin_dose)\n",
    "\n",
    "fig = plt.figure()\n",
    "ax = fig.add_subplot(111)\n",
    "\n",
    "ax.plot(energies,dose_err)\n",
    "#plt.plot(energies,bin_dose_err(energies,np.array(minima)),label='Minima')\n",
    "#plt.plot(energies,bin_dose_err(energies,np.array(maxima)),label='Maxima')\n",
    "ax.set_xscale('log')\n",
    "#plt.legend(loc='upper left')\n",
    "ax.grid(axis='y')\n",
    "\n",
    "for i in range(8):\n",
    "    rect = mpatches.Rectangle((bins[i],np.floor(min(dose_err)/100)*100),np.diff(bins)[i],1.2*max(dose_err) - 0.9*min(dose_err),alpha=0.1,color='red')\n",
    "    plt.gca().add_patch(rect)\n",
    "\n",
    "\n",
    "ax.set_title('Relative error from estimating using averaged bin dose, AP',fontsize=32)\n",
    "ax.set_xlabel('Energy / MeV',fontsize=24)\n",
    "ax.set_ylabel('Relative error / %',fontsize=24)\n",
    "plt.xticks(fontsize=18)\n",
    "plt.yticks(np.arange(np.floor(min(dose_err)/100)*100,np.ceil(max(dose_err)/100)*100+25,50),fontsize=18)"
   ]
  },
  {
   "cell_type": "code",
   "execution_count": null,
   "id": "304472af",
   "metadata": {},
   "outputs": [],
   "source": []
  },
  {
   "cell_type": "code",
   "execution_count": null,
   "id": "5bc7aa6e",
   "metadata": {},
   "outputs": [],
   "source": []
  },
  {
   "cell_type": "code",
   "execution_count": 526,
   "id": "ce3fdfb5",
   "metadata": {},
   "outputs": [],
   "source": [
    "from scipy.stats import norm"
   ]
  },
  {
   "cell_type": "code",
   "execution_count": 529,
   "id": "c805420f",
   "metadata": {},
   "outputs": [],
   "source": [
    "dist = norm(450e-3,100e-3)"
   ]
  },
  {
   "cell_type": "code",
   "execution_count": 536,
   "id": "da82cff5",
   "metadata": {},
   "outputs": [
    {
     "data": {
      "text/plain": [
       "[<matplotlib.lines.Line2D at 0x7ff7e1930430>]"
      ]
     },
     "execution_count": 536,
     "metadata": {},
     "output_type": "execute_result"
    }
   ],
   "source": [
    "plt.plot(energies,dist.pdf(energies))"
   ]
  },
  {
   "cell_type": "code",
   "execution_count": 539,
   "id": "7fe624e0",
   "metadata": {},
   "outputs": [],
   "source": []
  },
  {
   "cell_type": "code",
   "execution_count": 542,
   "id": "71f07765",
   "metadata": {},
   "outputs": [],
   "source": [
    "h = np.histogram(np.random.normal(450e-3,100e-3,10000),bins=bins)[0]\n",
    "h = h/h.sum()\n",
    "\n",
    "binned_450_gauss_dose = integral_bin_dose*h"
   ]
  },
  {
   "cell_type": "code",
   "execution_count": 546,
   "id": "9f436836",
   "metadata": {},
   "outputs": [],
   "source": [
    "energies_dose = ap_dose_curve(energies)*dist.pdf(energies)\n",
    "minimum = energies>=bins[0]\n",
    "maximum = energies<=bins[1]\n",
    "for i in range(1,8):\n",
    "    minimum = np.vstack([minimum,energies>=bins[i]])\n",
    "    maximum = np.vstack([maximum,energies<=bins[i+1]])\n",
    "in_bin = minimum&maximum\n",
    "on_boundary = np.where(in_bin.sum(axis=0)==2)[0]\n",
    "in_bin[np.nonzero(in_bin[:,on_boundary])[0][0]+1:,on_boundary]=False\n",
    "\n",
    "binned_true_dose = []\n",
    "for i in range(8):\n",
    "    binned_true_dose.append(`)"
   ]
  },
  {
   "cell_type": "code",
   "execution_count": 556,
   "id": "20cfac6f",
   "metadata": {},
   "outputs": [],
   "source": [
    "binned_true_dose=[]\n",
    "for i in range(8):\n",
    "    dose = quad(lambda x:ap_dose_curve(x)*dist.pdf(x),bins[i],bins[i+1],limit=200)[0]\n",
    "    binned_true_dose.append(dose)"
   ]
  },
  {
   "cell_type": "code",
   "execution_count": 562,
   "id": "327cd6ce",
   "metadata": {},
   "outputs": [],
   "source": [
    "true_dose_total = quad(lambda x:ap_dose_curve(x)*dist.pdf(x),bins[0],bins[-1],limit=200)[0]"
   ]
  },
  {
   "cell_type": "code",
   "execution_count": 600,
   "id": "f5ad83cf",
   "metadata": {},
   "outputs": [],
   "source": [
    "def bin_dose_error(dose_curve,bins,source_dist,bin_counts,points=None):\n",
    "    integral_bin_doses = []\n",
    "    for i in range(len(bins)-1):\n",
    "        bin_dose = quad(dose_curve,bins[i],bins[i+1],limit=200)[0]\n",
    "        integral_bin_doses.append(bin_dose)\n",
    "    integral_bin_doses = np.array(integral_bin_doses)/np.diff(bins)\n",
    "    binned_source_dose = (bin_counts * integral_bin_doses).sum()\n",
    "    \n",
    "    true_dose = quad(lambda x : dose_curve(x)*source_dist(x),bins[0],bins[-1],limit=200,points=points)[0]\n",
    "    \n",
    "    relative_dose_err = (binned_source_dose - true_dose)/true_dose\n",
    "    \n",
    "    return binned_source_dose,true_dose,relative_dose_err\n",
    "    "
   ]
  },
  {
   "cell_type": "code",
   "execution_count": 110,
   "id": "b48fe4e7",
   "metadata": {},
   "outputs": [],
   "source": [
    "Cf_cubes = np.load('/home/nr1315/Documents/Project/MachineLearning/TestingData/SimCubeCounts_Cf252_6_0-0-0-0-1-0_1500.npy').flatten()\n",
    "AmBe_cubes = np.load('/home/nr1315/Documents/Project/MachineLearning/TestingData/SimCubeCounts_AmBe_5_0-0-0-0-1-0_1500.npy').flatten()\n",
    "AmLi_cubes = np.load('/home/nr1315/Documents/Project/MachineLearning/TestingData/SimCubeCounts_AmLi_5_0-0-0-0-1-0_1500.npy').flatten()\n",
    "\n",
    "Cf_bins = np.load('/home/nr1315/Documents/Project/MachineLearning/TestingData/SimEnergyBins_Cf252.npy')\n",
    "AmBe_bins = np.load('/home/nr1315/Documents/Project/MachineLearning/TestingData/SimEnergyBins_AmBe.npy')\n",
    "AmLi_bins = np.load('/home/nr1315/Documents/Project/MachineLearning/TestingData/SimEnergyBins_AmLi.npy')\n",
    "\n",
    "Cf_profiles = np.load('/home/nr1315/Documents/Project/MachineLearning/TestingData/withProfiles/SimCubeCounts_Cf252_6_0-0-0-0-1-0_1500.npy').flatten()\n",
    "AmBe_profiles = np.load('/home/nr1315/Documents/Project/MachineLearning/TestingData/withProfiles/SimCubeCounts_AmBe_5_0-0-0-0-1-0_1500.npy').flatten()\n",
    "AmLi_profiles = np.load('/home/nr1315/Documents/Project/MachineLearning/TestingData/withProfiles/SimCubeCounts_AmLi_5_0-0-0-0-1-0_1500.npy').flatten()\n"
   ]
  },
  {
   "cell_type": "code",
   "execution_count": 40,
   "id": "42ecf519",
   "metadata": {},
   "outputs": [],
   "source": [
    "models = [model_cubes,model_cubes_profiles,model_cubes_2000,model_cubes_profiles_2000]\n",
    "names = ['Cubes only','Cubes and profiles','Cubes only, 2000 epochs','Cubes and profiles, 2000 epochs']\n",
    "source_dists = [Cf,AmBe,AmLi]\n",
    "source_bins = [Cf_bins,AmBe_bins,AmLi_bins]\n",
    "source_inputs = [[Cf_cubes,AmBe_cubes,AmLi_cubes],[Cf_profiles,AmBe_profiles,AmLi_profiles],\n",
    "                 [Cf_cubes,AmBe_cubes,AmLi_cubes],[Cf_profiles,AmBe_profiles,AmLi_profiles]]\n",
    "\n",
    "Cf_doses,AmBe_doses,AmLi_doses = {},{},{}\n",
    "for i in range(4):\n",
    "    for j in range(3):\n",
    "        doses = CalcDosePerFluence(ap_dose_curve,source_dists[j],bins,models[i],source_bins[j],source_inputs[i][j])\n",
    "        if j==0:\n",
    "            Cf_doses[names[i]] = doses\n",
    "        elif j==1:\n",
    "            AmBe_doses[names[i]] = doses\n",
    "        elif j==2:\n",
    "            AmLi_doses[names[i]] = doses"
   ]
  },
  {
   "cell_type": "code",
   "execution_count": 41,
   "id": "3df7cd24",
   "metadata": {},
   "outputs": [],
   "source": [
    "coeffs = '/home/nr1315/Documents/Project/effective_dose_coeffs.h5'\n",
    "dc = pd.read_hdf(coeffs)\n",
    "ap_dose_curve = interp1d(dc['Energy / MeV'],dc['AP'])\n",
    "\n",
    "bins = np.load('/home/nr1315/Documents/Project/MachineLearning/energy_bins.npy')\n",
    "\n",
    "dfiles = ['/home/nr1315/Documents/Project/NPL_2021/vdg_1um_Li7target19A_433cm_0deg.h5',\n",
    "          '/home/nr1315/Documents/Project/NPL_2021/vdg_1um_1_2_MeV_target3_2.h5']\n",
    "sdcs = ['/home/nr1315/Documents/Project/NPL_2021/vdg_1um_Li7target19A_433cm_0deg_shadowcone.h5',\n",
    "        '/home/nr1315/Documents/Project/NPL_2021/vdg_1um_1_2_MeV_target3_shadowcone.h5']\n",
    "profile = [False,True,False,True]\n",
    "source_dists = [144e-3,1.2]\n",
    "\n",
    "mono_144keV_dose={}\n",
    "mono_1_2MeV_dose={}\n",
    "\n",
    "for i in range(4):\n",
    "    for j in range(2):\n",
    "        dose = CalcDoseNPL2021(dfiles[j],source_dists[j],ap_dose_curve,models[i],bins,sdcs[j],np.histogram(source_dists[j],bins)[0],profile=profile[i])\n",
    "        if j==0:\n",
    "            mono_144keV_dose[names[i]] = dose\n",
    "        elif j==1:\n",
    "            mono_1_2MeV_dose[names[i]] = dose"
   ]
  },
  {
   "cell_type": "markdown",
   "id": "767414fc",
   "metadata": {},
   "source": [
    "When calculating the dose from a binned fluence, the exact energies of the neutrons are not known and so instead dose must be calculated from an average dose per fluence for each bin. This average dose per fluence in each bin is found by integrating the dose coefficient curve over each bin and dividing by the bin width. Then, the total binned dose per fluence for each source is found by multiplying the counts in each bin for that source by the binned dose coefficients, and summing these products. This can be expressed as\n",
    "\n",
    "$$D_{binned} = \\sum_i c_i \\frac{\\int_i D(E) dE}{\\Delta E_i}, $$\n",
    "where c_i denotes the count in bin *i*, D(E) denotes the dose coefficients as a function of energy, and $\\Delta E_i$ denotes the width in energy of bin *i*. For dose per fluence, these counts $c_i$ should be normalised such that $\\sum_i c_i = 1$. \n",
    "\n",
    "The true dose per fluence is found by integrating the product of the dose curve and the source distribution over the total energy range, given as\n",
    "\n",
    "$$D_{true} = \\int_0^\\infty f(E) D(E) dE, $$\n",
    "where f(E) is the true source distribution as a function of energy. This distribution is normalised such that $\\int_0^\\infty f(E) dE = 1.$ \n",
    "\n",
    "Finally, the relative dose per fluence error is expressed as $\\frac{D_{binned} - D_{true}}{D_{true}}$. This relative error resulting from the binning is shown in the table below.\n",
    "\n",
    "| Source | Relative binning error |\n",
    "|--------|------------------------|\n",
    "| Cf-252 |          1.2%          |\n",
    "|  AmBe  |         -0.3%          |\n",
    "|  AmLi  |          1.9%          |\n",
    "|144 keV |         25.6%          |\n",
    "|1.2 MeV |         -4.1%          |"
   ]
  },
  {
   "cell_type": "markdown",
   "id": "785f5723",
   "metadata": {},
   "source": [
    "We can also compare the model predictions to the true and binned doses for each respective testing source. In this analysis, the 144 keV and 1.2 MeV datasets used are real datasets taken at NPL in 2021, with the shadowcone measurement subtracted. \n",
    "\n",
    "|Source | Model type | # of epochs | True dose per <br> fluence / pSv cm$^2$ | Binned dose per <br>fluence / pSv cm$^2$ | Relative binning error | Predicted dose per <br> fluence / pSv cm$^2$ | Prediction error vs true|\n",
    "|---|----|----|----|---|---|---|---|\n",
    "| Cf$^{252}$ | Cubes only | 500 | 350.4 | 354.5 | 1.2% | 367.3 | 4.8% |\n",
    "| | | 2000 | 350.4 | 354.5 | 1.2% | 333.3 | -4.9% |\n",
    "| | Cubes and profiles | 500 | 350.4 | 354.5 | 1.2% | 194.6 | -44.4% |\n",
    "| |  | 2000 | 350.4 | 354.5 | 1.2% | 321.4 | -8.3% |\n",
    "| AmBe | Cubes only | 500 | 427.0 | 425.7 | -0.3% | 426.9 | -0.02% |\n",
    "| | | 2000 | 427.0 | 425.7 | -0.3% | 429.1 | 0.5% |\n",
    "| | Cubes and profiles | 500 | 427.0 | 425.7 | -0.3% | 207.7 | -51.3% |\n",
    "| | | 2000 | 427.0 | 425.7 | -0.3% | 315.0 | -26.2% |\n",
    "| AmLi | Cubes only | 500 | 175.4 | 178.7 | 1.9% | 199.8 | 13.9% |\n",
    "| | | 2000 | 175.4 | 178.7 | 1.9% | 147.0 | -16.2% | \n",
    "| | Cubes and profiles | 500 | 175.4 | 178.7 | 1.9% | 165.4 | -5.7% |\n",
    "| | | 2000 | 175.4 | 178.7 | 1.9% | 210.3 | 19.9% |\n",
    "| 144 keV, shadowcone subtracted | Cubes only | 500 | 58.4 | 73.3 | 25.6% | 186.0 | 218.8% |\n",
    "| | | 2000 | 58.4 | 73.3 | 25.6% | 95.3 | 63.3% |\n",
    "| | Cubes and profiles | 500 | 58.4 | 73.3 | 25.6% | 161.9 | 177.5% |\n",
    "| | | 2000 | 58.4 | 73.3 | 25.6% | 198.5 | 240.2%|\n",
    "| 1.2 MeV, shadowcone subtracted | Cubes only | 500 | 330.0 | 316.4 | -4.1% | 408.2 | 23.7% |\n",
    "| | | 2000 | 330.0 | 316.4 | -4.1% | 381.1 | 15.5% |\n",
    "| | Cubes and profiles | 500 | 330.0 | 316.4 | -4.1% | 203.5 | -38.3% |\n",
    "| | | 2000 | 330.0 | 316.4 | -4.1% | 320.7 | 1.4% |"
   ]
  },
  {
   "cell_type": "code",
   "execution_count": 23,
   "id": "59ff8bdc",
   "metadata": {},
   "outputs": [
    {
     "data": {
      "text/plain": [
       "{'Cubes only': (array(330.),\n",
       "  316.3987071042718,\n",
       "  408.24071660602715,\n",
       "  -0.04121603907796422,\n",
       "  0.2370930806243247,\n",
       "  0.29027302400287003),\n",
       " 'Cubes and profiles': (array(330.),\n",
       "  316.3987071042718,\n",
       "  203.52571144251107,\n",
       "  -0.04121603907796422,\n",
       "  -0.38325541987117856,\n",
       "  -0.35674291053459495),\n",
       " 'Cubes only, 2000 epochs': (array(330.),\n",
       "  316.3987071042718,\n",
       "  381.0913076451187,\n",
       "  -0.04121603907796422,\n",
       "  0.15482214437914762,\n",
       "  0.20446543898021344),\n",
       " 'Cubes and profiles, 2000 epochs': (array(330.),\n",
       "  316.3987071042718,\n",
       "  320.7190543222495,\n",
       "  -0.04121603907796422,\n",
       "  -0.028124077811365094,\n",
       "  0.013654756233102767)}"
      ]
     },
     "execution_count": 23,
     "metadata": {},
     "output_type": "execute_result"
    }
   ],
   "source": [
    "mono_1_2MeV_dose"
   ]
  },
  {
   "cell_type": "code",
   "execution_count": null,
   "id": "4d0ba2df",
   "metadata": {},
   "outputs": [],
   "source": []
  },
  {
   "cell_type": "code",
   "execution_count": 2,
   "id": "eb7b6d62",
   "metadata": {},
   "outputs": [],
   "source": [
    "def PlotResiduals(ref,comp,refname,compname,dset2):\n",
    "    try:\n",
    "        ref_input,ref_target = dset2[ref]\n",
    "    except:\n",
    "        ref_input,ref_target = ref\n",
    "    try:\n",
    "        comp_input,comp_target = dset2[comp]\n",
    "    except:\n",
    "        comp_input,comp_target = comp\n",
    "    \n",
    "    resid = (ref_input - comp_input)/ref_input\n",
    "    sig_resid = resid*np.sqrt((ref_input + comp_input)/(ref_input-comp_input)**2 + 1/ref_input)\n",
    "    \n",
    "    indistinguishable = ((np.sign(resid)*(resid-3*sig_resid)<=0)&(np.abs(resid)>=0))\n",
    "    colors = np.repeat('blue',64)\n",
    "    colors[indistinguishable] = 'red'\n",
    "\n",
    "    fig,ax=plt.subplots(2,1,figsize=(10,20))\n",
    "    \n",
    "    ax[0].bar(np.arange(64),ref_input,width=1,edgecolor='black',color='blue',alpha=0.3,yerr=np.sqrt(ref_input),error_kw=dict(ecolor='blue',lw=2,capsize=5,capthick=2),label=refname)\n",
    "    ax[0].bar(np.arange(64),comp_input,width=1,edgecolor='black',color='green',alpha=0.3,yerr=np.sqrt(comp_input),error_kw=dict(ecolor='green',lw=2,capsize=5,capthick=2),label=compname)\n",
    "    ax[0].set_xlabel('Cube ID',fontsize=24)\n",
    "    ax[0].set_ylabel('Frequency',fontsize=24)\n",
    "    ax[0].set_title('Cube counts',fontsize=32)\n",
    "    ax[0].legend(loc='upper left')\n",
    "    \n",
    "    ax[1].bar(np.arange(64),resid,width=1,yerr=sig_resid,color = colors,edgecolor='black',alpha=0.3,error_kw=dict(ecolor='blue',lw=2,capsize=5,capthick=2))\n",
    "    ax[1].set_xlabel('Cube ID',fontsize=24)\n",
    "    ax[1].set_ylabel(r'$(C_{'+refname+'} - C_{'+compname+'})/C_{'+refname+'}$',fontsize=24)\n",
    "    ax[1].set_title('Residuals of {} and {} comparison'.format(refname,compname),fontsize=32)\n",
    "    \n",
    "    fig.set_tight_layout(True)\n",
    "    \n",
    "    return resid,sig_resid"
   ]
  },
  {
   "cell_type": "code",
   "execution_count": 76,
   "id": "d4862717",
   "metadata": {},
   "outputs": [],
   "source": [
    "cdset = NNPL.FluenceReconDataset('/home/nr1315/Documents/Project/MachineLearning/TrainingDataCubes/CubeCountsAll/',\n",
    "                                 '/home/nr1315/Documents/Project/MachineLearning/TrainingDataCubes/EnergyBins',\n",
    "                                 64000,\n",
    "                                 transform = Resample(0.03),\n",
    "                                 repeats = 1000)"
   ]
  },
  {
   "cell_type": "code",
   "execution_count": 77,
   "id": "846f5c35",
   "metadata": {},
   "outputs": [],
   "source": [
    "es = [float(e.split('_')[1]) for e in cdset.base_list]\n",
    "es_inds = np.argsort(es)"
   ]
  },
  {
   "cell_type": "code",
   "execution_count": 20,
   "id": "ee4ca261",
   "metadata": {},
   "outputs": [
    {
     "ename": "IndexError",
     "evalue": "too many indices for array: array is 1-dimensional, but 2 were indexed",
     "output_type": "error",
     "traceback": [
      "\u001b[0;31m---------------------------------------------------------------------------\u001b[0m",
      "\u001b[0;31mIndexError\u001b[0m                                Traceback (most recent call last)",
      "\u001b[0;32m/tmp/ipykernel_5055/1808920969.py\u001b[0m in \u001b[0;36m<module>\u001b[0;34m\u001b[0m\n\u001b[0;32m----> 1\u001b[0;31m \u001b[0mPlotResiduals\u001b[0m\u001b[0;34m(\u001b[0m\u001b[0mes\u001b[0m\u001b[0;34m[\u001b[0m\u001b[0;36m0\u001b[0m\u001b[0;34m]\u001b[0m\u001b[0;34m,\u001b[0m\u001b[0mes\u001b[0m\u001b[0;34m[\u001b[0m\u001b[0;36m1\u001b[0m\u001b[0;34m]\u001b[0m\u001b[0;34m,\u001b[0m\u001b[0mcdset\u001b[0m\u001b[0;34m.\u001b[0m\u001b[0mbase_list\u001b[0m\u001b[0;34m[\u001b[0m\u001b[0mes\u001b[0m\u001b[0;34m[\u001b[0m\u001b[0;36m0\u001b[0m\u001b[0;34m]\u001b[0m\u001b[0;34m]\u001b[0m\u001b[0;34m,\u001b[0m\u001b[0mcdset\u001b[0m\u001b[0;34m.\u001b[0m\u001b[0mbase_list\u001b[0m\u001b[0;34m[\u001b[0m\u001b[0mes\u001b[0m\u001b[0;34m[\u001b[0m\u001b[0;36m1\u001b[0m\u001b[0;34m]\u001b[0m\u001b[0;34m]\u001b[0m\u001b[0;34m,\u001b[0m\u001b[0mcdset\u001b[0m\u001b[0;34m)\u001b[0m\u001b[0;34m\u001b[0m\u001b[0;34m\u001b[0m\u001b[0m\n\u001b[0m",
      "\u001b[0;32m/tmp/ipykernel_5055/61167143.py\u001b[0m in \u001b[0;36mPlotResiduals\u001b[0;34m(ref, comp, refname, compname, dset2)\u001b[0m\n\u001b[1;32m     14\u001b[0m     \u001b[0mindistinguishable\u001b[0m \u001b[0;34m=\u001b[0m \u001b[0;34m(\u001b[0m\u001b[0;34m(\u001b[0m\u001b[0mnp\u001b[0m\u001b[0;34m.\u001b[0m\u001b[0msign\u001b[0m\u001b[0;34m(\u001b[0m\u001b[0mresid\u001b[0m\u001b[0;34m)\u001b[0m\u001b[0;34m*\u001b[0m\u001b[0;34m(\u001b[0m\u001b[0mresid\u001b[0m\u001b[0;34m-\u001b[0m\u001b[0;36m3\u001b[0m\u001b[0;34m*\u001b[0m\u001b[0msig_resid\u001b[0m\u001b[0;34m)\u001b[0m\u001b[0;34m<=\u001b[0m\u001b[0;36m0\u001b[0m\u001b[0;34m)\u001b[0m\u001b[0;34m&\u001b[0m\u001b[0;34m(\u001b[0m\u001b[0mnp\u001b[0m\u001b[0;34m.\u001b[0m\u001b[0mabs\u001b[0m\u001b[0;34m(\u001b[0m\u001b[0mresid\u001b[0m\u001b[0;34m)\u001b[0m\u001b[0;34m>=\u001b[0m\u001b[0;36m0\u001b[0m\u001b[0;34m)\u001b[0m\u001b[0;34m)\u001b[0m\u001b[0;34m\u001b[0m\u001b[0;34m\u001b[0m\u001b[0m\n\u001b[1;32m     15\u001b[0m     \u001b[0mcolors\u001b[0m \u001b[0;34m=\u001b[0m \u001b[0mnp\u001b[0m\u001b[0;34m.\u001b[0m\u001b[0mrepeat\u001b[0m\u001b[0;34m(\u001b[0m\u001b[0;34m'blue'\u001b[0m\u001b[0;34m,\u001b[0m\u001b[0;36m64\u001b[0m\u001b[0;34m)\u001b[0m\u001b[0;34m\u001b[0m\u001b[0;34m\u001b[0m\u001b[0m\n\u001b[0;32m---> 16\u001b[0;31m     \u001b[0mcolors\u001b[0m\u001b[0;34m[\u001b[0m\u001b[0mindistinguishable\u001b[0m\u001b[0;34m]\u001b[0m \u001b[0;34m=\u001b[0m \u001b[0;34m'red'\u001b[0m\u001b[0;34m\u001b[0m\u001b[0;34m\u001b[0m\u001b[0m\n\u001b[0m\u001b[1;32m     17\u001b[0m \u001b[0;34m\u001b[0m\u001b[0m\n\u001b[1;32m     18\u001b[0m     \u001b[0mfig\u001b[0m\u001b[0;34m,\u001b[0m\u001b[0max\u001b[0m\u001b[0;34m=\u001b[0m\u001b[0mplt\u001b[0m\u001b[0;34m.\u001b[0m\u001b[0msubplots\u001b[0m\u001b[0;34m(\u001b[0m\u001b[0;36m2\u001b[0m\u001b[0;34m,\u001b[0m\u001b[0;36m1\u001b[0m\u001b[0;34m,\u001b[0m\u001b[0mfigsize\u001b[0m\u001b[0;34m=\u001b[0m\u001b[0;34m(\u001b[0m\u001b[0;36m10\u001b[0m\u001b[0;34m,\u001b[0m\u001b[0;36m20\u001b[0m\u001b[0;34m)\u001b[0m\u001b[0;34m)\u001b[0m\u001b[0;34m\u001b[0m\u001b[0;34m\u001b[0m\u001b[0m\n",
      "\u001b[0;31mIndexError\u001b[0m: too many indices for array: array is 1-dimensional, but 2 were indexed"
     ]
    }
   ],
   "source": [
    "PlotResiduals(es[0],es[1],cdset.base_list[es[0]],cdset.base_list[es[1]],cdset)"
   ]
  },
  {
   "cell_type": "code",
   "execution_count": 53,
   "id": "1b11406a",
   "metadata": {},
   "outputs": [
    {
     "data": {
      "text/plain": [
       "0.03"
      ]
     },
     "execution_count": 53,
     "metadata": {},
     "output_type": "execute_result"
    }
   ],
   "source": [
    "cdset.transform.error"
   ]
  },
  {
   "cell_type": "code",
   "execution_count": 84,
   "id": "a95c77c8",
   "metadata": {},
   "outputs": [],
   "source": [
    "ref = es_inds[0]\n",
    "comp = es_inds[1]\n",
    "refname = str(np.array(es)[es_inds][0])\n",
    "compname = str(np.array(es)[es_inds][1])\n",
    "dset2=cdset\n",
    "\n",
    "try:\n",
    "    ref_input,ref_target = dset2[ref]\n",
    "except:\n",
    "    ref_input,ref_target = ref\n",
    "try:\n",
    "    comp_input,comp_target = dset2[comp]\n",
    "except:\n",
    "    comp_input,comp_target = comp\n",
    "\n",
    "ref_input = ref_input.flatten()\n",
    "ref_target = ref_target.flatten()\n",
    "comp_input = comp_input.flatten()\n",
    "comp_target = comp_target.flatten()\n",
    "\n",
    "resid = (ref_input - comp_input)/ref_input\n",
    "sig_resid = resid*np.sqrt((ref_input + comp_input)/(ref_input-comp_input)**2 + 1/comp_input)\n",
    "#sig_resid = resid*dset2.transform.error*np.sqrt(1 + (ref_input**2 + comp_input**2)/(ref_input - comp_input)**2)\n",
    "#sig_resid = np.sqrt(2)*0.03*ref_input/comp_input\n",
    "\n",
    "indistinguishable = ((np.sign(resid)*(resid-3*sig_resid)<=0)&(np.abs(resid)>=0))\n",
    "colors = np.repeat('blue',64)\n",
    "colors[indistinguishable] = 'red'\n",
    "\n",
    "fig,ax=plt.subplots(2,1,figsize=(10,20))\n",
    "\n",
    "ax[0].bar(np.arange(64),ref_input,width=1,edgecolor='black',color='blue',alpha=0.3,yerr=np.sqrt(ref_input),error_kw=dict(ecolor='blue',lw=2,capsize=5,capthick=2),label=refname)\n",
    "ax[0].bar(np.arange(64),comp_input,width=1,edgecolor='black',color='green',alpha=0.3,yerr=np.sqrt(comp_input),error_kw=dict(ecolor='green',lw=2,capsize=5,capthick=2),label=compname)\n",
    "ax[0].set_xlabel('Cube ID',fontsize=24)\n",
    "ax[0].set_ylabel('Frequency',fontsize=24)\n",
    "ax[0].set_title('Cube counts',fontsize=32)\n",
    "ax[0].legend(loc='upper left')\n",
    "\n",
    "ax[1].bar(np.arange(64),resid,width=1,yerr=sig_resid,color = colors,edgecolor='black',alpha=0.3,error_kw=dict(ecolor='blue',lw=2,capsize=5,capthick=2))\n",
    "ax[1].set_xlabel('Cube ID',fontsize=24)\n",
    "ax[1].set_ylabel(r'$(C_{'+refname+'} - C_{'+compname+'})/C_{'+refname+'}$',fontsize=24)\n",
    "ax[1].set_title('Residuals of {} and {} comparison'.format(refname,compname),fontsize=32)\n",
    "\n",
    "fig.set_tight_layout(True)\n",
    "\n",
    "#return resid,sig_resid"
   ]
  },
  {
   "cell_type": "code",
   "execution_count": 58,
   "id": "80ae7925",
   "metadata": {},
   "outputs": [
    {
     "data": {
      "text/plain": [
       "tensor([ 0.0679,  0.0125,  0.0319, -0.0235,  0.0014,  0.0246, -0.1120, -0.0018,\n",
       "        -0.0320,  0.0073, -0.0008, -0.0008, -0.0448, -0.0007,  0.0315,  0.0285,\n",
       "         0.0428,  0.0147,  0.0053, -0.0131, -0.0388,  0.0276,  0.0347,  0.0070,\n",
       "        -0.0427, -0.0365, -0.0120,  0.0408,  0.0482, -0.0346, -0.0363,  0.0098,\n",
       "         0.0687, -0.0084,  0.0327, -0.0043,  0.0395, -0.0330, -0.0110,  0.0046,\n",
       "        -0.0347, -0.0348,  0.0043, -0.0108,  0.0387, -0.0111,  0.0480,  0.0299,\n",
       "         0.0155, -0.0515, -0.0247, -0.0307, -0.0033,  0.0441, -0.0007,  0.0523,\n",
       "         0.0420, -0.0041, -0.0995,  0.0391, -0.0404, -0.0693, -0.0279, -0.0128])"
      ]
     },
     "execution_count": 58,
     "metadata": {},
     "output_type": "execute_result"
    }
   ],
   "source": [
    "resid"
   ]
  },
  {
   "cell_type": "code",
   "execution_count": 59,
   "id": "75b4b855",
   "metadata": {},
   "outputs": [
    {
     "data": {
      "text/plain": [
       "tensor([ 2.0378e-03,  3.7637e-04,  9.5697e-04, -7.0389e-04,  4.1047e-05,\n",
       "         7.3781e-04, -3.3591e-03, -5.3553e-05, -9.6038e-04,  2.1832e-04,\n",
       "        -2.2937e-05, -2.4251e-05, -1.3442e-03, -1.9971e-05,  9.4543e-04,\n",
       "         8.5511e-04,  1.2837e-03,  4.4180e-04,  1.5855e-04, -3.9165e-04,\n",
       "        -1.1651e-03,  8.2761e-04,  1.0416e-03,  2.1082e-04, -1.2804e-03,\n",
       "        -1.0944e-03, -3.6032e-04,  1.2253e-03,  1.4455e-03, -1.0370e-03,\n",
       "        -1.0899e-03,  2.9415e-04,  2.0617e-03, -2.5075e-04,  9.7959e-04,\n",
       "        -1.2891e-04,  1.1857e-03, -9.9069e-04, -3.2895e-04,  1.3939e-04,\n",
       "        -1.0407e-03, -1.0449e-03,  1.2982e-04, -3.2496e-04,  1.1618e-03,\n",
       "        -3.3325e-04,  1.4405e-03,  8.9775e-04,  4.6633e-04, -1.5444e-03,\n",
       "        -7.4191e-04, -9.2191e-04, -9.8151e-05,  1.3220e-03, -2.0087e-05,\n",
       "         1.5697e-03,  1.2593e-03, -1.2421e-04, -2.9843e-03,  1.1720e-03,\n",
       "        -1.2116e-03, -2.0780e-03, -8.3620e-04, -3.8493e-04])"
      ]
     },
     "execution_count": 59,
     "metadata": {},
     "output_type": "execute_result"
    }
   ],
   "source": [
    "resid*0.03"
   ]
  },
  {
   "cell_type": "code",
   "execution_count": 73,
   "id": "77afcef6",
   "metadata": {},
   "outputs": [
    {
     "data": {
      "text/plain": [
       "tensor([0.0322, 0.0304, 0.0310, 0.0293, 0.0300, 0.0308, 0.0270, 0.0299, 0.0291,\n",
       "        0.0302, 0.0300, 0.0300, 0.0287, 0.0300, 0.0310, 0.0309, 0.0313, 0.0304,\n",
       "        0.0302, 0.0296, 0.0289, 0.0309, 0.0311, 0.0302, 0.0288, 0.0289, 0.0296,\n",
       "        0.0313, 0.0315, 0.0290, 0.0289, 0.0303, 0.0322, 0.0298, 0.0310, 0.0299,\n",
       "        0.0312, 0.0290, 0.0297, 0.0301, 0.0290, 0.0290, 0.0301, 0.0297, 0.0312,\n",
       "        0.0297, 0.0315, 0.0309, 0.0305, 0.0285, 0.0293, 0.0291, 0.0299, 0.0314,\n",
       "        0.0300, 0.0317, 0.0313, 0.0299, 0.0273, 0.0312, 0.0288, 0.0281, 0.0292,\n",
       "        0.0296])"
      ]
     },
     "execution_count": 73,
     "metadata": {},
     "output_type": "execute_result"
    }
   ],
   "source": [
    "0.03*ref_input/comp_input"
   ]
  },
  {
   "cell_type": "code",
   "execution_count": null,
   "id": "c2e8a968",
   "metadata": {},
   "outputs": [],
   "source": []
  },
  {
   "cell_type": "code",
   "execution_count": 70,
   "id": "7cabb23e",
   "metadata": {},
   "outputs": [
    {
     "data": {
      "text/plain": [
       "tensor([6.1160e-07, 3.1637e-08, 1.8781e-07, 1.1458e-07, 1.1910e-10, 1.3887e-07,\n",
       "        2.4951e-06, 4.3645e-10, 8.2318e-08, 1.3392e-08, 1.4853e-10, 1.3084e-10,\n",
       "        6.0184e-08, 6.2269e-11, 1.1889e-07, 1.5398e-07, 3.1903e-07, 5.1694e-08,\n",
       "        9.7924e-09, 3.7451e-08, 1.6035e-07, 2.2192e-07, 4.1074e-07, 2.4342e-08,\n",
       "        2.6476e-07, 5.7263e-07, 6.7535e-08, 9.5036e-07, 2.3516e-07, 2.6067e-07,\n",
       "        1.8260e-07, 2.3448e-08, 6.1796e-07, 3.9713e-08, 4.8744e-07, 6.5081e-09,\n",
       "        2.3015e-07, 4.5885e-07, 5.3287e-08, 6.2352e-09, 1.8663e-07, 4.4976e-07,\n",
       "        7.5801e-09, 4.1931e-08, 3.1667e-07, 2.6420e-08, 6.7121e-07, 2.7081e-07,\n",
       "        2.6196e-08, 6.5880e-07, 2.3009e-07, 2.4777e-07, 1.1314e-09, 1.3343e-06,\n",
       "        1.3722e-10, 9.7545e-07, 3.5875e-07, 4.8363e-09, 2.7463e-06, 5.4347e-07,\n",
       "        2.0779e-07, 1.3229e-06, 3.0713e-07, 1.6865e-08])"
      ]
     },
     "execution_count": 70,
     "metadata": {},
     "output_type": "execute_result"
    }
   ],
   "source": [
    "(ref_input - comp_input)**2"
   ]
  },
  {
   "cell_type": "code",
   "execution_count": 23,
   "id": "cb5b6c52",
   "metadata": {},
   "outputs": [
    {
     "data": {
      "text/plain": [
       "tensor([[True, True, True, True, True, True, True, True, True, True, True, True,\n",
       "         True, True, True, True, True, True, True, True, True, True, True, True,\n",
       "         True, True, True, True, True, True, True, True, True, True, True, True,\n",
       "         True, True, True, True, True, True, True, True, True, True, True, True,\n",
       "         True, True, True, True, True, True, True, True, True, True, True, True,\n",
       "         True, True, True, True]])"
      ]
     },
     "execution_count": 23,
     "metadata": {},
     "output_type": "execute_result"
    }
   ],
   "source": [
    "indistinguishable"
   ]
  },
  {
   "cell_type": "code",
   "execution_count": 1,
   "id": "e3910290",
   "metadata": {},
   "outputs": [],
   "source": [
    "import os\n",
    "import torch\n",
    "from torch import nn\n",
    "from torch.utils.data import DataLoader, random_split\n",
    "import numpy as np\n",
    "import pandas as pd\n",
    "\n",
    "import matplotlib.pyplot as plt\n",
    "import matplotlib.patches as mpatches\n",
    "%matplotlib tk\n",
    "\n",
    "import NNPytorchLightning as NNPL\n",
    "from NNPytorchLightning import FluenceReconDataset, Resample\n",
    "\n",
    "\n",
    "import warnings\n",
    "from scipy.integrate import quad,IntegrationWarning\n",
    "from scipy.interpolate import interp1d\n",
    "from scipy.optimize import fminbound\n",
    "warnings.simplefilter(action='ignore', category=IntegrationWarning)\n",
    "\n",
    "coeffs = '/home/nr1315/Documents/Project/effective_dose_coeffs.h5'\n",
    "energy_bins = '/home/nr1315/Documents/Project/MachineLearning/energy_bins.npy'\n",
    "\n",
    "bins = np.load(energy_bins)"
   ]
  },
  {
   "cell_type": "code",
   "execution_count": 2,
   "id": "3ae12e36",
   "metadata": {},
   "outputs": [],
   "source": [
    "relu_model = NNPL.LoadModel('/home/nr1315/Documents/Project/MachineLearning/lightning_logs/nn76_152_76_38_8/version_6',torch.rand((1,1,76)),coeffs,energy_bins)\n",
    "nn76_152_76_38_8 = NNPL.LoadModel('/home/nr1315/Documents/Project/MachineLearning/lightning_logs/nn76_152_76_38_8/version_5',torch.rand((1,1,76)),coeffs,energy_bins)\n",
    "nn64_128_64_32_8 = NNPL.LoadModel('/home/nr1315/Documents/Project/MachineLearning/lightning_logs/nn64_128_64_32_8/version_0',torch.rand((1,1,64)),coeffs,energy_bins)"
   ]
  },
  {
   "cell_type": "code",
   "execution_count": 45,
   "id": "cb3b286a",
   "metadata": {},
   "outputs": [],
   "source": [
    "testing_data_dir = '/home/nr1315/Documents/Project/MachineLearning/TestingData/'\n",
    "AmBe_counts = 'SimCubeCounts_AmBe_5_0-0-0-0-1-0_1500.npy'\n",
    "AmLi_counts = 'SimCubeCounts_AmLi_5_0-0-0-0-1-0_1500.npy'\n",
    "Cf_counts = 'SimCubeCounts_Cf252_6_0-0-0-0-1-0_1500.npy'\n",
    "\n",
    "AmBe_target = 'SimEnergyBins_AmBe.npy'\n",
    "AmLi_target = 'SimEnergyBins_AmLi.npy'\n",
    "Cf_target = 'SimEnergyBins_Cf252.npy'\n",
    "\n",
    "loss_fn = nn.MSELoss()\n",
    "fig,ax = plt.subplots(1,3,figsize=(30,10))\n",
    "\n",
    "\n",
    "nn76_152_76_38_8r_AmBe_loss,nn76_152_76_38_8r_AmBe_dose_err = NNPL.compare_pred_true(nn76_152_76_38_8,testing_data_dir+'/withProfiles/'+AmBe_counts,testing_data_dir+AmBe_target,'AmBe','nn76_152_76_38_8 \\n',ax[0],24,np.load(energy_bins),1,loss_fn,'AP')\n",
    "nn76_152_76_38_8r_AmLi_loss,nn76_152_76_38_8r_AmBe_dose_err = NNPL.compare_pred_true(nn76_152_76_38_8,testing_data_dir+'/withProfiles/'+AmLi_counts,testing_data_dir+AmLi_target,'AmLi','nn76_152_76_38_8 \\n',ax[1],24,np.load(energy_bins),1,loss_fn,'AP')\n",
    "nn76_152_76_38_8r_Cf_loss,nn76_152_76_38_8r_Cf_dose_err = NNPL.compare_pred_true(nn76_152_76_38_8,testing_data_dir+'/withProfiles/'+Cf_counts,testing_data_dir+Cf_target,r'$^{252}$Cf','nn76_152_76_38_8 \\n',ax[2],24,np.load(energy_bins),1,loss_fn,'AP')"
   ]
  },
  {
   "cell_type": "code",
   "execution_count": 13,
   "id": "b5b77b66",
   "metadata": {},
   "outputs": [],
   "source": [
    "y = np.random.rand(8)"
   ]
  },
  {
   "cell_type": "code",
   "execution_count": 15,
   "id": "098fdbba",
   "metadata": {},
   "outputs": [],
   "source": [
    "plt.plot(np.sort(np.hstack([bins[:-1],bins[1:]])),np.repeat(y,2))\n",
    "plt.xscale('log')"
   ]
  },
  {
   "cell_type": "code",
   "execution_count": 47,
   "id": "7edb6625",
   "metadata": {},
   "outputs": [],
   "source": [
    "Cfinput = np.load(testing_data_dir+Cf_counts)"
   ]
  },
  {
   "cell_type": "code",
   "execution_count": 55,
   "id": "06a40ea1",
   "metadata": {},
   "outputs": [],
   "source": [
    "input_200k = np.load('/home/nr1315/Documents/Project/MachineLearning/TrainingDataCubes/CubeCounts/SimCubeCounts_200000.0_4_0-0-0-0-1-0_1500.npy')\n",
    "input_thermal = np.load('/home/nr1315/Documents/Project/MachineLearning/TrainingDataCubes/CubeCounts/SimCubeCounts_0.025_5_0-0-0-0-1-0_1500.npy')"
   ]
  },
  {
   "cell_type": "code",
   "execution_count": 61,
   "id": "22a1a796",
   "metadata": {},
   "outputs": [
    {
     "data": {
      "text/plain": [
       "array([ True,  True,  True,  True,  True,  True,  True,  True,  True,\n",
       "        True,  True,  True,  True,  True,  True,  True,  True,  True,\n",
       "        True,  True,  True,  True,  True,  True,  True,  True,  True,\n",
       "        True,  True,  True,  True,  True,  True,  True,  True,  True,\n",
       "        True,  True,  True,  True,  True,  True,  True,  True,  True,\n",
       "        True,  True,  True,  True,  True,  True,  True,  True,  True,\n",
       "        True,  True,  True,  True,  True,  True,  True,  True,  True,\n",
       "        True])"
      ]
     },
     "execution_count": 61,
     "metadata": {},
     "output_type": "execute_result"
    }
   ],
   "source": []
  },
  {
   "cell_type": "code",
   "execution_count": 62,
   "id": "c97a9f98",
   "metadata": {},
   "outputs": [
    {
     "data": {
      "text/plain": [
       "Text(0.5, 1.0, '200 keV input')"
      ]
     },
     "execution_count": 62,
     "metadata": {},
     "output_type": "execute_result"
    }
   ],
   "source": [
    "plt.bar(np.arange(64),input_200k.flatten()/input_200k.sum(),width=1,edgecolor='black',alpha=0.3)\n",
    "plt.xlabel('Cube ID',fontsize=28)\n",
    "plt.ylabel('Fractional count',fontsize=28)\n",
    "plt.tick_params(axis='both',labelsize=24)\n",
    "plt.title(r'200 keV input',fontsize=32)"
   ]
  },
  {
   "cell_type": "code",
   "execution_count": 46,
   "id": "6ca3d6a0",
   "metadata": {},
   "outputs": [],
   "source": [
    "fig,ax = plt.subplots(1,3,figsize=(30,10))\n",
    "nn76_152_76_38_8_AmBe_loss,nn76_152_76_38_8_AmBe_dose_err = NNPL.compare_pred_true(nn64_128_64_32_8,testing_data_dir+'/'+AmBe_counts,testing_data_dir+AmBe_target,'AmBe','nn64_128_64_32_8 \\n',ax[0],24,np.load(energy_bins),1,loss_fn,'AP')\n",
    "nn76_152_76_38_8_AmLi_loss,nn76_152_76_38_8_AmBe_dose_err = NNPL.compare_pred_true(nn64_128_64_32_8,testing_data_dir+'/'+AmLi_counts,testing_data_dir+AmLi_target,'AmLi','nn64_128_64_32_8 \\n',ax[1],24,np.load(energy_bins),1,loss_fn,'AP')\n",
    "nn76_152_76_38_8_Cf_loss,nn76_152_76_38_8_Cf_dose_err = NNPL.compare_pred_true(nn64_128_64_32_8,testing_data_dir+'/'+Cf_counts,testing_data_dir+Cf_target,r'$^{252}$Cf','nn64_128_64_32_8 \\n',ax[2],24,np.load(energy_bins),1,loss_fn,'AP')"
   ]
  },
  {
   "cell_type": "code",
   "execution_count": 4,
   "id": "0588e525",
   "metadata": {},
   "outputs": [],
   "source": [
    "nn64_128_64_32_8_dloader = torch.load('/home/nr1315/Documents/Project/MachineLearning/lightning_logs/nn64_128_64_32_8/version_0/val_dloader.pt')"
   ]
  },
  {
   "cell_type": "code",
   "execution_count": 5,
   "id": "7e98d3e9",
   "metadata": {},
   "outputs": [],
   "source": [
    "nn76_152_76_38_8_dloader = torch.load('/home/nr1315/Documents/Project/MachineLearning/lightning_logs/nn76_152_76_38_8/version_5/val_dloader.pt')"
   ]
  },
  {
   "cell_type": "code",
   "execution_count": 6,
   "id": "e0340991",
   "metadata": {},
   "outputs": [],
   "source": [
    "check = NNPL.CheckTrainData(nn64_128_64_32_8,nn64_128_64_32_8_dloader.dataset.dataset,bins)"
   ]
  },
  {
   "cell_type": "code",
   "execution_count": 7,
   "id": "3e7b9a08",
   "metadata": {},
   "outputs": [],
   "source": [
    "check.ViewTrainData()"
   ]
  },
  {
   "cell_type": "code",
   "execution_count": 8,
   "id": "26530320",
   "metadata": {},
   "outputs": [],
   "source": [
    "dose_curve = pd.read_hdf(coeffs)"
   ]
  },
  {
   "cell_type": "code",
   "execution_count": null,
   "id": "d8a65a01",
   "metadata": {},
   "outputs": [],
   "source": []
  },
  {
   "cell_type": "code",
   "execution_count": 4,
   "id": "abce924e",
   "metadata": {},
   "outputs": [],
   "source": [
    "from scipy.interpolate import interp1d\n",
    "from scipy.integrate import quad\n",
    "import numpy as np\n",
    "import pandas as pd\n",
    "import matplotlib.pyplot as plt\n",
    "\n",
    "\n",
    "\n",
    "bins = np.load('/home/nr1315/Documents/Project/MachineLearning/energy_bins.npy')\n",
    "dose_curve = pd.read_hdf('/home/nr1315/Documents/Project/effective_dose_coeffs.h5')\n",
    "\n",
    "centres = np.diff(bins)/2 + bins[:-1]\n",
    "\n",
    "ap_dose = interp1d(dose_curve['Energy / MeV'],dose_curve['AP'])\n",
    "pa_dose = interp1d(dose_curve['Energy / MeV'],dose_curve['PA'])\n",
    "llat_dose = interp1d(dose_curve['Energy / MeV'],dose_curve['LLAT'])\n",
    "rlat_dose = interp1d(dose_curve['Energy / MeV'],dose_curve['RLAT'])\n",
    "rot_dose = interp1d(dose_curve['Energy / MeV'],dose_curve['ROT'])\n",
    "iso_dose = interp1d(dose_curve['Energy / MeV'],dose_curve['ISO'])"
   ]
  },
  {
   "cell_type": "code",
   "execution_count": null,
   "id": "3654f35a",
   "metadata": {},
   "outputs": [],
   "source": []
  },
  {
   "cell_type": "code",
   "execution_count": 5,
   "id": "69e8ea97",
   "metadata": {},
   "outputs": [],
   "source": [
    "doses = {}\n",
    "doses['ap'],doses['pa'],doses['llat'],doses['rlat'] = [],[],[],[]\n",
    "doses['iso'],doses['rot'] = [],[]\n",
    "widths = np.diff(bins)\n",
    "for i in range(len(bins)-1):\n",
    "    doses['ap'].append(quad(ap_dose,bins[i],bins[i+1],limit=200)[0]/widths[i])\n",
    "    doses['pa'].append(quad(pa_dose,bins[i],bins[i+1],limit=200)[0]/widths[i])\n",
    "    doses['llat'].append(quad(llat_dose,bins[i],bins[i+1],limit=200)[0]/widths[i])\n",
    "    doses['rlat'].append(quad(rlat_dose,bins[i],bins[i+1],limit=200)[0]/widths[i])"
   ]
  },
  {
   "cell_type": "code",
   "execution_count": 6,
   "id": "827079cd",
   "metadata": {},
   "outputs": [],
   "source": [
    "dose_eq_curves = pd.read_csv(\"/home/nr1315/Downloads/ICRP74_neutron_dose equivalent curves.csv\")"
   ]
  },
  {
   "cell_type": "code",
   "execution_count": 96,
   "id": "3e3bafc7",
   "metadata": {},
   "outputs": [
    {
     "data": {
      "text/html": [
       "<div>\n",
       "<style scoped>\n",
       "    .dataframe tbody tr th:only-of-type {\n",
       "        vertical-align: middle;\n",
       "    }\n",
       "\n",
       "    .dataframe tbody tr th {\n",
       "        vertical-align: top;\n",
       "    }\n",
       "\n",
       "    .dataframe thead th {\n",
       "        text-align: right;\n",
       "    }\n",
       "</style>\n",
       "<table border=\"1\" class=\"dataframe\">\n",
       "  <thead>\n",
       "    <tr style=\"text-align: right;\">\n",
       "      <th></th>\n",
       "      <th>En / MeV</th>\n",
       "      <th>H*(10) / pSv.cm2</th>\n",
       "      <th>Hp(10,0) / pSv.cm2</th>\n",
       "      <th>Hp(10,15) / pSv.cm2</th>\n",
       "      <th>Hp(10,30) / pSv.cm2</th>\n",
       "      <th>Hp(10,45) / pSv.cm2</th>\n",
       "      <th>Hp(10,60) / pSv.cm2</th>\n",
       "      <th>Hp(10,75) / pSv.cm2</th>\n",
       "    </tr>\n",
       "  </thead>\n",
       "  <tbody>\n",
       "    <tr>\n",
       "      <th>0</th>\n",
       "      <td>1.000000e-09</td>\n",
       "      <td>6.6</td>\n",
       "      <td>8.19</td>\n",
       "      <td>7.64</td>\n",
       "      <td>6.57</td>\n",
       "      <td>4.23</td>\n",
       "      <td>2.61</td>\n",
       "      <td>1.13</td>\n",
       "    </tr>\n",
       "    <tr>\n",
       "      <th>1</th>\n",
       "      <td>1.000000e-08</td>\n",
       "      <td>9.0</td>\n",
       "      <td>9.97</td>\n",
       "      <td>9.35</td>\n",
       "      <td>7.90</td>\n",
       "      <td>5.38</td>\n",
       "      <td>3.37</td>\n",
       "      <td>1.50</td>\n",
       "    </tr>\n",
       "    <tr>\n",
       "      <th>2</th>\n",
       "      <td>2.530000e-08</td>\n",
       "      <td>10.6</td>\n",
       "      <td>11.40</td>\n",
       "      <td>10.60</td>\n",
       "      <td>9.11</td>\n",
       "      <td>6.61</td>\n",
       "      <td>4.04</td>\n",
       "      <td>1.73</td>\n",
       "    </tr>\n",
       "    <tr>\n",
       "      <th>3</th>\n",
       "      <td>1.000000e-07</td>\n",
       "      <td>12.9</td>\n",
       "      <td>12.60</td>\n",
       "      <td>11.70</td>\n",
       "      <td>10.30</td>\n",
       "      <td>7.84</td>\n",
       "      <td>4.7</td>\n",
       "      <td>1.94</td>\n",
       "    </tr>\n",
       "    <tr>\n",
       "      <th>4</th>\n",
       "      <td>2.000000e-07</td>\n",
       "      <td>13.5</td>\n",
       "      <td>13.50</td>\n",
       "      <td>12.60</td>\n",
       "      <td>11.10</td>\n",
       "      <td>8.73</td>\n",
       "      <td>5.21</td>\n",
       "      <td>2.12</td>\n",
       "    </tr>\n",
       "    <tr>\n",
       "      <th>5</th>\n",
       "      <td>5.000000e-07</td>\n",
       "      <td>13.6</td>\n",
       "      <td>14.20</td>\n",
       "      <td>13.50</td>\n",
       "      <td>11.80</td>\n",
       "      <td>9.40</td>\n",
       "      <td>5.65</td>\n",
       "      <td>2.31</td>\n",
       "    </tr>\n",
       "    <tr>\n",
       "      <th>6</th>\n",
       "      <td>1.000000e-06</td>\n",
       "      <td>13.3</td>\n",
       "      <td>14.40</td>\n",
       "      <td>13.90</td>\n",
       "      <td>12.00</td>\n",
       "      <td>9.56</td>\n",
       "      <td>5.82</td>\n",
       "      <td>2.40</td>\n",
       "    </tr>\n",
       "    <tr>\n",
       "      <th>7</th>\n",
       "      <td>2.000000e-06</td>\n",
       "      <td>12.9</td>\n",
       "      <td>14.30</td>\n",
       "      <td>14.00</td>\n",
       "      <td>11.90</td>\n",
       "      <td>9.49</td>\n",
       "      <td>5.85</td>\n",
       "      <td>2.46</td>\n",
       "    </tr>\n",
       "    <tr>\n",
       "      <th>8</th>\n",
       "      <td>5.000000e-06</td>\n",
       "      <td>12.0</td>\n",
       "      <td>13.80</td>\n",
       "      <td>13.90</td>\n",
       "      <td>11.50</td>\n",
       "      <td>9.11</td>\n",
       "      <td>5.71</td>\n",
       "      <td>2.48</td>\n",
       "    </tr>\n",
       "    <tr>\n",
       "      <th>9</th>\n",
       "      <td>1.000000e-05</td>\n",
       "      <td>11.3</td>\n",
       "      <td>13.20</td>\n",
       "      <td>13.40</td>\n",
       "      <td>11.00</td>\n",
       "      <td>8.65</td>\n",
       "      <td>5.47</td>\n",
       "      <td>2.44</td>\n",
       "    </tr>\n",
       "    <tr>\n",
       "      <th>10</th>\n",
       "      <td>2.000000e-05</td>\n",
       "      <td>10.6</td>\n",
       "      <td>12.40</td>\n",
       "      <td>12.60</td>\n",
       "      <td>10.40</td>\n",
       "      <td>8.10</td>\n",
       "      <td>5.14</td>\n",
       "      <td>2.35</td>\n",
       "    </tr>\n",
       "    <tr>\n",
       "      <th>11</th>\n",
       "      <td>5.000000e-05</td>\n",
       "      <td>9.9</td>\n",
       "      <td>11.20</td>\n",
       "      <td>11.20</td>\n",
       "      <td>9.42</td>\n",
       "      <td>7.32</td>\n",
       "      <td>4.57</td>\n",
       "      <td>2.16</td>\n",
       "    </tr>\n",
       "    <tr>\n",
       "      <th>12</th>\n",
       "      <td>1.000000e-04</td>\n",
       "      <td>9.4</td>\n",
       "      <td>10.30</td>\n",
       "      <td>9.85</td>\n",
       "      <td>8.64</td>\n",
       "      <td>6.74</td>\n",
       "      <td>4.1</td>\n",
       "      <td>1.99</td>\n",
       "    </tr>\n",
       "    <tr>\n",
       "      <th>13</th>\n",
       "      <td>2.000000e-04</td>\n",
       "      <td>8.9</td>\n",
       "      <td>9.84</td>\n",
       "      <td>9.41</td>\n",
       "      <td>8.22</td>\n",
       "      <td>6.21</td>\n",
       "      <td>3.91</td>\n",
       "      <td>1.83</td>\n",
       "    </tr>\n",
       "    <tr>\n",
       "      <th>14</th>\n",
       "      <td>5.000000e-04</td>\n",
       "      <td>8.3</td>\n",
       "      <td>9.34</td>\n",
       "      <td>8.66</td>\n",
       "      <td>7.66</td>\n",
       "      <td>5.67</td>\n",
       "      <td>3.58</td>\n",
       "      <td>1.68</td>\n",
       "    </tr>\n",
       "    <tr>\n",
       "      <th>15</th>\n",
       "      <td>1.000000e-03</td>\n",
       "      <td>7.9</td>\n",
       "      <td>8.78</td>\n",
       "      <td>8.20</td>\n",
       "      <td>7.29</td>\n",
       "      <td>5.43</td>\n",
       "      <td>3.46</td>\n",
       "      <td>1.66</td>\n",
       "    </tr>\n",
       "    <tr>\n",
       "      <th>16</th>\n",
       "      <td>2.000000e-03</td>\n",
       "      <td>7.7</td>\n",
       "      <td>8.72</td>\n",
       "      <td>8.22</td>\n",
       "      <td>7.27</td>\n",
       "      <td>5.43</td>\n",
       "      <td>3.46</td>\n",
       "      <td>1.67</td>\n",
       "    </tr>\n",
       "    <tr>\n",
       "      <th>17</th>\n",
       "      <td>5.000000e-03</td>\n",
       "      <td>8.0</td>\n",
       "      <td>9.36</td>\n",
       "      <td>8.79</td>\n",
       "      <td>7.46</td>\n",
       "      <td>5.71</td>\n",
       "      <td>3.59</td>\n",
       "      <td>1.69</td>\n",
       "    </tr>\n",
       "    <tr>\n",
       "      <th>18</th>\n",
       "      <td>1.000000e-02</td>\n",
       "      <td>10.5</td>\n",
       "      <td>11.20</td>\n",
       "      <td>10.80</td>\n",
       "      <td>9.18</td>\n",
       "      <td>7.09</td>\n",
       "      <td>4.32</td>\n",
       "      <td>1.77</td>\n",
       "    </tr>\n",
       "    <tr>\n",
       "      <th>19</th>\n",
       "      <td>2.000000e-02</td>\n",
       "      <td>16.6</td>\n",
       "      <td>17.10</td>\n",
       "      <td>17.00</td>\n",
       "      <td>14.60</td>\n",
       "      <td>11.60</td>\n",
       "      <td>6.64</td>\n",
       "      <td>2.11</td>\n",
       "    </tr>\n",
       "    <tr>\n",
       "      <th>20</th>\n",
       "      <td>3.000000e-02</td>\n",
       "      <td>23.0</td>\n",
       "      <td>24.90</td>\n",
       "      <td>24.10</td>\n",
       "      <td>21.30</td>\n",
       "      <td>16.70</td>\n",
       "      <td>9.81</td>\n",
       "      <td>2.85</td>\n",
       "    </tr>\n",
       "    <tr>\n",
       "      <th>21</th>\n",
       "      <td>5.000000e-02</td>\n",
       "      <td>41.1</td>\n",
       "      <td>39.00</td>\n",
       "      <td>36.00</td>\n",
       "      <td>34.40</td>\n",
       "      <td>27.50</td>\n",
       "      <td>16.7</td>\n",
       "      <td>4.78</td>\n",
       "    </tr>\n",
       "    <tr>\n",
       "      <th>22</th>\n",
       "      <td>7.000000e-02</td>\n",
       "      <td>60.0</td>\n",
       "      <td>59.00</td>\n",
       "      <td>55.80</td>\n",
       "      <td>52.60</td>\n",
       "      <td>42.90</td>\n",
       "      <td>27.3</td>\n",
       "      <td>8.10</td>\n",
       "    </tr>\n",
       "    <tr>\n",
       "      <th>23</th>\n",
       "      <td>1.000000e-01</td>\n",
       "      <td>88.0</td>\n",
       "      <td>90.60</td>\n",
       "      <td>87.80</td>\n",
       "      <td>81.30</td>\n",
       "      <td>67.10</td>\n",
       "      <td>44.6</td>\n",
       "      <td>13.70</td>\n",
       "    </tr>\n",
       "    <tr>\n",
       "      <th>24</th>\n",
       "      <td>1.500000e-01</td>\n",
       "      <td>132.0</td>\n",
       "      <td>139.00</td>\n",
       "      <td>137.00</td>\n",
       "      <td>126.00</td>\n",
       "      <td>106.00</td>\n",
       "      <td>73.3</td>\n",
       "      <td>24.20</td>\n",
       "    </tr>\n",
       "    <tr>\n",
       "      <th>25</th>\n",
       "      <td>2.000000e-01</td>\n",
       "      <td>170.0</td>\n",
       "      <td>180.00</td>\n",
       "      <td>179.00</td>\n",
       "      <td>166.00</td>\n",
       "      <td>141.00</td>\n",
       "      <td>100</td>\n",
       "      <td>35.50</td>\n",
       "    </tr>\n",
       "    <tr>\n",
       "      <th>26</th>\n",
       "      <td>3.000000e-01</td>\n",
       "      <td>233.0</td>\n",
       "      <td>246.00</td>\n",
       "      <td>244.00</td>\n",
       "      <td>232.00</td>\n",
       "      <td>201.00</td>\n",
       "      <td>149</td>\n",
       "      <td>58.50</td>\n",
       "    </tr>\n",
       "    <tr>\n",
       "      <th>27</th>\n",
       "      <td>5.000000e-01</td>\n",
       "      <td>322.0</td>\n",
       "      <td>335.00</td>\n",
       "      <td>330.00</td>\n",
       "      <td>326.00</td>\n",
       "      <td>291.00</td>\n",
       "      <td>226</td>\n",
       "      <td>102.00</td>\n",
       "    </tr>\n",
       "    <tr>\n",
       "      <th>28</th>\n",
       "      <td>7.000000e-01</td>\n",
       "      <td>375.0</td>\n",
       "      <td>386.00</td>\n",
       "      <td>379.00</td>\n",
       "      <td>382.00</td>\n",
       "      <td>348.00</td>\n",
       "      <td>279</td>\n",
       "      <td>139.00</td>\n",
       "    </tr>\n",
       "    <tr>\n",
       "      <th>29</th>\n",
       "      <td>9.000000e-01</td>\n",
       "      <td>400.0</td>\n",
       "      <td>414.00</td>\n",
       "      <td>407.00</td>\n",
       "      <td>415.00</td>\n",
       "      <td>383.00</td>\n",
       "      <td>317</td>\n",
       "      <td>171.00</td>\n",
       "    </tr>\n",
       "    <tr>\n",
       "      <th>30</th>\n",
       "      <td>1.000000e+00</td>\n",
       "      <td>416.0</td>\n",
       "      <td>422.00</td>\n",
       "      <td>416.00</td>\n",
       "      <td>426.00</td>\n",
       "      <td>395.00</td>\n",
       "      <td>332</td>\n",
       "      <td>180.00</td>\n",
       "    </tr>\n",
       "    <tr>\n",
       "      <th>31</th>\n",
       "      <td>1.200000e+00</td>\n",
       "      <td>425.0</td>\n",
       "      <td>433.00</td>\n",
       "      <td>427.00</td>\n",
       "      <td>440.00</td>\n",
       "      <td>412.00</td>\n",
       "      <td>355</td>\n",
       "      <td>210.00</td>\n",
       "    </tr>\n",
       "    <tr>\n",
       "      <th>32</th>\n",
       "      <td>2.000000e+00</td>\n",
       "      <td>420.0</td>\n",
       "      <td>442.00</td>\n",
       "      <td>438.00</td>\n",
       "      <td>457.00</td>\n",
       "      <td>439.00</td>\n",
       "      <td>402</td>\n",
       "      <td>274.00</td>\n",
       "    </tr>\n",
       "    <tr>\n",
       "      <th>33</th>\n",
       "      <td>3.000000e+00</td>\n",
       "      <td>412.0</td>\n",
       "      <td>431.00</td>\n",
       "      <td>429.00</td>\n",
       "      <td>449.00</td>\n",
       "      <td>440.00</td>\n",
       "      <td>412</td>\n",
       "      <td>306.00</td>\n",
       "    </tr>\n",
       "    <tr>\n",
       "      <th>34</th>\n",
       "      <td>4.000000e+00</td>\n",
       "      <td>408.0</td>\n",
       "      <td>422.00</td>\n",
       "      <td>421.00</td>\n",
       "      <td>440.00</td>\n",
       "      <td>435.00</td>\n",
       "      <td>409</td>\n",
       "      <td>320.00</td>\n",
       "    </tr>\n",
       "    <tr>\n",
       "      <th>35</th>\n",
       "      <td>5.000000e+00</td>\n",
       "      <td>405.0</td>\n",
       "      <td>420.00</td>\n",
       "      <td>418.00</td>\n",
       "      <td>437.00</td>\n",
       "      <td>435.00</td>\n",
       "      <td>409</td>\n",
       "      <td>331.00</td>\n",
       "    </tr>\n",
       "    <tr>\n",
       "      <th>36</th>\n",
       "      <td>6.000000e+00</td>\n",
       "      <td>400.0</td>\n",
       "      <td>423.00</td>\n",
       "      <td>422.00</td>\n",
       "      <td>440.00</td>\n",
       "      <td>439.00</td>\n",
       "      <td>414</td>\n",
       "      <td>345.00</td>\n",
       "    </tr>\n",
       "    <tr>\n",
       "      <th>37</th>\n",
       "      <td>7.000000e+00</td>\n",
       "      <td>405.0</td>\n",
       "      <td>432.00</td>\n",
       "      <td>432.00</td>\n",
       "      <td>449.00</td>\n",
       "      <td>448.00</td>\n",
       "      <td>425</td>\n",
       "      <td>361.00</td>\n",
       "    </tr>\n",
       "    <tr>\n",
       "      <th>38</th>\n",
       "      <td>8.000000e+00</td>\n",
       "      <td>409.0</td>\n",
       "      <td>445.00</td>\n",
       "      <td>445.00</td>\n",
       "      <td>462.00</td>\n",
       "      <td>460.00</td>\n",
       "      <td>440</td>\n",
       "      <td>379.00</td>\n",
       "    </tr>\n",
       "    <tr>\n",
       "      <th>39</th>\n",
       "      <td>9.000000e+00</td>\n",
       "      <td>420.0</td>\n",
       "      <td>461.00</td>\n",
       "      <td>462.00</td>\n",
       "      <td>478.00</td>\n",
       "      <td>476.00</td>\n",
       "      <td>458</td>\n",
       "      <td>399.00</td>\n",
       "    </tr>\n",
       "    <tr>\n",
       "      <th>40</th>\n",
       "      <td>1.000000e+01</td>\n",
       "      <td>440.0</td>\n",
       "      <td>480.00</td>\n",
       "      <td>481.00</td>\n",
       "      <td>497.00</td>\n",
       "      <td>493.00</td>\n",
       "      <td>480</td>\n",
       "      <td>421.00</td>\n",
       "    </tr>\n",
       "    <tr>\n",
       "      <th>41</th>\n",
       "      <td>1.200000e+01</td>\n",
       "      <td>480.0</td>\n",
       "      <td>517.00</td>\n",
       "      <td>519.00</td>\n",
       "      <td>536.00</td>\n",
       "      <td>529.00</td>\n",
       "      <td>523</td>\n",
       "      <td>464.00</td>\n",
       "    </tr>\n",
       "    <tr>\n",
       "      <th>42</th>\n",
       "      <td>1.400000e+01</td>\n",
       "      <td>520.0</td>\n",
       "      <td>550.00</td>\n",
       "      <td>552.00</td>\n",
       "      <td>570.00</td>\n",
       "      <td>561.00</td>\n",
       "      <td>562</td>\n",
       "      <td>503.00</td>\n",
       "    </tr>\n",
       "    <tr>\n",
       "      <th>43</th>\n",
       "      <td>1.500000e+01</td>\n",
       "      <td>540.0</td>\n",
       "      <td>564.00</td>\n",
       "      <td>565.00</td>\n",
       "      <td>584.00</td>\n",
       "      <td>575.00</td>\n",
       "      <td>579</td>\n",
       "      <td>520.00</td>\n",
       "    </tr>\n",
       "    <tr>\n",
       "      <th>44</th>\n",
       "      <td>1.600000e+01</td>\n",
       "      <td>555.0</td>\n",
       "      <td>576.00</td>\n",
       "      <td>577.00</td>\n",
       "      <td>597.00</td>\n",
       "      <td>588.00</td>\n",
       "      <td>593</td>\n",
       "      <td>535.00</td>\n",
       "    </tr>\n",
       "    <tr>\n",
       "      <th>45</th>\n",
       "      <td>1.800000e+01</td>\n",
       "      <td>570.0</td>\n",
       "      <td>595.00</td>\n",
       "      <td>593.00</td>\n",
       "      <td>617.00</td>\n",
       "      <td>609.00</td>\n",
       "      <td>615</td>\n",
       "      <td>561.00</td>\n",
       "    </tr>\n",
       "    <tr>\n",
       "      <th>46</th>\n",
       "      <td>2.000000e+01</td>\n",
       "      <td>600.0</td>\n",
       "      <td>600.00</td>\n",
       "      <td>595.00</td>\n",
       "      <td>619.00</td>\n",
       "      <td>615.00</td>\n",
       "      <td>619</td>\n",
       "      <td>570.00</td>\n",
       "    </tr>\n",
       "    <tr>\n",
       "      <th>47</th>\n",
       "      <td>3.000000e+01</td>\n",
       "      <td>515.0</td>\n",
       "      <td>515.00</td>\n",
       "      <td>515.00</td>\n",
       "      <td>515.00</td>\n",
       "      <td>515.00</td>\n",
       "      <td>515.0</td>\n",
       "      <td>515.00</td>\n",
       "    </tr>\n",
       "    <tr>\n",
       "      <th>48</th>\n",
       "      <td>5.000000e+01</td>\n",
       "      <td>400.0</td>\n",
       "      <td>400.00</td>\n",
       "      <td>400.00</td>\n",
       "      <td>400.00</td>\n",
       "      <td>400.00</td>\n",
       "      <td>400.0</td>\n",
       "      <td>400.00</td>\n",
       "    </tr>\n",
       "    <tr>\n",
       "      <th>49</th>\n",
       "      <td>7.500000e+01</td>\n",
       "      <td>330.0</td>\n",
       "      <td>NaN</td>\n",
       "      <td>NaN</td>\n",
       "      <td>NaN</td>\n",
       "      <td>NaN</td>\n",
       "      <td>NaN</td>\n",
       "      <td>NaN</td>\n",
       "    </tr>\n",
       "    <tr>\n",
       "      <th>50</th>\n",
       "      <td>1.000000e+02</td>\n",
       "      <td>285.0</td>\n",
       "      <td>NaN</td>\n",
       "      <td>NaN</td>\n",
       "      <td>NaN</td>\n",
       "      <td>NaN</td>\n",
       "      <td>NaN</td>\n",
       "      <td>NaN</td>\n",
       "    </tr>\n",
       "    <tr>\n",
       "      <th>51</th>\n",
       "      <td>1.250000e+02</td>\n",
       "      <td>260.0</td>\n",
       "      <td>NaN</td>\n",
       "      <td>NaN</td>\n",
       "      <td>NaN</td>\n",
       "      <td>NaN</td>\n",
       "      <td>Blue: From ICRP74</td>\n",
       "      <td>NaN</td>\n",
       "    </tr>\n",
       "    <tr>\n",
       "      <th>52</th>\n",
       "      <td>1.500000e+02</td>\n",
       "      <td>245.0</td>\n",
       "      <td>NaN</td>\n",
       "      <td>NaN</td>\n",
       "      <td>NaN</td>\n",
       "      <td>NaN</td>\n",
       "      <td>Green: Linearly Interpolated from ICRP 74 data</td>\n",
       "      <td>NaN</td>\n",
       "    </tr>\n",
       "    <tr>\n",
       "      <th>53</th>\n",
       "      <td>1.750000e+02</td>\n",
       "      <td>250.0</td>\n",
       "      <td>NaN</td>\n",
       "      <td>NaN</td>\n",
       "      <td>NaN</td>\n",
       "      <td>NaN</td>\n",
       "      <td>Red: H*(10) values assumed</td>\n",
       "      <td>NaN</td>\n",
       "    </tr>\n",
       "    <tr>\n",
       "      <th>54</th>\n",
       "      <td>2.010000e+02</td>\n",
       "      <td>260.0</td>\n",
       "      <td>NaN</td>\n",
       "      <td>NaN</td>\n",
       "      <td>NaN</td>\n",
       "      <td>NaN</td>\n",
       "      <td>NaN</td>\n",
       "      <td>NaN</td>\n",
       "    </tr>\n",
       "  </tbody>\n",
       "</table>\n",
       "</div>"
      ],
      "text/plain": [
       "        En / MeV  H*(10) / pSv.cm2  Hp(10,0) / pSv.cm2  Hp(10,15) / pSv.cm2  \\\n",
       "0   1.000000e-09               6.6                8.19                 7.64   \n",
       "1   1.000000e-08               9.0                9.97                 9.35   \n",
       "2   2.530000e-08              10.6               11.40                10.60   \n",
       "3   1.000000e-07              12.9               12.60                11.70   \n",
       "4   2.000000e-07              13.5               13.50                12.60   \n",
       "5   5.000000e-07              13.6               14.20                13.50   \n",
       "6   1.000000e-06              13.3               14.40                13.90   \n",
       "7   2.000000e-06              12.9               14.30                14.00   \n",
       "8   5.000000e-06              12.0               13.80                13.90   \n",
       "9   1.000000e-05              11.3               13.20                13.40   \n",
       "10  2.000000e-05              10.6               12.40                12.60   \n",
       "11  5.000000e-05               9.9               11.20                11.20   \n",
       "12  1.000000e-04               9.4               10.30                 9.85   \n",
       "13  2.000000e-04               8.9                9.84                 9.41   \n",
       "14  5.000000e-04               8.3                9.34                 8.66   \n",
       "15  1.000000e-03               7.9                8.78                 8.20   \n",
       "16  2.000000e-03               7.7                8.72                 8.22   \n",
       "17  5.000000e-03               8.0                9.36                 8.79   \n",
       "18  1.000000e-02              10.5               11.20                10.80   \n",
       "19  2.000000e-02              16.6               17.10                17.00   \n",
       "20  3.000000e-02              23.0               24.90                24.10   \n",
       "21  5.000000e-02              41.1               39.00                36.00   \n",
       "22  7.000000e-02              60.0               59.00                55.80   \n",
       "23  1.000000e-01              88.0               90.60                87.80   \n",
       "24  1.500000e-01             132.0              139.00               137.00   \n",
       "25  2.000000e-01             170.0              180.00               179.00   \n",
       "26  3.000000e-01             233.0              246.00               244.00   \n",
       "27  5.000000e-01             322.0              335.00               330.00   \n",
       "28  7.000000e-01             375.0              386.00               379.00   \n",
       "29  9.000000e-01             400.0              414.00               407.00   \n",
       "30  1.000000e+00             416.0              422.00               416.00   \n",
       "31  1.200000e+00             425.0              433.00               427.00   \n",
       "32  2.000000e+00             420.0              442.00               438.00   \n",
       "33  3.000000e+00             412.0              431.00               429.00   \n",
       "34  4.000000e+00             408.0              422.00               421.00   \n",
       "35  5.000000e+00             405.0              420.00               418.00   \n",
       "36  6.000000e+00             400.0              423.00               422.00   \n",
       "37  7.000000e+00             405.0              432.00               432.00   \n",
       "38  8.000000e+00             409.0              445.00               445.00   \n",
       "39  9.000000e+00             420.0              461.00               462.00   \n",
       "40  1.000000e+01             440.0              480.00               481.00   \n",
       "41  1.200000e+01             480.0              517.00               519.00   \n",
       "42  1.400000e+01             520.0              550.00               552.00   \n",
       "43  1.500000e+01             540.0              564.00               565.00   \n",
       "44  1.600000e+01             555.0              576.00               577.00   \n",
       "45  1.800000e+01             570.0              595.00               593.00   \n",
       "46  2.000000e+01             600.0              600.00               595.00   \n",
       "47  3.000000e+01             515.0              515.00               515.00   \n",
       "48  5.000000e+01             400.0              400.00               400.00   \n",
       "49  7.500000e+01             330.0                 NaN                  NaN   \n",
       "50  1.000000e+02             285.0                 NaN                  NaN   \n",
       "51  1.250000e+02             260.0                 NaN                  NaN   \n",
       "52  1.500000e+02             245.0                 NaN                  NaN   \n",
       "53  1.750000e+02             250.0                 NaN                  NaN   \n",
       "54  2.010000e+02             260.0                 NaN                  NaN   \n",
       "\n",
       "    Hp(10,30) / pSv.cm2  Hp(10,45) / pSv.cm2  \\\n",
       "0                  6.57                 4.23   \n",
       "1                  7.90                 5.38   \n",
       "2                  9.11                 6.61   \n",
       "3                 10.30                 7.84   \n",
       "4                 11.10                 8.73   \n",
       "5                 11.80                 9.40   \n",
       "6                 12.00                 9.56   \n",
       "7                 11.90                 9.49   \n",
       "8                 11.50                 9.11   \n",
       "9                 11.00                 8.65   \n",
       "10                10.40                 8.10   \n",
       "11                 9.42                 7.32   \n",
       "12                 8.64                 6.74   \n",
       "13                 8.22                 6.21   \n",
       "14                 7.66                 5.67   \n",
       "15                 7.29                 5.43   \n",
       "16                 7.27                 5.43   \n",
       "17                 7.46                 5.71   \n",
       "18                 9.18                 7.09   \n",
       "19                14.60                11.60   \n",
       "20                21.30                16.70   \n",
       "21                34.40                27.50   \n",
       "22                52.60                42.90   \n",
       "23                81.30                67.10   \n",
       "24               126.00               106.00   \n",
       "25               166.00               141.00   \n",
       "26               232.00               201.00   \n",
       "27               326.00               291.00   \n",
       "28               382.00               348.00   \n",
       "29               415.00               383.00   \n",
       "30               426.00               395.00   \n",
       "31               440.00               412.00   \n",
       "32               457.00               439.00   \n",
       "33               449.00               440.00   \n",
       "34               440.00               435.00   \n",
       "35               437.00               435.00   \n",
       "36               440.00               439.00   \n",
       "37               449.00               448.00   \n",
       "38               462.00               460.00   \n",
       "39               478.00               476.00   \n",
       "40               497.00               493.00   \n",
       "41               536.00               529.00   \n",
       "42               570.00               561.00   \n",
       "43               584.00               575.00   \n",
       "44               597.00               588.00   \n",
       "45               617.00               609.00   \n",
       "46               619.00               615.00   \n",
       "47               515.00               515.00   \n",
       "48               400.00               400.00   \n",
       "49                  NaN                  NaN   \n",
       "50                  NaN                  NaN   \n",
       "51                  NaN                  NaN   \n",
       "52                  NaN                  NaN   \n",
       "53                  NaN                  NaN   \n",
       "54                  NaN                  NaN   \n",
       "\n",
       "                               Hp(10,60) / pSv.cm2  Hp(10,75) / pSv.cm2  \n",
       "0                                             2.61                 1.13  \n",
       "1                                             3.37                 1.50  \n",
       "2                                             4.04                 1.73  \n",
       "3                                              4.7                 1.94  \n",
       "4                                             5.21                 2.12  \n",
       "5                                             5.65                 2.31  \n",
       "6                                             5.82                 2.40  \n",
       "7                                             5.85                 2.46  \n",
       "8                                             5.71                 2.48  \n",
       "9                                             5.47                 2.44  \n",
       "10                                            5.14                 2.35  \n",
       "11                                            4.57                 2.16  \n",
       "12                                             4.1                 1.99  \n",
       "13                                            3.91                 1.83  \n",
       "14                                            3.58                 1.68  \n",
       "15                                            3.46                 1.66  \n",
       "16                                            3.46                 1.67  \n",
       "17                                            3.59                 1.69  \n",
       "18                                            4.32                 1.77  \n",
       "19                                            6.64                 2.11  \n",
       "20                                            9.81                 2.85  \n",
       "21                                            16.7                 4.78  \n",
       "22                                            27.3                 8.10  \n",
       "23                                            44.6                13.70  \n",
       "24                                            73.3                24.20  \n",
       "25                                             100                35.50  \n",
       "26                                             149                58.50  \n",
       "27                                             226               102.00  \n",
       "28                                             279               139.00  \n",
       "29                                             317               171.00  \n",
       "30                                             332               180.00  \n",
       "31                                             355               210.00  \n",
       "32                                             402               274.00  \n",
       "33                                             412               306.00  \n",
       "34                                             409               320.00  \n",
       "35                                             409               331.00  \n",
       "36                                             414               345.00  \n",
       "37                                             425               361.00  \n",
       "38                                             440               379.00  \n",
       "39                                             458               399.00  \n",
       "40                                             480               421.00  \n",
       "41                                             523               464.00  \n",
       "42                                             562               503.00  \n",
       "43                                             579               520.00  \n",
       "44                                             593               535.00  \n",
       "45                                             615               561.00  \n",
       "46                                             619               570.00  \n",
       "47                                           515.0               515.00  \n",
       "48                                           400.0               400.00  \n",
       "49                                             NaN                  NaN  \n",
       "50                                             NaN                  NaN  \n",
       "51                               Blue: From ICRP74                  NaN  \n",
       "52  Green: Linearly Interpolated from ICRP 74 data                  NaN  \n",
       "53                      Red: H*(10) values assumed                  NaN  \n",
       "54                                             NaN                  NaN  "
      ]
     },
     "execution_count": 96,
     "metadata": {},
     "output_type": "execute_result"
    }
   ],
   "source": [
    "dose_eq_curves"
   ]
  },
  {
   "cell_type": "code",
   "execution_count": 91,
   "id": "45e0587a",
   "metadata": {},
   "outputs": [
    {
     "data": {
      "text/html": [
       "<div>\n",
       "<style scoped>\n",
       "    .dataframe tbody tr th:only-of-type {\n",
       "        vertical-align: middle;\n",
       "    }\n",
       "\n",
       "    .dataframe tbody tr th {\n",
       "        vertical-align: top;\n",
       "    }\n",
       "\n",
       "    .dataframe thead th {\n",
       "        text-align: right;\n",
       "    }\n",
       "</style>\n",
       "<table border=\"1\" class=\"dataframe\">\n",
       "  <thead>\n",
       "    <tr style=\"text-align: right;\">\n",
       "      <th></th>\n",
       "      <th>Energy / MeV</th>\n",
       "      <th>AP</th>\n",
       "      <th>PA</th>\n",
       "      <th>LLAT</th>\n",
       "      <th>RLAT</th>\n",
       "      <th>ROT</th>\n",
       "      <th>ISO</th>\n",
       "    </tr>\n",
       "  </thead>\n",
       "  <tbody>\n",
       "    <tr>\n",
       "      <th>0</th>\n",
       "      <td>1.000000e-09</td>\n",
       "      <td>3.09</td>\n",
       "      <td>1.85</td>\n",
       "      <td>1.04</td>\n",
       "      <td>0.893</td>\n",
       "      <td>1.70</td>\n",
       "      <td>1.29</td>\n",
       "    </tr>\n",
       "    <tr>\n",
       "      <th>1</th>\n",
       "      <td>1.000000e-08</td>\n",
       "      <td>3.55</td>\n",
       "      <td>2.11</td>\n",
       "      <td>1.15</td>\n",
       "      <td>0.978</td>\n",
       "      <td>2.03</td>\n",
       "      <td>1.56</td>\n",
       "    </tr>\n",
       "    <tr>\n",
       "      <th>2</th>\n",
       "      <td>2.500000e-08</td>\n",
       "      <td>4.00</td>\n",
       "      <td>2.44</td>\n",
       "      <td>1.32</td>\n",
       "      <td>1.120</td>\n",
       "      <td>2.31</td>\n",
       "      <td>1.76</td>\n",
       "    </tr>\n",
       "    <tr>\n",
       "      <th>3</th>\n",
       "      <td>1.000000e-07</td>\n",
       "      <td>5.20</td>\n",
       "      <td>3.25</td>\n",
       "      <td>1.70</td>\n",
       "      <td>1.420</td>\n",
       "      <td>2.98</td>\n",
       "      <td>2.26</td>\n",
       "    </tr>\n",
       "    <tr>\n",
       "      <th>4</th>\n",
       "      <td>2.000000e-07</td>\n",
       "      <td>5.87</td>\n",
       "      <td>3.72</td>\n",
       "      <td>1.94</td>\n",
       "      <td>1.630</td>\n",
       "      <td>3.36</td>\n",
       "      <td>2.54</td>\n",
       "    </tr>\n",
       "    <tr>\n",
       "      <th>...</th>\n",
       "      <td>...</td>\n",
       "      <td>...</td>\n",
       "      <td>...</td>\n",
       "      <td>...</td>\n",
       "      <td>...</td>\n",
       "      <td>...</td>\n",
       "      <td>...</td>\n",
       "    </tr>\n",
       "    <tr>\n",
       "      <th>63</th>\n",
       "      <td>9.000000e+02</td>\n",
       "      <td>524.00</td>\n",
       "      <td>640.00</td>\n",
       "      <td>621.00</td>\n",
       "      <td>638.000</td>\n",
       "      <td>598.00</td>\n",
       "      <td>624.00</td>\n",
       "    </tr>\n",
       "    <tr>\n",
       "      <th>64</th>\n",
       "      <td>1.000000e+03</td>\n",
       "      <td>537.00</td>\n",
       "      <td>654.00</td>\n",
       "      <td>635.00</td>\n",
       "      <td>651.000</td>\n",
       "      <td>614.00</td>\n",
       "      <td>642.00</td>\n",
       "    </tr>\n",
       "    <tr>\n",
       "      <th>65</th>\n",
       "      <td>2.000000e+03</td>\n",
       "      <td>612.00</td>\n",
       "      <td>740.00</td>\n",
       "      <td>730.00</td>\n",
       "      <td>747.000</td>\n",
       "      <td>718.00</td>\n",
       "      <td>767.00</td>\n",
       "    </tr>\n",
       "    <tr>\n",
       "      <th>66</th>\n",
       "      <td>5.000000e+03</td>\n",
       "      <td>716.00</td>\n",
       "      <td>924.00</td>\n",
       "      <td>963.00</td>\n",
       "      <td>979.000</td>\n",
       "      <td>906.00</td>\n",
       "      <td>1010.00</td>\n",
       "    </tr>\n",
       "    <tr>\n",
       "      <th>67</th>\n",
       "      <td>1.000000e+04</td>\n",
       "      <td>933.00</td>\n",
       "      <td>1170.00</td>\n",
       "      <td>1230.00</td>\n",
       "      <td>1260.000</td>\n",
       "      <td>1140.00</td>\n",
       "      <td>1320.00</td>\n",
       "    </tr>\n",
       "  </tbody>\n",
       "</table>\n",
       "<p>68 rows × 7 columns</p>\n",
       "</div>"
      ],
      "text/plain": [
       "    Energy / MeV      AP       PA     LLAT      RLAT      ROT      ISO\n",
       "0   1.000000e-09    3.09     1.85     1.04     0.893     1.70     1.29\n",
       "1   1.000000e-08    3.55     2.11     1.15     0.978     2.03     1.56\n",
       "2   2.500000e-08    4.00     2.44     1.32     1.120     2.31     1.76\n",
       "3   1.000000e-07    5.20     3.25     1.70     1.420     2.98     2.26\n",
       "4   2.000000e-07    5.87     3.72     1.94     1.630     3.36     2.54\n",
       "..           ...     ...      ...      ...       ...      ...      ...\n",
       "63  9.000000e+02  524.00   640.00   621.00   638.000   598.00   624.00\n",
       "64  1.000000e+03  537.00   654.00   635.00   651.000   614.00   642.00\n",
       "65  2.000000e+03  612.00   740.00   730.00   747.000   718.00   767.00\n",
       "66  5.000000e+03  716.00   924.00   963.00   979.000   906.00  1010.00\n",
       "67  1.000000e+04  933.00  1170.00  1230.00  1260.000  1140.00  1320.00\n",
       "\n",
       "[68 rows x 7 columns]"
      ]
     },
     "execution_count": 91,
     "metadata": {},
     "output_type": "execute_result"
    }
   ],
   "source": [
    "dose_curve"
   ]
  },
  {
   "cell_type": "code",
   "execution_count": 26,
   "id": "ca9ea853",
   "metadata": {},
   "outputs": [],
   "source": [
    "CfYield = np.load('/home/nr1315/Documents/Project/MachineLearning/Cf252Yield.npy')"
   ]
  },
  {
   "cell_type": "code",
   "execution_count": 27,
   "id": "15816885",
   "metadata": {},
   "outputs": [],
   "source": [
    "Cf = np.load(testing_data_dir+'/'+Cf_target)"
   ]
  },
  {
   "cell_type": "code",
   "execution_count": 29,
   "id": "8e7f92fb",
   "metadata": {},
   "outputs": [
    {
     "data": {
      "text/plain": [
       "array([0.        , 0.08459375, 0.1333125 , 0.22817187, 0.39896875,\n",
       "       0.152625  , 0.00232812, 0.        ])"
      ]
     },
     "execution_count": 29,
     "metadata": {},
     "output_type": "execute_result"
    }
   ],
   "source": []
  },
  {
   "cell_type": "code",
   "execution_count": 43,
   "id": "7dbe7509",
   "metadata": {},
   "outputs": [
    {
     "data": {
      "text/plain": [
       "Text(0.5, 1.0, '$^{252}$Cf')"
      ]
     },
     "execution_count": 43,
     "metadata": {},
     "output_type": "execute_result"
    }
   ],
   "source": [
    "plt.bar(centres,Cf/Cf.sum(),width=np.diff(bins),alpha=0.3,edgecolor='black')\n",
    "plt.xscale('log')\n",
    "plt.xlabel('Energy / MeV',fontsize=28)\n",
    "plt.ylabel('Relative count',fontsize=28)\n",
    "plt.tick_params(axis='both',labelsize=20)\n",
    "plt.title(r'$^{252}$Cf',fontsize=32)"
   ]
  },
  {
   "cell_type": "code",
   "execution_count": 44,
   "id": "54731fde",
   "metadata": {},
   "outputs": [],
   "source": [
    "plt.plot(CfYield[0],CfYield[1])\n",
    "plt.xscale('log')\n",
    "plt.xlabel('Energy / MeV',fontsize=28)\n",
    "plt.ylabel('Relative yield',fontsize=28)\n",
    "plt.tick_params(axis='both',labelsize=20)\n",
    "plt.title(r'$^{252}$Cf',fontsize=32)\n",
    "plt.xscale('log')"
   ]
  },
  {
   "cell_type": "code",
   "execution_count": 14,
   "id": "d858899f",
   "metadata": {},
   "outputs": [
    {
     "data": {
      "text/plain": [
       "(1e-08, 100.0)"
      ]
     },
     "execution_count": 14,
     "metadata": {},
     "output_type": "execute_result"
    }
   ],
   "source": [
    "AmBe = np.load(testing_data_dir+'/'+AmBe_target)\n",
    "AmBe = AmBe/np.sum(AmBe)\n",
    "centres = bins[:-1]+np.diff(bins)/2\n",
    "\n",
    "fig = plt.figure()\n",
    "ax = fig.add_subplot(111)\n",
    "\n",
    "es = np.logspace(-9,4,1000)\n",
    "ax.plot(es,ap_dose(es),label='ICRP116-AP',linewidth=3,zorder=1)\n",
    "ax.plot(es,pa_dose(es),label='ICRP116-PA',linewidth=3,zorder=1)\n",
    "ax.plot(es,llat_dose(es),label='ICRP116-LLAT',linewidth=3,zorder=1,color='C3')\n",
    "ax.plot(es,rlat_dose(es),label='IRCP116-RLAT',linewidth=3,zorder=1,color='C4')\n",
    "\n",
    "ax.plot(dose_eq_curves['En / MeV'],dose_eq_curves['H*(10) / pSv.cm2'],label='IRCP74-H*(10)',linewidth=3,zorder=1,linestyle='--',color='C2')\n",
    "\n",
    "#ax.bar(centres,doses['ap'],width=np.diff(bins),alpha=0.3,color='xkcd:deep blue',zorder=2,label='AP bin average')\n",
    "#ax.scatter(centres,doses['pa'],color='xkcd:burnt orange',zorder=2,label='PA bin average')\n",
    "#ax.scatter(centres,doses['llat'],color='xkcd:forest green',zorder=2,label = 'LLAT bin average')\n",
    "#ax.scatter(centres,doses['rlat'],color='xkcd:brick red',zorder=2,label = 'RLAT bin average')\n",
    "ax.set_xscale('log')\n",
    "ax.set_yscale('log')\n",
    "#ax2 = ax.twinx()\n",
    "#ax2.bar(centres,np.ones(len(centres)),width=np.diff(bins),alpha=0.3,edgecolor='black',color='white')\n",
    "#ax.set_xlim(bins[0],bins[-1])\n",
    "\n",
    "#ax2.set_yticks([])\n",
    "#ax.set_ylim(0,600)\n",
    "#ax2.set_ylim(0,1)\n",
    "ax.legend(loc='upper left',fontsize=22)\n",
    "ax.set_title('ICRP dose conversion coefficients',fontsize=32)\n",
    "ax.set_ylabel(r'Dose per fluence / pSv cm$^2$',fontsize=22)\n",
    "ax.set_xlabel('Energy / MeV',fontsize=22)\n",
    "ax.tick_params(axis='both',labelsize=18)\n",
    "ax.set_xlim(1e-8,1e2)"
   ]
  },
  {
   "cell_type": "code",
   "execution_count": 13,
   "id": "0671a5ae",
   "metadata": {},
   "outputs": [],
   "source": [
    "check2 = NNPL.CheckTrainData(nn76_152_76_38_8,nn76_152_76_38_8_dloader.dataset.dataset,bins)"
   ]
  },
  {
   "cell_type": "code",
   "execution_count": null,
   "id": "e5a94edd",
   "metadata": {},
   "outputs": [],
   "source": [
    "check2.ViewTrainData()"
   ]
  },
  {
   "cell_type": "code",
   "execution_count": null,
   "id": "767e6d74",
   "metadata": {},
   "outputs": [],
   "source": []
  },
  {
   "cell_type": "code",
   "execution_count": null,
   "id": "78f224b9",
   "metadata": {},
   "outputs": [],
   "source": []
  },
  {
   "cell_type": "markdown",
   "id": "94f4618d",
   "metadata": {},
   "source": [
    "Define bin dose coefficients as \n",
    "\n",
    "$$D_{bin}(i) = \\frac{\\int_i D(E) dE}{\\Delta E_i}$$\n",
    "\n",
    "$$D_{binned} = \\sum_i c_i D_{bin}(i), $$\n",
    "where c_i denotes the count in bin *i*, D(E) denotes the dose coefficients as a function of energy, and $\\Delta E_i$ denotes the width in energy of bin *i*. For dose per fluence, these counts $c_i$ should be normalised such that $\\sum_i c_i = 1$. \n",
    "\n",
    "The true dose per fluence is found by integrating the product of the dose curve and the source distribution over the total energy range, given as\n",
    "\n",
    "$$D_{true} = \\int_0^\\infty f(E) D(E) dE, $$\n",
    "where f(E) is the true source distribution as a function of energy. This distribution is normalised such that $\\int_0^\\infty f(E) dE = 1.$ \n",
    "\n",
    "The neural network prediction for dose is a function of the training inputs and targets $\\textbf{x}$ and $\\textbf{y}$, the test input $\\textbf{x}^{*}$, and the integrated dose coefficients $D_{bin}(i)$. This can be written as \n",
    "\n",
    "$$D_{pred} = \\Sigma_i N_i(x^{*}_i, \\textbf{x}, \\textbf{y}) \\times D_{bin}(i),$$\n",
    "\n",
    "where N is a function that represents the operation of the neural network and $x^{*}_i$ denotes the component of $\\textbf{x}^{*}$ in bin $i$."
   ]
  }
 ],
 "metadata": {
  "kernelspec": {
   "display_name": "Python 3 (ipykernel)",
   "language": "python",
   "name": "python3"
  },
  "language_info": {
   "codemirror_mode": {
    "name": "ipython",
    "version": 3
   },
   "file_extension": ".py",
   "mimetype": "text/x-python",
   "name": "python",
   "nbconvert_exporter": "python",
   "pygments_lexer": "ipython3",
   "version": "3.7.6"
  }
 },
 "nbformat": 4,
 "nbformat_minor": 5
}
