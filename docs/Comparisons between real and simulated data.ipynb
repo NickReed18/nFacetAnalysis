{
 "cells": [
  {
   "cell_type": "markdown",
   "id": "a5194306",
   "metadata": {},
   "source": [
    "# Comparisons between real and simulated data\n",
    "\n",
    "In order to assess the efficiency of the detector, a number of monoenergetic sources were simulated in a no scattering environment in order to calculate a simulated efficiency of capture on $^{6}$Li:ZnS. This data was then compared with real data taken at NPL, with known incident fluence, to ensure that the simulated efficiency is consistent with a real efficiency. \n",
    "\n",
    "Initially there was a discrepancy between the simulated efficiency and the real efficiency that was inconsistent between the 144 keV and 1.2 MeV measurements at NPL; the real efficiency at 144 keV was ~10% less than the simulated efficiency at the same energy, whereas the 1.2 MeV real efficiency was consistent with the simulated efficiency at that energy within 1$\\sigma$. This can be seen in Figure 1, below."
   ]
  },
  {
   "cell_type": "markdown",
   "id": "aa2ed6ad",
   "metadata": {},
   "source": [
    "![Old efficiency](Plots/Cap_efficiency_new.png)\n",
    "**Figure 1**: Original capture efficiency plot. Issues with "
   ]
  },
  {
   "cell_type": "code",
   "execution_count": null,
   "id": "db4435c4",
   "metadata": {},
   "outputs": [],
   "source": []
  }
 ],
 "metadata": {
  "kernelspec": {
   "display_name": "Python 3 (ipykernel)",
   "language": "python",
   "name": "python3"
  },
  "language_info": {
   "codemirror_mode": {
    "name": "ipython",
    "version": 3
   },
   "file_extension": ".py",
   "mimetype": "text/x-python",
   "name": "python",
   "nbconvert_exporter": "python",
   "pygments_lexer": "ipython3",
   "version": "3.7.6"
  }
 },
 "nbformat": 4,
 "nbformat_minor": 5
}
