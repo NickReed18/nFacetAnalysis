{
 "cells": [
  {
   "cell_type": "markdown",
   "id": "21d6a87c",
   "metadata": {},
   "source": [
    "# Comparisons between real and simulated data\n",
    "\n",
    "In order to assess the efficiency of the detector, a number of monoenergetic sources were simulated in order to calculate efficiencies of capture and scattering efficiencies as a function of energy. This analysis was also performed using $^{252}$Cf, AmBe and AmLi. Real data from NPL measurements is also used to calculate an real efficiency for comparison at 144 keV and 1.2 MeV. "
   ]
  },
  {
   "cell_type": "code",
   "execution_count": 3,
   "id": "7f7d397b",
   "metadata": {},
   "outputs": [],
   "source": [
    "import SimEfficiency as SE\n",
    "import os\n",
    "import numpy as np\n",
    "import pandas as pd\n",
    "import matplotlib.pyplot as plt\n",
    "import RealVsSim as RVS\n",
    "%matplotlib tk\n",
    "\n",
    "from mpl_toolkits.mplot3d import Axes3D\n",
    "import matplotlib.colors as colors\n",
    "import matplotlib.cm as cm"
   ]
  },
  {
   "cell_type": "code",
   "execution_count": 7,
   "id": "466c9021",
   "metadata": {},
   "outputs": [
    {
     "ename": "KeyboardInterrupt",
     "evalue": "",
     "output_type": "error",
     "traceback": [
      "\u001b[0;31m---------------------------------------------------------------------------\u001b[0m",
      "\u001b[0;31mKeyboardInterrupt\u001b[0m                         Traceback (most recent call last)",
      "\u001b[0;32m/tmp/ipykernel_4249/233305957.py\u001b[0m in \u001b[0;36m<module>\u001b[0;34m\u001b[0m\n\u001b[1;32m      3\u001b[0m \u001b[0mos\u001b[0m\u001b[0;34m.\u001b[0m\u001b[0mchdir\u001b[0m\u001b[0;34m(\u001b[0m\u001b[0mmonos_path\u001b[0m\u001b[0;34m)\u001b[0m\u001b[0;34m\u001b[0m\u001b[0;34m\u001b[0m\u001b[0m\n\u001b[1;32m      4\u001b[0m \u001b[0;34m\u001b[0m\u001b[0m\n\u001b[0;32m----> 5\u001b[0;31m \u001b[0meffs\u001b[0m\u001b[0;34m,\u001b[0m \u001b[0merrs\u001b[0m\u001b[0;34m,\u001b[0m \u001b[0mstds\u001b[0m\u001b[0;34m,\u001b[0m \u001b[0mcap_lens\u001b[0m\u001b[0;34m,\u001b[0m \u001b[0mdf_lens\u001b[0m \u001b[0;34m=\u001b[0m \u001b[0mSE\u001b[0m\u001b[0;34m.\u001b[0m\u001b[0mGenerateEfficiencyDataFrame\u001b[0m\u001b[0;34m(\u001b[0m\u001b[0mmonos_path\u001b[0m\u001b[0;34m)\u001b[0m\u001b[0;34m\u001b[0m\u001b[0;34m\u001b[0m\u001b[0m\n\u001b[0m\u001b[1;32m      6\u001b[0m \u001b[0;34m\u001b[0m\u001b[0m\n\u001b[1;32m      7\u001b[0m \u001b[0mefficiencies_noscatter\u001b[0m \u001b[0;34m=\u001b[0m \u001b[0mpd\u001b[0m\u001b[0;34m.\u001b[0m\u001b[0mDataFrame\u001b[0m\u001b[0;34m.\u001b[0m\u001b[0mfrom_dict\u001b[0m\u001b[0;34m(\u001b[0m\u001b[0meffs\u001b[0m\u001b[0;34m,\u001b[0m\u001b[0morient\u001b[0m\u001b[0;34m=\u001b[0m\u001b[0;34m'index'\u001b[0m\u001b[0;34m)\u001b[0m\u001b[0;34m\u001b[0m\u001b[0;34m\u001b[0m\u001b[0m\n",
      "\u001b[0;32m~/Documents/Project/Simulations/SimRepo/tools/SimEfficiency.py\u001b[0m in \u001b[0;36mGenerateEfficiencyDataFrame\u001b[0;34m(folder)\u001b[0m\n\u001b[1;32m     97\u001b[0m     \u001b[0;32mfor\u001b[0m \u001b[0mf\u001b[0m \u001b[0;32min\u001b[0m \u001b[0mfiles\u001b[0m\u001b[0;34m:\u001b[0m\u001b[0;34m\u001b[0m\u001b[0;34m\u001b[0m\u001b[0m\n\u001b[1;32m     98\u001b[0m         \u001b[0;32mif\u001b[0m \u001b[0;34m(\u001b[0m\u001b[0mf\u001b[0m\u001b[0;34m[\u001b[0m\u001b[0;34m-\u001b[0m\u001b[0;36m4\u001b[0m\u001b[0;34m:\u001b[0m\u001b[0;34m]\u001b[0m\u001b[0;34m==\u001b[0m\u001b[0;34m'V.h5'\u001b[0m\u001b[0;34m)\u001b[0m\u001b[0;34m|\u001b[0m\u001b[0;34m(\u001b[0m\u001b[0mf\u001b[0m\u001b[0;34m[\u001b[0m\u001b[0;34m-\u001b[0m\u001b[0;36m4\u001b[0m\u001b[0;34m:\u001b[0m\u001b[0;34m]\u001b[0m\u001b[0;34m==\u001b[0m\u001b[0;34m'v.h5'\u001b[0m\u001b[0;34m)\u001b[0m\u001b[0;34m:\u001b[0m\u001b[0;34m\u001b[0m\u001b[0;34m\u001b[0m\u001b[0m\n\u001b[0;32m---> 99\u001b[0;31m             \u001b[0menergy\u001b[0m\u001b[0;34m,\u001b[0m \u001b[0meff\u001b[0m\u001b[0;34m,\u001b[0m \u001b[0meff_err\u001b[0m\u001b[0;34m,\u001b[0m\u001b[0m_\u001b[0m\u001b[0;34m,\u001b[0m\u001b[0mcap_len\u001b[0m\u001b[0;34m,\u001b[0m\u001b[0mdf_len\u001b[0m \u001b[0;34m=\u001b[0m \u001b[0mcalc_efficiency\u001b[0m\u001b[0;34m(\u001b[0m\u001b[0mf\u001b[0m\u001b[0;34m)\u001b[0m\u001b[0;34m\u001b[0m\u001b[0;34m\u001b[0m\u001b[0m\n\u001b[0m\u001b[1;32m    100\u001b[0m             \u001b[0meffs\u001b[0m\u001b[0;34m[\u001b[0m\u001b[0menergy\u001b[0m\u001b[0;34m]\u001b[0m \u001b[0;34m=\u001b[0m \u001b[0meff\u001b[0m\u001b[0;34m\u001b[0m\u001b[0;34m\u001b[0m\u001b[0m\n\u001b[1;32m    101\u001b[0m             \u001b[0meffs_errs\u001b[0m\u001b[0;34m[\u001b[0m\u001b[0menergy\u001b[0m\u001b[0;34m]\u001b[0m \u001b[0;34m=\u001b[0m \u001b[0meff_err\u001b[0m\u001b[0;34m\u001b[0m\u001b[0;34m\u001b[0m\u001b[0m\n",
      "\u001b[0;32m~/Documents/Project/Simulations/SimRepo/tools/SimEfficiency.py\u001b[0m in \u001b[0;36mcalc_efficiency\u001b[0;34m(dfile)\u001b[0m\n\u001b[1;32m      7\u001b[0m     \u001b[0mdf\u001b[0m\u001b[0;34m.\u001b[0m\u001b[0mreset_index\u001b[0m\u001b[0;34m(\u001b[0m\u001b[0minplace\u001b[0m\u001b[0;34m=\u001b[0m\u001b[0;32mTrue\u001b[0m\u001b[0;34m,\u001b[0m\u001b[0mdrop\u001b[0m\u001b[0;34m=\u001b[0m\u001b[0;32mTrue\u001b[0m\u001b[0;34m)\u001b[0m\u001b[0;34m\u001b[0m\u001b[0;34m\u001b[0m\u001b[0m\n\u001b[1;32m      8\u001b[0m     \u001b[0mexp\u001b[0m\u001b[0;34m=\u001b[0m\u001b[0mpd\u001b[0m\u001b[0;34m.\u001b[0m\u001b[0mconcat\u001b[0m\u001b[0;34m(\u001b[0m\u001b[0;34m[\u001b[0m\u001b[0mdf\u001b[0m\u001b[0;34m[\u001b[0m\u001b[0;34m'pdg'\u001b[0m\u001b[0;34m]\u001b[0m\u001b[0;34m.\u001b[0m\u001b[0mexplode\u001b[0m\u001b[0;34m(\u001b[0m\u001b[0;34m)\u001b[0m\u001b[0;34m,\u001b[0m\u001b[0mdf\u001b[0m\u001b[0;34m.\u001b[0m\u001b[0mloc\u001b[0m\u001b[0;34m[\u001b[0m\u001b[0;34m:\u001b[0m\u001b[0;34m,\u001b[0m\u001b[0;34m[\u001b[0m\u001b[0;34m'cubeid'\u001b[0m\u001b[0;34m,\u001b[0m\u001b[0;34m'CapCube'\u001b[0m\u001b[0;34m]\u001b[0m\u001b[0;34m]\u001b[0m\u001b[0;34m.\u001b[0m\u001b[0mexplode\u001b[0m\u001b[0;34m(\u001b[0m\u001b[0;34m'cubeid'\u001b[0m\u001b[0;34m)\u001b[0m\u001b[0;34m]\u001b[0m\u001b[0;34m,\u001b[0m\u001b[0maxis\u001b[0m\u001b[0;34m=\u001b[0m\u001b[0;36m1\u001b[0m\u001b[0;34m)\u001b[0m\u001b[0;34m\u001b[0m\u001b[0;34m\u001b[0m\u001b[0m\n\u001b[0;32m----> 9\u001b[0;31m     \u001b[0meve\u001b[0m \u001b[0;34m=\u001b[0m \u001b[0mexp\u001b[0m\u001b[0;34m.\u001b[0m\u001b[0mloc\u001b[0m\u001b[0;34m[\u001b[0m\u001b[0mexp\u001b[0m\u001b[0;34m.\u001b[0m\u001b[0mgroupby\u001b[0m\u001b[0;34m(\u001b[0m\u001b[0mexp\u001b[0m\u001b[0;34m.\u001b[0m\u001b[0mindex\u001b[0m\u001b[0;34m)\u001b[0m\u001b[0;34m[\u001b[0m\u001b[0;34m'pdg'\u001b[0m\u001b[0;34m]\u001b[0m\u001b[0;34m.\u001b[0m\u001b[0mcount\u001b[0m\u001b[0;34m(\u001b[0m\u001b[0;34m)\u001b[0m\u001b[0;34m>\u001b[0m\u001b[0;36m1\u001b[0m\u001b[0;34m]\u001b[0m\u001b[0;34m\u001b[0m\u001b[0;34m\u001b[0m\u001b[0m\n\u001b[0m\u001b[1;32m     10\u001b[0m     \u001b[0meve\u001b[0m\u001b[0;34m[\u001b[0m\u001b[0;34m'pdg_diff'\u001b[0m\u001b[0;34m]\u001b[0m \u001b[0;34m=\u001b[0m \u001b[0meve\u001b[0m\u001b[0;34m.\u001b[0m\u001b[0mloc\u001b[0m\u001b[0;34m[\u001b[0m\u001b[0;34m:\u001b[0m\u001b[0;34m,\u001b[0m\u001b[0;34m'pdg'\u001b[0m\u001b[0;34m]\u001b[0m\u001b[0;34m.\u001b[0m\u001b[0mdiff\u001b[0m\u001b[0;34m(\u001b[0m\u001b[0;34m)\u001b[0m\u001b[0;34m\u001b[0m\u001b[0;34m\u001b[0m\u001b[0m\n\u001b[1;32m     11\u001b[0m     \u001b[0mdiff\u001b[0m \u001b[0;34m=\u001b[0m \u001b[0;34m(\u001b[0m\u001b[0;36m1000010030\u001b[0m \u001b[0;34m-\u001b[0m \u001b[0;36m1000020040\u001b[0m\u001b[0;34m)\u001b[0m\u001b[0;34m\u001b[0m\u001b[0;34m\u001b[0m\u001b[0m\n",
      "\u001b[0;32m~/miniconda3/lib/python3.7/site-packages/pandas/core/groupby/generic.py\u001b[0m in \u001b[0;36mcount\u001b[0;34m(self)\u001b[0m\n\u001b[1;32m    842\u001b[0m         \u001b[0mval\u001b[0m \u001b[0;34m=\u001b[0m \u001b[0mself\u001b[0m\u001b[0;34m.\u001b[0m\u001b[0mobj\u001b[0m\u001b[0;34m.\u001b[0m\u001b[0m_values\u001b[0m\u001b[0;34m\u001b[0m\u001b[0;34m\u001b[0m\u001b[0m\n\u001b[1;32m    843\u001b[0m \u001b[0;34m\u001b[0m\u001b[0m\n\u001b[0;32m--> 844\u001b[0;31m         \u001b[0mmask\u001b[0m \u001b[0;34m=\u001b[0m \u001b[0;34m(\u001b[0m\u001b[0mids\u001b[0m \u001b[0;34m!=\u001b[0m \u001b[0;34m-\u001b[0m\u001b[0;36m1\u001b[0m\u001b[0;34m)\u001b[0m \u001b[0;34m&\u001b[0m \u001b[0;34m~\u001b[0m\u001b[0misna\u001b[0m\u001b[0;34m(\u001b[0m\u001b[0mval\u001b[0m\u001b[0;34m)\u001b[0m\u001b[0;34m\u001b[0m\u001b[0;34m\u001b[0m\u001b[0m\n\u001b[0m\u001b[1;32m    845\u001b[0m         \u001b[0mminlength\u001b[0m \u001b[0;34m=\u001b[0m \u001b[0mngroups\u001b[0m \u001b[0;32mor\u001b[0m \u001b[0;36m0\u001b[0m\u001b[0;34m\u001b[0m\u001b[0;34m\u001b[0m\u001b[0m\n\u001b[1;32m    846\u001b[0m         \u001b[0mout\u001b[0m \u001b[0;34m=\u001b[0m \u001b[0mnp\u001b[0m\u001b[0;34m.\u001b[0m\u001b[0mbincount\u001b[0m\u001b[0;34m(\u001b[0m\u001b[0mids\u001b[0m\u001b[0;34m[\u001b[0m\u001b[0mmask\u001b[0m\u001b[0;34m]\u001b[0m\u001b[0;34m,\u001b[0m \u001b[0mminlength\u001b[0m\u001b[0;34m=\u001b[0m\u001b[0mminlength\u001b[0m\u001b[0;34m)\u001b[0m\u001b[0;34m\u001b[0m\u001b[0;34m\u001b[0m\u001b[0m\n",
      "\u001b[0;32m~/miniconda3/lib/python3.7/site-packages/pandas/core/dtypes/missing.py\u001b[0m in \u001b[0;36misna\u001b[0;34m(obj)\u001b[0m\n\u001b[1;32m    136\u001b[0m     \u001b[0mName\u001b[0m\u001b[0;34m:\u001b[0m \u001b[0;36m1\u001b[0m\u001b[0;34m,\u001b[0m \u001b[0mdtype\u001b[0m\u001b[0;34m:\u001b[0m \u001b[0mbool\u001b[0m\u001b[0;34m\u001b[0m\u001b[0;34m\u001b[0m\u001b[0m\n\u001b[1;32m    137\u001b[0m     \"\"\"\n\u001b[0;32m--> 138\u001b[0;31m     \u001b[0;32mreturn\u001b[0m \u001b[0m_isna\u001b[0m\u001b[0;34m(\u001b[0m\u001b[0mobj\u001b[0m\u001b[0;34m)\u001b[0m\u001b[0;34m\u001b[0m\u001b[0;34m\u001b[0m\u001b[0m\n\u001b[0m\u001b[1;32m    139\u001b[0m \u001b[0;34m\u001b[0m\u001b[0m\n\u001b[1;32m    140\u001b[0m \u001b[0;34m\u001b[0m\u001b[0m\n",
      "\u001b[0;32m~/miniconda3/lib/python3.7/site-packages/pandas/core/dtypes/missing.py\u001b[0m in \u001b[0;36m_isna\u001b[0;34m(obj, inf_as_na)\u001b[0m\n\u001b[1;32m    169\u001b[0m         \u001b[0;32mreturn\u001b[0m \u001b[0;32mFalse\u001b[0m\u001b[0;34m\u001b[0m\u001b[0;34m\u001b[0m\u001b[0m\n\u001b[1;32m    170\u001b[0m     \u001b[0;32melif\u001b[0m \u001b[0misinstance\u001b[0m\u001b[0;34m(\u001b[0m\u001b[0mobj\u001b[0m\u001b[0;34m,\u001b[0m \u001b[0;34m(\u001b[0m\u001b[0mnp\u001b[0m\u001b[0;34m.\u001b[0m\u001b[0mndarray\u001b[0m\u001b[0;34m,\u001b[0m \u001b[0mABCExtensionArray\u001b[0m\u001b[0;34m)\u001b[0m\u001b[0;34m)\u001b[0m\u001b[0;34m:\u001b[0m\u001b[0;34m\u001b[0m\u001b[0;34m\u001b[0m\u001b[0m\n\u001b[0;32m--> 171\u001b[0;31m         \u001b[0;32mreturn\u001b[0m \u001b[0m_isna_array\u001b[0m\u001b[0;34m(\u001b[0m\u001b[0mobj\u001b[0m\u001b[0;34m,\u001b[0m \u001b[0minf_as_na\u001b[0m\u001b[0;34m=\u001b[0m\u001b[0minf_as_na\u001b[0m\u001b[0;34m)\u001b[0m\u001b[0;34m\u001b[0m\u001b[0;34m\u001b[0m\u001b[0m\n\u001b[0m\u001b[1;32m    172\u001b[0m     \u001b[0;32melif\u001b[0m \u001b[0misinstance\u001b[0m\u001b[0;34m(\u001b[0m\u001b[0mobj\u001b[0m\u001b[0;34m,\u001b[0m \u001b[0;34m(\u001b[0m\u001b[0mABCSeries\u001b[0m\u001b[0;34m,\u001b[0m \u001b[0mABCIndex\u001b[0m\u001b[0;34m)\u001b[0m\u001b[0;34m)\u001b[0m\u001b[0;34m:\u001b[0m\u001b[0;34m\u001b[0m\u001b[0;34m\u001b[0m\u001b[0m\n\u001b[1;32m    173\u001b[0m         \u001b[0mresult\u001b[0m \u001b[0;34m=\u001b[0m \u001b[0m_isna_array\u001b[0m\u001b[0;34m(\u001b[0m\u001b[0mobj\u001b[0m\u001b[0;34m.\u001b[0m\u001b[0m_values\u001b[0m\u001b[0;34m,\u001b[0m \u001b[0minf_as_na\u001b[0m\u001b[0;34m=\u001b[0m\u001b[0minf_as_na\u001b[0m\u001b[0;34m)\u001b[0m\u001b[0;34m\u001b[0m\u001b[0;34m\u001b[0m\u001b[0m\n",
      "\u001b[0;32m~/miniconda3/lib/python3.7/site-packages/pandas/core/dtypes/missing.py\u001b[0m in \u001b[0;36m_isna_array\u001b[0;34m(values, inf_as_na)\u001b[0m\n\u001b[1;32m    244\u001b[0m             \u001b[0mresult\u001b[0m \u001b[0;34m=\u001b[0m \u001b[0mvalues\u001b[0m\u001b[0;34m.\u001b[0m\u001b[0misna\u001b[0m\u001b[0;34m(\u001b[0m\u001b[0;34m)\u001b[0m\u001b[0;34m\u001b[0m\u001b[0;34m\u001b[0m\u001b[0m\n\u001b[1;32m    245\u001b[0m     \u001b[0;32melif\u001b[0m \u001b[0mis_string_dtype\u001b[0m\u001b[0;34m(\u001b[0m\u001b[0mdtype\u001b[0m\u001b[0;34m)\u001b[0m\u001b[0;34m:\u001b[0m\u001b[0;34m\u001b[0m\u001b[0;34m\u001b[0m\u001b[0m\n\u001b[0;32m--> 246\u001b[0;31m         \u001b[0mresult\u001b[0m \u001b[0;34m=\u001b[0m \u001b[0m_isna_string_dtype\u001b[0m\u001b[0;34m(\u001b[0m\u001b[0mvalues\u001b[0m\u001b[0;34m,\u001b[0m \u001b[0minf_as_na\u001b[0m\u001b[0;34m=\u001b[0m\u001b[0minf_as_na\u001b[0m\u001b[0;34m)\u001b[0m\u001b[0;34m\u001b[0m\u001b[0;34m\u001b[0m\u001b[0m\n\u001b[0m\u001b[1;32m    247\u001b[0m     \u001b[0;32melif\u001b[0m \u001b[0mneeds_i8_conversion\u001b[0m\u001b[0;34m(\u001b[0m\u001b[0mdtype\u001b[0m\u001b[0;34m)\u001b[0m\u001b[0;34m:\u001b[0m\u001b[0;34m\u001b[0m\u001b[0;34m\u001b[0m\u001b[0m\n\u001b[1;32m    248\u001b[0m         \u001b[0;31m# this is the NaT pattern\u001b[0m\u001b[0;34m\u001b[0m\u001b[0;34m\u001b[0m\u001b[0;34m\u001b[0m\u001b[0m\n",
      "\u001b[0;32m~/miniconda3/lib/python3.7/site-packages/pandas/core/dtypes/missing.py\u001b[0m in \u001b[0;36m_isna_string_dtype\u001b[0;34m(values, inf_as_na)\u001b[0m\n\u001b[1;32m    269\u001b[0m             \u001b[0mvec\u001b[0m \u001b[0;34m=\u001b[0m \u001b[0mlibmissing\u001b[0m\u001b[0;34m.\u001b[0m\u001b[0misnaobj_old\u001b[0m\u001b[0;34m(\u001b[0m\u001b[0mvalues\u001b[0m\u001b[0;34m.\u001b[0m\u001b[0mravel\u001b[0m\u001b[0;34m(\u001b[0m\u001b[0;34m)\u001b[0m\u001b[0;34m)\u001b[0m\u001b[0;34m\u001b[0m\u001b[0;34m\u001b[0m\u001b[0m\n\u001b[1;32m    270\u001b[0m         \u001b[0;32melse\u001b[0m\u001b[0;34m:\u001b[0m\u001b[0;34m\u001b[0m\u001b[0;34m\u001b[0m\u001b[0m\n\u001b[0;32m--> 271\u001b[0;31m             \u001b[0mvec\u001b[0m \u001b[0;34m=\u001b[0m \u001b[0mlibmissing\u001b[0m\u001b[0;34m.\u001b[0m\u001b[0misnaobj\u001b[0m\u001b[0;34m(\u001b[0m\u001b[0mvalues\u001b[0m\u001b[0;34m.\u001b[0m\u001b[0mravel\u001b[0m\u001b[0;34m(\u001b[0m\u001b[0;34m)\u001b[0m\u001b[0;34m)\u001b[0m\u001b[0;34m\u001b[0m\u001b[0;34m\u001b[0m\u001b[0m\n\u001b[0m\u001b[1;32m    272\u001b[0m \u001b[0;34m\u001b[0m\u001b[0m\n\u001b[1;32m    273\u001b[0m         \u001b[0mresult\u001b[0m\u001b[0;34m[\u001b[0m\u001b[0;34m...\u001b[0m\u001b[0;34m]\u001b[0m \u001b[0;34m=\u001b[0m \u001b[0mvec\u001b[0m\u001b[0;34m.\u001b[0m\u001b[0mreshape\u001b[0m\u001b[0;34m(\u001b[0m\u001b[0mshape\u001b[0m\u001b[0;34m)\u001b[0m\u001b[0;34m\u001b[0m\u001b[0;34m\u001b[0m\u001b[0m\n",
      "\u001b[0;31mKeyboardInterrupt\u001b[0m: "
     ]
    }
   ],
   "source": [
    "#monos_path = '/home/nr1315/Documents/Project/Simulations/monos_efficiencies'\n",
    "monos_path = '/home/nr1315/Documents/Project/Simulations/monos_no_rescattering/new_data'\n",
    "os.chdir(monos_path)\n",
    "\n",
    "effs, errs, stds, cap_lens, df_lens = SE.GenerateEfficiencyDataFrame(monos_path)\n",
    "\n",
    "efficiencies_noscatter = pd.DataFrame.from_dict(effs,orient='index')\n",
    "errors_noscatter = pd.DataFrame.from_dict(errs,orient='index')\n",
    "spreads_noscatter = pd.DataFrame.from_dict(stds,orient='index')\n",
    "\n",
    "efficiencies_noscatter.to_hdf(monos_path+'/eff_dataframes/efficiencies.h5',key='event')\n",
    "errors_noscatter.to_hdf(monos_path+'/eff_dataframes/errors.h5',key='event')\n",
    "spreads_noscatter.to_hdf(monos_path+'/eff_dataframes/spreads.h5',key='event')\n",
    "\n",
    "effs,errs,stds,cap_lens,df_lens = None,None,None,None,None"
   ]
  },
  {
   "cell_type": "code",
   "execution_count": 83,
   "id": "17d0ffe8",
   "metadata": {},
   "outputs": [],
   "source": [
    "monos2_path = '/home/nr1315/Documents/Project/Simulations/monos_efficiencies'\n",
    "os.chdir(monos2_path)\n",
    "\n",
    "effs2,errs2,stds2,cap_lens2,df_lens2 = SE.GenerateEfficiencyDataFrame(monos2_path)\n",
    "\n",
    "\n",
    "\n",
    "efficiencies = pd.DataFrame.from_dict(effs2,orient='index')\n",
    "errors = pd.DataFrame.from_dict(errs2,orient='index')\n",
    "spreads = pd.DataFrame.from_dict(stds2,orient='index')\n",
    "\n",
    "efficiencies.to_hdf(monos2_path+'/eff_dataframes/efficiencies.h5',key='event')\n",
    "errors.to_hdf(monos2_path+'/eff_dataframes/errors.h5',key='event')\n",
    "spreads.to_hdf(monos2_path+'/eff_dataframes/spreads.h5',key='event')\n",
    "\n",
    "effs2,errs2,stds2,cap_lens2,df_lens2 = None,None,None,None,None"
   ]
  },
  {
   "cell_type": "code",
   "execution_count": 84,
   "id": "fb5f0201",
   "metadata": {},
   "outputs": [],
   "source": [
    "efficiencies = pd.read_hdf('/home/nr1315/Documents/Project/Simulations/monos_efficiencies/eff_dataframes/efficiencies.h5')\n",
    "errors = pd.read_hdf('/home/nr1315/Documents/Project/Simulations/monos_efficiencies/eff_dataframes/errors.h5')\n",
    "spreads = pd.read_hdf('/home/nr1315/Documents/Project/Simulations/monos_efficiencies/eff_dataframes/spreads.h5')"
   ]
  },
  {
   "cell_type": "code",
   "execution_count": 5,
   "id": "8619c2ba",
   "metadata": {},
   "outputs": [],
   "source": [
    "efficiencies_noscatter = pd.read_hdf('/home/nr1315/Documents/Project/Simulations/monos_no_rescattering/new_data/eff_dataframes/efficiencies.h5')\n",
    "errors_noscatter = pd.read_hdf('/home/nr1315/Documents/Project/Simulations/monos_no_rescattering/new_data/eff_dataframes/errors.h5')\n",
    "spreads_noscatter = pd.read_hdf('/home/nr1315/Documents/Project/Simulations/monos_no_rescattering/new_data/eff_dataframes/spreads.h5')"
   ]
  },
  {
   "cell_type": "code",
   "execution_count": 87,
   "id": "826c1b25",
   "metadata": {},
   "outputs": [],
   "source": [
    "def PlotEfficienciesComparison(eff,err,spr,ax,label,cs,fill_region=True):\n",
    "    e = np.sort([i for i in eff.index if bool(~isinstance(i,str)+2)])\n",
    "    ax.plot(e,100*eff.loc[e,'cap_eff'],c=cs[0],label = 'Simulated LiF captures, {}'.format(label))\n",
    "    ax.errorbar(e,100*eff.loc[e,'cap_eff'],yerr = 100*err.loc[e,'cap_eff'],fmt='none',ecolor=cs[0])\n",
    "    \n",
    "    if fill_region:\n",
    "        ax.fill_between(e,eff.loc[e,'cap_eff']-3*err.loc[e,'cap_eff'],eff.loc[e,'cap_eff']+3*err.loc[e,'cap_eff'],color=cs[1],alpha=0.3)\n",
    "        ax.fill_between(e,eff.loc[e,'cap_eff']-2*err.loc[e,'cap_eff'],eff.loc[e,'cap_eff']+2*err.loc[e,'cap_eff'],color=cs[2],alpha=0.3)\n",
    "        ax.fill_between(e,eff.loc[e,'cap_eff']-err.loc[e,'cap_eff'],eff.loc[e,'cap_eff']+err.loc[e,'cap_eff'],color=cs[2],alpha=0.3)\n",
    "\n",
    "    return"
   ]
  },
  {
   "cell_type": "code",
   "execution_count": 85,
   "id": "dab6b2c3",
   "metadata": {},
   "outputs": [],
   "source": [
    "ii = errors.query('cap_eff<0.01').index"
   ]
  },
  {
   "cell_type": "code",
   "execution_count": 27,
   "id": "723f94ae",
   "metadata": {},
   "outputs": [],
   "source": [
    "os.chdir('/home/nr1315/Documents/Project/pyENDF6/pyENDF6/')\n",
    "import ENDF6\n",
    "os.chdir('/home/nr1315/Documents/Project/nFacetAnalysis/docs')"
   ]
  },
  {
   "cell_type": "code",
   "execution_count": 45,
   "id": "596f0d60",
   "metadata": {},
   "outputs": [
    {
     "ename": "ValueError",
     "evalue": "' 1  3' is not in list",
     "output_type": "error",
     "traceback": [
      "\u001b[0;31m---------------------------------------------------------------------------\u001b[0m",
      "\u001b[0;31mValueError\u001b[0m                                Traceback (most recent call last)",
      "\u001b[0;32m/tmp/ipykernel_29983/1254821731.py\u001b[0m in \u001b[0;36m<module>\u001b[0;34m\u001b[0m\n\u001b[1;32m      1\u001b[0m \u001b[0mf\u001b[0m \u001b[0;34m=\u001b[0m \u001b[0mopen\u001b[0m\u001b[0;34m(\u001b[0m\u001b[0;34m'/home/nr1315/Downloads/E4R535_e4.txt'\u001b[0m\u001b[0;34m)\u001b[0m\u001b[0;34m\u001b[0m\u001b[0;34m\u001b[0m\u001b[0m\n\u001b[1;32m      2\u001b[0m \u001b[0mlines\u001b[0m \u001b[0;34m=\u001b[0m \u001b[0mf\u001b[0m\u001b[0;34m.\u001b[0m\u001b[0mreadlines\u001b[0m\u001b[0;34m(\u001b[0m\u001b[0;34m)\u001b[0m\u001b[0;34m\u001b[0m\u001b[0;34m\u001b[0m\u001b[0m\n\u001b[0;32m----> 3\u001b[0;31m \u001b[0msec\u001b[0m \u001b[0;34m=\u001b[0m \u001b[0mENDF6\u001b[0m\u001b[0;34m.\u001b[0m\u001b[0mfind_section\u001b[0m\u001b[0;34m(\u001b[0m\u001b[0mlines\u001b[0m\u001b[0;34m,\u001b[0m\u001b[0mMF\u001b[0m\u001b[0;34m=\u001b[0m\u001b[0;36m1\u001b[0m\u001b[0;34m,\u001b[0m\u001b[0mMT\u001b[0m\u001b[0;34m=\u001b[0m\u001b[0;36m3\u001b[0m\u001b[0;34m)\u001b[0m\u001b[0;34m\u001b[0m\u001b[0;34m\u001b[0m\u001b[0m\n\u001b[0m",
      "\u001b[0;32m~/Documents/Project/pyENDF6/pyENDF6/ENDF6.py\u001b[0m in \u001b[0;36mfind_section\u001b[0;34m(lines, MF, MT)\u001b[0m\n\u001b[1;32m    120\u001b[0m     \u001b[0mn\u001b[0m \u001b[0;34m=\u001b[0m \u001b[0mlen\u001b[0m\u001b[0;34m(\u001b[0m\u001b[0mv\u001b[0m\u001b[0;34m)\u001b[0m\u001b[0;34m\u001b[0m\u001b[0;34m\u001b[0m\u001b[0m\n\u001b[1;32m    121\u001b[0m     \u001b[0mcmpstr\u001b[0m \u001b[0;34m=\u001b[0m \u001b[0;34m'%2s%3s'\u001b[0m \u001b[0;34m%\u001b[0m \u001b[0;34m(\u001b[0m\u001b[0mMF\u001b[0m\u001b[0;34m,\u001b[0m \u001b[0mMT\u001b[0m\u001b[0;34m)\u001b[0m       \u001b[0;31m# search string\u001b[0m\u001b[0;34m\u001b[0m\u001b[0;34m\u001b[0m\u001b[0m\n\u001b[0;32m--> 122\u001b[0;31m     \u001b[0mi0\u001b[0m \u001b[0;34m=\u001b[0m \u001b[0mv\u001b[0m\u001b[0;34m.\u001b[0m\u001b[0mindex\u001b[0m\u001b[0;34m(\u001b[0m\u001b[0mcmpstr\u001b[0m\u001b[0;34m)\u001b[0m            \u001b[0;31m# first occurrence\u001b[0m\u001b[0;34m\u001b[0m\u001b[0;34m\u001b[0m\u001b[0m\n\u001b[0m\u001b[1;32m    123\u001b[0m     \u001b[0mi1\u001b[0m \u001b[0;34m=\u001b[0m \u001b[0mn\u001b[0m \u001b[0;34m-\u001b[0m \u001b[0mv\u001b[0m\u001b[0;34m[\u001b[0m\u001b[0;34m:\u001b[0m\u001b[0;34m:\u001b[0m\u001b[0;34m-\u001b[0m\u001b[0;36m1\u001b[0m\u001b[0;34m]\u001b[0m\u001b[0;34m.\u001b[0m\u001b[0mindex\u001b[0m\u001b[0;34m(\u001b[0m\u001b[0mcmpstr\u001b[0m\u001b[0;34m)\u001b[0m  \u001b[0;31m# last occurrence\u001b[0m\u001b[0;34m\u001b[0m\u001b[0;34m\u001b[0m\u001b[0m\n\u001b[1;32m    124\u001b[0m     \u001b[0;32mreturn\u001b[0m \u001b[0mlines\u001b[0m\u001b[0;34m[\u001b[0m\u001b[0mi0\u001b[0m\u001b[0;34m:\u001b[0m \u001b[0mi1\u001b[0m\u001b[0;34m]\u001b[0m\u001b[0;34m\u001b[0m\u001b[0;34m\u001b[0m\u001b[0m\n",
      "\u001b[0;31mValueError\u001b[0m: ' 1  3' is not in list"
     ]
    }
   ],
   "source": [
    "f = open('/home/nr1315/Downloads/E4R535_e4.txt')\n",
    "lines = f.readlines()\n",
    "sec = ENDF6.find_section(lines,MF=1,MT=3)"
   ]
  },
  {
   "cell_type": "code",
   "execution_count": 55,
   "id": "9e5eaa76",
   "metadata": {},
   "outputs": [
    {
     "data": {
      "text/plain": [
       "(None, None)"
      ]
     },
     "execution_count": 55,
     "metadata": {},
     "output_type": "execute_result"
    }
   ],
   "source": [
    "plt.plot(x,y)\n",
    "plt.xscale('log'),plt.yscale('log')"
   ]
  },
  {
   "cell_type": "code",
   "execution_count": 57,
   "id": "a96235df",
   "metadata": {},
   "outputs": [],
   "source": [
    "plt.plot(x,y)\n",
    "plt.xscale('log')"
   ]
  },
  {
   "cell_type": "code",
   "execution_count": 32,
   "id": "fcd1bd16",
   "metadata": {},
   "outputs": [],
   "source": [
    "x,y = ENDF6.read_table(sec)"
   ]
  },
  {
   "cell_type": "code",
   "execution_count": null,
   "id": "38ae7bcc",
   "metadata": {},
   "outputs": [],
   "source": []
  },
  {
   "cell_type": "code",
   "execution_count": 39,
   "id": "c59c8975",
   "metadata": {},
   "outputs": [],
   "source": [
    "plt.plot(x,y)\n",
    "plt.xscale('log')"
   ]
  },
  {
   "cell_type": "code",
   "execution_count": 67,
   "id": "7152ec0b",
   "metadata": {},
   "outputs": [
    {
     "data": {
      "text/plain": [
       "1491.994"
      ]
     },
     "execution_count": 67,
     "metadata": {},
     "output_type": "execute_result"
    }
   ],
   "source": []
  },
  {
   "cell_type": "code",
   "execution_count": null,
   "id": "1136cf85",
   "metadata": {},
   "outputs": [],
   "source": [
    "from matplotlib.ticker import MultipleLocator,LogLocator\n",
    "\n",
    "fig = plt.figure()\n",
    "ax = fig.add_subplot(111)\n",
    "dose_eq_curves = pd.read_csv(\"/home/nr1315/Downloads/ICRP74_neutron_dose equivalent curves.csv\")\n",
    "\n",
    "PlotEfficienciesComparison(efficiencies.loc[ii],errors.loc[ii],spreads,ax,'with rescattering',cs=['xkcd:tangerine','xkcd:goldenrod','xkcd:light orange'],fill_region=False)\n",
    "#PlotEfficienciesComparison(efficiencies,errors,spreads,ax,'with scattering',cs=['xkcd:tangerine','xkcd:goldenrod','xkcd:light orange'],fill_region=False)\n",
    "PlotEfficienciesComparison(efficiencies_noscatter,errors_noscatter,spreads_noscatter,ax,'no rescattering',cs=['xkcd:deep blue','xkcd:light blue','xkcd:light blue'],fill_region=False)\n",
    "\n",
    "#ax4 = ax.twinx()\n",
    "#ax4.plot(dose_eq_curves['En / MeV'].values,dose_eq_curves['H*(10) / pSv.cm2'],c='g')\n",
    "#ax4.set_ylabel(r'$H^*(10)$ / pSv.cm$^2$',fontsize=24,c='g')\n",
    "#ax4.plot(x/1e6,y,c='g')\n",
    "#ax4.set_ylabel(r'$^{6}$Li neutron capture cross section / barns',fontsize=24,c='g')\n",
    "#ax4.tick_params(axis='y',labelcolor='g')\n",
    "#ax4.set_ylim(0,5)\n",
    "#ax4.set_yscale('log')\n",
    "\n",
    "ax.set_ylabel('Detection efficiency / $\\%$',fontsize=24)\n",
    "ax.tick_params(axis='x',labelsize=18)\n",
    "\n",
    "ax.tick_params(axis='y',labelsize=18)\n",
    "ax.set_xlabel('Energy / MeV',fontsize=24)\n",
    "ax.set_xlim(1e-8,1e2)\n",
    "ax.set_xscale('log')\n",
    "ax.set_ylim(0,100)\n",
    "ax.legend(loc='upper left')\n",
    "ax.yaxis.set_minor_locator(MultipleLocator(5))\n",
    "fig.suptitle('Detection efficiency',fontsize=32)\n"
   ]
  },
  {
   "cell_type": "code",
   "execution_count": 7,
   "id": "8d511b0f",
   "metadata": {},
   "outputs": [],
   "source": [
    "import SimEventViewer as SMV"
   ]
  },
  {
   "cell_type": "code",
   "execution_count": 3,
   "id": "2670bc41",
   "metadata": {},
   "outputs": [
    {
     "name": "stdout",
     "output_type": "stream",
     "text": [
      "Finished loading /home/nr1315/Documents/Project/Simulations/monos_efficiencies/comb-100.0_keV.h5\n",
      "------------------------------\n",
      "Finished loading /home/nr1315/Documents/Project/Simulations/monos_no_rescattering/new_data/comb-100.0_keV.h5\n",
      "------------------------------\n"
     ]
    }
   ],
   "source": [
    "plotter = SMV.NewSimPlotter()\n",
    "plotter.add_data('/home/nr1315/Documents/Project/Simulations/monos_efficiencies/comb-100.0_keV.h5','100 keV scatter')\n",
    "plotter.add_data('/home/nr1315/Documents/Project/Simulations/monos_no_rescattering/new_data/comb-100.0_keV.h5','100 keV no scatter')"
   ]
  },
  {
   "cell_type": "code",
   "execution_count": 18,
   "id": "c75b105c",
   "metadata": {},
   "outputs": [
    {
     "name": "stdout",
     "output_type": "stream",
     "text": [
      "Finished loading /home/nr1315/Documents/Project/Simulations/monos_efficiencies/comb-500.0_keV.h5\n",
      "------------------------------\n",
      "Finished loading /home/nr1315/Documents/Project/Simulations/monos_no_rescattering/comb-500.0_keV.h5\n",
      "------------------------------\n"
     ]
    }
   ],
   "source": [
    "plotter.add_data('/home/nr1315/Documents/Project/Simulations/monos_efficiencies/comb-500.0_keV.h5','500 keV scatter')\n",
    "plotter.add_data('/home/nr1315/Documents/Project/Simulations/monos_no_rescattering/comb-500.0_keV.h5','500 keV no scatter')"
   ]
  },
  {
   "cell_type": "code",
   "execution_count": 20,
   "id": "90a78ce7",
   "metadata": {},
   "outputs": [
    {
     "name": "stdout",
     "output_type": "stream",
     "text": [
      "Finished loading /home/nr1315/Documents/Project/Simulations/monos_efficiencies/comb-1.0_MeV.h5\n",
      "------------------------------\n",
      "Finished loading /home/nr1315/Documents/Project/Simulations/monos_no_rescattering/new_data/comb-1.0_MeV.h5\n",
      "------------------------------\n"
     ]
    }
   ],
   "source": [
    "plotter.add_data('/home/nr1315/Documents/Project/Simulations/monos_efficiencies/comb-1.0_MeV.h5','1 MeV scatter')\n",
    "plotter.add_data('/home/nr1315/Documents/Project/Simulations/monos_no_rescattering/new_data/comb-1.0_MeV.h5','1 MeV no scatter')"
   ]
  },
  {
   "cell_type": "code",
   "execution_count": 25,
   "id": "e23448cd",
   "metadata": {},
   "outputs": [
    {
     "data": {
      "text/plain": [
       "'100 keV'"
      ]
     },
     "execution_count": 25,
     "metadata": {},
     "output_type": "execute_result"
    }
   ],
   "source": [
    "' '.join('100 keV scatter'.split(' ')[:-1])"
   ]
  },
  {
   "cell_type": "code",
   "execution_count": 34,
   "id": "8025d88d",
   "metadata": {},
   "outputs": [],
   "source": [
    "def compare_scatter_noscatter(d1,d2):\n",
    "    fig = plt.figure()\n",
    "    ax = fig.add_subplot(121)\n",
    "    ax2 = fig.add_subplot(122)\n",
    "\n",
    "    scatter_100k_counts,scatter_100k_err = plotter.ViewCubes(d1,ax=ax,c='C0')\n",
    "    no_scatter_100k_counts,no_scatter_100k_err = plotter.ViewCubes(d2,ax=ax,c='C1')\n",
    "    ax.set_title('Comparison of direct and \\n rescattered data',fontsize=32)\n",
    "    \n",
    "    diff = scatter_100k_counts - no_scatter_100k_counts\n",
    "    diff_err = np.sqrt(scatter_100k_err**2 + no_scatter_100k_err**2)\n",
    "\n",
    "    diff_r = diff/no_scatter_100k_counts\n",
    "    diff_r_err = diff_r*np.sqrt((scatter_100k_err/scatter_100k_counts)**2 + (no_scatter_100k_err/no_scatter_100k_counts)**2)\n",
    "\n",
    "    ax2.bar(np.arange(64),diff_r,yerr=diff_r_err,width=1,edgecolor='black',capsize=3,ecolor='C0',alpha=0.3)\n",
    "    ax2.set_xlabel('Cube ID',fontsize=28)\n",
    "    ax2.set_ylabel(r'(R$_S$ - R$_D$)/R$_D$',fontsize=28)\n",
    "    ax2.tick_params(axis='both',labelsize=24)\n",
    "    ax2.set_title('Fractional difference between \\n direct and rescattered data',fontsize=32)\n",
    "    \n",
    "    ax.legend(loc='upper left',fontsize=20)\n",
    "    \n",
    "    fig.suptitle(' '.join(d1.split(' ')[:-1]),fontsize=26)"
   ]
  },
  {
   "cell_type": "code",
   "execution_count": 35,
   "id": "3ed23831",
   "metadata": {},
   "outputs": [
    {
     "name": "stderr",
     "output_type": "stream",
     "text": [
      "findfont: Font family ['serif'] not found. Falling back to DejaVu Sans.\n"
     ]
    }
   ],
   "source": [
    "compare_scatter_noscatter('100 keV scatter','100 keV no scatter')"
   ]
  },
  {
   "cell_type": "code",
   "execution_count": 36,
   "id": "15a60883",
   "metadata": {},
   "outputs": [],
   "source": [
    "compare_scatter_noscatter('500 keV scatter','500 keV no scatter')"
   ]
  },
  {
   "cell_type": "code",
   "execution_count": 37,
   "id": "076a5ca2",
   "metadata": {},
   "outputs": [],
   "source": [
    "compare_scatter_noscatter('1 MeV scatter','1 MeV no scatter')"
   ]
  },
  {
   "cell_type": "code",
   "execution_count": 13,
   "id": "79f4d040",
   "metadata": {},
   "outputs": [],
   "source": [
    "fig = plt.figure()\n",
    "ax = fig.add_subplot(121,projection='3d')\n",
    "ax2 = fig.add_subplot(122,projection='3d')\n",
    "\n",
    "\n",
    "plotter.View_3D('100 keV scatter',ax=ax)\n",
    "\n",
    "plotter.View_3D('100 keV no scatter',ax=ax2)"
   ]
  },
  {
   "cell_type": "code",
   "execution_count": 15,
   "id": "f732c00b",
   "metadata": {},
   "outputs": [],
   "source": [
    "fig = plt.figure()\n",
    "ax = fig.add_subplot(121,projection='3d')\n",
    "ax2 = fig.add_subplot(122,projection='3d')\n",
    "\n",
    "\n",
    "plotter.View_3D('500 keV scatter',ax=ax)\n",
    "\n",
    "plotter.View_3D('500 keV no scatter',ax=ax2)"
   ]
  },
  {
   "cell_type": "code",
   "execution_count": 11,
   "id": "ec556116",
   "metadata": {},
   "outputs": [
    {
     "data": {
      "text/plain": [
       "Text(0.5, 0.98, 'Detection efficiency')"
      ]
     },
     "execution_count": 11,
     "metadata": {},
     "output_type": "execute_result"
    }
   ],
   "source": [
    "fig = plt.figure()\n",
    "ax = fig.add_subplot(111)\n",
    "dose_eq_curves = pd.read_csv(\"/home/nr1315/Downloads/ICRP74_neutron_dose equivalent curves.csv\")\n",
    "\n",
    "PlotEfficienciesComparison(efficiencies,errors,spreads,ax,'with scattering',cs=['xkcd:tangerine','xkcd:goldenrod','xkcd:light orange'],fill_region=True)\n",
    "PlotEfficienciesComparison(efficiencies_noscatter,errors_noscatter,spreads_noscatter,ax,'no rescattering',cs=['xkcd:deep blue','xkcd:light blue','xkcd:light blue'],fill_region=True)\n",
    "\n",
    "ax4 = ax.twinx()\n",
    "ax4.plot(dose_eq_curves['En / MeV'].values,dose_eq_curves['H*(10) / pSv.cm2'],c='g')\n",
    "ax4.set_ylabel(r'$H^*(10)$ / pSv.cm$^2$',fontsize=24,c='g')\n",
    "ax4.tick_params(axis='y',labelcolor='g')\n",
    "\n",
    "ax.set_ylabel('Detection efficiency / $\\%$',fontsize=24)\n",
    "ax.tick_params(axis='x',labelsize=18)\n",
    "\n",
    "ax.tick_params(axis='y',labelsize=18)\n",
    "ax.set_xlabel('Energy / MeV',fontsize=24)\n",
    "ax.set_xlim(1e-8,1e2)\n",
    "ax.set_xscale('log')\n",
    "ax.legend(loc='upper left')\n",
    "fig.suptitle('Detection efficiency',fontsize=32)\n"
   ]
  },
  {
   "cell_type": "code",
   "execution_count": null,
   "id": "0e07ed98",
   "metadata": {},
   "outputs": [],
   "source": []
  },
  {
   "cell_type": "code",
   "execution_count": null,
   "id": "ef68e88f",
   "metadata": {},
   "outputs": [],
   "source": [
    "dose_eq_curves = pd.read_csv(\"/home/nr1315/Downloads/ICRP74_neutron_dose equivalent curves.csv\")\n",
    "\n",
    "fig=plt.figure()\n",
    "ax = fig.add_subplot(111)\n",
    "\n",
    "ax.plot(energies, cap_eff[:-3], c = 'xkcd:tangerine', label = 'Simulated capture events', linestyle = '--')\n",
    "ax.errorbar(energies, cap_eff[:-3], yerr = cap_err[:-3], fmt = 'none', ecolor = 'xkcd:tangerine')\n",
    "\n",
    "ax.fill_between(energies,np.array(cap_eff[:-3])-3*np.array(cap_err[:-3]),np.array(cap_eff[:-3])+3*np.array(cap_err[:-3]),color='xkcd:goldenrod',alpha=0.3)\n",
    "ax.fill_between(energies,np.array(cap_eff[:-3])-2*np.array(cap_err[:-3]),np.array(cap_eff[:-3])+2*np.array(cap_err[:-3]),color='xkcd:light orange',alpha=0.3)\n",
    "ax.fill_between(energies,np.array(cap_eff[:-3])-np.array(cap_err[:-3]),np.array(cap_eff[:-3])+np.array(cap_err[:-3]),color='xkcd:light orange',alpha=0.3)\n",
    "\n",
    "ax.plot(energies, scatt_eff[:-3], c = 'xkcd:deep blue', label = 'Simulated scatter events', linestyle = '--')\n",
    "ax.errorbar(energies, scatt_eff[:-3], yerr = scatt_err[:-3], fmt = 'none', ecolor = 'xkcd:deep blue')\n",
    "\n",
    "ax.fill_between(energies,np.array(scatt_eff[:-3])-3*np.array(scatt_err[:-3]),np.array(scatt_eff[:-3])+3*np.array(scatt_err[:-3]),color='xkcd:light blue',alpha=0.3)\n",
    "ax.fill_between(energies,np.array(scatt_eff[:-3])-2*np.array(scatt_err[:-3]),np.array(scatt_eff[:-3])+2*np.array(scatt_err[:-3]),color='xkcd:light blue',alpha=0.3)\n",
    "ax.fill_between(energies,np.array(scatt_eff[:-3])-np.array(scatt_err[:-3]),np.array(scatt_eff[:-3])+np.array(scatt_err[:-3]),color='xkcd:light blue',alpha=0.3)\n",
    "\n",
    "\n",
    "#ax.plot(energies, scatt_1_eff, c = 'b', label = '1 detectable scatter')\n",
    "#ax.errorbar(energies, scatt_1_eff, yerr = scatt_1_err, fmt = 'none', ecolor = 'b')\n",
    "\n",
    "#ax.plot(energies, scatt_2_eff, c = 'xkcd:light blue', label = '2 detectable scatters')\n",
    "#ax.errorbar(energies, scatt_2_eff, yerr = scatt_2_err, fmt = 'none', ecolor = 'xkcd:deep blue')\n",
    "\n",
    "#ax.plot(energies, cap_scatt_1_eff, c = 'r', label = '1 scatter + capture')\n",
    "#ax.errorbar(energies, cap_scatt_1_eff, yerr = cap_scatt_1_err, fmt = 'none', ecolor = 'r')\n",
    "\n",
    "#ax.plot(energies, cap_scatt_2_eff, c = 'xkcd:dark red', label = '2 scatters + capture')\n",
    "#ax.errorbar(energies, cap_scatt_2_eff, yerr = cap_scatt_2_err, fmt = 'none', ecolor = 'xkcd:dark red')\n",
    "\n",
    "ax4 = ax.twinx()\n",
    "ax4.plot(dose_eq_curves['En / MeV'].values,dose_eq_curves['H*(10) / pSv.cm2'],c='g')\n",
    "ax4.set_ylabel(r'$H^*(10)$ / pSv.cm$^2$',fontsize=24,c='g')\n",
    "ax4.tick_params(axis='y',labelcolor='g')\n",
    "\n",
    "ax.set_ylabel('Detection efficiency / $\\%$',fontsize=24)\n",
    "ax.tick_params(axis='x',labelsize=18)\n",
    "\n",
    "ax.tick_params(axis='y',labelsize=18)\n",
    "ax.set_xlabel('Energy / MeV',fontsize=24)\n",
    "ax.set_xlim(1e-8,1e2)\n",
    "ax.set_xscale('log')\n",
    "\n",
    "ax.scatter(real_es,100*np.array(real_effs),c='purple',label=r'Real capture events')\n",
    "ax.errorbar(real_es,100*np.array(real_effs),yerr=100*np.array(real_errs),c='purple',fmt='none', capsize = 4)\n",
    "\n",
    "\n",
    "ax.legend(loc='upper left')\n",
    "fig.suptitle('Detection efficiency',fontsize=32)\n",
    "\n"
   ]
  },
  {
   "cell_type": "code",
   "execution_count": null,
   "id": "a9bc8a36",
   "metadata": {},
   "outputs": [],
   "source": []
  },
  {
   "cell_type": "code",
   "execution_count": null,
   "id": "d7813e49",
   "metadata": {},
   "outputs": [],
   "source": []
  },
  {
   "cell_type": "code",
   "execution_count": 61,
   "id": "ae571f7f",
   "metadata": {},
   "outputs": [],
   "source": [
    "monos_path = '/home/nr1315/Documents/Project/Simulations/monos_efficiencies/no_rescattering/NoWalls'\n",
    "os.chdir(monos_path)\n",
    "\n",
    "ef,er,st,cl,dl = SE.GenerateEfficiencyDataFrame(monos_path)"
   ]
  },
  {
   "cell_type": "code",
   "execution_count": 62,
   "id": "59552e55",
   "metadata": {},
   "outputs": [
    {
     "data": {
      "text/plain": [
       "{0.10000000000007855: {'cap_eff': 0.40455733420450835,\n",
       "  'scatt_eff': 3.266906239790918e-05,\n",
       "  'scatt_1_eff': 1.633453119895459e-05,\n",
       "  'scatt_2_eff': 1.633453119895459e-05,\n",
       "  'cap_scatt_eff': 3.266906239790918e-05,\n",
       "  'cap_scatt_1_eff': 1.633453119895459e-05,\n",
       "  'cap_scatt_2_eff': 1.633453119895459e-05}}"
      ]
     },
     "execution_count": 62,
     "metadata": {},
     "output_type": "execute_result"
    }
   ],
   "source": [
    "ef"
   ]
  },
  {
   "cell_type": "code",
   "execution_count": 21,
   "id": "d51fc006",
   "metadata": {},
   "outputs": [],
   "source": [
    "monos_path = '/home/nr1315/Documents/Project/Simulations/monos_efficiencies/no_rescattering'\n",
    "\n"
   ]
  },
  {
   "cell_type": "code",
   "execution_count": 2,
   "id": "f02bc53a",
   "metadata": {},
   "outputs": [],
   "source": [
    "def load_dataset(path):\n",
    "    df = pd.read_hdf(path)\n",
    "    df.reset_index(inplace=True,drop=True)\n",
    "    exp=pd.concat([df['pdg'].explode(),df.loc[:,['cubeid','CapCube']].explode('cubeid')],axis=1)\n",
    "    eve = exp.loc[exp.groupby(exp.index)['pdg'].count()>1]\n",
    "    eve['pdg_diff'] = eve.loc[:,'pdg'].diff()\n",
    "    diff = (1000010030 - 1000020040)\n",
    "    finals = eve.query('pdg_diff==@diff')\n",
    "\n",
    "    f_vals = finals.groupby(finals.index)['cubeid'].last()\n",
    "    diff_ind = finals.index.unique()\n",
    "\n",
    "    exp.loc[:,'CapCube']=0\n",
    "    exp.loc[diff_ind,'CapCube']=f_vals\n",
    "\n",
    "    df.loc[:,'CapCube']=exp.groupby(exp.index)['CapCube'].first()\n",
    "\n",
    "    cubes = df.query('CapCube>0')['CapCube'].values\n",
    "    cubes = pd.DataFrame(np.stack(np.char.split(cubes.astype(str),'0'),axis=0).astype(int)[:,[1,2,0]],columns=['X','Y','Z']) - 1\n",
    "    return cubes.groupby(['Z','Y','X'])['X'].count()\n",
    "\n",
    "    #t=pd.concat((df['edep_pvt'].explode(),df['pdg'].explode()),axis=1)\n",
    "    #t['detectable_scatt']=(t['edep_pvt']>480e-3)&((t['pdg']==2112)|(t['pdg']==2212))\n",
    "\n",
    "    #df['NScatt']=t.groupby(t.index)['detectable_scatt'].sum()"
   ]
  },
  {
   "cell_type": "code",
   "execution_count": 56,
   "id": "18bedb32",
   "metadata": {},
   "outputs": [],
   "source": [
    "c_100k_noscatter = load_dataset('/home/nr1315/Documents/Project/Simulations/monos_efficiencies/no_rescattering/NoWalls/comb-100.0_keV.h5')\n",
    "c_100k_scatter = load_dataset('/home/nr1315/Documents/Project/Simulations/monos_efficiencies/comb-100.0_keV.h5')"
   ]
  },
  {
   "cell_type": "code",
   "execution_count": 29,
   "id": "fb31e132",
   "metadata": {},
   "outputs": [],
   "source": [
    "c_500k_noscatter = load_dataset('/home/nr1315/Documents/Project/Simulations/monos_efficiencies/no_rescattering/comb-500.0_keV.h5')\n",
    "c_500k_scatter = load_dataset('/home/nr1315/Documents/Project/Simulations/monos_efficiencies/comb-500.0_keV.h5')\n",
    "\n",
    "c_1M_noscatter = load_dataset('/home/nr1315/Documents/Project/Simulations/monos_efficiencies/no_rescattering/comb-1.0_MeV.h5')\n",
    "C_1M_scatter = load_dataset('/home/nr1315/Documents/Project/Simulations/monos_efficiencies/comb-1.0_MeV.h5')"
   ]
  },
  {
   "cell_type": "code",
   "execution_count": 26,
   "id": "ab338725",
   "metadata": {},
   "outputs": [],
   "source": [
    "def compare_counts_dist(fs,name):\n",
    "    arr_1,arr_2 = np.zeros([4,4,4]),np.zeros([4,4,4])\n",
    "    for i in fs[0].index:\n",
    "        arr_1[i[::-1]] = fs[0][i]\n",
    "        arr_2[i[::-1]] = fs[1][i]\n",
    "    \n",
    "    plt.bar(np.arange(64),(arr_1/arr_1.sum()).flatten(),width=1,alpha=0.3,label='No rescattering',edgecolor='black')\n",
    "    plt.errorbar(np.arange(64),(arr_1/arr_1.sum()).flatten(),yerr = (np.sqrt(arr_1)/arr_1.sum()).flatten(),capsize=3,fmt='none')\n",
    "    \n",
    "    plt.bar(np.arange(64),(arr_2/arr_2.sum()).flatten(),width=1,alpha=0.3,label='With rescattering',edgecolor='black')\n",
    "    plt.errorbar(np.arange(64),(arr_2/arr_2.sum()).flatten(),yerr = (np.sqrt(arr_2)/arr_2.sum()).flatten(),capsize=3,fmt='none')\n",
    "    \n",
    "    plt.legend(loc='upper left')\n",
    "    plt.title(name,fontsize=32)\n",
    "    plt.xlabel('Cube ID',fontsize=24)\n",
    "    plt.ylabel('Fractional count',fontsize=24)\n",
    "    plt.tick_params(axis='both',labelsize=22)"
   ]
  },
  {
   "cell_type": "code",
   "execution_count": 54,
   "id": "4de74062",
   "metadata": {},
   "outputs": [],
   "source": [
    "def compare_heatmaps(fs,name):\n",
    "    arr_1,arr_2 = np.zeros([4,4,4]),np.zeros([4,4,4])\n",
    "    for i in fs[0].index:\n",
    "        arr_1[i[::-1]] = fs[0][i]\n",
    "        arr_2[i[::-1]] = fs[1][i]\n",
    "    \n",
    "    fig,ax=plt.subplots(2,3,figsize=(30,20))\n",
    "    \n",
    "    vmin = 0\n",
    "    vmax = max(np.max((arr_1/arr_1.sum()).sum(axis=0)),np.max((arr_2/arr_2.sum()).sum(axis=0)))\n",
    "    ax[0,0].imshow((arr_1/arr_1.sum()).sum(axis=0).T,interpolation='nearest',cmap='viridis',origin='lower',vmin=vmin,vmax=vmax)\n",
    "    ax[0,1].imshow((arr_1/arr_1.sum()).sum(axis=1),interpolation='nearest',cmap='viridis',origin='lower',vmin=vmin,vmax=vmax)\n",
    "    ax[0,2].imshow((arr_1/arr_1.sum()).sum(axis=2).T,interpolation='nearest',cmap='viridis',origin='lower',vmin=vmin,vmax=vmax)\n",
    "    \n",
    "    ax[1,0].imshow((arr_2/arr_2.sum()).sum(axis=0).T,interpolation='nearest',cmap='viridis',origin='lower',vmin=vmin,vmax=vmax)\n",
    "    ax[1,1].imshow((arr_2/arr_2.sum()).sum(axis=1),interpolation='nearest',cmap='viridis',origin='lower',vmin=vmin,vmax=vmax)\n",
    "    ax[1,2].imshow((arr_2/arr_2.sum()).sum(axis=2).T,interpolation='nearest',cmap='viridis',origin='lower',vmin=vmin,vmax=vmax)\n",
    "    \n",
    "    ax[0,0].set_xlabel('Y',fontsize=22)\n",
    "    ax[0,0].set_ylabel('Z',fontsize=22)\n",
    "    \n",
    "    ax[1,0].set_xlabel('Y',fontsize=22)\n",
    "    ax[1,0].set_ylabel('Z',fontsize=22)\n",
    "    \n",
    "    ax[0,1].set_xlabel('Z',fontsize=22)\n",
    "    ax[0,1].set_ylabel('Y',fontsize=22)\n",
    "    \n",
    "    ax[1,1].set_xlabel('Z',fontsize=22)\n",
    "    ax[1,1].set_ylabel('Y',fontsize=22)\n",
    "    \n",
    "    ax[0,2].set_xlabel('X',fontsize=22)\n",
    "    ax[0,2].set_ylabel('Y',fontsize=22)\n",
    "\n",
    "    ax[1,2].set_xlabel('X',fontsize=22)\n",
    "    ax[1,2].set_ylabel('Y',fontsize=22)\n",
    "    \n",
    "    ax[0,0].text(0.1,0.1,'No scatter')\n",
    "    \n",
    "    fig.suptitle(name,fontsize=32)"
   ]
  },
  {
   "cell_type": "code",
   "execution_count": 57,
   "id": "096eb374",
   "metadata": {},
   "outputs": [],
   "source": [
    "compare_counts_dist((c_100k_noscatter,c_100k_scatter),'100.0 keV')"
   ]
  },
  {
   "cell_type": "code",
   "execution_count": 33,
   "id": "51179817",
   "metadata": {},
   "outputs": [],
   "source": [
    "compare_counts_dist((c_500k_noscatter,c_500k_scatter),'500.0 keV')"
   ]
  },
  {
   "cell_type": "code",
   "execution_count": 35,
   "id": "66b2a5e9",
   "metadata": {},
   "outputs": [],
   "source": [
    "compare_counts_dist((c_1M_noscatter,C_1M_scatter),'1.0 MeV')"
   ]
  },
  {
   "cell_type": "code",
   "execution_count": 55,
   "id": "7df19e73",
   "metadata": {},
   "outputs": [],
   "source": [
    "compare_heatmaps((c_100k_noscatter,c_100k_scatter),'100.0 keV')"
   ]
  },
  {
   "cell_type": "code",
   "execution_count": 17,
   "id": "2a0f2e73",
   "metadata": {},
   "outputs": [],
   "source": [
    "arr_100k_noscatter,arr_100k_scatter = np.zeros([4,4,4]),np.zeros([4,4,4])\n",
    "for i in c_100k_noscatter.index:\n",
    "    arr_100k_noscatter[i[::-1]] = c_100k_noscatter[i]\n",
    "    arr_100k_scatter[i[::-1]] = c_100k_scatter[i]"
   ]
  },
  {
   "cell_type": "code",
   "execution_count": 24,
   "id": "de901fa0",
   "metadata": {},
   "outputs": [
    {
     "data": {
      "text/plain": [
       "<ErrorbarContainer object of 3 artists>"
      ]
     },
     "execution_count": 24,
     "metadata": {},
     "output_type": "execute_result"
    }
   ],
   "source": [
    "plt.bar(np.arange(64),(arr_100k_noscatter/arr_100k_noscatter.sum()).flatten(),width=1,alpha=0.3,label='No rescattering',edgecolor='black')\n",
    "plt.bar(np.arange(64),(arr_100k_scatter/arr_100k_scatter.sum()).flatten(),width=1,alpha=0.3,label='With rescattering',edgecolor='black')\n",
    "plt.legend(loc='upper left')\n",
    "\n",
    "plt.errorbar(np.arange(64),(arr_100k_noscatter/arr_100k_noscatter.sum()).flatten(),yerr = (np.sqrt(arr_100k_noscatter)/arr_100k_noscatter.sum()).flatten(),capsize=3,fmt='none')\n",
    "plt.errorbar(np.arange(64),(arr_100k_scatter/arr_100k_scatter.sum()).flatten(),yerr = (np.sqrt(arr_100k_scatter)/arr_100k_scatter.sum()).flatten(),capsize=3,fmt='none')"
   ]
  },
  {
   "cell_type": "code",
   "execution_count": 18,
   "id": "38f50f2a",
   "metadata": {},
   "outputs": [
    {
     "data": {
      "text/plain": [
       "(array([[[  31.,   30.,   34.,   96.],\n",
       "         [  66.,   86.,  102.,  126.],\n",
       "         [ 268.,  356.,  402.,  401.],\n",
       "         [ 552.,  895.,  936.,  886.]],\n",
       " \n",
       "        [[  37.,   29.,   35.,  104.],\n",
       "         [  68.,  105.,  105.,  141.],\n",
       "         [ 315.,  487.,  478.,  566.],\n",
       "         [ 688., 1076., 1107.,  958.]],\n",
       " \n",
       "        [[  33.,   26.,   35.,  112.],\n",
       "         [  64.,   96.,  106.,  158.],\n",
       "         [ 310.,  526.,  554.,  487.],\n",
       "         [ 751., 1078., 1136., 1061.]],\n",
       " \n",
       "        [[  18.,   39.,   38.,  101.],\n",
       "         [  74.,   99.,   73.,  163.],\n",
       "         [ 296.,  454.,  520.,  493.],\n",
       "         [ 692., 1113., 1134., 1021.]]]),\n",
       " array([[[  36.,   58.,   62.,  135.],\n",
       "         [  67.,   98.,  134.,  211.],\n",
       "         [ 345.,  553.,  590.,  600.],\n",
       "         [ 855., 1419., 1454., 1269.]],\n",
       " \n",
       "        [[  26.,   40.,   51.,  145.],\n",
       "         [  99.,  124.,  168.,  285.],\n",
       "         [ 492.,  767.,  844.,  847.],\n",
       "         [ 996., 1683., 1739., 1629.]],\n",
       " \n",
       "        [[  25.,   31.,   52.,  148.],\n",
       "         [  92.,  144.,  158.,  261.],\n",
       "         [ 498.,  830.,  806.,  863.],\n",
       "         [1027., 1680., 1750., 1577.]],\n",
       " \n",
       "        [[  34.,   41.,   62.,  144.],\n",
       "         [  98.,  150.,  162.,  269.],\n",
       "         [ 427.,  697.,  757.,  707.],\n",
       "         [1095., 1637., 1757., 1609.]]]))"
      ]
     },
     "execution_count": 18,
     "metadata": {},
     "output_type": "execute_result"
    }
   ],
   "source": [
    "arr_100k_noscatter,arr_100k_scatter"
   ]
  },
  {
   "cell_type": "code",
   "execution_count": null,
   "id": "75a465a3",
   "metadata": {},
   "outputs": [],
   "source": []
  },
  {
   "cell_type": "code",
   "execution_count": null,
   "id": "5adcb456",
   "metadata": {},
   "outputs": [],
   "source": []
  },
  {
   "cell_type": "code",
   "execution_count": 17,
   "id": "32bd4237",
   "metadata": {},
   "outputs": [],
   "source": [
    "df_cap = df.query('CapCube>0')"
   ]
  },
  {
   "cell_type": "code",
   "execution_count": 19,
   "id": "ceeeb730",
   "metadata": {},
   "outputs": [],
   "source": [
    "thermal = df_cap.loc[:,['ThermalPosX','ThermalPosY','ThermalPosZ']]-np.array([0.,-1627.,1500.])"
   ]
  },
  {
   "cell_type": "code",
   "execution_count": 29,
   "id": "7310a539",
   "metadata": {},
   "outputs": [
    {
     "data": {
      "text/html": [
       "<div>\n",
       "<style scoped>\n",
       "    .dataframe tbody tr th:only-of-type {\n",
       "        vertical-align: middle;\n",
       "    }\n",
       "\n",
       "    .dataframe tbody tr th {\n",
       "        vertical-align: top;\n",
       "    }\n",
       "\n",
       "    .dataframe thead th {\n",
       "        text-align: right;\n",
       "    }\n",
       "</style>\n",
       "<table border=\"1\" class=\"dataframe\">\n",
       "  <thead>\n",
       "    <tr style=\"text-align: right;\">\n",
       "      <th></th>\n",
       "      <th>ThermalPosX</th>\n",
       "      <th>ThermalPosY</th>\n",
       "      <th>ThermalPosZ</th>\n",
       "    </tr>\n",
       "  </thead>\n",
       "  <tbody>\n",
       "    <tr>\n",
       "      <th>0</th>\n",
       "      <td>-19.742385</td>\n",
       "      <td>28.155308</td>\n",
       "      <td>-6.846860</td>\n",
       "    </tr>\n",
       "    <tr>\n",
       "      <th>3</th>\n",
       "      <td>-72.128830</td>\n",
       "      <td>61.961457</td>\n",
       "      <td>0.391569</td>\n",
       "    </tr>\n",
       "    <tr>\n",
       "      <th>4</th>\n",
       "      <td>7.135301</td>\n",
       "      <td>96.632310</td>\n",
       "      <td>66.128988</td>\n",
       "    </tr>\n",
       "    <tr>\n",
       "      <th>7</th>\n",
       "      <td>60.597162</td>\n",
       "      <td>92.640048</td>\n",
       "      <td>21.213005</td>\n",
       "    </tr>\n",
       "    <tr>\n",
       "      <th>13</th>\n",
       "      <td>-6.675548</td>\n",
       "      <td>79.220753</td>\n",
       "      <td>62.453122</td>\n",
       "    </tr>\n",
       "    <tr>\n",
       "      <th>...</th>\n",
       "      <td>...</td>\n",
       "      <td>...</td>\n",
       "      <td>...</td>\n",
       "    </tr>\n",
       "    <tr>\n",
       "      <th>93975</th>\n",
       "      <td>80.007920</td>\n",
       "      <td>85.727320</td>\n",
       "      <td>-86.712012</td>\n",
       "    </tr>\n",
       "    <tr>\n",
       "      <th>93980</th>\n",
       "      <td>-14.003033</td>\n",
       "      <td>74.974506</td>\n",
       "      <td>45.956944</td>\n",
       "    </tr>\n",
       "    <tr>\n",
       "      <th>93981</th>\n",
       "      <td>-53.937783</td>\n",
       "      <td>80.673466</td>\n",
       "      <td>60.870753</td>\n",
       "    </tr>\n",
       "    <tr>\n",
       "      <th>93982</th>\n",
       "      <td>-9.931091</td>\n",
       "      <td>78.254615</td>\n",
       "      <td>10.307995</td>\n",
       "    </tr>\n",
       "    <tr>\n",
       "      <th>93983</th>\n",
       "      <td>-13.141835</td>\n",
       "      <td>96.389082</td>\n",
       "      <td>84.184509</td>\n",
       "    </tr>\n",
       "  </tbody>\n",
       "</table>\n",
       "<p>28838 rows × 3 columns</p>\n",
       "</div>"
      ],
      "text/plain": [
       "       ThermalPosX  ThermalPosY  ThermalPosZ\n",
       "0       -19.742385    28.155308    -6.846860\n",
       "3       -72.128830    61.961457     0.391569\n",
       "4         7.135301    96.632310    66.128988\n",
       "7        60.597162    92.640048    21.213005\n",
       "13       -6.675548    79.220753    62.453122\n",
       "...            ...          ...          ...\n",
       "93975    80.007920    85.727320   -86.712012\n",
       "93980   -14.003033    74.974506    45.956944\n",
       "93981   -53.937783    80.673466    60.870753\n",
       "93982    -9.931091    78.254615    10.307995\n",
       "93983   -13.141835    96.389082    84.184509\n",
       "\n",
       "[28838 rows x 3 columns]"
      ]
     },
     "execution_count": 29,
     "metadata": {},
     "output_type": "execute_result"
    }
   ],
   "source": [
    "thermal.query('ThermalPosX>-100&ThermalPosX<100&ThermalPosY>-100&ThermalPosY<100&ThermalPosZ>-100&ThermalPosZ<100')"
   ]
  },
  {
   "cell_type": "code",
   "execution_count": 138,
   "id": "4efada8c",
   "metadata": {},
   "outputs": [
    {
     "data": {
      "text/html": [
       "<div>\n",
       "<style scoped>\n",
       "    .dataframe tbody tr th:only-of-type {\n",
       "        vertical-align: middle;\n",
       "    }\n",
       "\n",
       "    .dataframe tbody tr th {\n",
       "        vertical-align: top;\n",
       "    }\n",
       "\n",
       "    .dataframe thead th {\n",
       "        text-align: right;\n",
       "    }\n",
       "</style>\n",
       "<table border=\"1\" class=\"dataframe\">\n",
       "  <thead>\n",
       "    <tr style=\"text-align: right;\">\n",
       "      <th></th>\n",
       "      <th>pdgid</th>\n",
       "      <th>energy</th>\n",
       "      <th>posx</th>\n",
       "      <th>posy</th>\n",
       "      <th>posz</th>\n",
       "      <th>momx</th>\n",
       "      <th>momy</th>\n",
       "      <th>momz</th>\n",
       "      <th>DepositEnergy</th>\n",
       "      <th>LiCaptureEnergy</th>\n",
       "      <th>...</th>\n",
       "      <th>cubex</th>\n",
       "      <th>cubey</th>\n",
       "      <th>cubez</th>\n",
       "      <th>pdg</th>\n",
       "      <th>edep_tot</th>\n",
       "      <th>edep_pvt</th>\n",
       "      <th>edep_zns</th>\n",
       "      <th>time_last</th>\n",
       "      <th>tracklength</th>\n",
       "      <th>NScatt</th>\n",
       "    </tr>\n",
       "  </thead>\n",
       "  <tbody>\n",
       "    <tr>\n",
       "      <th>1</th>\n",
       "      <td>[2112]</td>\n",
       "      <td>[0.10000000000002274]</td>\n",
       "      <td>[0.0]</td>\n",
       "      <td>[0.0]</td>\n",
       "      <td>[1500.0]</td>\n",
       "      <td>[-0.04288745355016443]</td>\n",
       "      <td>[-0.9967449436431216]</td>\n",
       "      <td>[-0.06826553779069561]</td>\n",
       "      <td>4.881205</td>\n",
       "      <td>0.0</td>\n",
       "      <td>...</td>\n",
       "      <td>[1, 1]</td>\n",
       "      <td>[4, 4]</td>\n",
       "      <td>[2, 2]</td>\n",
       "      <td>[1000020040, 1000010030]</td>\n",
       "      <td>[2.0549706122096723, 2.726182581672674]</td>\n",
       "      <td>[0.0, 0.0]</td>\n",
       "      <td>[2.0549706122096723, 2.726182581672674]</td>\n",
       "      <td>[19443.02981504022, 19443.02981504022]</td>\n",
       "      <td>[0.006981293458571716, 0.04448750865557562]</td>\n",
       "      <td>0</td>\n",
       "    </tr>\n",
       "    <tr>\n",
       "      <th>16</th>\n",
       "      <td>[2112]</td>\n",
       "      <td>[0.10000000000002274]</td>\n",
       "      <td>[0.0]</td>\n",
       "      <td>[0.0]</td>\n",
       "      <td>[1500.0]</td>\n",
       "      <td>[-0.07474446990585179]</td>\n",
       "      <td>[-0.9926153888086154]</td>\n",
       "      <td>[0.0955403271860347]</td>\n",
       "      <td>4.881209</td>\n",
       "      <td>0.0</td>\n",
       "      <td>...</td>\n",
       "      <td>[2, 2, 2, 2]</td>\n",
       "      <td>[4, 4, 4, 4]</td>\n",
       "      <td>[4, 4, 4, 4]</td>\n",
       "      <td>[2112, 2112, 1000020040, 1000010030]</td>\n",
       "      <td>[0.0046783301175992165, 3.6418373383639846e-06...</td>\n",
       "      <td>[0.0046783301175992165, 0.0, 0.0, 0.0]</td>\n",
       "      <td>[0.0, 3.6418373383639846e-06, 2.05384601673949...</td>\n",
       "      <td>[465.7501850717178, 1254.5152385425272, 1320.9...</td>\n",
       "      <td>[71.89058424072675, 1.321238467103565, 0.00697...</td>\n",
       "      <td>0</td>\n",
       "    </tr>\n",
       "    <tr>\n",
       "      <th>49</th>\n",
       "      <td>[2112]</td>\n",
       "      <td>[0.10000000000002274]</td>\n",
       "      <td>[0.0]</td>\n",
       "      <td>[0.0]</td>\n",
       "      <td>[1500.0]</td>\n",
       "      <td>[0.03404753831209852]</td>\n",
       "      <td>[-0.9928045818417551]</td>\n",
       "      <td>[0.11480342943006529]</td>\n",
       "      <td>4.881205</td>\n",
       "      <td>0.0</td>\n",
       "      <td>...</td>\n",
       "      <td>[2, 3, 3]</td>\n",
       "      <td>[3, 2, 2]</td>\n",
       "      <td>[4, 4, 4]</td>\n",
       "      <td>[2112, 1000020040, 1000010030]</td>\n",
       "      <td>[6.746483904862544e-08, 2.054787995708466, 2.7...</td>\n",
       "      <td>[6.746483904862544e-08, 0.0, 0.0]</td>\n",
       "      <td>[0.0, 2.054787995708466, 2.726365420219736]</td>\n",
       "      <td>[34064.31135353225, 44740.67231608896, 44740.6...</td>\n",
       "      <td>[27.955469966899194, 0.006980539368727575, 0.0...</td>\n",
       "      <td>0</td>\n",
       "    </tr>\n",
       "    <tr>\n",
       "      <th>81</th>\n",
       "      <td>[2112]</td>\n",
       "      <td>[0.10000000000002274]</td>\n",
       "      <td>[0.0]</td>\n",
       "      <td>[0.0]</td>\n",
       "      <td>[1500.0]</td>\n",
       "      <td>[0.007414839458261689]</td>\n",
       "      <td>[-0.994028430329081]</td>\n",
       "      <td>[0.108869186886427]</td>\n",
       "      <td>4.881203</td>\n",
       "      <td>0.0</td>\n",
       "      <td>...</td>\n",
       "      <td>[1, 2, 2, 1, 1]</td>\n",
       "      <td>[4, 4, 3, 4, 4]</td>\n",
       "      <td>[3, 3, 4, 3, 3]</td>\n",
       "      <td>[2112, 2112, 2112, 1000020040, 1000010030]</td>\n",
       "      <td>[7.697542514506495e-05, 0.04266351801152268, 0...</td>\n",
       "      <td>[7.697542514506495e-05, 0.04266351801152268, 0...</td>\n",
       "      <td>[0.0, 0.0, 0.0, 2.05426332196339, 2.7268907010...</td>\n",
       "      <td>[605.8990250928823, 415.79735060313146, 378.50...</td>\n",
       "      <td>[37.18994082866517, 53.27401443902201, 18.2472...</td>\n",
       "      <td>0</td>\n",
       "    </tr>\n",
       "    <tr>\n",
       "      <th>95</th>\n",
       "      <td>[2112]</td>\n",
       "      <td>[0.10000000000002274]</td>\n",
       "      <td>[0.0]</td>\n",
       "      <td>[0.0]</td>\n",
       "      <td>[1500.0]</td>\n",
       "      <td>[-0.048254389305477756]</td>\n",
       "      <td>[-0.9944176969106796]</td>\n",
       "      <td>[0.09383473761680793]</td>\n",
       "      <td>4.881211</td>\n",
       "      <td>0.0</td>\n",
       "      <td>...</td>\n",
       "      <td>[1, 1, 1]</td>\n",
       "      <td>[4, 4, 4]</td>\n",
       "      <td>[4, 3, 3]</td>\n",
       "      <td>[2112, 1000020040, 1000010030]</td>\n",
       "      <td>[0.0003538294929512631, 2.052036890514046, 2.7...</td>\n",
       "      <td>[0.0003538294929512631, 0.0, 0.0]</td>\n",
       "      <td>[0.0, 2.052036890514046, 2.7291350963237164]</td>\n",
       "      <td>[514.8426414491628, 806.7773888783486, 806.777...</td>\n",
       "      <td>[48.68085423827962, 0.006969184304717182, 0.04...</td>\n",
       "      <td>0</td>\n",
       "    </tr>\n",
       "    <tr>\n",
       "      <th>...</th>\n",
       "      <td>...</td>\n",
       "      <td>...</td>\n",
       "      <td>...</td>\n",
       "      <td>...</td>\n",
       "      <td>...</td>\n",
       "      <td>...</td>\n",
       "      <td>...</td>\n",
       "      <td>...</td>\n",
       "      <td>...</td>\n",
       "      <td>...</td>\n",
       "      <td>...</td>\n",
       "      <td>...</td>\n",
       "      <td>...</td>\n",
       "      <td>...</td>\n",
       "      <td>...</td>\n",
       "      <td>...</td>\n",
       "      <td>...</td>\n",
       "      <td>...</td>\n",
       "      <td>...</td>\n",
       "      <td>...</td>\n",
       "      <td>...</td>\n",
       "    </tr>\n",
       "    <tr>\n",
       "      <th>93903</th>\n",
       "      <td>[2112]</td>\n",
       "      <td>[0.10000000000002274]</td>\n",
       "      <td>[0.0]</td>\n",
       "      <td>[0.0]</td>\n",
       "      <td>[1500.0]</td>\n",
       "      <td>[0.011740883267185278]</td>\n",
       "      <td>[-0.9996740813582908]</td>\n",
       "      <td>[-0.022668981462866115]</td>\n",
       "      <td>4.881207</td>\n",
       "      <td>0.0</td>\n",
       "      <td>...</td>\n",
       "      <td>[3, 3, 3, 3, 3]</td>\n",
       "      <td>[4, 4, 4, 4, 4]</td>\n",
       "      <td>[1, 2, 2, 2, 2]</td>\n",
       "      <td>[2112, 2112, 2112, 1000020040, 1000010030]</td>\n",
       "      <td>[0.0001326532456005225, 0.031934018044921686, ...</td>\n",
       "      <td>[0.0001326532456005225, 0.031934018044921686, ...</td>\n",
       "      <td>[0.0, 0.0, 0.000655387540632546, 2.05489872801...</td>\n",
       "      <td>[397.0911945650518, 387.48058396101857, 393.37...</td>\n",
       "      <td>[0.5356248760900927, 63.39724019499698, 1.7899...</td>\n",
       "      <td>0</td>\n",
       "    </tr>\n",
       "    <tr>\n",
       "      <th>93909</th>\n",
       "      <td>[2112]</td>\n",
       "      <td>[0.10000000000002274]</td>\n",
       "      <td>[0.0]</td>\n",
       "      <td>[0.0]</td>\n",
       "      <td>[1500.0]</td>\n",
       "      <td>[-0.13132344572819646]</td>\n",
       "      <td>[-0.9868935646445943]</td>\n",
       "      <td>[0.09378296575156553]</td>\n",
       "      <td>4.881201</td>\n",
       "      <td>0.0</td>\n",
       "      <td>...</td>\n",
       "      <td>[2, 3, 4, 2, 3, 3, 3]</td>\n",
       "      <td>[1, 1, 1, 1, 1, 1, 1]</td>\n",
       "      <td>[1, 1, 1, 2, 1, 1, 2]</td>\n",
       "      <td>[2112, 2112, 2112, 2112, 1000020040, 100001003...</td>\n",
       "      <td>[2.6237785277771764e-08, 6.414714789571008e-06...</td>\n",
       "      <td>[2.6237785277771764e-08, 6.414714789571008e-06...</td>\n",
       "      <td>[0.0, 0.0, 0.0, 0.0, 2.055105962871494, 2.7260...</td>\n",
       "      <td>[54163.69605049785, 87436.9098501016, 38092.49...</td>\n",
       "      <td>[43.15685519631847, 209.6164761324086, 27.6913...</td>\n",
       "      <td>0</td>\n",
       "    </tr>\n",
       "    <tr>\n",
       "      <th>93928</th>\n",
       "      <td>[2112]</td>\n",
       "      <td>[0.10000000000002274]</td>\n",
       "      <td>[0.0]</td>\n",
       "      <td>[0.0]</td>\n",
       "      <td>[1500.0]</td>\n",
       "      <td>[0.059832095256245166]</td>\n",
       "      <td>[-0.9953097603522102]</td>\n",
       "      <td>[0.07601711205296756]</td>\n",
       "      <td>4.881208</td>\n",
       "      <td>0.0</td>\n",
       "      <td>...</td>\n",
       "      <td>[4, 4]</td>\n",
       "      <td>[4, 4]</td>\n",
       "      <td>[4, 4]</td>\n",
       "      <td>[1000020040, 1000010030]</td>\n",
       "      <td>[2.054049557165854, 2.727108151923858]</td>\n",
       "      <td>[0.0, 0.0]</td>\n",
       "      <td>[2.054049557165854, 2.727108151923858]</td>\n",
       "      <td>[1415.734915143043, 1415.734915143043]</td>\n",
       "      <td>[0.0069774905300590395, 0.044509659112269645]</td>\n",
       "      <td>0</td>\n",
       "    </tr>\n",
       "    <tr>\n",
       "      <th>93929</th>\n",
       "      <td>[2112]</td>\n",
       "      <td>[0.10000000000002274]</td>\n",
       "      <td>[0.0]</td>\n",
       "      <td>[0.0]</td>\n",
       "      <td>[1500.0]</td>\n",
       "      <td>[-0.0780537259344562]</td>\n",
       "      <td>[-0.9927528199338539]</td>\n",
       "      <td>[0.0913753488700858]</td>\n",
       "      <td>4.881206</td>\n",
       "      <td>0.0</td>\n",
       "      <td>...</td>\n",
       "      <td>[1, 1, 1]</td>\n",
       "      <td>[2, 1, 1]</td>\n",
       "      <td>[3, 3, 3]</td>\n",
       "      <td>[2112, 1000020040, 1000010030]</td>\n",
       "      <td>[1.0598489552648971e-07, 2.0549947321474065, 2...</td>\n",
       "      <td>[1.0598489552648971e-07, 0.0, 0.0]</td>\n",
       "      <td>[0.0, 2.0549947321474065, 2.7261583982003685]</td>\n",
       "      <td>[12561.118611086364, 19881.202710057772, 19881...</td>\n",
       "      <td>[35.338048002455885, 0.006981393061794769, 0.0...</td>\n",
       "      <td>0</td>\n",
       "    </tr>\n",
       "    <tr>\n",
       "      <th>93956</th>\n",
       "      <td>[2112]</td>\n",
       "      <td>[0.10000000000002274]</td>\n",
       "      <td>[0.0]</td>\n",
       "      <td>[0.0]</td>\n",
       "      <td>[1500.0]</td>\n",
       "      <td>[-0.07619816148576984]</td>\n",
       "      <td>[-0.9966405056828642]</td>\n",
       "      <td>[-0.030025699298989798]</td>\n",
       "      <td>4.881208</td>\n",
       "      <td>0.0</td>\n",
       "      <td>...</td>\n",
       "      <td>[1, 1]</td>\n",
       "      <td>[4, 4]</td>\n",
       "      <td>[2, 2]</td>\n",
       "      <td>[1000020040, 1000010030]</td>\n",
       "      <td>[2.0550921480612487, 2.726060927144772]</td>\n",
       "      <td>[0.0, 0.0]</td>\n",
       "      <td>[2.0550921480612487, 2.726060927144772]</td>\n",
       "      <td>[39188.58411959907, 39188.58411959907]</td>\n",
       "      <td>[0.00698179534826646, 0.044484597592021405]</td>\n",
       "      <td>0</td>\n",
       "    </tr>\n",
       "  </tbody>\n",
       "</table>\n",
       "<p>8571 rows × 55 columns</p>\n",
       "</div>"
      ],
      "text/plain": [
       "        pdgid                 energy   posx   posy      posz  \\\n",
       "1      [2112]  [0.10000000000002274]  [0.0]  [0.0]  [1500.0]   \n",
       "16     [2112]  [0.10000000000002274]  [0.0]  [0.0]  [1500.0]   \n",
       "49     [2112]  [0.10000000000002274]  [0.0]  [0.0]  [1500.0]   \n",
       "81     [2112]  [0.10000000000002274]  [0.0]  [0.0]  [1500.0]   \n",
       "95     [2112]  [0.10000000000002274]  [0.0]  [0.0]  [1500.0]   \n",
       "...       ...                    ...    ...    ...       ...   \n",
       "93903  [2112]  [0.10000000000002274]  [0.0]  [0.0]  [1500.0]   \n",
       "93909  [2112]  [0.10000000000002274]  [0.0]  [0.0]  [1500.0]   \n",
       "93928  [2112]  [0.10000000000002274]  [0.0]  [0.0]  [1500.0]   \n",
       "93929  [2112]  [0.10000000000002274]  [0.0]  [0.0]  [1500.0]   \n",
       "93956  [2112]  [0.10000000000002274]  [0.0]  [0.0]  [1500.0]   \n",
       "\n",
       "                          momx                   momy  \\\n",
       "1       [-0.04288745355016443]  [-0.9967449436431216]   \n",
       "16      [-0.07474446990585179]  [-0.9926153888086154]   \n",
       "49       [0.03404753831209852]  [-0.9928045818417551]   \n",
       "81      [0.007414839458261689]   [-0.994028430329081]   \n",
       "95     [-0.048254389305477756]  [-0.9944176969106796]   \n",
       "...                        ...                    ...   \n",
       "93903   [0.011740883267185278]  [-0.9996740813582908]   \n",
       "93909   [-0.13132344572819646]  [-0.9868935646445943]   \n",
       "93928   [0.059832095256245166]  [-0.9953097603522102]   \n",
       "93929    [-0.0780537259344562]  [-0.9927528199338539]   \n",
       "93956   [-0.07619816148576984]  [-0.9966405056828642]   \n",
       "\n",
       "                          momz  DepositEnergy  LiCaptureEnergy  ...  \\\n",
       "1       [-0.06826553779069561]       4.881205              0.0  ...   \n",
       "16        [0.0955403271860347]       4.881209              0.0  ...   \n",
       "49       [0.11480342943006529]       4.881205              0.0  ...   \n",
       "81         [0.108869186886427]       4.881203              0.0  ...   \n",
       "95       [0.09383473761680793]       4.881211              0.0  ...   \n",
       "...                        ...            ...              ...  ...   \n",
       "93903  [-0.022668981462866115]       4.881207              0.0  ...   \n",
       "93909    [0.09378296575156553]       4.881201              0.0  ...   \n",
       "93928    [0.07601711205296756]       4.881208              0.0  ...   \n",
       "93929     [0.0913753488700858]       4.881206              0.0  ...   \n",
       "93956  [-0.030025699298989798]       4.881208              0.0  ...   \n",
       "\n",
       "                       cubex                  cubey                  cubez  \\\n",
       "1                     [1, 1]                 [4, 4]                 [2, 2]   \n",
       "16              [2, 2, 2, 2]           [4, 4, 4, 4]           [4, 4, 4, 4]   \n",
       "49                 [2, 3, 3]              [3, 2, 2]              [4, 4, 4]   \n",
       "81           [1, 2, 2, 1, 1]        [4, 4, 3, 4, 4]        [3, 3, 4, 3, 3]   \n",
       "95                 [1, 1, 1]              [4, 4, 4]              [4, 3, 3]   \n",
       "...                      ...                    ...                    ...   \n",
       "93903        [3, 3, 3, 3, 3]        [4, 4, 4, 4, 4]        [1, 2, 2, 2, 2]   \n",
       "93909  [2, 3, 4, 2, 3, 3, 3]  [1, 1, 1, 1, 1, 1, 1]  [1, 1, 1, 2, 1, 1, 2]   \n",
       "93928                 [4, 4]                 [4, 4]                 [4, 4]   \n",
       "93929              [1, 1, 1]              [2, 1, 1]              [3, 3, 3]   \n",
       "93956                 [1, 1]                 [4, 4]                 [2, 2]   \n",
       "\n",
       "                                                     pdg  \\\n",
       "1                               [1000020040, 1000010030]   \n",
       "16                  [2112, 2112, 1000020040, 1000010030]   \n",
       "49                        [2112, 1000020040, 1000010030]   \n",
       "81            [2112, 2112, 2112, 1000020040, 1000010030]   \n",
       "95                        [2112, 1000020040, 1000010030]   \n",
       "...                                                  ...   \n",
       "93903         [2112, 2112, 2112, 1000020040, 1000010030]   \n",
       "93909  [2112, 2112, 2112, 2112, 1000020040, 100001003...   \n",
       "93928                           [1000020040, 1000010030]   \n",
       "93929                     [2112, 1000020040, 1000010030]   \n",
       "93956                           [1000020040, 1000010030]   \n",
       "\n",
       "                                                edep_tot  \\\n",
       "1                [2.0549706122096723, 2.726182581672674]   \n",
       "16     [0.0046783301175992165, 3.6418373383639846e-06...   \n",
       "49     [6.746483904862544e-08, 2.054787995708466, 2.7...   \n",
       "81     [7.697542514506495e-05, 0.04266351801152268, 0...   \n",
       "95     [0.0003538294929512631, 2.052036890514046, 2.7...   \n",
       "...                                                  ...   \n",
       "93903  [0.0001326532456005225, 0.031934018044921686, ...   \n",
       "93909  [2.6237785277771764e-08, 6.414714789571008e-06...   \n",
       "93928             [2.054049557165854, 2.727108151923858]   \n",
       "93929  [1.0598489552648971e-07, 2.0549947321474065, 2...   \n",
       "93956            [2.0550921480612487, 2.726060927144772]   \n",
       "\n",
       "                                                edep_pvt  \\\n",
       "1                                             [0.0, 0.0]   \n",
       "16                [0.0046783301175992165, 0.0, 0.0, 0.0]   \n",
       "49                     [6.746483904862544e-08, 0.0, 0.0]   \n",
       "81     [7.697542514506495e-05, 0.04266351801152268, 0...   \n",
       "95                     [0.0003538294929512631, 0.0, 0.0]   \n",
       "...                                                  ...   \n",
       "93903  [0.0001326532456005225, 0.031934018044921686, ...   \n",
       "93909  [2.6237785277771764e-08, 6.414714789571008e-06...   \n",
       "93928                                         [0.0, 0.0]   \n",
       "93929                 [1.0598489552648971e-07, 0.0, 0.0]   \n",
       "93956                                         [0.0, 0.0]   \n",
       "\n",
       "                                                edep_zns  \\\n",
       "1                [2.0549706122096723, 2.726182581672674]   \n",
       "16     [0.0, 3.6418373383639846e-06, 2.05384601673949...   \n",
       "49           [0.0, 2.054787995708466, 2.726365420219736]   \n",
       "81     [0.0, 0.0, 0.0, 2.05426332196339, 2.7268907010...   \n",
       "95          [0.0, 2.052036890514046, 2.7291350963237164]   \n",
       "...                                                  ...   \n",
       "93903  [0.0, 0.0, 0.000655387540632546, 2.05489872801...   \n",
       "93909  [0.0, 0.0, 0.0, 0.0, 2.055105962871494, 2.7260...   \n",
       "93928             [2.054049557165854, 2.727108151923858]   \n",
       "93929      [0.0, 2.0549947321474065, 2.7261583982003685]   \n",
       "93956            [2.0550921480612487, 2.726060927144772]   \n",
       "\n",
       "                                               time_last  \\\n",
       "1                 [19443.02981504022, 19443.02981504022]   \n",
       "16     [465.7501850717178, 1254.5152385425272, 1320.9...   \n",
       "49     [34064.31135353225, 44740.67231608896, 44740.6...   \n",
       "81     [605.8990250928823, 415.79735060313146, 378.50...   \n",
       "95     [514.8426414491628, 806.7773888783486, 806.777...   \n",
       "...                                                  ...   \n",
       "93903  [397.0911945650518, 387.48058396101857, 393.37...   \n",
       "93909  [54163.69605049785, 87436.9098501016, 38092.49...   \n",
       "93928             [1415.734915143043, 1415.734915143043]   \n",
       "93929  [12561.118611086364, 19881.202710057772, 19881...   \n",
       "93956             [39188.58411959907, 39188.58411959907]   \n",
       "\n",
       "                                             tracklength  NScatt  \n",
       "1            [0.006981293458571716, 0.04448750865557562]       0  \n",
       "16     [71.89058424072675, 1.321238467103565, 0.00697...       0  \n",
       "49     [27.955469966899194, 0.006980539368727575, 0.0...       0  \n",
       "81     [37.18994082866517, 53.27401443902201, 18.2472...       0  \n",
       "95     [48.68085423827962, 0.006969184304717182, 0.04...       0  \n",
       "...                                                  ...     ...  \n",
       "93903  [0.5356248760900927, 63.39724019499698, 1.7899...       0  \n",
       "93909  [43.15685519631847, 209.6164761324086, 27.6913...       0  \n",
       "93928      [0.0069774905300590395, 0.044509659112269645]       0  \n",
       "93929  [35.338048002455885, 0.006981393061794769, 0.0...       0  \n",
       "93956        [0.00698179534826646, 0.044484597592021405]       0  \n",
       "\n",
       "[8571 rows x 55 columns]"
      ]
     },
     "execution_count": 138,
     "metadata": {},
     "output_type": "execute_result"
    }
   ],
   "source": [
    "df.loc[thermal.query('ThermalPosX<-100|ThermalPosX>100|ThermalPosY<-100|ThermalPosY>100|ThermalPosZ<-100|ThermalPosZ>100').index]"
   ]
  },
  {
   "cell_type": "code",
   "execution_count": 42,
   "id": "f131f948",
   "metadata": {},
   "outputs": [
    {
     "data": {
      "text/plain": [
       "pdgid                                                          [2112]\n",
       "energy                                          [0.10000000000002274]\n",
       "posx                                                            [0.0]\n",
       "posy                                                            [0.0]\n",
       "posz                                                         [1500.0]\n",
       "momx                                            [0.03404753831209852]\n",
       "momy                                            [-0.9928045818417551]\n",
       "momz                                            [0.11480342943006529]\n",
       "DepositEnergy                                                4.881205\n",
       "LiCaptureEnergy                                                   0.0\n",
       "PvtCaptureEnergy                                                  0.0\n",
       "CapPosX                                                     15.557964\n",
       "CapPosY                                                  -1627.333076\n",
       "CapPosZ                                                   1578.868883\n",
       "ThermalPosX                                                 29.161838\n",
       "ThermalPosY                                              -1607.453914\n",
       "ThermalPosZ                                               1673.860289\n",
       "CapE                                                         0.103604\n",
       "LiCapture                                                           0\n",
       "PVTCapture                                                          0\n",
       "CapCube                                                         40302\n",
       "Detected                                                            0\n",
       "Generated1                                                          0\n",
       "Generated2                                                          0\n",
       "WLS                                                                 0\n",
       "ModerationTime                                           14753.552612\n",
       "ThermalTime                                              29987.119704\n",
       "CaptureTime                                              44740.672316\n",
       "ThermalRadius                                               97.998029\n",
       "ModDistance                                               1617.091803\n",
       "CapDistance                                               1629.317431\n",
       "NScatter                                                           70\n",
       "LiTotCross                                                          0\n",
       "LiFastCross                                                         0\n",
       "LiThermalCross                                                      0\n",
       "FurthestDistance                                          1633.436958\n",
       "HDPEReflection                                                      0\n",
       "StepTime            [346.20897611714975, 347.20517827727105, 380.1...\n",
       "Energy              [100000.00000000001, 9464.045519166575, 3044.5...\n",
       "XPosition           [51.44129588874691, 51.553492159647256, 52.798...\n",
       "YPosition           [-1499.9954999999998, -1503.267071964891, -150...\n",
       "ZPosition           [1673.452692180578, 1673.8310019588225, 1673.5...\n",
       "StepLength          [3.2952829033305093, 1.340462937908774, 25.142...\n",
       "EnergyChange        [-90535.95448083343, -6419.524873308546, -716....\n",
       "cubeid                                          [40203, 40302, 40302]\n",
       "cubex                                                       [2, 3, 3]\n",
       "cubey                                                       [3, 2, 2]\n",
       "cubez                                                       [4, 4, 4]\n",
       "pdg                                    [2112, 1000020040, 1000010030]\n",
       "edep_tot            [6.746483904862544e-08, 2.054787995708466, 2.7...\n",
       "edep_pvt                            [6.746483904862544e-08, 0.0, 0.0]\n",
       "edep_zns                  [0.0, 2.054787995708466, 2.726365420219736]\n",
       "time_last           [34064.31135353225, 44740.67231608896, 44740.6...\n",
       "tracklength         [27.955469966899194, 0.006980539368727575, 0.0...\n",
       "NScatt                                                              0\n",
       "Name: 49, dtype: object"
      ]
     },
     "execution_count": 42,
     "metadata": {},
     "output_type": "execute_result"
    }
   ],
   "source": [
    "df.loc[49]"
   ]
  },
  {
   "cell_type": "code",
   "execution_count": 44,
   "id": "a38461f0",
   "metadata": {},
   "outputs": [],
   "source": [
    "import ndap"
   ]
  },
  {
   "cell_type": "code",
   "execution_count": 49,
   "id": "45504a42",
   "metadata": {},
   "outputs": [],
   "source": [
    "from mpl_toolkits.mplot3d import Axes3D\n",
    "import matplotlib.cm as cm\n",
    "import matplotlib.colors as colors"
   ]
  },
  {
   "cell_type": "code",
   "execution_count": 123,
   "id": "e607784f",
   "metadata": {},
   "outputs": [],
   "source": [
    "loc=np.array([0.,-1627.,1500.])\n",
    "cs = 50.888"
   ]
  },
  {
   "cell_type": "code",
   "execution_count": 126,
   "id": "929da0bd",
   "metadata": {},
   "outputs": [],
   "source": [
    "track = np.vstack([*df.loc[49,['XPosition','YPosition','ZPosition']].values])\n",
    "track = np.roll(np.append(track,np.array([[0.], [0.], [1500.]]),axis=1),1,axis=1)"
   ]
  },
  {
   "cell_type": "code",
   "execution_count": 132,
   "id": "69853bb0",
   "metadata": {},
   "outputs": [
    {
     "data": {
      "text/plain": [
       "array([[ 1.        ,  2.01087282,  2.01307759,  2.03753585,  2.25699409,\n",
       "         2.32453487,  2.31958674,  2.37312661,  3.35820822,  3.42679675,\n",
       "         3.45384779,  3.44247608,  3.35820822,  2.53929392,  2.45657075,\n",
       "         2.42273852,  2.42136221,  2.42015753,  2.41846061,  2.40884989,\n",
       "         2.41024323,  2.41051233,  2.41070338,  2.41089442,  2.41116352,\n",
       "         2.41418931,  2.42124693,  2.4223474 ,  2.42312866,  2.42402122,\n",
       "         2.43465282,  2.3791123 ,  1.61487814,  1.57305923,  1.60185411,\n",
       "         1.54582103,  0.98701404,  0.92340069,  0.92146957,  0.92134668,\n",
       "         0.92142515,  0.92265825,  0.92286664,  0.96388504,  1.00018101,\n",
       "         1.00184064,  1.00365509,  1.00533954,  1.00880365,  1.01182279,\n",
       "         1.01411119,  1.00880365,  1.00365509,  1.        ,  0.99634491,\n",
       "         0.99119635,  0.96107567,  0.90153529,  0.77061401,  0.97421428,\n",
       "         0.98630307,  0.99119635,  0.99634491,  1.        ,  1.00365509,\n",
       "         1.00880365,  1.28375303,  1.29112471,  1.29635804,  1.30159136],\n",
       "       [32.97217419,  3.49576521,  3.43147555,  3.42347327,  3.47842813,\n",
       "         3.428682  ,  3.39769309,  3.35820822,  2.63172501,  2.58114198,\n",
       "         2.38135562,  2.35365303,  2.23747363,  1.10844334,  0.9943936 ,\n",
       "         0.97322761,  0.97236656,  0.97161289,  0.97055128,  0.96453866,\n",
       "         0.99119635,  0.99634491,  1.        ,  1.00365509,  1.00880365,\n",
       "         1.06669388,  1.12192496,  1.13053701,  1.1366509 ,  1.14363587,\n",
       "         1.22683608,  1.23697372,  1.37646702,  1.3841001 ,  1.35970546,\n",
       "         1.36171009,  1.38170186,  1.38397768,  1.38404677,  1.38405117,\n",
       "         1.38417423,  1.3861081 ,  1.38643492,  1.28104619,  1.24877284,\n",
       "         1.24729714,  1.24568379,  1.24418603,  1.24110584,  1.2384213 ,\n",
       "         1.24248746,  1.24307802,  1.24365089,  1.24405759,  1.24446428,\n",
       "         1.24503715,  1.24838862,  1.26660703,  1.26627638,  1.22223486,\n",
       "         1.2165501 ,  1.21313251,  1.20953663,  1.20698382,  1.20443102,\n",
       "         1.20083514,  1.00880365,  1.00365509,  1.        ,  0.99634491],\n",
       "       [ 1.        ,  4.40851855,  4.41595272,  4.41032885,  3.97109846,\n",
       "         3.86790054,  3.86943147,  3.85532208,  3.59572311,  3.57764795,\n",
       "         3.52725292,  3.52317191,  3.48761257,  3.14204724,  3.10713973,\n",
       "         3.00449025,  3.00031442,  2.99665933,  2.99151077,  2.96235114,\n",
       "         2.96134404,  2.96114954,  2.96101145,  2.96087337,  2.96067886,\n",
       "         2.95849185,  2.99151077,  2.99665933,  3.00031442,  3.00449025,\n",
       "         3.05423003,  3.14204724,  4.35040678,  4.41652823,  4.47157224,\n",
       "         4.35040678,  3.14204724,  3.00449025,  3.00031442,  3.00004867,\n",
       "         3.00031442,  3.00449025,  3.00519594,  3.09581544,  3.00449025,\n",
       "         3.00031442,  2.99574906,  2.99151077,  2.98279463,  2.97519809,\n",
       "         2.97195235,  2.9651853 ,  2.95862095,  2.95396076,  2.94930057,\n",
       "         2.94273622,  2.90433273,  2.87531749,  2.84990196,  2.66502408,\n",
       "         2.66226282,  2.66054081,  2.65872896,  2.65744268,  2.65615641,\n",
       "         2.65434456,  2.5575861 ,  2.55499191,  2.55315023,  2.55130855]])"
      ]
     },
     "execution_count": 132,
     "metadata": {},
     "output_type": "execute_result"
    }
   ],
   "source": [
    "(track - (loc - cs)[:,np.newaxis])/cs"
   ]
  },
  {
   "cell_type": "code",
   "execution_count": 117,
   "id": "684864ad",
   "metadata": {},
   "outputs": [],
   "source": [
    "track = np.vstack([*df.loc[49,['XPosition','YPosition','ZPosition']].values])\n",
    "track = np.roll(np.append(track,np.array([[0.], [0.], [1500.]]),axis=1),1,axis=1)\n",
    "track = (track - np.array([0.-2*50.888, -1627.-2*50.888,1500.-2*50.888 ])[:,np.newaxis])/50.888\n",
    "\n",
    "therm_pos = df.loc[49,['ThermalPosX','ThermalPosY','ThermalPosZ']].values.astype(float)\n",
    "therm_pos = (therm_pos - np.array([0.-2*50.888, -1627.-2*50.888,1500.-2*50.888 ]))/50.888"
   ]
  },
  {
   "cell_type": "code",
   "execution_count": 122,
   "id": "79d77855",
   "metadata": {},
   "outputs": [
    {
     "data": {
      "text/plain": [
       "(-10, 10)"
      ]
     },
     "execution_count": 122,
     "metadata": {},
     "output_type": "execute_result"
    }
   ],
   "source": [
    "arr = np.zeros([4,4,4])\n",
    "sc = (50.888-50)/50\n",
    "\n",
    "p = ndap.NDArrayPlotter(arr,spacing=(\"even\",sc,sc,sc))\n",
    "p.set_alpha(0.05)\n",
    "\n",
    "fig = plt.figure()\n",
    "ax = fig.add_subplot(111,projection='3d')\n",
    "fig.set_tight_layout(True)\n",
    "cmap = cm.viridis\n",
    "norm = colors.Normalize(vmin=0,vmax=1)\n",
    "p.colors=cmap(norm(arr))\n",
    "p.alphas=np.ones([4,4,4])*0.05\n",
    "\n",
    "ax.plot(track[0],track[1],track[2])\n",
    "p.render(azim=-56,elev=25,ax=ax,text=None,labels=True,space=0.5)\n",
    "ax.scatter(therm_pos[0],therm_pos[1],therm_pos[2])\n",
    "\n",
    "\n",
    "ax.set_xlim(-10,10)\n",
    "ax.set_ylim(-10,10)\n",
    "ax.set_zlim(-10,10)"
   ]
  },
  {
   "cell_type": "code",
   "execution_count": 150,
   "id": "1c96097b",
   "metadata": {},
   "outputs": [],
   "source": [
    "class Wrapper:\n",
    "    def __init__(self,df):\n",
    "        self.index = 0\n",
    "        self.cs = 50.888\n",
    "        self.loc = np.array([0.,-1627.,1500.])\n",
    "        self.df = df\n",
    "        \n",
    "    def ViewArr3D(self):\n",
    "        fig = plt.figure()\n",
    "        ax = fig.add_subplot(111,projection='3d')\n",
    "        fig.set_tight_layout(True)\n",
    "        \n",
    "        norm = colors.Normalize(vmin=-0.1,vmax=0.5)\n",
    "        cmap = cm.viridis\n",
    "        \n",
    "        arr = np.zeros([4,4,4])\n",
    "        spacing = (self.cs - 50)/50\n",
    "        plotter = ndap.NDArrayPlotter(arr,spacing=(\"even\",sc,sc,sc))\n",
    "        plotter.alphas = 0.05*np.ones([4,4,4])\n",
    "        plotter.colors = cmap(norm(arr))\n",
    "        plotter.render(azim = -56,elev = 25,ax=ax,text=None,labels=False,space=0.5)\n",
    "        \n",
    "        \n",
    "        \n",
    "        def key_event(e):\n",
    "            if e.key=='right':\n",
    "                self.index+=1\n",
    "                self.index%=len(self.df)\n",
    "                index = self.df.index[self.index]\n",
    "                ax.cla()\n",
    "                \n",
    "                plotter.render(azim = -56,elev = 25,ax=ax,text=None,labels=False,space=0.5)\n",
    "                \n",
    "                track = np.vstack([*self.df.loc[index,['XPosition','YPosition','ZPosition']].values])\n",
    "                track = np.roll(np.append(track,np.array([[0.],[0.],[1500.]]),axis=1),1,axis=1)\n",
    "                track = (track - (self.loc - 2*self.cs)[:,np.newaxis])/self.cs\n",
    "                \n",
    "                ax.plot(track[0],track[1],track[2])\n",
    "                \n",
    "                therm_pos = df.loc[index,['ThermalPosX','ThermalPosY','ThermalPosZ']].values.astype(float)\n",
    "                therm_pos = (therm_pos - (self.loc - 2*self.cs))/self.cs\n",
    "                \n",
    "                ax.scatter(therm_pos[0],therm_pos[1],therm_pos[2],c='r')\n",
    "                \n",
    "                ax.set_xlim(-10,10)\n",
    "                ax.set_ylim(-10,10)\n",
    "                ax.set_zlim(-10,10)\n",
    "                \n",
    "                fig.canvas.draw()\n",
    "                \n",
    "            if e.key=='left':\n",
    "                self.index-=1\n",
    "                self.index%=len(self.df)\n",
    "                index = self.df.index[self.index]\n",
    "                ax.cla()\n",
    "                \n",
    "                plotter.render(azim = -56,elev = 25,ax=ax,text=None,labels=False,space=0.5)\n",
    "                \n",
    "                track = np.vstack([*self.df.loc[index,['XPosition','YPosition','ZPosition']].values])\n",
    "                track = np.roll(np.append(track,np.array([[0.],[0.],[1500.]]),axis=1),1,axis=1)\n",
    "                track = (track - (self.loc - 2*self.cs)[:,np.newaxis])/self.cs\n",
    "                \n",
    "                ax.plot(track[0],track[1],track[2])\n",
    "                \n",
    "                therm_pos = df.loc[index,['ThermalPosX','ThermalPosY','ThermalPosZ']].values.astype(float)\n",
    "                therm_pos = (therm_pos - (self.loc - 2*self.cs))/self.cs\n",
    "                \n",
    "                ax.scatter(therm_pos[0],therm_pos[1],therm_pos[2],c='r')\n",
    "                \n",
    "                ax.set_xlim(-10,10)\n",
    "                ax.set_ylim(-10,10)\n",
    "                ax.set_zlim(-10,10)\n",
    "                \n",
    "                fig.canvas.draw()\n",
    "                \n",
    "            else:\n",
    "                return\n",
    "        index = self.df.index[self.index]\n",
    "      \n",
    "        track = np.vstack([*self.df.loc[index,['XPosition','YPosition','ZPosition']].values])\n",
    "        track = np.roll(np.append(track,np.array([[0.],[0.],[1500.]]),axis=1),1,axis=1)\n",
    "        track = (track - (self.loc - 2*self.cs)[:,np.newaxis])/self.cs\n",
    "\n",
    "        ax.plot(track[0],track[1],track[2])\n",
    "\n",
    "        therm_pos = df.loc[index,['ThermalPosX','ThermalPosY','ThermalPosZ']].values.astype(float)\n",
    "        therm_pos = (therm_pos - (self.loc - 2*self.cs))/self.cs\n",
    "\n",
    "        ax.scatter(therm_pos[0],therm_pos[1],therm_pos[2],c='r')\n",
    "\n",
    "        ax.set_xlim(-10,10)\n",
    "        ax.set_ylim(-10,10)\n",
    "        ax.set_zlim(-10,10)\n",
    "\n",
    "        fig.canvas.mpl_connect('key_press_event',key_event)\n",
    "                \n",
    "                \n",
    "    "
   ]
  },
  {
   "cell_type": "code",
   "execution_count": 151,
   "id": "3526b23b",
   "metadata": {},
   "outputs": [],
   "source": [
    "wrap = Wrapper(df.loc[thermal.query('ThermalPosX<-100|ThermalPosX>100|ThermalPosY<-100|ThermalPosY>100|ThermalPosZ<-100|ThermalPosZ>100').index])"
   ]
  },
  {
   "cell_type": "code",
   "execution_count": 153,
   "id": "6928f27a",
   "metadata": {},
   "outputs": [],
   "source": [
    "wrap.ViewArr3D()"
   ]
  },
  {
   "cell_type": "code",
   "execution_count": 157,
   "id": "11e4fdc2",
   "metadata": {},
   "outputs": [
    {
     "data": {
      "text/plain": [
       "206"
      ]
     },
     "execution_count": 157,
     "metadata": {},
     "output_type": "execute_result"
    }
   ],
   "source": [
    "wrap.df.index[wrap.index]"
   ]
  },
  {
   "cell_type": "code",
   "execution_count": 159,
   "id": "bab26823",
   "metadata": {},
   "outputs": [
    {
     "data": {
      "text/plain": [
       "pdgid                                                          [2112]\n",
       "energy                                          [0.10000000000002274]\n",
       "posx                                                            [0.0]\n",
       "posy                                                            [0.0]\n",
       "posz                                                         [1500.0]\n",
       "momx                                            [0.44713827970387204]\n",
       "momy                                            [-0.8604151000636001]\n",
       "momz                                            [0.24444470623436912]\n",
       "DepositEnergy                                                4.881201\n",
       "LiCaptureEnergy                                                   0.0\n",
       "PvtCaptureEnergy                                                  0.0\n",
       "CapPosX                                                     60.405299\n",
       "CapPosY                                                  -1597.215728\n",
       "CapPosZ                                                    1551.31518\n",
       "ThermalPosX                                                105.794426\n",
       "ThermalPosY                                              -1528.975611\n",
       "ThermalPosZ                                               1608.143379\n",
       "CapE                                                         0.070329\n",
       "LiCapture                                                           0\n",
       "PVTCapture                                                          0\n",
       "CapCube                                                         40403\n",
       "Detected                                                            0\n",
       "Generated1                                                          0\n",
       "Generated2                                                          0\n",
       "WLS                                                                 0\n",
       "ModerationTime                                           82090.192878\n",
       "ThermalTime                                             250207.148805\n",
       "CaptureTime                                             332297.341684\n",
       "ThermalRadius                                               99.731292\n",
       "ModDistance                                               1536.441952\n",
       "CapDistance                                               1599.181081\n",
       "NScatter                                                          271\n",
       "LiTotCross                                                          0\n",
       "LiFastCross                                                         0\n",
       "LiThermalCross                                                      0\n",
       "FurthestDistance                                          8362.313577\n",
       "HDPEReflection                                                      0\n",
       "StepTime            [3311.7456933477733, 3315.591587149636, 3318.2...\n",
       "Energy              [77556.30945189296, 77556.30945189296, 20514.9...\n",
       "XPosition           [1266.5830075583601, -2859.4817368534277, -286...\n",
       "YPosition           [-2437.2485977020788, 2161.9511412191596, 2168...\n",
       "ZPosition           [2192.424525605576, -6000.0, -6011.82671532799...\n",
       "StepLength          [10261.231316041698, 14.813277963103339, 5.358...\n",
       "EnergyChange        [0.0, -57041.31536583645, -3199.3164324148893,...\n",
       "cubeid                                   [40403, 40404, 40403, 40403]\n",
       "cubex                                                    [4, 4, 4, 4]\n",
       "cubey                                                    [3, 4, 3, 3]\n",
       "cubez                                                    [4, 4, 4, 4]\n",
       "pdg                        [1000010030, 2112, 1000020040, 1000010030]\n",
       "edep_tot            [0.9294688988811461, 3.527831040628371e-07, 2....\n",
       "edep_pvt            [0.9294688988811461, 3.527831040628371e-07, 0....\n",
       "edep_zns            [0.0, 0.0, 2.054724755565985, 1.7969597544297582]\n",
       "time_last           [332297.3442973065, 161429.15337738933, 332297...\n",
       "tracklength         [0.012721921173502173, 307.689828170516, 0.006...\n",
       "NScatt                                                              0\n",
       "Name: 206, dtype: object"
      ]
     },
     "execution_count": 159,
     "metadata": {},
     "output_type": "execute_result"
    }
   ],
   "source": [
    "wrap.df.loc[206]"
   ]
  },
  {
   "cell_type": "code",
   "execution_count": 40,
   "id": "8f3bc639",
   "metadata": {},
   "outputs": [
    {
     "data": {
      "text/plain": [
       "array([1.00000000e+05, 9.46404552e+03, 3.04452065e+03, 2.32839158e+03,\n",
       "       1.38009478e+02, 2.67331072e+01, 2.67331072e+01, 2.67331072e+01,\n",
       "       1.27023585e+01, 9.62696981e+00, 9.52958453e+00, 9.52958453e+00,\n",
       "       9.52958453e+00, 3.20816446e+00, 3.20816446e+00, 3.20816446e+00,\n",
       "       3.20816446e+00, 3.20816446e+00, 1.68894098e+00, 1.68894098e+00,\n",
       "       1.68894098e+00, 1.68894098e+00, 1.68894098e+00, 1.68894098e+00,\n",
       "       1.04046304e+00, 1.04046304e+00, 1.04046304e+00, 1.04046304e+00,\n",
       "       1.04046304e+00, 3.73116563e-01, 3.73116563e-01, 3.73116563e-01,\n",
       "       1.64553806e-01, 1.60482099e-01, 1.60482099e-01, 1.60482099e-01,\n",
       "       1.60482099e-01, 1.60482099e-01, 1.50697360e-01, 1.50697360e-01,\n",
       "       1.50697360e-01, 1.70053115e-01, 1.19278411e-01, 1.19278411e-01,\n",
       "       1.19278411e-01, 1.19278411e-01, 1.19278411e-01, 1.19278411e-01,\n",
       "       1.19632788e-01, 1.11315768e-01, 1.11315768e-01, 1.11315768e-01,\n",
       "       1.11315768e-01, 1.11315768e-01, 1.11315768e-01, 1.29130433e-01,\n",
       "       8.25660891e-02, 8.76660249e-02, 8.76660806e-02, 1.03604174e-01,\n",
       "       1.03604174e-01, 1.03604174e-01, 1.03604174e-01, 1.03604174e-01,\n",
       "       1.03604174e-01, 1.03604174e-01, 1.03604174e-01, 1.03604174e-01,\n",
       "       1.03604174e-01])"
      ]
     },
     "execution_count": 40,
     "metadata": {},
     "output_type": "execute_result"
    }
   ],
   "source": [
    "df.loc[49]['Energy']"
   ]
  },
  {
   "cell_type": "code",
   "execution_count": 41,
   "id": "b595c507",
   "metadata": {},
   "outputs": [
    {
     "data": {
      "text/plain": [
       "array([ 5.14412959e+01,  5.15534922e+01,  5.27981245e+01,  6.39659151e+01,\n",
       "        6.74029302e+01,  6.71511302e+01,  6.98756669e+01,  1.20004500e+02,\n",
       "        1.23494833e+02,  1.24871407e+02,  1.24292723e+02,  1.20004500e+02,\n",
       "        7.83315891e+01,  7.41219726e+01,  7.24003178e+01,  7.23302800e+01,\n",
       "        7.22689762e+01,  7.21826237e+01,  7.16935533e+01,  7.17644575e+01,\n",
       "        7.17781516e+01,  7.17878734e+01,  7.17975952e+01,  7.18112894e+01,\n",
       "        7.19652658e+01,  7.23244136e+01,  7.23804147e+01,  7.24201712e+01,\n",
       "        7.24655919e+01,  7.30066129e+01,  7.01802670e+01,  3.12899187e+01,\n",
       "        2.91618381e+01,  3.06271521e+01,  2.77757406e+01, -6.60829306e-01,\n",
       "       -3.89798579e+00, -3.99625661e+00, -4.00251039e+00, -3.99851708e+00,\n",
       "       -3.93576677e+00, -3.92516235e+00, -1.83781785e+00,  9.21145646e-03,\n",
       "        9.36667252e-02,  1.86000000e-01,  2.71718304e-01,  4.48000000e-01,\n",
       "        6.01638215e-01,  7.18090360e-01,  4.48000000e-01,  1.86000000e-01,\n",
       "        5.82867088e-15, -1.86000000e-01, -4.48000000e-01, -1.98078128e+00,\n",
       "       -5.01067232e+00, -1.16729942e+01, -1.31218386e+00, -6.97009206e-01,\n",
       "       -4.48000000e-01, -1.86000000e-01,  7.66053887e-15,  1.86000000e-01,\n",
       "        4.48000000e-01,  1.44396244e+01,  1.48147542e+01,  1.50810678e+01,\n",
       "        1.53473813e+01])"
      ]
     },
     "execution_count": 41,
     "metadata": {},
     "output_type": "execute_result"
    }
   ],
   "source": [
    "df.loc[49]['XPosition']"
   ]
  },
  {
   "cell_type": "code",
   "execution_count": null,
   "id": "5181280c",
   "metadata": {},
   "outputs": [],
   "source": []
  },
  {
   "cell_type": "code",
   "execution_count": 64,
   "id": "61af4f7e",
   "metadata": {},
   "outputs": [],
   "source": [
    "energies = np.sort([f for f in effs.keys() if type(f)==np.float64])\n",
    "sources = [f for f in effs.keys() if type(f)==str]\n",
    "\n",
    "cap_eff,cap_err = [],[]\n",
    "scatt_eff,scatt_err = [],[]\n",
    "scatt_1_eff,scatt_1_err = [],[]\n",
    "scatt_2_eff,scatt_2_err = [],[]\n",
    "cap_scatt_1_eff,cap_scatt_1_err = [],[]\n",
    "cap_scatt_2_eff,cap_scatt_2_err = [],[]\n",
    "caps,dfs = [],[]\n",
    "\n",
    "for e in energies:\n",
    "    cap_eff.append(100*effs[e]['cap_eff']), cap_err.append(100*errs[e]['cap_eff'])\n",
    "    scatt_eff.append(100*effs[e]['scatt_eff']), scatt_err.append(100*errs[e]['scatt_eff'])\n",
    "    scatt_1_eff.append(100*effs[e]['scatt_1_eff']), scatt_1_err.append(100*errs[e]['scatt_1_eff'])\n",
    "    scatt_2_eff.append(100*effs[e]['scatt_2_eff']), scatt_2_err.append(100*errs[e]['scatt_2_eff'])\n",
    "    cap_scatt_1_eff.append(100*effs[e]['cap_scatt_1_eff']), cap_scatt_1_err.append(100*errs[e]['cap_scatt_1_eff'])\n",
    "    cap_scatt_2_eff.append(100*effs[e]['cap_scatt_2_eff']), cap_scatt_2_err.append(100*errs[e]['cap_scatt_2_eff'])\n",
    "    caps.append(cap_lens[e])\n",
    "    dfs.append(df_lens[e])\n",
    "    \n",
    "for s in sources:\n",
    "    cap_eff.append(100*effs[s]['cap_eff']), cap_err.append(100*errs[s]['cap_eff'])\n",
    "    scatt_eff.append(100*effs[s]['scatt_eff']), scatt_err.append(100*errs[s]['scatt_eff'])\n",
    "    scatt_1_eff.append(100*effs[s]['scatt_1_eff']), scatt_1_err.append(100*errs[s]['scatt_1_eff'])\n",
    "    scatt_2_eff.append(100*effs[s]['scatt_2_eff']), scatt_2_err.append(100*errs[s]['scatt_2_eff'])\n",
    "    cap_scatt_1_eff.append(100*effs[s]['cap_scatt_1_eff']), cap_scatt_1_err.append(100*errs[s]['cap_scatt_1_eff'])\n",
    "    cap_scatt_2_eff.append(100*effs[s]['cap_scatt_2_eff']), cap_scatt_2_err.append(100*errs[s]['cap_scatt_2_eff'])\n",
    "    caps.append(cap_lens[s])\n",
    "    dfs.append(df_lens[s])\n",
    "    "
   ]
  },
  {
   "cell_type": "code",
   "execution_count": 91,
   "id": "c4743ecf",
   "metadata": {},
   "outputs": [
    {
     "data": {
      "text/plain": [
       "array([2.4999963e-08, 1.4400000e-01, 2.0000000e-01, 3.0000000e-01,\n",
       "       4.0000000e-01, 5.0000000e-01, 6.0000000e-01, 7.0000000e-01,\n",
       "       8.0000000e-01, 9.0000000e-01, 1.0000000e+00, 1.2000000e+00,\n",
       "       2.0000000e+00, 5.0000000e+00])"
      ]
     },
     "execution_count": 91,
     "metadata": {},
     "output_type": "execute_result"
    }
   ],
   "source": [
    "energies"
   ]
  },
  {
   "cell_type": "code",
   "execution_count": 11,
   "id": "d97f074f",
   "metadata": {},
   "outputs": [
    {
     "data": {
      "text/plain": [
       "([66.36188907193849,\n",
       "  40.8375314861461,\n",
       "  39.10860012554927,\n",
       "  40.57142857142857,\n",
       "  39.80358358869594,\n",
       "  37.2220530003046,\n",
       "  35.218806441902466,\n",
       "  37.542036074594925,\n",
       "  38.479880774962744,\n",
       "  38.59627558232438,\n",
       "  36.43785908678561,\n",
       "  35.96885294998503,\n",
       "  35.9846244825547,\n",
       "  37.66134774890429,\n",
       "  35.52709946396665,\n",
       "  36.84210526315789,\n",
       "  34.754859297940236,\n",
       "  36.6318358152922,\n",
       "  33.69239976062238,\n",
       "  34.943351222420986,\n",
       "  34.761357101782636,\n",
       "  36.428461449632394,\n",
       "  35.3235294117647,\n",
       "  35.28718703976436,\n",
       "  36.855744313273824,\n",
       "  35.856250893665695,\n",
       "  33.82857142857143,\n",
       "  32.95757935330762,\n",
       "  34.068195179306294,\n",
       "  35.22002414609337,\n",
       "  34.37949899222574,\n",
       "  34.69150174621653,\n",
       "  33.37094499294781,\n",
       "  34.817878310450894,\n",
       "  33.285426846795055,\n",
       "  33.201914953534214,\n",
       "  33.90470656595003,\n",
       "  34.65949753286376,\n",
       "  33.60512521840419,\n",
       "  33.83458646616541,\n",
       "  33.53837141183363,\n",
       "  33.60225776855878,\n",
       "  30.648031373633017,\n",
       "  29.449008614052406,\n",
       "  20.29479277748658,\n",
       "  12.436167017122258,\n",
       "  8.976239366383105,\n",
       "  5.582232893157263,\n",
       "  23.35521476904972,\n",
       "  36.57156518967166,\n",
       "  29.380906317434334],\n",
       " [0.550574788973701,\n",
       "  1.345701376041985,\n",
       "  1.306743172980165,\n",
       "  1.345561035224375,\n",
       "  0.24332866677085,\n",
       "  1.2473165261773607,\n",
       "  0.2116562331570387,\n",
       "  1.2564244055209417,\n",
       "  1.2602709833211974,\n",
       "  0.2340807668541993,\n",
       "  1.226102496109823,\n",
       "  1.2102491925125518,\n",
       "  1.2028641710097032,\n",
       "  0.22802954081212468,\n",
       "  1.197436802750389,\n",
       "  1.2107821371733198,\n",
       "  1.165626314038264,\n",
       "  0.22846206896511867,\n",
       "  1.1609569323238909,\n",
       "  1.1857045686255503,\n",
       "  1.160556426219966,\n",
       "  0.2186913949265707,\n",
       "  1.1857120808239436,\n",
       "  1.1858150659317814,\n",
       "  1.2051239486896708,\n",
       "  0.21548852961681392,\n",
       "  1.1373188254782263,\n",
       "  1.1401311904612437,\n",
       "  1.1586980876358548,\n",
       "  0.21277564162064255,\n",
       "  1.1533573533897483,\n",
       "  1.1661517547154907,\n",
       "  1.1204868059796005,\n",
       "  0.2098123838385605,\n",
       "  1.1292528219651754,\n",
       "  1.1159929844286842,\n",
       "  1.1484774783510299,\n",
       "  0.20964067364600994,\n",
       "  1.143442085455673,\n",
       "  1.1443322105923777,\n",
       "  1.14536066544,\n",
       "  0.21158877655348945,\n",
       "  0.18597827406841366,\n",
       "  0.18582245792013685,\n",
       "  0.14853615101364995,\n",
       "  0.6480960751434904,\n",
       "  0.5356728318216342,\n",
       "  0.42057833809189554,\n",
       "  0.16274967053994838,\n",
       "  0.3154530033050593,\n",
       "  0.2659219679501753])"
      ]
     },
     "execution_count": 11,
     "metadata": {},
     "output_type": "execute_result"
    }
   ],
   "source": [
    "cap_eff, cap_err"
   ]
  },
  {
   "cell_type": "code",
   "execution_count": 13,
   "id": "08a87438",
   "metadata": {},
   "outputs": [
    {
     "data": {
      "text/plain": [
       "(0.100000000000178,\n",
       " 37409,\n",
       " 193.4140636044856,\n",
       " 93984,\n",
       " 306.56810010175553,\n",
       " 39.80358358869594,\n",
       " 0.24332866677085)"
      ]
     },
     "execution_count": 13,
     "metadata": {},
     "output_type": "execute_result"
    }
   ],
   "source": [
    "energies[4],caps[4],np.sqrt(caps[4]),dfs[4],np.sqrt(dfs[4]),cap_eff[4],cap_err[4]"
   ]
  },
  {
   "cell_type": "code",
   "execution_count": 14,
   "id": "5df1cec6",
   "metadata": {},
   "outputs": [
    {
     "data": {
      "text/plain": [
       "(0.125,\n",
       " 1222,\n",
       " 34.95711658589707,\n",
       " 3283,\n",
       " 57.29746940310715,\n",
       " 37.2220530003046,\n",
       " 1.2473165261773607)"
      ]
     },
     "execution_count": 14,
     "metadata": {},
     "output_type": "execute_result"
    }
   ],
   "source": [
    "energies[5],caps[5],np.sqrt(caps[5]),dfs[5],np.sqrt(dfs[5]),cap_eff[5],cap_err[5]"
   ]
  },
  {
   "cell_type": "code",
   "execution_count": 57,
   "id": "0379b5aa",
   "metadata": {},
   "outputs": [],
   "source": [
    "def yield_vals(i):\n",
    "    return energies[i],caps[i],np.sqrt(caps[i]),dfs[i],np.sqrt(dfs[i]),cap_eff[i],cap_err[i]"
   ]
  },
  {
   "cell_type": "code",
   "execution_count": 86,
   "id": "1543c56a",
   "metadata": {},
   "outputs": [
    {
     "data": {
      "text/plain": [
       "(10.0,\n",
       " 25403,\n",
       " 159.38318606427717,\n",
       " 108768,\n",
       " 329.7999393571806,\n",
       " 23.35521476904972,\n",
       " 0.16274967053994838)"
      ]
     },
     "execution_count": 86,
     "metadata": {},
     "output_type": "execute_result"
    }
   ],
   "source": [
    "yield_vals(-3)"
   ]
  },
  {
   "cell_type": "code",
   "execution_count": 106,
   "id": "2b284982",
   "metadata": {},
   "outputs": [
    {
     "data": {
      "text/plain": [
       "array([2.4999963e-08, 1.4400000e-01, 2.0000000e-01, 3.0000000e-01,\n",
       "       4.0000000e-01, 5.0000000e-01, 6.0000000e-01, 7.0000000e-01,\n",
       "       8.0000000e-01, 9.0000000e-01, 1.0000000e+00, 1.2000000e+00,\n",
       "       2.0000000e+00, 5.0000000e+00])"
      ]
     },
     "execution_count": 106,
     "metadata": {},
     "output_type": "execute_result"
    }
   ],
   "source": [
    "energies"
   ]
  },
  {
   "cell_type": "code",
   "execution_count": 108,
   "id": "d5aecd5e",
   "metadata": {},
   "outputs": [],
   "source": [
    "it = iter(np.arange(len(energies)))"
   ]
  },
  {
   "cell_type": "code",
   "execution_count": 111,
   "id": "b3aa42e6",
   "metadata": {},
   "outputs": [
    {
     "data": {
      "text/plain": [
       "(0.20000000000016382,\n",
       " 25231,\n",
       " 158.8426894760977,\n",
       " 65045,\n",
       " 255.03921267130667,\n",
       " 38.7900684141748,\n",
       " 0.2876951288876817)"
      ]
     },
     "execution_count": 111,
     "metadata": {},
     "output_type": "execute_result"
    }
   ],
   "source": [
    "yield_vals(next(it))"
   ]
  },
  {
   "cell_type": "markdown",
   "id": "1b54d530",
   "metadata": {},
   "source": [
    "##### NPL geometry\n",
    "\n",
    "| Energy | N_entered | N_captured | Efficiency |\n",
    "|--|--|--|--|\n",
    "| 0.025 eV | 36420 $\\pm$ 191 | 24169 $\\pm$ 155 | 66.4 $\\pm$ 0.6 % |\n",
    "| 100 keV | 93984 $\\pm$ 307 | 37409 $\\pm$ 193 | 39.9 $\\pm$ 0.2 % |\n",
    "| 125 keV | 3283 $\\pm$ 57 | 1222 $\\pm$ 35 | 37.2 $\\pm$ 1.2 % |\n",
    "| 150 keV | 3271 $\\pm$ 57 | 1228 $\\pm$ 35 | 37.5 $\\pm$ 1.3 % |\n",
    "| 175 keV | 3355 $\\pm$ 58 | 1291 $\\pm$ 36 | 38.5 $\\pm$ 1.3 % |\n",
    "| 200 keV | 97626 $\\pm$ 312 | 37680 $\\pm$ 194 | 38.6 $\\pm$ 0.2 % |\n",
    "\n",
    "\n",
    "##### Empty geometry\n",
    "\n",
    "| Energy | N_entered | N_captured | Efficiency |\n",
    "|--|--|--|--|\n",
    "|0.025 eV | 24473 $\\pm$ 156 | 16289 $\\pm$ 128 | 66.6 $\\pm$ 0.7 % |\n",
    "| 144 keV | 64427 $\\pm$ 254 | 25448 $\\pm$ 160 | 39.5 $\\pm$ 0.3 % |\n",
    "| 200 keV | 65045 $\\pm$ 255 | 25231 $\\pm$ 159 | 38.8 $\\pm$ 0.3 % |\n",
    "\n",
    "\n"
   ]
  },
  {
   "cell_type": "markdown",
   "id": "05e08a5f",
   "metadata": {},
   "source": [
    "| 225 keV | 3307 $\\pm$ 58 | 1205 $\\pm$ 35 | 36.4 $\\pm$ 1.2 % |\n",
    "| 250 keV | 3339 $\\pm$ 58 | 1201 $\\pm$ 35 | 36.0 $\\pm$ 1.2 % |\n",
    "| 275 keV | 3382 $\\pm$ 58 | 1217 $\\pm$ 35 | 36.0 $\\pm$ 1.2 % |\n",
    "| 300 keV | 99707 $\\pm$ 316 | 37551 $\\pm$ 194 | 37.7 $\\pm$ 0.2 % || 25 keV  | 3176 $\\pm$ 56 | 1297 $\\pm$ 36 | 40.8 $\\pm$ 1.3 % |\n",
    "| 50 keV  | 3186 $\\pm$ 56 | 1246 $\\pm$ 35 | 39.1 $\\pm$ 1.3 % |\n",
    "| 75 keV  | 3150 $\\pm$ 56 | 1278 $\\pm$ 36 | 40.6 $\\pm$ 1.3 % |"
   ]
  },
  {
   "cell_type": "code",
   "execution_count": 4,
   "id": "40344c52",
   "metadata": {},
   "outputs": [
    {
     "data": {
      "text/plain": [
       "[36420,\n",
       " 3176,\n",
       " 3186,\n",
       " 3150,\n",
       " 93984,\n",
       " 3283,\n",
       " 106304,\n",
       " 3271,\n",
       " 3355,\n",
       " 97626,\n",
       " 3307,\n",
       " 3339,\n",
       " 3382,\n",
       " 99707,\n",
       " 3358,\n",
       " 3439,\n",
       " 3447,\n",
       " 95892,\n",
       " 3342,\n",
       " 3354,\n",
       " 3478,\n",
       " 103916,\n",
       " 3400,\n",
       " 3395,\n",
       " 3473,\n",
       " 104905,\n",
       " 3500,\n",
       " 3371,\n",
       " 3402,\n",
       " 105193,\n",
       " 3473,\n",
       " 3436,\n",
       " 3545,\n",
       " 106632,\n",
       " 3479,\n",
       " 3551,\n",
       " 3442,\n",
       " 106196,\n",
       " 3434,\n",
       " 3458,\n",
       " 3414,\n",
       " 100276,\n",
       " 115766,\n",
       " 110401,\n",
       " 110654,\n",
       " 3329,\n",
       " 3409,\n",
       " 3332,\n",
       " 108768,\n",
       " 50192,\n",
       " 53756]"
      ]
     },
     "execution_count": 4,
     "metadata": {},
     "output_type": "execute_result"
    }
   ],
   "source": [
    "dfs"
   ]
  },
  {
   "cell_type": "code",
   "execution_count": 218,
   "id": "4707ac1f",
   "metadata": {},
   "outputs": [
    {
     "data": {
      "text/plain": [
       "(0.100000000000178, 0.125)"
      ]
     },
     "execution_count": 218,
     "metadata": {},
     "output_type": "execute_result"
    }
   ],
   "source": [
    "energies[4],energies[5]"
   ]
  },
  {
   "cell_type": "code",
   "execution_count": 96,
   "id": "8a6464a0",
   "metadata": {},
   "outputs": [],
   "source": [
    "dose_eq_curves = pd.read_csv(\"/home/nr1315/Downloads/ICRP74_neutron_dose equivalent curves.csv\")"
   ]
  },
  {
   "cell_type": "code",
   "execution_count": 17,
   "id": "d8fbb00d",
   "metadata": {},
   "outputs": [],
   "source": [
    "import matplotlib.gridspec as gridspec"
   ]
  },
  {
   "cell_type": "code",
   "execution_count": 16,
   "id": "29617591",
   "metadata": {},
   "outputs": [],
   "source": [
    "from scipy.optimize import curve_fit"
   ]
  },
  {
   "cell_type": "code",
   "execution_count": 18,
   "id": "522e04cb",
   "metadata": {},
   "outputs": [],
   "source": [
    "def straight_line(x,m,c):\n",
    "    return m*x + c\n",
    "\n",
    "def exp_straight_line(x,m,c):\n",
    "    return np.exp(straight_line(x,m,c))\n",
    "\n",
    "def decay_exp(x,A,m,c,C):\n",
    "    return A*np.exp(-1*m*x + c) + C\n",
    "\n",
    "(m,c),sig = curve_fit(straight_line,np.log10(energies[:42]),cap_eff[:-3][:42],sigma = 2*np.array(cap_err)[:-3][:42])\n",
    "(m2,c2),sig2 = curve_fit(exp_straight_line,energies[:42],cap_eff[:-3][:42],sigma=2*np.array(cap_err)[:-3][:42])\n",
    "(A,m3,c3,C),sig3 = curve_fit(decay_exp,energies[:42],cap_eff[:-3][:42],sigma=2*np.array(cap_err)[:-3][:42])"
   ]
  },
  {
   "cell_type": "code",
   "execution_count": 26,
   "id": "0ce9612b",
   "metadata": {},
   "outputs": [],
   "source": [
    "inds = np.delete(np.arange(len(energies)),6)"
   ]
  },
  {
   "cell_type": "code",
   "execution_count": null,
   "id": "159b7b22",
   "metadata": {},
   "outputs": [],
   "source": []
  },
  {
   "cell_type": "code",
   "execution_count": 56,
   "id": "d353d582",
   "metadata": {},
   "outputs": [
    {
     "data": {
      "text/plain": [
       "Text(0, 0.5, 'Capture Efficiency / \\\\%')"
      ]
     },
     "execution_count": 56,
     "metadata": {},
     "output_type": "execute_result"
    }
   ],
   "source": [
    "(m1,c1),sig = curve_fit(straight_line,np.log10(energies[:42]),cap_eff[:-3][:42],sigma = 2*np.array(cap_err)[:-3][:42])\n",
    "(m2,c2),sig = curve_fit(straight_line,np.log10(energies[inds][:41]),np.array(cap_eff)[:-3][inds][:41],sigma = 2*np.array(cap_err)[:-3][inds][:41])\n",
    "\n",
    "#plt.plot(energies[inds][:41],np.array(cap_eff)[:-3][inds][:41],c='blue')\n",
    "plt.plot(energies[:42],np.array(cap_eff)[:-3][:42],label = 'Simulated capture efficiency data',color='C0',linestyle='--')\n",
    "plt.errorbar(energies[:42],np.array(cap_eff[:-3][:42]),yerr=np.array(cap_err[:-3][:42]),fmt='none',color='C0')\n",
    "plt.fill_between(energies[:42],(np.array(cap_eff[:-3])-np.array(cap_err[:-3]))[:42],(np.array(cap_eff[:-3])+np.array(cap_err[:-3]))[:42],alpha=0.3,label='1 sigma region')\n",
    "\n",
    "plt.plot(energies[inds][:41],straight_line(np.log10(energies[inds][:41]),m2,c2),label='Best fit line, without 144 keV',color='C1')\n",
    "plt.plot(energies[:42],straight_line(np.log10(energies[:42]),m1,c1),label='Best fit line, all points',color='C2')\n",
    "plt.legend(loc='upper right')\n",
    "#plt.plot(energies[:42],exp_straight_line(energies[:42],m2,c2))\n",
    "#plt.plot(energies[:42],decay_exp(energies[:42],A,m3,c3,C))\n",
    "plt.xscale('log')\n",
    "plt.xlabel('Energy / MeV',fontsize=24)\n",
    "plt.ylabel('Capture Efficiency / \\%',fontsize=24)"
   ]
  },
  {
   "cell_type": "code",
   "execution_count": 212,
   "id": "10803e32",
   "metadata": {},
   "outputs": [],
   "source": [
    "max_err = np.max(cap_err[:-3])"
   ]
  },
  {
   "cell_type": "code",
   "execution_count": 215,
   "id": "2de4e33f",
   "metadata": {},
   "outputs": [],
   "source": [
    "plt.plot(energies,cap_eff[:-3])\n",
    "plt.fill_between(energies,np.array(cap_eff)[:-3] - 3*max_err,np.array(cap_eff[:-3])+3*max_err,alpha=0.3)\n",
    "plt.xscale('log')"
   ]
  },
  {
   "cell_type": "code",
   "execution_count": 200,
   "id": "39b212a6",
   "metadata": {},
   "outputs": [],
   "source": [
    "popt,pcov=curve_fit(straight_line,np.log10(e2[:41]),cap2[:41],sigma=err2[:41])"
   ]
  },
  {
   "cell_type": "code",
   "execution_count": 211,
   "id": "0ac617b6",
   "metadata": {},
   "outputs": [
    {
     "data": {
      "text/plain": [
       "[<matplotlib.lines.Line2D at 0x7f2eb5558bd0>]"
      ]
     },
     "execution_count": 211,
     "metadata": {},
     "output_type": "execute_result"
    }
   ],
   "source": [
    "plt.plot(e2[:41],cap2[:41])\n",
    "plt.plot(e2[:41],straight_line(np.log10(e2[:41]),*popt))\n",
    "plt.xscale('log')\n",
    "plt.plot(energies[:42],straight_line(np.log10(energies[:42]),m,c))\n"
   ]
  },
  {
   "cell_type": "code",
   "execution_count": 168,
   "id": "eafcc958",
   "metadata": {},
   "outputs": [
    {
     "data": {
      "text/plain": [
       "array([2.4999963e-08, 2.5000000e-02, 5.0000000e-02, 7.5000000e-02,\n",
       "       1.0000000e-01, 1.2500000e-01, 1.5000000e-01, 1.7500000e-01,\n",
       "       2.0000000e-01, 2.2500000e-01, 2.5000000e-01, 2.7500000e-01,\n",
       "       3.0000000e-01, 3.2500000e-01, 3.5000000e-01, 3.7500000e-01,\n",
       "       4.0000000e-01, 4.2500000e-01, 4.5000000e-01, 4.7500000e-01,\n",
       "       5.0000000e-01, 5.2500000e-01, 5.5000000e-01, 5.7500000e-01,\n",
       "       6.0000000e-01, 6.2500000e-01, 6.5000000e-01, 6.7500000e-01,\n",
       "       7.0000000e-01, 7.2500000e-01, 7.5000000e-01, 7.7500000e-01,\n",
       "       8.0000000e-01, 8.2500000e-01, 8.5000000e-01, 8.7500000e-01,\n",
       "       9.0000000e-01, 9.2500000e-01, 9.5000000e-01, 9.7500000e-01,\n",
       "       1.0000000e+00, 1.2000000e+00, 2.0000000e+00, 5.0000000e+00,\n",
       "       1.0000000e+01, 2.5000000e+01, 1.0000000e+02])"
      ]
     },
     "execution_count": 168,
     "metadata": {},
     "output_type": "execute_result"
    }
   ],
   "source": [
    "np.delete(energies,6)"
   ]
  },
  {
   "cell_type": "code",
   "execution_count": 165,
   "id": "513e0958",
   "metadata": {},
   "outputs": [
    {
     "data": {
      "text/plain": [
       "array([False, False, False, False, False, False, False, False, False,\n",
       "       False, False, False, False, False, False, False, False, False,\n",
       "       False, False, False, False, False, False, False, False, False,\n",
       "       False, False, False, False, False, False, False, False, False,\n",
       "       False, False, False, False, False, False, False, False, False,\n",
       "       False, False, False])"
      ]
     },
     "execution_count": 165,
     "metadata": {},
     "output_type": "execute_result"
    }
   ],
   "source": [
    "energies==(1.44e-1)"
   ]
  },
  {
   "cell_type": "code",
   "execution_count": 184,
   "id": "3dfb3be6",
   "metadata": {},
   "outputs": [],
   "source": [
    "new_params = curve_fit(straight_line,np.log10(energies)[:42],cap_eff[:-3][:42],sigma=cap_err[:-3][:42])"
   ]
  },
  {
   "cell_type": "code",
   "execution_count": 185,
   "id": "e0a74a0f",
   "metadata": {},
   "outputs": [
    {
     "data": {
      "text/plain": [
       "[<matplotlib.lines.Line2D at 0x7f2eb66668d0>]"
      ]
     },
     "execution_count": 185,
     "metadata": {},
     "output_type": "execute_result"
    }
   ],
   "source": [
    "plt.plot(np.log10(energies[:42]),cap_eff[:-3][:42])\n",
    "plt.plot(np.log10(energies[:42]),straight_line(np.log10(energies[:42]),new_params[0][0],new_params[0][1]))"
   ]
  },
  {
   "cell_type": "code",
   "execution_count": 183,
   "id": "b21caf11",
   "metadata": {},
   "outputs": [],
   "source": [
    "plt.plot(energies[:42],cap_eff[:-3][:42])\n",
    "plt.xscale('log')"
   ]
  },
  {
   "cell_type": "code",
   "execution_count": 171,
   "id": "b6b1167d",
   "metadata": {},
   "outputs": [],
   "source": [
    "e2 = np.delete(energies,6)\n",
    "cap2 = np.delete(cap_eff[:-3],6)\n",
    "err2 = np.delete(cap_err[:-3],6)\n",
    "\n",
    "(mp,cp),sigp = curve_fit(straight_line,e2[:42],cap2[:42],sigma = err2[:42])\n",
    "(m2p,c2p),sig2p = curve_fit(exp_straight_line,e2[:42],cap2[:42],sigma=err2[:42])\n",
    "(Ap,m3p,c3p,Cp),sig3p = curve_fit(decay_exp,e2[:42],cap2[:42],sigma=err2[:42])\n",
    "\n",
    "plt.plot(e2[:42],cap2[:42])\n",
    "plt.fill_between(e2[:42],(cap2-err2)[:42],(cap2+err2)[:42],alpha=0.3)\n",
    "plt.plot(e2[:42],straight_line(e2[:42],mp,cp))\n",
    "plt.plot(e2[:42],exp_straight_line(e2[:42],m2p,c2p))\n",
    "plt.plot(e2[:42],decay_exp(e2[:42],Ap,m3p,c3p,Cp))\n",
    "plt.xscale('log')"
   ]
  },
  {
   "cell_type": "code",
   "execution_count": 99,
   "id": "d5d0383e",
   "metadata": {},
   "outputs": [],
   "source": [
    "energies = efficiencies.index"
   ]
  },
  {
   "cell_type": "code",
   "execution_count": 103,
   "id": "38da4360",
   "metadata": {},
   "outputs": [
    {
     "data": {
      "text/plain": [
       "True"
      ]
     },
     "execution_count": 103,
     "metadata": {},
     "output_type": "execute_result"
    }
   ],
   "source": [
    "type(energies[0])==np.float64"
   ]
  },
  {
   "cell_type": "code",
   "execution_count": 106,
   "id": "eb08451d",
   "metadata": {},
   "outputs": [
    {
     "data": {
      "text/plain": [
       "True"
      ]
     },
     "execution_count": 106,
     "metadata": {},
     "output_type": "execute_result"
    }
   ],
   "source": [
    "type(energies[6])==str"
   ]
  },
  {
   "cell_type": "code",
   "execution_count": 111,
   "id": "6a58685f",
   "metadata": {},
   "outputs": [],
   "source": [
    "e = np.sort([i for i in energies if type(i)==np.float64])\n",
    "s = [i for i in energies if type(i)==str]"
   ]
  },
  {
   "cell_type": "code",
   "execution_count": 67,
   "id": "8f952b60",
   "metadata": {},
   "outputs": [
    {
     "ename": "NameError",
     "evalue": "name 'real_es' is not defined",
     "output_type": "error",
     "traceback": [
      "\u001b[0;31m---------------------------------------------------------------------------\u001b[0m",
      "\u001b[0;31mNameError\u001b[0m                                 Traceback (most recent call last)",
      "\u001b[0;32m/tmp/ipykernel_11809/730456474.py\u001b[0m in \u001b[0;36m<module>\u001b[0;34m\u001b[0m\n\u001b[1;32m     44\u001b[0m \u001b[0max\u001b[0m\u001b[0;34m.\u001b[0m\u001b[0mset_xscale\u001b[0m\u001b[0;34m(\u001b[0m\u001b[0;34m'log'\u001b[0m\u001b[0;34m)\u001b[0m\u001b[0;34m\u001b[0m\u001b[0;34m\u001b[0m\u001b[0m\n\u001b[1;32m     45\u001b[0m \u001b[0;34m\u001b[0m\u001b[0m\n\u001b[0;32m---> 46\u001b[0;31m \u001b[0max\u001b[0m\u001b[0;34m.\u001b[0m\u001b[0mscatter\u001b[0m\u001b[0;34m(\u001b[0m\u001b[0mreal_es\u001b[0m\u001b[0;34m,\u001b[0m\u001b[0;36m100\u001b[0m\u001b[0;34m*\u001b[0m\u001b[0mnp\u001b[0m\u001b[0;34m.\u001b[0m\u001b[0marray\u001b[0m\u001b[0;34m(\u001b[0m\u001b[0mreal_effs\u001b[0m\u001b[0;34m)\u001b[0m\u001b[0;34m,\u001b[0m\u001b[0mc\u001b[0m\u001b[0;34m=\u001b[0m\u001b[0;34m'purple'\u001b[0m\u001b[0;34m,\u001b[0m\u001b[0mlabel\u001b[0m\u001b[0;34m=\u001b[0m\u001b[0;34mr'Real capture events'\u001b[0m\u001b[0;34m)\u001b[0m\u001b[0;34m\u001b[0m\u001b[0;34m\u001b[0m\u001b[0m\n\u001b[0m\u001b[1;32m     47\u001b[0m \u001b[0max\u001b[0m\u001b[0;34m.\u001b[0m\u001b[0merrorbar\u001b[0m\u001b[0;34m(\u001b[0m\u001b[0mreal_es\u001b[0m\u001b[0;34m,\u001b[0m\u001b[0;36m100\u001b[0m\u001b[0;34m*\u001b[0m\u001b[0mnp\u001b[0m\u001b[0;34m.\u001b[0m\u001b[0marray\u001b[0m\u001b[0;34m(\u001b[0m\u001b[0mreal_effs\u001b[0m\u001b[0;34m)\u001b[0m\u001b[0;34m,\u001b[0m\u001b[0myerr\u001b[0m\u001b[0;34m=\u001b[0m\u001b[0;36m100\u001b[0m\u001b[0;34m*\u001b[0m\u001b[0mnp\u001b[0m\u001b[0;34m.\u001b[0m\u001b[0marray\u001b[0m\u001b[0;34m(\u001b[0m\u001b[0mreal_errs\u001b[0m\u001b[0;34m)\u001b[0m\u001b[0;34m,\u001b[0m\u001b[0mc\u001b[0m\u001b[0;34m=\u001b[0m\u001b[0;34m'purple'\u001b[0m\u001b[0;34m,\u001b[0m\u001b[0mfmt\u001b[0m\u001b[0;34m=\u001b[0m\u001b[0;34m'none'\u001b[0m\u001b[0;34m,\u001b[0m \u001b[0mcapsize\u001b[0m \u001b[0;34m=\u001b[0m \u001b[0;36m4\u001b[0m\u001b[0;34m)\u001b[0m\u001b[0;34m\u001b[0m\u001b[0;34m\u001b[0m\u001b[0m\n\u001b[1;32m     48\u001b[0m \u001b[0;34m\u001b[0m\u001b[0m\n",
      "\u001b[0;31mNameError\u001b[0m: name 'real_es' is not defined"
     ]
    }
   ],
   "source": [
    "dose_eq_curves = pd.read_csv(\"/home/nr1315/Downloads/ICRP74_neutron_dose equivalent curves.csv\")\n",
    "\n",
    "fig=plt.figure()\n",
    "ax = fig.add_subplot(111)\n",
    "\n",
    "ax.plot(e, efficiencies.loc[e,'cap_eff'], c = 'xkcd:tangerine', label = 'Simulated capture events', linestyle = '--')\n",
    "ax.errorbar(e, efficiencies.loc[e,'cap_eff'], yerr = errors.loc[e,'cap_eff'], fmt = 'none', ecolor = 'xkcd:tangerine')\n",
    "\n",
    "ax.fill_between(e,np.array(cap_eff[:-3])-3*np.array(cap_err[:-3]),np.array(cap_eff[:-3])+3*np.array(cap_err[:-3]),color='xkcd:goldenrod',alpha=0.3)\n",
    "ax.fill_between(e,np.array(cap_eff[:-3])-2*np.array(cap_err[:-3]),np.array(cap_eff[:-3])+2*np.array(cap_err[:-3]),color='xkcd:light orange',alpha=0.3)\n",
    "ax.fill_between(e,np.array(cap_eff[:-3])-np.array(cap_err[:-3]),np.array(cap_eff[:-3])+np.array(cap_err[:-3]),color='xkcd:light orange',alpha=0.3)\n",
    "\n",
    "ax.plot(energies, scatt_eff[:-3], c = 'xkcd:deep blue', label = 'Simulated scatter events', linestyle = '--')\n",
    "ax.errorbar(energies, scatt_eff[:-3], yerr = scatt_err[:-3], fmt = 'none', ecolor = 'xkcd:deep blue')\n",
    "\n",
    "ax.fill_between(energies,np.array(scatt_eff[:-3])-3*np.array(scatt_err[:-3]),np.array(scatt_eff[:-3])+3*np.array(scatt_err[:-3]),color='xkcd:light blue',alpha=0.3)\n",
    "ax.fill_between(energies,np.array(scatt_eff[:-3])-2*np.array(scatt_err[:-3]),np.array(scatt_eff[:-3])+2*np.array(scatt_err[:-3]),color='xkcd:light blue',alpha=0.3)\n",
    "ax.fill_between(energies,np.array(scatt_eff[:-3])-np.array(scatt_err[:-3]),np.array(scatt_eff[:-3])+np.array(scatt_err[:-3]),color='xkcd:light blue',alpha=0.3)\n",
    "\n",
    "\n",
    "#ax.plot(energies, scatt_1_eff, c = 'b', label = '1 detectable scatter')\n",
    "#ax.errorbar(energies, scatt_1_eff, yerr = scatt_1_err, fmt = 'none', ecolor = 'b')\n",
    "\n",
    "#ax.plot(energies, scatt_2_eff, c = 'xkcd:light blue', label = '2 detectable scatters')\n",
    "#ax.errorbar(energies, scatt_2_eff, yerr = scatt_2_err, fmt = 'none', ecolor = 'xkcd:deep blue')\n",
    "\n",
    "#ax.plot(energies, cap_scatt_1_eff, c = 'r', label = '1 scatter + capture')\n",
    "#ax.errorbar(energies, cap_scatt_1_eff, yerr = cap_scatt_1_err, fmt = 'none', ecolor = 'r')\n",
    "\n",
    "#ax.plot(energies, cap_scatt_2_eff, c = 'xkcd:dark red', label = '2 scatters + capture')\n",
    "#ax.errorbar(energies, cap_scatt_2_eff, yerr = cap_scatt_2_err, fmt = 'none', ecolor = 'xkcd:dark red')\n",
    "\n",
    "ax4 = ax.twinx()\n",
    "ax4.plot(dose_eq_curves['En / MeV'].values,dose_eq_curves['H*(10) / pSv.cm2'],c='g')\n",
    "ax4.set_ylabel(r'$H^*(10)$ / pSv.cm$^2$',fontsize=24,c='g')\n",
    "ax4.tick_params(axis='y',labelcolor='g')\n",
    "\n",
    "ax.set_ylabel('Detection efficiency / $\\%$',fontsize=24)\n",
    "ax.tick_params(axis='x',labelsize=18)\n",
    "\n",
    "ax.tick_params(axis='y',labelsize=18)\n",
    "ax.set_xlabel('Energy / MeV',fontsize=24)\n",
    "ax.set_xlim(1e-8,1e2)\n",
    "ax.set_xscale('log')\n",
    "\n",
    "ax.scatter(real_es,100*np.array(real_effs),c='purple',label=r'Real capture events')\n",
    "ax.errorbar(real_es,100*np.array(real_effs),yerr=100*np.array(real_errs),c='purple',fmt='none', capsize = 4)\n",
    "\n",
    "\n",
    "ax.legend(loc='upper left')\n",
    "fig.suptitle('Detection efficiency',fontsize=32)\n",
    "\n"
   ]
  },
  {
   "cell_type": "code",
   "execution_count": 9,
   "id": "0bf077da",
   "metadata": {},
   "outputs": [
    {
     "ename": "NameError",
     "evalue": "name 'gridspec' is not defined",
     "output_type": "error",
     "traceback": [
      "\u001b[0;31m---------------------------------------------------------------------------\u001b[0m",
      "\u001b[0;31mNameError\u001b[0m                                 Traceback (most recent call last)",
      "\u001b[0;32m/tmp/ipykernel_22131/993740218.py\u001b[0m in \u001b[0;36m<module>\u001b[0;34m\u001b[0m\n\u001b[1;32m      1\u001b[0m \u001b[0;31m#fig,(ax, ax2) = plt.subplots(1,2,sharey=True)\u001b[0m\u001b[0;34m\u001b[0m\u001b[0;34m\u001b[0m\u001b[0;34m\u001b[0m\u001b[0m\n\u001b[0;32m----> 2\u001b[0;31m \u001b[0mgs\u001b[0m \u001b[0;34m=\u001b[0m \u001b[0mgridspec\u001b[0m\u001b[0;34m.\u001b[0m\u001b[0mGridSpec\u001b[0m\u001b[0;34m(\u001b[0m\u001b[0;36m1\u001b[0m\u001b[0;34m,\u001b[0m\u001b[0;36m4\u001b[0m\u001b[0;34m)\u001b[0m\u001b[0;34m\u001b[0m\u001b[0;34m\u001b[0m\u001b[0m\n\u001b[0m\u001b[1;32m      3\u001b[0m \u001b[0;34m\u001b[0m\u001b[0m\n\u001b[1;32m      4\u001b[0m \u001b[0mfig\u001b[0m \u001b[0;34m=\u001b[0m \u001b[0mplt\u001b[0m\u001b[0;34m.\u001b[0m\u001b[0mfigure\u001b[0m\u001b[0;34m(\u001b[0m\u001b[0;34m)\u001b[0m\u001b[0;34m\u001b[0m\u001b[0;34m\u001b[0m\u001b[0m\n\u001b[1;32m      5\u001b[0m \u001b[0max\u001b[0m \u001b[0;34m=\u001b[0m \u001b[0mfig\u001b[0m\u001b[0;34m.\u001b[0m\u001b[0madd_subplot\u001b[0m\u001b[0;34m(\u001b[0m\u001b[0mgs\u001b[0m\u001b[0;34m[\u001b[0m\u001b[0;34m:\u001b[0m\u001b[0;34m,\u001b[0m\u001b[0;36m0\u001b[0m\u001b[0;34m]\u001b[0m\u001b[0;34m)\u001b[0m\u001b[0;34m\u001b[0m\u001b[0;34m\u001b[0m\u001b[0m\n",
      "\u001b[0;31mNameError\u001b[0m: name 'gridspec' is not defined"
     ]
    }
   ],
   "source": [
    "#fig,(ax, ax2) = plt.subplots(1,2,sharey=True)\n",
    "gs = gridspec.GridSpec(1,4)\n",
    "\n",
    "fig = plt.figure()\n",
    "ax = fig.add_subplot(gs[:,0])\n",
    "ax2 = fig.add_subplot(gs[:,1:])\n",
    "\n",
    "\n",
    "ax.plot(energies, cap_eff, c = 'xkcd:tangerine', label = 'All captured events', linestyle = '--')\n",
    "ax.errorbar(energies, cap_eff, yerr = cap_err, fmt = 'none', ecolor = 'xkcd:tangerine')\n",
    "\n",
    "ax.fill_between(energies,np.array(cap_eff)-3*np.array(cap_err),np.array(cap_eff)+3*np.array(cap_err),color='xkcd:goldenrod',alpha=0.3)\n",
    "ax.fill_between(energies,np.array(cap_eff)-2*np.array(cap_err),np.array(cap_eff)+2*np.array(cap_err),color='xkcd:light orange',alpha=0.3)\n",
    "ax.fill_between(energies,np.array(cap_eff)-np.array(cap_err),np.array(cap_eff)+np.array(cap_err),color='xkcd:light orange',alpha=0.3)\n",
    "\n",
    "ax.plot(energies, scatt_eff, c = 'xkcd:deep blue', label = 'All scatter events', linestyle = '--')\n",
    "ax.errorbar(energies, scatt_eff, yerr = scatt_err, fmt = 'none', ecolor = 'xkcd:deep blue')\n",
    "\n",
    "ax.fill_between(energies,np.array(scatt_eff)-3*np.array(scatt_err),np.array(scatt_eff)+3*np.array(scatt_err),color='xkcd:light blue',alpha=0.3)\n",
    "ax.fill_between(energies,np.array(scatt_eff)-2*np.array(scatt_err),np.array(scatt_eff)+2*np.array(scatt_err),color='xkcd:light blue',alpha=0.3)\n",
    "ax.fill_between(energies,np.array(scatt_eff)-np.array(scatt_err),np.array(scatt_eff)+np.array(scatt_err),color='xkcd:light blue',alpha=0.3)\n",
    "\n",
    "\n",
    "ax.plot(energies, scatt_1_eff, c = 'b', label = '1 detectable scatter')\n",
    "ax.errorbar(energies, scatt_1_eff, yerr = scatt_1_err, fmt = 'none', ecolor = 'b')\n",
    "\n",
    "ax.plot(energies, scatt_2_eff, c = 'xkcd:light blue', label = '2 detectable scatters')\n",
    "ax.errorbar(energies, scatt_2_eff, yerr = scatt_2_err, fmt = 'none', ecolor = 'xkcd:deep blue')\n",
    "\n",
    "ax.plot(energies, cap_scatt_1_eff, c = 'r', label = '1 scatter + capture')\n",
    "ax.errorbar(energies, cap_scatt_1_eff, yerr = cap_scatt_1_err, fmt = 'none', ecolor = 'r')\n",
    "\n",
    "ax.plot(energies, cap_scatt_2_eff, c = 'xkcd:dark red', label = '2 scatters + capture')\n",
    "ax.errorbar(energies, cap_scatt_2_eff, yerr = cap_scatt_2_err, fmt = 'none', ecolor = 'xkcd:dark red')\n",
    "\n",
    "\n",
    "\n",
    "ax2.plot(energies, cap_eff, c = 'xkcd:tangerine', label = 'All captured events', linestyle = '--')\n",
    "ax2.errorbar(energies, cap_eff, yerr = cap_err, fmt = 'none', ecolor = 'xkcd:tangerine')\n",
    "ax2.fill_between(energies,np.array(cap_eff)-3*np.array(cap_err),np.array(cap_eff)+3*np.array(cap_err),color='xkcd:goldenrod',alpha=0.3)\n",
    "ax2.fill_between(energies,np.array(cap_eff)-2*np.array(cap_err),np.array(cap_eff)+2*np.array(cap_err),color='xkcd:light orange',alpha=0.3)\n",
    "ax2.fill_between(energies,np.array(cap_eff)-np.array(cap_err),np.array(cap_eff)+np.array(cap_err),color='xkcd:light orange',alpha=0.3)\n",
    "ax2.plot(energies, scatt_eff, c = 'xkcd:deep blue', label = 'All scatter events', linestyle = '--')\n",
    "ax2.fill_between(energies,np.array(scatt_eff)-3*np.array(scatt_err),np.array(scatt_eff)+3*np.array(scatt_err),color='xkcd:baby blue',alpha=0.3)\n",
    "ax2.fill_between(energies,np.array(scatt_eff)-2*np.array(scatt_err),np.array(scatt_eff)+2*np.array(scatt_err),color='xkcd:sky blue',alpha=0.3)\n",
    "ax2.fill_between(energies,np.array(scatt_eff)-np.array(scatt_err),np.array(scatt_eff)+np.array(scatt_err),color='xkcd:cerulean blue',alpha=0.3)\n",
    "\n",
    "\n",
    "ax2.errorbar(energies, scatt_eff, yerr = scatt_err, fmt = 'none', ecolor = 'xkcd:deep blue')\n",
    "ax2.plot(energies, scatt_1_eff, c = 'b', label = '1 detectable scatter')\n",
    "ax2.errorbar(energies, scatt_1_eff, yerr = scatt_1_err, fmt = 'none', ecolor = 'b')\n",
    "ax2.plot(energies, scatt_2_eff, c = 'xkcd:light blue', label = '2 detectable scatters')\n",
    "ax2.errorbar(energies, scatt_2_eff, yerr = scatt_2_err, fmt = 'none', ecolor = 'xkcd:light blue')\n",
    "ax2.plot(energies, cap_scatt_1_eff, c = 'r', label = '1 scatter + capture')\n",
    "ax2.errorbar(energies, cap_scatt_1_eff, yerr = cap_scatt_1_err, fmt = 'none', ecolor = 'r')\n",
    "ax2.plot(energies, cap_scatt_2_eff, c = 'xkcd:dark red', label = '2 scatters + capture')\n",
    "ax2.errorbar(energies, cap_scatt_2_eff, yerr = cap_scatt_2_err, fmt = 'none', ecolor = 'xkcd:dark red')\n",
    "\n",
    "ax2.set_xscale('log')\n",
    "\n",
    "ax4 = ax.twinx()\n",
    "ax4.plot(dose_eq_curves['En / MeV'].values,dose_eq_curves['H*(10) / pSv.cm2'],c='g')\n",
    "#ax4.set_ylabel(r'$H^*(10)$ / pSv.cm$^2$',fontsize=24,c='g')\n",
    "#ax4.tick_params(axis='y',labelcolor='g')\n",
    "\n",
    "\n",
    "ax3 = ax2.twinx()\n",
    "ax3.plot(dose_eq_curves['En / MeV'].values,dose_eq_curves['H*(10) / pSv.cm2'],c='g')\n",
    "ax3.set_ylabel(r'$H^*(10)$ / pSv.cm$^2$',fontsize=24,c='g')\n",
    "ax3.tick_params(axis='y',labelcolor='g')\n",
    "\n",
    "\n",
    "#ax2.set_xlabel('Energy / MeV',fontsize=24)\n",
    "ax.set_ylabel('Detection efficiency / $\\%$',fontsize=24)\n",
    "ax2.legend(markerscale = 2, scatterpoints = 3, loc = 'upper left')\n",
    "ax.set_xscale('log')\n",
    "ax.set_xlim(1e-8,1e-7)\n",
    "ax2.set_xlim(0.01,100)\n",
    "\n",
    "ax.yaxis.tick_left()\n",
    "#ax.tick_params(axis='y',which='both',right='False',labelright='off')\n",
    "#ax4.tick_params(axis='y',which='both',right='False',labelright = 'off')\n",
    "\n",
    "#ax2.tick_params(axis='y',which='both',right='False',left='False',labelright='off',labelleft='off')\n",
    "ax3.yaxis.tick_right()\n",
    "ax.spines['right'].set_visible(False)\n",
    "ax3.spines['left'].set_visible(False)\n",
    "ax2.spines['left'].set_visible(False)\n",
    "ax4.spines['right'].set_visible(False)\n",
    "ax4.set_yticks([])\n",
    "ax4.set_yticks([],minor=True)\n",
    "ax2.set_yticks([])\n",
    "ax2.set_yticks([],minor=True)\n",
    "#ax.minorticks_off()\n",
    "\n",
    "d = .015 # how big to make the diagonal lines in axes coordinates\n",
    "# arguments to pass plot, just so we don't keep repeating them\n",
    "kwargs = dict(transform=ax.transAxes, color='k', clip_on=False)\n",
    "ax.plot((1-d/2,1+d/2), (-d/2,+d/2), **kwargs)\n",
    "ax.plot((1-d/2,1+d/2),(1-d/2,1+d/2), **kwargs)\n",
    "\n",
    "kwargs.update(transform=ax2.transAxes)  # switch to the bottom axes\n",
    "ax2.plot((-d/9,d/9), (1-d/2,1+d/2), **kwargs)\n",
    "ax2.plot((-d/9,d/9), (-d/2,+d/2), **kwargs)\n",
    "\n",
    "fig.suptitle('Simulated detection efficiency',fontsize=32)\n",
    "fig.text(0.45, 0.04, 'Energy / MeV', va='center',fontsize=24)\n",
    "ax.tick_params(axis='x',labelsize=18)\n",
    "ax2.tick_params(axis='x',labelsize=18)\n",
    "ax.tick_params(axis='y',labelsize=18)\n",
    "ax2.tick_params(axis='y',labelsize=18)\n",
    "ax3.tick_params(axis='y',labelsize=18)\n",
    "ax.set_xticklabels([],minor=True)"
   ]
  },
  {
   "cell_type": "code",
   "execution_count": 140,
   "id": "d8604236",
   "metadata": {},
   "outputs": [
    {
     "ename": "ValueError",
     "evalue": "x and y must have same first dimension, but have shapes (19,) and (16,)",
     "output_type": "error",
     "traceback": [
      "\u001b[0;31m---------------------------------------------------------------------------\u001b[0m",
      "\u001b[0;31mValueError\u001b[0m                                Traceback (most recent call last)",
      "\u001b[0;32m/tmp/ipykernel_14915/3546289054.py\u001b[0m in \u001b[0;36m<module>\u001b[0;34m\u001b[0m\n\u001b[1;32m      7\u001b[0m \u001b[0;34m\u001b[0m\u001b[0m\n\u001b[1;32m      8\u001b[0m \u001b[0;34m\u001b[0m\u001b[0m\n\u001b[0;32m----> 9\u001b[0;31m \u001b[0max\u001b[0m\u001b[0;34m.\u001b[0m\u001b[0mplot\u001b[0m\u001b[0;34m(\u001b[0m\u001b[0menergies\u001b[0m\u001b[0;34m,\u001b[0m \u001b[0mcap_eff\u001b[0m\u001b[0;34m[\u001b[0m\u001b[0;34m:\u001b[0m\u001b[0;34m-\u001b[0m\u001b[0;36m3\u001b[0m\u001b[0;34m]\u001b[0m\u001b[0;34m,\u001b[0m \u001b[0mc\u001b[0m \u001b[0;34m=\u001b[0m \u001b[0;34m'xkcd:tangerine'\u001b[0m\u001b[0;34m,\u001b[0m \u001b[0mlabel\u001b[0m \u001b[0;34m=\u001b[0m \u001b[0;34m'All captured events'\u001b[0m\u001b[0;34m,\u001b[0m \u001b[0mlinestyle\u001b[0m \u001b[0;34m=\u001b[0m \u001b[0;34m'--'\u001b[0m\u001b[0;34m)\u001b[0m\u001b[0;34m\u001b[0m\u001b[0;34m\u001b[0m\u001b[0m\n\u001b[0m\u001b[1;32m     10\u001b[0m \u001b[0max\u001b[0m\u001b[0;34m.\u001b[0m\u001b[0merrorbar\u001b[0m\u001b[0;34m(\u001b[0m\u001b[0menergies\u001b[0m\u001b[0;34m,\u001b[0m \u001b[0mcap_eff\u001b[0m\u001b[0;34m[\u001b[0m\u001b[0;34m:\u001b[0m\u001b[0;34m-\u001b[0m\u001b[0;36m3\u001b[0m\u001b[0;34m]\u001b[0m\u001b[0;34m,\u001b[0m \u001b[0myerr\u001b[0m \u001b[0;34m=\u001b[0m \u001b[0mcap_err\u001b[0m\u001b[0;34m[\u001b[0m\u001b[0;34m:\u001b[0m\u001b[0;34m-\u001b[0m\u001b[0;36m3\u001b[0m\u001b[0;34m]\u001b[0m\u001b[0;34m,\u001b[0m \u001b[0mfmt\u001b[0m \u001b[0;34m=\u001b[0m \u001b[0;34m'none'\u001b[0m\u001b[0;34m,\u001b[0m \u001b[0mecolor\u001b[0m \u001b[0;34m=\u001b[0m \u001b[0;34m'xkcd:tangerine'\u001b[0m\u001b[0;34m)\u001b[0m\u001b[0;34m\u001b[0m\u001b[0;34m\u001b[0m\u001b[0m\n\u001b[1;32m     11\u001b[0m \u001b[0;34m\u001b[0m\u001b[0m\n",
      "\u001b[0;32m~/miniconda3/lib/python3.7/site-packages/matplotlib/axes/_axes.py\u001b[0m in \u001b[0;36mplot\u001b[0;34m(self, scalex, scaley, data, *args, **kwargs)\u001b[0m\n\u001b[1;32m   1663\u001b[0m         \"\"\"\n\u001b[1;32m   1664\u001b[0m         \u001b[0mkwargs\u001b[0m \u001b[0;34m=\u001b[0m \u001b[0mcbook\u001b[0m\u001b[0;34m.\u001b[0m\u001b[0mnormalize_kwargs\u001b[0m\u001b[0;34m(\u001b[0m\u001b[0mkwargs\u001b[0m\u001b[0;34m,\u001b[0m \u001b[0mmlines\u001b[0m\u001b[0;34m.\u001b[0m\u001b[0mLine2D\u001b[0m\u001b[0;34m.\u001b[0m\u001b[0m_alias_map\u001b[0m\u001b[0;34m)\u001b[0m\u001b[0;34m\u001b[0m\u001b[0;34m\u001b[0m\u001b[0m\n\u001b[0;32m-> 1665\u001b[0;31m         \u001b[0mlines\u001b[0m \u001b[0;34m=\u001b[0m \u001b[0;34m[\u001b[0m\u001b[0;34m*\u001b[0m\u001b[0mself\u001b[0m\u001b[0;34m.\u001b[0m\u001b[0m_get_lines\u001b[0m\u001b[0;34m(\u001b[0m\u001b[0;34m*\u001b[0m\u001b[0margs\u001b[0m\u001b[0;34m,\u001b[0m \u001b[0mdata\u001b[0m\u001b[0;34m=\u001b[0m\u001b[0mdata\u001b[0m\u001b[0;34m,\u001b[0m \u001b[0;34m**\u001b[0m\u001b[0mkwargs\u001b[0m\u001b[0;34m)\u001b[0m\u001b[0;34m]\u001b[0m\u001b[0;34m\u001b[0m\u001b[0;34m\u001b[0m\u001b[0m\n\u001b[0m\u001b[1;32m   1666\u001b[0m         \u001b[0;32mfor\u001b[0m \u001b[0mline\u001b[0m \u001b[0;32min\u001b[0m \u001b[0mlines\u001b[0m\u001b[0;34m:\u001b[0m\u001b[0;34m\u001b[0m\u001b[0;34m\u001b[0m\u001b[0m\n\u001b[1;32m   1667\u001b[0m             \u001b[0mself\u001b[0m\u001b[0;34m.\u001b[0m\u001b[0madd_line\u001b[0m\u001b[0;34m(\u001b[0m\u001b[0mline\u001b[0m\u001b[0;34m)\u001b[0m\u001b[0;34m\u001b[0m\u001b[0;34m\u001b[0m\u001b[0m\n",
      "\u001b[0;32m~/miniconda3/lib/python3.7/site-packages/matplotlib/axes/_base.py\u001b[0m in \u001b[0;36m__call__\u001b[0;34m(self, *args, **kwargs)\u001b[0m\n\u001b[1;32m    223\u001b[0m                 \u001b[0mthis\u001b[0m \u001b[0;34m+=\u001b[0m \u001b[0margs\u001b[0m\u001b[0;34m[\u001b[0m\u001b[0;36m0\u001b[0m\u001b[0;34m]\u001b[0m\u001b[0;34m,\u001b[0m\u001b[0;34m\u001b[0m\u001b[0;34m\u001b[0m\u001b[0m\n\u001b[1;32m    224\u001b[0m                 \u001b[0margs\u001b[0m \u001b[0;34m=\u001b[0m \u001b[0margs\u001b[0m\u001b[0;34m[\u001b[0m\u001b[0;36m1\u001b[0m\u001b[0;34m:\u001b[0m\u001b[0;34m]\u001b[0m\u001b[0;34m\u001b[0m\u001b[0;34m\u001b[0m\u001b[0m\n\u001b[0;32m--> 225\u001b[0;31m             \u001b[0;32myield\u001b[0m \u001b[0;32mfrom\u001b[0m \u001b[0mself\u001b[0m\u001b[0;34m.\u001b[0m\u001b[0m_plot_args\u001b[0m\u001b[0;34m(\u001b[0m\u001b[0mthis\u001b[0m\u001b[0;34m,\u001b[0m \u001b[0mkwargs\u001b[0m\u001b[0;34m)\u001b[0m\u001b[0;34m\u001b[0m\u001b[0;34m\u001b[0m\u001b[0m\n\u001b[0m\u001b[1;32m    226\u001b[0m \u001b[0;34m\u001b[0m\u001b[0m\n\u001b[1;32m    227\u001b[0m     \u001b[0;32mdef\u001b[0m \u001b[0mget_next_color\u001b[0m\u001b[0;34m(\u001b[0m\u001b[0mself\u001b[0m\u001b[0;34m)\u001b[0m\u001b[0;34m:\u001b[0m\u001b[0;34m\u001b[0m\u001b[0;34m\u001b[0m\u001b[0m\n",
      "\u001b[0;32m~/miniconda3/lib/python3.7/site-packages/matplotlib/axes/_base.py\u001b[0m in \u001b[0;36m_plot_args\u001b[0;34m(self, tup, kwargs)\u001b[0m\n\u001b[1;32m    389\u001b[0m             \u001b[0mx\u001b[0m\u001b[0;34m,\u001b[0m \u001b[0my\u001b[0m \u001b[0;34m=\u001b[0m \u001b[0mindex_of\u001b[0m\u001b[0;34m(\u001b[0m\u001b[0mtup\u001b[0m\u001b[0;34m[\u001b[0m\u001b[0;34m-\u001b[0m\u001b[0;36m1\u001b[0m\u001b[0;34m]\u001b[0m\u001b[0;34m)\u001b[0m\u001b[0;34m\u001b[0m\u001b[0;34m\u001b[0m\u001b[0m\n\u001b[1;32m    390\u001b[0m \u001b[0;34m\u001b[0m\u001b[0m\n\u001b[0;32m--> 391\u001b[0;31m         \u001b[0mx\u001b[0m\u001b[0;34m,\u001b[0m \u001b[0my\u001b[0m \u001b[0;34m=\u001b[0m \u001b[0mself\u001b[0m\u001b[0;34m.\u001b[0m\u001b[0m_xy_from_xy\u001b[0m\u001b[0;34m(\u001b[0m\u001b[0mx\u001b[0m\u001b[0;34m,\u001b[0m \u001b[0my\u001b[0m\u001b[0;34m)\u001b[0m\u001b[0;34m\u001b[0m\u001b[0;34m\u001b[0m\u001b[0m\n\u001b[0m\u001b[1;32m    392\u001b[0m \u001b[0;34m\u001b[0m\u001b[0m\n\u001b[1;32m    393\u001b[0m         \u001b[0;32mif\u001b[0m \u001b[0mself\u001b[0m\u001b[0;34m.\u001b[0m\u001b[0mcommand\u001b[0m \u001b[0;34m==\u001b[0m \u001b[0;34m'plot'\u001b[0m\u001b[0;34m:\u001b[0m\u001b[0;34m\u001b[0m\u001b[0;34m\u001b[0m\u001b[0m\n",
      "\u001b[0;32m~/miniconda3/lib/python3.7/site-packages/matplotlib/axes/_base.py\u001b[0m in \u001b[0;36m_xy_from_xy\u001b[0;34m(self, x, y)\u001b[0m\n\u001b[1;32m    268\u001b[0m         \u001b[0;32mif\u001b[0m \u001b[0mx\u001b[0m\u001b[0;34m.\u001b[0m\u001b[0mshape\u001b[0m\u001b[0;34m[\u001b[0m\u001b[0;36m0\u001b[0m\u001b[0;34m]\u001b[0m \u001b[0;34m!=\u001b[0m \u001b[0my\u001b[0m\u001b[0;34m.\u001b[0m\u001b[0mshape\u001b[0m\u001b[0;34m[\u001b[0m\u001b[0;36m0\u001b[0m\u001b[0;34m]\u001b[0m\u001b[0;34m:\u001b[0m\u001b[0;34m\u001b[0m\u001b[0;34m\u001b[0m\u001b[0m\n\u001b[1;32m    269\u001b[0m             raise ValueError(\"x and y must have same first dimension, but \"\n\u001b[0;32m--> 270\u001b[0;31m                              \"have shapes {} and {}\".format(x.shape, y.shape))\n\u001b[0m\u001b[1;32m    271\u001b[0m         \u001b[0;32mif\u001b[0m \u001b[0mx\u001b[0m\u001b[0;34m.\u001b[0m\u001b[0mndim\u001b[0m \u001b[0;34m>\u001b[0m \u001b[0;36m2\u001b[0m \u001b[0;32mor\u001b[0m \u001b[0my\u001b[0m\u001b[0;34m.\u001b[0m\u001b[0mndim\u001b[0m \u001b[0;34m>\u001b[0m \u001b[0;36m2\u001b[0m\u001b[0;34m:\u001b[0m\u001b[0;34m\u001b[0m\u001b[0;34m\u001b[0m\u001b[0m\n\u001b[1;32m    272\u001b[0m             raise ValueError(\"x and y can be no greater than 2-D, but have \"\n",
      "\u001b[0;31mValueError\u001b[0m: x and y must have same first dimension, but have shapes (19,) and (16,)"
     ]
    }
   ],
   "source": [
    "#fig,(ax, ax2) = plt.subplots(1,2,sharey=True)\n",
    "gs = gridspec.GridSpec(1,4)\n",
    "\n",
    "fig = plt.figure()\n",
    "ax = fig.add_subplot(gs[:,0])\n",
    "ax2 = fig.add_subplot(gs[:,1:])\n",
    "\n",
    "\n",
    "ax.plot(energies, cap_eff[:-3], c = 'xkcd:tangerine', label = 'All captured events', linestyle = '--')\n",
    "ax.errorbar(energies, cap_eff[:-3], yerr = cap_err[:-3], fmt = 'none', ecolor = 'xkcd:tangerine')\n",
    "\n",
    "ax.fill_between(energies,np.array(cap_eff[:-3])-3*np.array(cap_err[:-3]),np.array(cap_eff[:-3])+3*np.array(cap_err[:-3]),color='xkcd:goldenrod',alpha=0.3)\n",
    "ax.fill_between(energies,np.array(cap_eff[:-3])-2*np.array(cap_err[:-3]),np.array(cap_eff[:-3])+2*np.array(cap_err[:-3]),color='xkcd:light orange',alpha=0.3)\n",
    "ax.fill_between(energies,np.array(cap_eff[:-3])-np.array(cap_err[:-3]),np.array(cap_eff[:-3])+np.array(cap_err[:-3]),color='xkcd:light orange',alpha=0.3)\n",
    "\n",
    "ax.plot(energies, scatt_eff[:-3], c = 'xkcd:deep blue', label = 'All scatter events', linestyle = '--')\n",
    "ax.errorbar(energies, scatt_eff[:-3], yerr = scatt_err[:-3], fmt = 'none', ecolor = 'xkcd:deep blue')\n",
    "\n",
    "ax.fill_between(energies,np.array(scatt_eff[:-3])-3*np.array(scatt_err[:-3]),np.array(scatt_eff[:-3])+3*np.array(scatt_err[:-3]),color='xkcd:light blue',alpha=0.3)\n",
    "ax.fill_between(energies,np.array(scatt_eff[:-3])-2*np.array(scatt_err[:-3]),np.array(scatt_eff[:-3])+2*np.array(scatt_err[:-3]),color='xkcd:light blue',alpha=0.3)\n",
    "ax.fill_between(energies,np.array(scatt_eff[:-3])-np.array(scatt_err[:-3]),np.array(scatt_eff[:-3])+np.array(scatt_err[:-3]),color='xkcd:light blue',alpha=0.3)\n",
    "\n",
    "\n",
    "ax.plot(energies, scatt_1_eff[:-3], c = 'b', label = '1 detectable scatter')\n",
    "ax.errorbar(energies, scatt_1_eff[:-3], yerr = scatt_1_err[:-3], fmt = 'none', ecolor = 'b')\n",
    "\n",
    "ax.plot(energies, scatt_2_eff[:-3], c = 'xkcd:light blue', label = '2 detectable scatters')\n",
    "ax.errorbar(energies, scatt_2_eff[:-3], yerr = scatt_2_err[:-3], fmt = 'none', ecolor = 'xkcd:deep blue')\n",
    "\n",
    "ax.plot(energies, cap_scatt_1_eff[:-3], c = 'r', label = '1 scatter + capture')\n",
    "ax.errorbar(energies, cap_scatt_1_eff[:-3], yerr = cap_scatt_1_err[:-3], fmt = 'none', ecolor = 'r')\n",
    "\n",
    "ax.plot(energies, cap_scatt_2_eff[:-3], c = 'xkcd:dark red', label = '2 scatters + capture')\n",
    "ax.errorbar(energies, cap_scatt_2_eff[:-3], yerr = cap_scatt_2_err[:-3], fmt = 'none', ecolor = 'xkcd:dark red')\n",
    "\n",
    "\n",
    "\n",
    "ax2.plot(energies, cap_eff[:-3], c = 'xkcd:tangerine', label = 'All captured events', linestyle = '--')\n",
    "ax2.errorbar(energies, cap_eff[:-3], yerr = cap_err[:-3], fmt = 'none', ecolor = 'xkcd:tangerine')\n",
    "ax2.fill_between(energies,np.array(cap_eff[:-3])-3*np.array(cap_err[:-3]),np.array(cap_eff[:-3])+3*np.array(cap_err[:-3]),color='xkcd:goldenrod',alpha=0.3)\n",
    "ax2.fill_between(energies,np.array(cap_eff[:-3])-2*np.array(cap_err[:-3]),np.array(cap_eff[:-3])+2*np.array(cap_err[:-3]),color='xkcd:light orange',alpha=0.3)\n",
    "ax2.fill_between(energies,np.array(cap_eff[:-3])-np.array(cap_err[:-3]),np.array(cap_eff[:-3])+np.array(cap_err[:-3]),color='xkcd:light orange',alpha=0.3)\n",
    "ax2.plot(energies, scatt_eff[:-3], c = 'xkcd:deep blue', label = 'All scatter events', linestyle = '--')\n",
    "ax2.fill_between(energies,np.array(scatt_eff[:-3])-3*np.array(scatt_err[:-3]),np.array(scatt_eff[:-3])+3*np.array(scatt_err[:-3]),color='xkcd:baby blue',alpha=0.3)\n",
    "ax2.fill_between(energies,np.array(scatt_eff[:-3])-2*np.array(scatt_err[:-3]),np.array(scatt_eff[:-3])+2*np.array(scatt_err[:-3]),color='xkcd:sky blue',alpha=0.3)\n",
    "ax2.fill_between(energies,np.array(scatt_eff[:-3])-np.array(scatt_err[:-3]),np.array(scatt_eff[:-3])+np.array(scatt_err[:-3]),color='xkcd:cerulean blue',alpha=0.3)\n",
    "\n",
    "\n",
    "ax2.errorbar(energies, scatt_eff[:-3], yerr = scatt_err[:-3], fmt = 'none', ecolor = 'xkcd:deep blue')\n",
    "ax2.plot(energies, scatt_1_eff[:-3], c = 'b', label = '1 detectable scatter')\n",
    "ax2.errorbar(energies, scatt_1_eff[:-3], yerr = scatt_1_err[:-3], fmt = 'none', ecolor = 'b')\n",
    "ax2.plot(energies, scatt_2_eff[:-3], c = 'xkcd:light blue', label = '2 detectable scatters')\n",
    "ax2.errorbar(energies, scatt_2_eff[:-3], yerr = scatt_2_err[:-3], fmt = 'none', ecolor = 'xkcd:light blue')\n",
    "ax2.plot(energies, cap_scatt_1_eff[:-3], c = 'r', label = '1 scatter + capture')\n",
    "ax2.errorbar(energies, cap_scatt_1_eff[:-3], yerr = cap_scatt_1_err[:-3], fmt = 'none', ecolor = 'r')\n",
    "ax2.plot(energies, cap_scatt_2_eff[:-3], c = 'xkcd:dark red', label = '2 scatters + capture')\n",
    "ax2.errorbar(energies, cap_scatt_2_eff[:-3], yerr = cap_scatt_2_err[:-3], fmt = 'none', ecolor = 'xkcd:dark red')\n",
    "\n",
    "ax2.set_xscale('log')\n",
    "\n",
    "ax4 = ax.twinx()\n",
    "ax4.plot(dose_eq_curves['En / MeV'].values,dose_eq_curves['H*(10) / pSv.cm2'],c='g')\n",
    "#ax4.set_ylabel(r'$H^*(10)$ / pSv.cm$^2$',fontsize=24,c='g')\n",
    "#ax4.tick_params(axis='y',labelcolor='g')\n",
    "\n",
    "\n",
    "ax3 = ax2.twinx()\n",
    "ax3.plot(dose_eq_curves['En / MeV'].values,dose_eq_curves['H*(10) / pSv.cm2'],c='g')\n",
    "ax3.set_ylabel(r'$H^*(10)$ / pSv.cm$^2$',fontsize=24,c='g')\n",
    "ax3.tick_params(axis='y',labelcolor='g')\n",
    "\n",
    "\n",
    "#ax2.set_xlabel('Energy / MeV',fontsize=24)\n",
    "ax.set_ylabel('Detection efficiency / $\\%$',fontsize=24)\n",
    "ax2.legend(markerscale = 2, scatterpoints = 3, loc = 'upper left')\n",
    "ax.set_xscale('log')\n",
    "ax.set_xlim(5e-9,1e-7)\n",
    "ax2.set_xlim(0.01,100)\n",
    "\n",
    "ax.yaxis.tick_left()\n",
    "#ax.tick_params(axis='y',which='both',right='False',labelright='off')\n",
    "#ax4.tick_params(axis='y',which='both',right='False',labelright = 'off')\n",
    "\n",
    "#ax2.tick_params(axis='y',which='both',right='False',left='False',labelright='off',labelleft='off')\n",
    "ax3.yaxis.tick_right()\n",
    "ax.spines['right'].set_visible(False)\n",
    "ax3.spines['left'].set_visible(False)\n",
    "ax2.spines['left'].set_visible(False)\n",
    "ax4.spines['right'].set_visible(False)\n",
    "ax4.set_yticks([])\n",
    "ax4.set_yticks([],minor=True)\n",
    "ax2.set_yticks([])\n",
    "ax2.set_yticks([],minor=True)\n",
    "\n",
    "d = .015 # how big to make the diagonal lines in axes coordinates\n",
    "# arguments to pass plot, just so we don't keep repeating them\n",
    "kwargs = dict(transform=ax.transAxes, color='k', clip_on=False)\n",
    "ax.plot((1-d/2,1+d/2), (-d/2,+d/2), **kwargs)\n",
    "ax.plot((1-d/2,1+d/2),(1-d/2,1+d/2), **kwargs)\n",
    "\n",
    "kwargs.update(transform=ax2.transAxes)  # switch to the bottom axes\n",
    "ax2.plot((-d/9,d/9), (1-d/2,1+d/2), **kwargs)\n",
    "ax2.plot((-d/9,d/9), (-d/2,+d/2), **kwargs)\n",
    "\n",
    "fig.suptitle('Simulated detection efficiency',fontsize=32)\n",
    "fig.text(0.45, 0.04, 'Energy / MeV', va='center',fontsize=24)\n",
    "ax.tick_params(axis='x',labelsize=18)\n",
    "ax2.tick_params(axis='x',labelsize=18)\n",
    "ax.tick_params(axis='y',labelsize=18)\n",
    "ax2.tick_params(axis='y',labelsize=18)\n",
    "ax3.tick_params(axis='y',labelsize=18)\n"
   ]
  },
  {
   "cell_type": "markdown",
   "id": "342986c0",
   "metadata": {},
   "source": [
    "## Simulated detection efficiency\n",
    "\n",
    "![Sim detection efficiency](Plots/Sim_detection_eff.png)"
   ]
  },
  {
   "cell_type": "markdown",
   "id": "fdd37ca5",
   "metadata": {},
   "source": [
    "It is important to note that the point for the capture efficiency at thermal energies cannot be easily shown on this graph due to the scale (otherwise it is difficult to see the variation at high energy), but it is ~70% at 0.025 eV. \n",
    "\n",
    "There are a few key takeaways from this plot:\n",
    "* Capture efficiency decreases as a function of energy reasonably slowly until about 1 MeV\n",
    "* Scatter efficiency rises quickly from the scatter detection threshold of 480 keV up to about 60% in the 2-5 MeV range, until it decreases rapidly with increasing energy as neutrons have sufficient energy to pass through the detector without scattering\n",
    "* For measuring neutrons that both scatter and capture the best efficiency is in the 1-5 MeV region, as the 1 scatter + capture efficiency decreases as the 2 scatter + capture becomes measureable."
   ]
  },
  {
   "cell_type": "code",
   "execution_count": 12,
   "id": "34af8425",
   "metadata": {},
   "outputs": [
    {
     "data": {
      "text/plain": [
       "['AmBe, avg energy 4.210736158652032',\n",
       " 'AmLi, avg energy 0.5531349146160244',\n",
       " 'Cf252, avg energy 2.1758734457551316']"
      ]
     },
     "execution_count": 12,
     "metadata": {},
     "output_type": "execute_result"
    }
   ],
   "source": []
  },
  {
   "cell_type": "code",
   "execution_count": 11,
   "id": "eed421c2",
   "metadata": {},
   "outputs": [],
   "source": [
    "colours = ['green','blue','red']\n",
    "source_e = [float(s.split(' ')[-1]) for s in sources]\n",
    "stds = list(stds.values())\n"
   ]
  },
  {
   "cell_type": "code",
   "execution_count": 4,
   "id": "15ea5a6c",
   "metadata": {},
   "outputs": [],
   "source": [
    "fluence_rates = {'144 keV':1.399,\n",
    "                 '144 keV shadowcone':1.378,\n",
    "                 '144 keV -30deg':1.395,\n",
    "                 '144 keV -45deg':1.392,\n",
    "                 '144 keV -60deg':1.361,\n",
    "                 '144 keV -90deg':1.359,\n",
    "                 '144 keV -135deg':1.337,\n",
    "                 '144 keV -135deg shadowcone':1.503,\n",
    "                 '144 keV -180deg':1.432,\n",
    "                 '144 keV -210deg':1.414,\n",
    "                 '144 keV -225d eg':1.412,\n",
    "                 '144 keV -240deg':1.415,\n",
    "                 '144 keV -240deg shadowcone':1.392,\n",
    "                 '144 keV -270deg':1.379,\n",
    "                 '144 keV -315deg':1.369,\n",
    "                 '1.2 MeV':1.664,\n",
    "                 '1.2 MeV shadowcone':1.694,\n",
    "                 '1.2 MeV -30deg':1.683,\n",
    "                 '1.2 MeV -30deg shadowcone':1.595,\n",
    "                 '1.2 MeV -45deg':1.552,\n",
    "                 '1.2 MeV -45deg shadowcone':1.478,\n",
    "                 '1.2 MeV -60deg':1.540,\n",
    "                 '1.2 MeV -60deg shadowcone':1.544}\n",
    "\n",
    "fl_uncertainty = {'144 keV':0.071, '1.2 MeV':0.06}\n"
   ]
  },
  {
   "cell_type": "code",
   "execution_count": 5,
   "id": "36b7522c",
   "metadata": {},
   "outputs": [
    {
     "name": "stdout",
     "output_type": "stream",
     "text": [
      "Finished loading /home/nr1315/Documents/Project/NPL_2021/vdg_1um_Li7target19A_433cm_0deg.root\n",
      "------------------------------\n",
      "Finished loading /home/nr1315/Documents/Project/NPL_2021/vdg_1um_Li7target19A_433cm_0deg_shadowcone.root\n",
      "------------------------------\n",
      "Finished loading /home/nr1315/Documents/Project/NPL_2021/vdg_1um_1_2_MeV_target3_2.root\n",
      "------------------------------\n",
      "Finished loading /home/nr1315/Documents/Project/NPL_2021/vdg_1um_1_2_MeV_target3_shadowcone.root\n",
      "------------------------------\n"
     ]
    }
   ],
   "source": [
    "real_effs = []\n",
    "real_errs = []\n",
    "real_es = [0.144,1.2]\n",
    "\n",
    "rv = RVS.RealVsSimAnalysis()\n",
    "rv.add_real_data('/home/nr1315/Documents/Project/NPL_2021/vdg_1um_Li7target19A_433cm_0deg.root','144 keV')\n",
    "rv.add_real_data('/home/nr1315/Documents/Project/NPL_2021/vdg_1um_Li7target19A_433cm_0deg_shadowcone.root','144 keV shadowcone')\n",
    "sub_r,sub_r_err,real_r,real_r_err = rv.get_sdc_subtracted('144 keV','144 keV shadowcone',fluence_rates,fl_uncertainty)\n",
    "sub_r = sub_r.sum()\n",
    "sub_r_err = np.sqrt((sub_r_err**2).sum())\n",
    "\n",
    "real_effs.append(sub_r/real_r)\n",
    "real_errs.append(real_effs[0]*np.sqrt((sub_r_err**2/sub_r**2 + real_r_err**2/real_r**2)))\n",
    "\n",
    "\n",
    "rv = RVS.RealVsSimAnalysis()\n",
    "rv.add_real_data('/home/nr1315/Documents/Project/NPL_2021/vdg_1um_1_2_MeV_target3_2.root','1.2 MeV')\n",
    "rv.add_real_data('/home/nr1315/Documents/Project/NPL_2021/vdg_1um_1_2_MeV_target3_shadowcone.root','1.2 MeV shadowcone')\n",
    "sub_r,sub_r_err,real_r,real_r_err = rv.get_sdc_subtracted('1.2 MeV','1.2 MeV shadowcone',fluence_rates,fl_uncertainty)\n",
    "sub_r = sub_r.sum()\n",
    "sub_r_err = np.sqrt((sub_r_err**2).sum())\n",
    "\n",
    "real_effs.append(sub_r/real_r)\n",
    "real_errs.append(real_effs[1]*np.sqrt((sub_r_err**2/sub_r**2 + real_r_err**2/real_r**2)))"
   ]
  },
  {
   "cell_type": "code",
   "execution_count": 148,
   "id": "5945a34e",
   "metadata": {},
   "outputs": [
    {
     "ename": "ValueError",
     "evalue": "x and y must have same first dimension, but have shapes (19,) and (16,)",
     "output_type": "error",
     "traceback": [
      "\u001b[0;31m---------------------------------------------------------------------------\u001b[0m",
      "\u001b[0;31mValueError\u001b[0m                                Traceback (most recent call last)",
      "\u001b[0;32m/tmp/ipykernel_14915/2819692720.py\u001b[0m in \u001b[0;36m<module>\u001b[0;34m\u001b[0m\n\u001b[1;32m      2\u001b[0m \u001b[0max\u001b[0m \u001b[0;34m=\u001b[0m \u001b[0mfig\u001b[0m\u001b[0;34m.\u001b[0m\u001b[0madd_subplot\u001b[0m\u001b[0;34m(\u001b[0m\u001b[0;36m111\u001b[0m\u001b[0;34m)\u001b[0m\u001b[0;34m\u001b[0m\u001b[0;34m\u001b[0m\u001b[0m\n\u001b[1;32m      3\u001b[0m \u001b[0;34m\u001b[0m\u001b[0m\n\u001b[0;32m----> 4\u001b[0;31m \u001b[0max\u001b[0m\u001b[0;34m.\u001b[0m\u001b[0mplot\u001b[0m\u001b[0;34m(\u001b[0m\u001b[0menergies\u001b[0m\u001b[0;34m,\u001b[0m \u001b[0mcap_eff\u001b[0m\u001b[0;34m[\u001b[0m\u001b[0;34m:\u001b[0m\u001b[0;34m-\u001b[0m\u001b[0;36m3\u001b[0m\u001b[0;34m]\u001b[0m\u001b[0;34m,\u001b[0m \u001b[0mc\u001b[0m \u001b[0;34m=\u001b[0m \u001b[0;34m'xkcd:tangerine'\u001b[0m\u001b[0;34m,\u001b[0m \u001b[0mlabel\u001b[0m \u001b[0;34m=\u001b[0m \u001b[0;34m'All captured events'\u001b[0m\u001b[0;34m,\u001b[0m \u001b[0mlinestyle\u001b[0m \u001b[0;34m=\u001b[0m \u001b[0;34m'--'\u001b[0m\u001b[0;34m)\u001b[0m\u001b[0;34m\u001b[0m\u001b[0;34m\u001b[0m\u001b[0m\n\u001b[0m\u001b[1;32m      5\u001b[0m \u001b[0max\u001b[0m\u001b[0;34m.\u001b[0m\u001b[0merrorbar\u001b[0m\u001b[0;34m(\u001b[0m\u001b[0menergies\u001b[0m\u001b[0;34m,\u001b[0m \u001b[0mcap_eff\u001b[0m\u001b[0;34m[\u001b[0m\u001b[0;34m:\u001b[0m\u001b[0;34m-\u001b[0m\u001b[0;36m3\u001b[0m\u001b[0;34m]\u001b[0m\u001b[0;34m,\u001b[0m \u001b[0myerr\u001b[0m \u001b[0;34m=\u001b[0m \u001b[0mcap_err\u001b[0m\u001b[0;34m[\u001b[0m\u001b[0;34m:\u001b[0m\u001b[0;34m-\u001b[0m\u001b[0;36m3\u001b[0m\u001b[0;34m]\u001b[0m\u001b[0;34m,\u001b[0m \u001b[0mfmt\u001b[0m \u001b[0;34m=\u001b[0m \u001b[0;34m'none'\u001b[0m\u001b[0;34m,\u001b[0m \u001b[0mecolor\u001b[0m \u001b[0;34m=\u001b[0m \u001b[0;34m'xkcd:tangerine'\u001b[0m\u001b[0;34m)\u001b[0m\u001b[0;34m\u001b[0m\u001b[0;34m\u001b[0m\u001b[0m\n\u001b[1;32m      6\u001b[0m \u001b[0;34m\u001b[0m\u001b[0m\n",
      "\u001b[0;32m~/miniconda3/lib/python3.7/site-packages/matplotlib/axes/_axes.py\u001b[0m in \u001b[0;36mplot\u001b[0;34m(self, scalex, scaley, data, *args, **kwargs)\u001b[0m\n\u001b[1;32m   1663\u001b[0m         \"\"\"\n\u001b[1;32m   1664\u001b[0m         \u001b[0mkwargs\u001b[0m \u001b[0;34m=\u001b[0m \u001b[0mcbook\u001b[0m\u001b[0;34m.\u001b[0m\u001b[0mnormalize_kwargs\u001b[0m\u001b[0;34m(\u001b[0m\u001b[0mkwargs\u001b[0m\u001b[0;34m,\u001b[0m \u001b[0mmlines\u001b[0m\u001b[0;34m.\u001b[0m\u001b[0mLine2D\u001b[0m\u001b[0;34m.\u001b[0m\u001b[0m_alias_map\u001b[0m\u001b[0;34m)\u001b[0m\u001b[0;34m\u001b[0m\u001b[0;34m\u001b[0m\u001b[0m\n\u001b[0;32m-> 1665\u001b[0;31m         \u001b[0mlines\u001b[0m \u001b[0;34m=\u001b[0m \u001b[0;34m[\u001b[0m\u001b[0;34m*\u001b[0m\u001b[0mself\u001b[0m\u001b[0;34m.\u001b[0m\u001b[0m_get_lines\u001b[0m\u001b[0;34m(\u001b[0m\u001b[0;34m*\u001b[0m\u001b[0margs\u001b[0m\u001b[0;34m,\u001b[0m \u001b[0mdata\u001b[0m\u001b[0;34m=\u001b[0m\u001b[0mdata\u001b[0m\u001b[0;34m,\u001b[0m \u001b[0;34m**\u001b[0m\u001b[0mkwargs\u001b[0m\u001b[0;34m)\u001b[0m\u001b[0;34m]\u001b[0m\u001b[0;34m\u001b[0m\u001b[0;34m\u001b[0m\u001b[0m\n\u001b[0m\u001b[1;32m   1666\u001b[0m         \u001b[0;32mfor\u001b[0m \u001b[0mline\u001b[0m \u001b[0;32min\u001b[0m \u001b[0mlines\u001b[0m\u001b[0;34m:\u001b[0m\u001b[0;34m\u001b[0m\u001b[0;34m\u001b[0m\u001b[0m\n\u001b[1;32m   1667\u001b[0m             \u001b[0mself\u001b[0m\u001b[0;34m.\u001b[0m\u001b[0madd_line\u001b[0m\u001b[0;34m(\u001b[0m\u001b[0mline\u001b[0m\u001b[0;34m)\u001b[0m\u001b[0;34m\u001b[0m\u001b[0;34m\u001b[0m\u001b[0m\n",
      "\u001b[0;32m~/miniconda3/lib/python3.7/site-packages/matplotlib/axes/_base.py\u001b[0m in \u001b[0;36m__call__\u001b[0;34m(self, *args, **kwargs)\u001b[0m\n\u001b[1;32m    223\u001b[0m                 \u001b[0mthis\u001b[0m \u001b[0;34m+=\u001b[0m \u001b[0margs\u001b[0m\u001b[0;34m[\u001b[0m\u001b[0;36m0\u001b[0m\u001b[0;34m]\u001b[0m\u001b[0;34m,\u001b[0m\u001b[0;34m\u001b[0m\u001b[0;34m\u001b[0m\u001b[0m\n\u001b[1;32m    224\u001b[0m                 \u001b[0margs\u001b[0m \u001b[0;34m=\u001b[0m \u001b[0margs\u001b[0m\u001b[0;34m[\u001b[0m\u001b[0;36m1\u001b[0m\u001b[0;34m:\u001b[0m\u001b[0;34m]\u001b[0m\u001b[0;34m\u001b[0m\u001b[0;34m\u001b[0m\u001b[0m\n\u001b[0;32m--> 225\u001b[0;31m             \u001b[0;32myield\u001b[0m \u001b[0;32mfrom\u001b[0m \u001b[0mself\u001b[0m\u001b[0;34m.\u001b[0m\u001b[0m_plot_args\u001b[0m\u001b[0;34m(\u001b[0m\u001b[0mthis\u001b[0m\u001b[0;34m,\u001b[0m \u001b[0mkwargs\u001b[0m\u001b[0;34m)\u001b[0m\u001b[0;34m\u001b[0m\u001b[0;34m\u001b[0m\u001b[0m\n\u001b[0m\u001b[1;32m    226\u001b[0m \u001b[0;34m\u001b[0m\u001b[0m\n\u001b[1;32m    227\u001b[0m     \u001b[0;32mdef\u001b[0m \u001b[0mget_next_color\u001b[0m\u001b[0;34m(\u001b[0m\u001b[0mself\u001b[0m\u001b[0;34m)\u001b[0m\u001b[0;34m:\u001b[0m\u001b[0;34m\u001b[0m\u001b[0;34m\u001b[0m\u001b[0m\n",
      "\u001b[0;32m~/miniconda3/lib/python3.7/site-packages/matplotlib/axes/_base.py\u001b[0m in \u001b[0;36m_plot_args\u001b[0;34m(self, tup, kwargs)\u001b[0m\n\u001b[1;32m    389\u001b[0m             \u001b[0mx\u001b[0m\u001b[0;34m,\u001b[0m \u001b[0my\u001b[0m \u001b[0;34m=\u001b[0m \u001b[0mindex_of\u001b[0m\u001b[0;34m(\u001b[0m\u001b[0mtup\u001b[0m\u001b[0;34m[\u001b[0m\u001b[0;34m-\u001b[0m\u001b[0;36m1\u001b[0m\u001b[0;34m]\u001b[0m\u001b[0;34m)\u001b[0m\u001b[0;34m\u001b[0m\u001b[0;34m\u001b[0m\u001b[0m\n\u001b[1;32m    390\u001b[0m \u001b[0;34m\u001b[0m\u001b[0m\n\u001b[0;32m--> 391\u001b[0;31m         \u001b[0mx\u001b[0m\u001b[0;34m,\u001b[0m \u001b[0my\u001b[0m \u001b[0;34m=\u001b[0m \u001b[0mself\u001b[0m\u001b[0;34m.\u001b[0m\u001b[0m_xy_from_xy\u001b[0m\u001b[0;34m(\u001b[0m\u001b[0mx\u001b[0m\u001b[0;34m,\u001b[0m \u001b[0my\u001b[0m\u001b[0;34m)\u001b[0m\u001b[0;34m\u001b[0m\u001b[0;34m\u001b[0m\u001b[0m\n\u001b[0m\u001b[1;32m    392\u001b[0m \u001b[0;34m\u001b[0m\u001b[0m\n\u001b[1;32m    393\u001b[0m         \u001b[0;32mif\u001b[0m \u001b[0mself\u001b[0m\u001b[0;34m.\u001b[0m\u001b[0mcommand\u001b[0m \u001b[0;34m==\u001b[0m \u001b[0;34m'plot'\u001b[0m\u001b[0;34m:\u001b[0m\u001b[0;34m\u001b[0m\u001b[0;34m\u001b[0m\u001b[0m\n",
      "\u001b[0;32m~/miniconda3/lib/python3.7/site-packages/matplotlib/axes/_base.py\u001b[0m in \u001b[0;36m_xy_from_xy\u001b[0;34m(self, x, y)\u001b[0m\n\u001b[1;32m    268\u001b[0m         \u001b[0;32mif\u001b[0m \u001b[0mx\u001b[0m\u001b[0;34m.\u001b[0m\u001b[0mshape\u001b[0m\u001b[0;34m[\u001b[0m\u001b[0;36m0\u001b[0m\u001b[0;34m]\u001b[0m \u001b[0;34m!=\u001b[0m \u001b[0my\u001b[0m\u001b[0;34m.\u001b[0m\u001b[0mshape\u001b[0m\u001b[0;34m[\u001b[0m\u001b[0;36m0\u001b[0m\u001b[0;34m]\u001b[0m\u001b[0;34m:\u001b[0m\u001b[0;34m\u001b[0m\u001b[0;34m\u001b[0m\u001b[0m\n\u001b[1;32m    269\u001b[0m             raise ValueError(\"x and y must have same first dimension, but \"\n\u001b[0;32m--> 270\u001b[0;31m                              \"have shapes {} and {}\".format(x.shape, y.shape))\n\u001b[0m\u001b[1;32m    271\u001b[0m         \u001b[0;32mif\u001b[0m \u001b[0mx\u001b[0m\u001b[0;34m.\u001b[0m\u001b[0mndim\u001b[0m \u001b[0;34m>\u001b[0m \u001b[0;36m2\u001b[0m \u001b[0;32mor\u001b[0m \u001b[0my\u001b[0m\u001b[0;34m.\u001b[0m\u001b[0mndim\u001b[0m \u001b[0;34m>\u001b[0m \u001b[0;36m2\u001b[0m\u001b[0;34m:\u001b[0m\u001b[0;34m\u001b[0m\u001b[0;34m\u001b[0m\u001b[0m\n\u001b[1;32m    272\u001b[0m             raise ValueError(\"x and y can be no greater than 2-D, but have \"\n",
      "\u001b[0;31mValueError\u001b[0m: x and y must have same first dimension, but have shapes (19,) and (16,)"
     ]
    }
   ],
   "source": [
    "fig = plt.figure()\n",
    "ax = fig.add_subplot(111)\n",
    "\n",
    "ax.plot(energies, cap_eff[:-3], c = 'xkcd:tangerine', label = 'All captured events', linestyle = '--')\n",
    "ax.errorbar(energies, cap_eff[:-3], yerr = cap_err[:-3], fmt = 'none', ecolor = 'xkcd:tangerine')\n",
    "\n",
    "ax.fill_between(energies,np.array(cap_eff[:-3])-3*np.array(cap_err[:-3]),np.array(cap_eff[:-3])+3*np.array(cap_err[:-3]),color='xkcd:goldenrod',alpha=0.3)\n",
    "ax.fill_between(energies,np.array(cap_eff[:-3])-2*np.array(cap_err[:-3]),np.array(cap_eff[:-3])+2*np.array(cap_err[:-3]),color='xkcd:light orange',alpha=0.3)\n",
    "ax.fill_between(energies,np.array(cap_eff[:-3])-np.array(cap_err[:-3]),np.array(cap_eff[:-3])+np.array(cap_err[:-3]),color='xkcd:light orange',alpha=0.3)\n",
    "\n",
    "\n",
    "for s in range(3):\n",
    "    ax.scatter(source_e[s],cap_eff[(s-3)],c = colours[s], label = sources[s].split(',')[0])\n",
    "    ax.errorbar(source_e[s],cap_eff[(s-3)],xerr = np.array(stds[s]),yerr = cap_err[(s-3)],c=colours[s],fmt='none', capsize = 4)\n",
    "\n",
    "    \n",
    "    \n",
    "ax.scatter(real_es,100*np.array(real_effs),c='purple',label='Real efficiency')\n",
    "ax.errorbar(real_es,100*np.array(real_effs),yerr=100*np.array(real_errs),c='purple',fmt='none', capsize = 4)\n",
    "    \n",
    "ax.set_xlabel('Energy / MeV',fontsize=24)\n",
    "ax.set_ylabel('Detection efficiency / $\\%$',fontsize=24)\n",
    "ax.legend(markerscale = 1, scatterpoints = 1, loc = 'upper right')\n",
    "ax.set_xscale('log')\n",
    "ax.set_xlim(0.01,100)\n",
    "\n",
    "plt.title('Capture efficiency',fontsize=32)"
   ]
  },
  {
   "cell_type": "markdown",
   "id": "913782d4",
   "metadata": {},
   "source": [
    "![Real vs sim efficiency](Plots/real_vs_sim_efficiency.png)"
   ]
  },
  {
   "cell_type": "markdown",
   "id": "f8eaf9d9",
   "metadata": {},
   "source": [
    "The point in energy for the AmBe, AmLi and $^{252}$Cf data points is the mean energy of the source, and the energy error bars show the interquartile range of the energy distribution for those sources. There are a few points of note in this plot:\n",
    "\n",
    "* For the AmBe, AmLi, and $^{252}$Cf sources, their efficiency is generally close to the efficiency at their mean energy, with an increasing departure from the monoenergetic efficiency for the higher mean energy sources (namely $^{252}$Cf and AmBe sources). This is likely due to the lower energy component of these sources having a higher efficiency, whilst for AmLi the monoenergetic efficiency undergoes much less change over the energy region of interest.\n",
    "\n",
    "* For the real data point at 144 keV, the simulated efficiency $\\epsilon_{sim}$ is greater than the real efficiency $\\epsilon_{real}$ as expected. If we compute the ratio of these two efficiencies, we find that $\\epsilon_{real} \\simeq 0.85\\epsilon_{sim}$, as seen in the extraction of the scattered component for this dataset (**TO BE ADDED**)\n",
    "\n",
    "* For the real data point at 1.2 MeV, the simulated efficiency is actually less than the real efficiency, which is obviously counter to expectations. This is likely due to neutrons that pass through or scatter out of the detector that but then scatter back in off of the back wall in the NPL facility, thus increasing the real efficiency. In contrast, in the simulation the detector is in a much more open space and as such any neutrons that pass through the detector will not scatter back in in the same way, reducing the simulated efficiency. In order to verify this, the simulation at 1.2 Mev should be repeated with the detector in the simulated NPL geometry, in the same position as in the real dataset. "
   ]
  }
 ],
 "metadata": {
  "kernelspec": {
   "display_name": "Python 3 (ipykernel)",
   "language": "python",
   "name": "python3"
  },
  "language_info": {
   "codemirror_mode": {
    "name": "ipython",
    "version": 3
   },
   "file_extension": ".py",
   "mimetype": "text/x-python",
   "name": "python",
   "nbconvert_exporter": "python",
   "pygments_lexer": "ipython3",
   "version": "3.7.6"
  }
 },
 "nbformat": 4,
 "nbformat_minor": 5
}
