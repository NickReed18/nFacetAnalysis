{
 "cells": [
  {
   "cell_type": "markdown",
   "id": "b2396d30",
   "metadata": {},
   "source": [
    "## Comparisons between real and simulated data\n",
    "\n",
    "In order to assess the efficiency of the detector, a number of monoenergetic sources were simulated in order to calculate efficiencies of capture and scattering efficiencies as a function of energy. This analysis was also performed using $^{252}$Cf, AmBe and AmLi. Real data from NPL measurements is also used to calculate an real efficiency for comparison at 144 keV and 1.2 MeV. "
   ]
  },
  {
   "cell_type": "code",
   "execution_count": 2,
   "id": "ba67d421",
   "metadata": {},
   "outputs": [],
   "source": [
    "import SimEfficiency as SE\n",
    "import os\n",
    "import numpy as np\n",
    "import pandas as pd\n",
    "import matplotlib.pyplot as plt\n",
    "import RealVsSim as RVS\n",
    "%matplotlib tk"
   ]
  },
  {
   "cell_type": "code",
   "execution_count": 4,
   "id": "3fa970ad",
   "metadata": {},
   "outputs": [],
   "source": [
    "monos_path = '/home/nr1315/Documents/Project/Simulations/monos_efficiencies'\n",
    "os.chdir(monos_path)\n",
    "\n",
    "effs, errs, stds = SE.GenerateEfficiencyDataFrame(monos_path)"
   ]
  },
  {
   "cell_type": "code",
   "execution_count": null,
   "id": "15455bdc",
   "metadata": {},
   "outputs": [],
   "source": []
  },
  {
   "cell_type": "code",
   "execution_count": 5,
   "id": "e0a2afbf",
   "metadata": {},
   "outputs": [],
   "source": [
    "energies = np.sort([f for f in effs.keys() if type(f)==np.float64])\n",
    "sources = [f for f in effs.keys() if type(f)==str]\n",
    "\n",
    "cap_eff,cap_err = [],[]\n",
    "scatt_eff,scatt_err = [],[]\n",
    "scatt_1_eff,scatt_1_err = [],[]\n",
    "scatt_2_eff,scatt_2_err = [],[]\n",
    "cap_scatt_1_eff,cap_scatt_1_err = [],[]\n",
    "cap_scatt_2_eff,cap_scatt_2_err = [],[]\n",
    "\n",
    "for e in energies:\n",
    "    cap_eff.append(100*effs[e]['cap_eff']), cap_err.append(100*errs[e]['cap_eff'])\n",
    "    scatt_eff.append(100*effs[e]['scatt_eff']), scatt_err.append(100*errs[e]['scatt_eff'])\n",
    "    scatt_1_eff.append(100*effs[e]['scatt_1_eff']), scatt_1_err.append(100*errs[e]['scatt_1_eff'])\n",
    "    scatt_2_eff.append(100*effs[e]['scatt_2_eff']), scatt_2_err.append(100*errs[e]['scatt_2_eff'])\n",
    "    cap_scatt_1_eff.append(100*effs[e]['cap_scatt_1_eff']), cap_scatt_1_err.append(100*errs[e]['cap_scatt_1_eff'])\n",
    "    cap_scatt_2_eff.append(100*effs[e]['cap_scatt_2_eff']), cap_scatt_2_err.append(100*errs[e]['cap_scatt_2_eff'])\n",
    "\n",
    "for s in sources:\n",
    "    cap_eff.append(100*effs[s]['cap_eff']), cap_err.append(100*errs[s]['cap_eff'])\n",
    "    scatt_eff.append(100*effs[s]['scatt_eff']), scatt_err.append(100*errs[s]['scatt_eff'])\n",
    "    scatt_1_eff.append(100*effs[s]['scatt_1_eff']), scatt_1_err.append(100*errs[s]['scatt_1_eff'])\n",
    "    scatt_2_eff.append(100*effs[s]['scatt_2_eff']), scatt_2_err.append(100*errs[s]['scatt_2_eff'])\n",
    "    cap_scatt_1_eff.append(100*effs[s]['cap_scatt_1_eff']), cap_scatt_1_err.append(100*errs[s]['cap_scatt_1_eff'])\n",
    "    cap_scatt_2_eff.append(100*effs[s]['cap_scatt_2_eff']), cap_scatt_2_err.append(100*errs[s]['cap_scatt_2_eff'])\n"
   ]
  },
  {
   "cell_type": "code",
   "execution_count": 6,
   "id": "e711e4a4",
   "metadata": {},
   "outputs": [],
   "source": [
    "dose_eq_curves = pd.read_csv(\"/home/nr1315/Downloads/ICRP74_neutron_dose equivalent curves.csv\")"
   ]
  },
  {
   "cell_type": "code",
   "execution_count": 7,
   "id": "ecf61292",
   "metadata": {},
   "outputs": [
    {
     "data": {
      "text/plain": [
       "Text(0.5, 1.0, 'Simulated detection efficiency')"
      ]
     },
     "execution_count": 7,
     "metadata": {},
     "output_type": "execute_result"
    },
    {
     "name": "stderr",
     "output_type": "stream",
     "text": [
      "findfont: Font family ['serif'] not found. Falling back to DejaVu Sans.\n"
     ]
    }
   ],
   "source": [
    "fig = plt.figure()\n",
    "ax = fig.add_subplot(111)\n",
    "\n",
    "ax.plot(energies, cap_eff[:-3], c = 'xkcd:tangerine', label = 'All captured events', linestyle = '--')\n",
    "ax.errorbar(energies, cap_eff[:-3], yerr = cap_err[:-3], fmt = 'none', ecolor = 'xkcd:tangerine')\n",
    "\n",
    "ax.plot(energies, scatt_eff[:-3], c = 'xkcd:light blue', label = 'All scatter events', linestyle = '--')\n",
    "ax.errorbar(energies, scatt_eff[:-3], yerr = scatt_err[:-3], fmt = 'none', ecolor = 'xkcd:light blue')\n",
    "\n",
    "ax.plot(energies, scatt_1_eff[:-3], c = 'b', label = '1 detectable scatter')\n",
    "ax.errorbar(energies, scatt_1_eff[:-3], yerr = scatt_1_err[:-3], fmt = 'none', ecolor = 'b')\n",
    "\n",
    "ax.plot(energies, scatt_2_eff[:-3], c = 'xkcd:deep blue', label = '2 detectable scatters')\n",
    "ax.errorbar(energies, scatt_2_eff[:-3], yerr = scatt_2_err[:-3], fmt = 'none', ecolor = 'xkcd:deep blue')\n",
    "\n",
    "ax.plot(energies, cap_scatt_1_eff[:-3], c = 'r', label = '1 scatter + capture')\n",
    "ax.errorbar(energies, cap_scatt_1_eff[:-3], yerr = cap_scatt_1_err[:-3], fmt = 'none', ecolor = 'r')\n",
    "\n",
    "ax.plot(energies, cap_scatt_2_eff[:-3], c = 'xkcd:dark red', label = '2 scatters + capture')\n",
    "ax.errorbar(energies, cap_scatt_2_eff[:-3], yerr = cap_scatt_2_err[:-3], fmt = 'none', ecolor = 'xkcd:dark red')\n",
    "\n",
    "#ax.scatter(source_e[0],)\n",
    "\n",
    "ax2 = ax.twinx()\n",
    "ax2.plot(dose_eq_curves['En / MeV'].values,dose_eq_curves['H*(10) / pSv.cm2'],c='g')\n",
    "ax2.set_ylabel(r'$H^*(10)$ / pSv.cm$^2$',fontsize=24,c='g')\n",
    "ax2.tick_params(axis='y',labelcolor='g')\n",
    "\n",
    "\n",
    "ax.set_xlabel('Energy / MeV',fontsize=24)\n",
    "ax.set_ylabel('Detection efficiency / $\\%$',fontsize=24)\n",
    "ax.legend(markerscale = 2, scatterpoints = 3, loc = 'upper right')\n",
    "ax.set_xscale('log')\n",
    "ax.set_xlim(0.01,100)\n",
    "\n",
    "plt.title('Simulated detection efficiency',fontsize=32)"
   ]
  },
  {
   "cell_type": "markdown",
   "id": "5e9d58a1",
   "metadata": {},
   "source": [
    "## Simulated detection efficiency\n",
    "\n",
    "![Sim detection efficiency](Plots/Sim_detection_eff.png)"
   ]
  },
  {
   "cell_type": "markdown",
   "id": "b6341a94",
   "metadata": {},
   "source": [
    "It is important to note that the point for the capture efficiency at thermal energies cannot be easily shown on this graph due to the scale (otherwise it is difficult to see the variation at high energy), but it is ~70% at 0.025 eV. \n",
    "\n",
    "There are a few key takeaways from this plot:\n",
    "* Capture efficiency decreases as a function of energy reasonably slowly until about 1 MeV\n",
    "* Scatter efficiency rises quickly from the scatter detection threshold of 480 keV up to about 60% in the 2-5 MeV range, until it decreases rapidly with increasing energy as neutrons have sufficient energy to pass through the detector without scattering\n",
    "* For measuring neutrons that both scatter and capture the best efficiency is in the 1-5 MeV region, as the 1 scatter + capture efficiency decreases as the 2 scatter + capture becomes measureable."
   ]
  },
  {
   "cell_type": "code",
   "execution_count": 21,
   "id": "e31c10a3",
   "metadata": {},
   "outputs": [],
   "source": [
    "colours = ['green','blue','red']\n",
    "source_e = [float(s.split(' ')[-1]) for s in sources]\n",
    "stds = list(stds.values())\n"
   ]
  },
  {
   "cell_type": "code",
   "execution_count": 8,
   "id": "9bacb7c6",
   "metadata": {},
   "outputs": [],
   "source": [
    "fluence_rates = {'144 keV':1.399,\n",
    "                 '144 keV shadowcone':1.378,\n",
    "                 '144 keV -30deg':1.395,\n",
    "                 '144 keV -45deg':1.392,\n",
    "                 '144 keV -60deg':1.361,\n",
    "                 '144 keV -90deg':1.359,\n",
    "                 '144 keV -135deg':1.337,\n",
    "                 '144 keV -135deg shadowcone':1.503,\n",
    "                 '144 keV -180deg':1.432,\n",
    "                 '144 keV -210deg':1.414,\n",
    "                 '144 keV -225deg':1.412,\n",
    "                 '144 keV -240deg':1.415,\n",
    "                 '144 keV -240deg shadowcone':1.392,\n",
    "                 '144 keV -270deg':1.379,\n",
    "                 '144 keV -315deg':1.369,\n",
    "                 '1.2 MeV':1.664,\n",
    "                 '1.2 MeV shadowcone':1.694,\n",
    "                 '1.2 MeV -30deg':1.683,\n",
    "                 '1.2 MeV -30deg shadowcone':1.595,\n",
    "                 '1.2 MeV -45deg':1.552,\n",
    "                 '1.2 MeV -45deg shadowcone':1.478,\n",
    "                 '1.2 MeV -60deg':1.540,\n",
    "                 '1.2 MeV -60deg shadowcone':1.544}\n",
    "\n",
    "fl_uncertainty = {'144 keV':0.071, '1.2 MeV':0.06}\n"
   ]
  },
  {
   "cell_type": "code",
   "execution_count": 10,
   "id": "95c31075",
   "metadata": {},
   "outputs": [
    {
     "name": "stdout",
     "output_type": "stream",
     "text": [
      "Finished loading /home/nr1315/Documents/Project/NPL_2021/vdg_1um_Li7target19A_433cm_0deg.root\n",
      "------------------------------\n",
      "Finished loading /home/nr1315/Documents/Project/NPL_2021/vdg_1um_Li7target19A_433cm_0deg_shadowcone.root\n",
      "------------------------------\n",
      "Finished loading /home/nr1315/Documents/Project/NPL_2021/vdg_1um_1_2_MeV_target3_2.root\n",
      "------------------------------\n",
      "Finished loading /home/nr1315/Documents/Project/NPL_2021/vdg_1um_1_2_MeV_target3_shadowcone.root\n",
      "------------------------------\n"
     ]
    }
   ],
   "source": [
    "real_effs = []\n",
    "real_errs = []\n",
    "real_es = [0.144,1.2]\n",
    "\n",
    "rv = RVS.RealVsSimAnalysis()\n",
    "rv.add_real_data('/home/nr1315/Documents/Project/NPL_2021/vdg_1um_Li7target19A_433cm_0deg.root','144 keV')\n",
    "rv.add_real_data('/home/nr1315/Documents/Project/NPL_2021/vdg_1um_Li7target19A_433cm_0deg_shadowcone.root','144 keV shadowcone')\n",
    "sub_r,sub_r_err,real_r,real_r_err = rv.get_sdc_subtracted('144 keV','144 keV shadowcone',fluence_rates,fl_uncertainty)\n",
    "sub_r = sub_r.sum()\n",
    "sub_r_err = np.sqrt((sub_r_err**2).sum())\n",
    "\n",
    "real_effs.append(sub_r/real_r)\n",
    "real_errs.append(real_effs[0]*np.sqrt((sub_r_err**2/sub_r**2 + real_r_err**2/real_r**2)))\n",
    "\n",
    "\n",
    "rv = RVS.RealVsSimAnalysis()\n",
    "rv.add_real_data('/home/nr1315/Documents/Project/NPL_2021/vdg_1um_1_2_MeV_target3_2.root','1.2 MeV')\n",
    "rv.add_real_data('/home/nr1315/Documents/Project/NPL_2021/vdg_1um_1_2_MeV_target3_shadowcone.root','1.2 MeV shadowcone')\n",
    "sub_r,sub_r_err,real_r,real_r_err = rv.get_sdc_subtracted('1.2 MeV','1.2 MeV shadowcone',fluence_rates,fl_uncertainty)\n",
    "sub_r = sub_r.sum()\n",
    "sub_r_err = np.sqrt((sub_r_err**2).sum())\n",
    "\n",
    "real_effs.append(sub_r/real_r)\n",
    "real_errs.append(real_effs[1]*np.sqrt((sub_r_err**2/sub_r**2 + real_r_err**2/real_r**2)))"
   ]
  },
  {
   "cell_type": "code",
   "execution_count": 33,
   "id": "8e74af0d",
   "metadata": {},
   "outputs": [
    {
     "data": {
      "text/plain": [
       "Text(0.5, 1.0, 'Capture efficiency')"
      ]
     },
     "execution_count": 33,
     "metadata": {},
     "output_type": "execute_result"
    }
   ],
   "source": [
    "fig = plt.figure()\n",
    "ax = fig.add_subplot(111)\n",
    "\n",
    "ax.plot(energies, cap_eff[:-3], c = 'xkcd:tangerine', label = 'All captured events', linestyle = '--')\n",
    "ax.errorbar(energies, cap_eff[:-3], yerr = cap_err[:-3], fmt = 'none', ecolor = 'xkcd:tangerine')\n",
    "\n",
    "for s in range(3):\n",
    "    ax.scatter(source_e[s],cap_eff[(s-3)],c = colours[s], label = sources[s].split(',')[0])\n",
    "    ax.errorbar(source_e[s],cap_eff[(s-3)],xerr = np.array(stds[s]),yerr = cap_err[(s-3)],c=colours[s],fmt='none', capsize = 4)\n",
    "\n",
    "ax.scatter(real_es,100*np.array(real_effs),c='purple',label='Real efficiency')\n",
    "ax.errorbar(real_es,100*np.array(real_effs),yerr=100*np.array(real_errs),c='purple',fmt='none', capsize = 4)\n",
    "    \n",
    "ax.set_xlabel('Energy / MeV',fontsize=24)\n",
    "ax.set_ylabel('Detection efficiency / $\\%$',fontsize=24)\n",
    "ax.legend(markerscale = 1, scatterpoints = 1, loc = 'upper right')\n",
    "ax.set_xscale('log')\n",
    "ax.set_xlim(0.01,100)\n",
    "\n",
    "plt.title('Capture efficiency',fontsize=32)"
   ]
  },
  {
   "cell_type": "markdown",
   "id": "857ed56a",
   "metadata": {},
   "source": [
    "![Real vs sim efficiency](Plots/real_vs_sim_efficiency.png)"
   ]
  },
  {
   "cell_type": "markdown",
   "id": "636f403d",
   "metadata": {},
   "source": [
    "The point in energy for the AmBe, AmLi and $^{252}$Cf data points is the mean energy of the source, and the energy error bars show the interquartile range of the energy distribution for those sources. There are a few points of note in this plot:\n",
    "\n",
    "* For the AmBe, AmLi, and $^{252}$Cf sources, their efficiency is generally close to the efficiency at their mean energy, with an increasing departure from the monoenergetic efficiency for the higher mean energy sources (namely $^{252}$Cf and AmBe sources). This is likely due to the lower energy component of these sources having a higher efficiency, whilst for AmLi the monoenergetic efficiency undergoes much less change over the energy region of interest.\n",
    "\n",
    "* For the real data point at 144 keV, the simulated efficiency $\\epsilon_{sim}$ is greater than the real efficiency $\\epsilon_{real}$ as expected. If we compute the ratio of these two efficiencies, we find that $\\epsilon_{real} \\simeq 0.85\\epsilon_{sim}$, as seen in the extraction of the scattered component for this dataset (**TO BE ADDED**)\n",
    "\n",
    "* For the real data point at 1.2 MeV, the simulated efficiency is actually less than the real efficiency, which is obviously counter to expectations. This is likely due to neutrons that pass through or scatter out of the detector that but then scatter back in off of the back wall in the NPL facility, thus increasing the real efficiency. In contrast, in the simulation the detector is in a much more open space and as such any neutrons that pass through the detector will not scatter back in in the same way, reducing the simulated efficiency. In order to verify this, the simulation at 1.2 Mev should be repeated with the detector in the simulated NPL geometry, in the same position as in the real dataset. "
   ]
  }
 ],
 "metadata": {
  "kernelspec": {
   "display_name": "Python 3 (ipykernel)",
   "language": "python",
   "name": "python3"
  },
  "language_info": {
   "codemirror_mode": {
    "name": "ipython",
    "version": 3
   },
   "file_extension": ".py",
   "mimetype": "text/x-python",
   "name": "python",
   "nbconvert_exporter": "python",
   "pygments_lexer": "ipython3",
   "version": "3.7.6"
  }
 },
 "nbformat": 4,
 "nbformat_minor": 5
}
