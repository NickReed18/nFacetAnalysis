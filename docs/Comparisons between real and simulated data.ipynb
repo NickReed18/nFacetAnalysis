{
 "cells": [
  {
   "cell_type": "markdown",
   "id": "b9c7fcce",
   "metadata": {},
   "source": [
    "## Comparisons between real and simulated data\n",
    "\n",
    "In order to assess the efficiency of the detector, a number of monoenergetic sources were simulated in order to calculate efficiencies of capture and scattering efficiencies as a function of energy. This analysis was also performed using $^{252}$Cf, AmBe and AmLi. Real data from NPL measurements is also used to calculate an real efficiency for comparison at 144 keV and 1.2 MeV. "
   ]
  },
  {
   "cell_type": "code",
   "execution_count": 70,
   "id": "a1125d6d",
   "metadata": {},
   "outputs": [],
   "source": [
    "import SimEfficiency as SE\n",
    "import os\n",
    "import numpy as np\n",
    "import pandas as pd\n",
    "import matplotlib.pyplot as plt\n",
    "%matplotlib tk"
   ]
  },
  {
   "cell_type": "code",
   "execution_count": 2,
   "id": "79a45197",
   "metadata": {},
   "outputs": [
    {
     "name": "stderr",
     "output_type": "stream",
     "text": [
      "/home/nr1315/Documents/Project/Simulations/SimRepo/tools/SimEfficiency.py:10: SettingWithCopyWarning: \n",
      "A value is trying to be set on a copy of a slice from a DataFrame.\n",
      "Try using .loc[row_indexer,col_indexer] = value instead\n",
      "\n",
      "See the caveats in the documentation: https://pandas.pydata.org/pandas-docs/stable/user_guide/indexing.html#returning-a-view-versus-a-copy\n",
      "  eve['pdg_diff'] = eve.loc[:,'pdg'].diff()\n"
     ]
    }
   ],
   "source": [
    "monos_path = '/home/nr1315/Documents/Project/Simulations/monos_efficiencies'\n",
    "os.chdir(monos_path)\n",
    "\n",
    "effs, errs = SE.GenerateEfficiencyDataFrame(monos_path)"
   ]
  },
  {
   "cell_type": "code",
   "execution_count": null,
   "id": "666c7d3a",
   "metadata": {},
   "outputs": [],
   "source": []
  },
  {
   "cell_type": "code",
   "execution_count": 61,
   "id": "1ed81d89",
   "metadata": {},
   "outputs": [],
   "source": [
    "energies = np.sort([f for f in effs.keys() if type(f)==np.float64])\n",
    "sources = [f for f in effs.keys() if type(f)==str]\n",
    "\n",
    "cap_eff,cap_err = [],[]\n",
    "scatt_eff,scatt_err = [],[]\n",
    "scatt_1_eff,scatt_1_err = [],[]\n",
    "scatt_2_eff,scatt_2_err = [],[]\n",
    "cap_scatt_1_eff,cap_scatt_1_err = [],[]\n",
    "cap_scatt_2_eff,cap_scatt_2_err = [],[]\n",
    "\n",
    "for e in energies:\n",
    "    cap_eff.append(100*effs[e]['cap_eff']), cap_err.append(100*errs[e]['cap_eff'])\n",
    "    scatt_eff.append(100*effs[e]['scatt_eff']), scatt_err.append(100*errs[e]['scatt_eff'])\n",
    "    scatt_1_eff.append(100*effs[e]['scatt_1_eff']), scatt_1_err.append(100*errs[e]['scatt_1_eff'])\n",
    "    scatt_2_eff.append(100*effs[e]['scatt_2_eff']), scatt_2_err.append(100*errs[e]['scatt_2_eff'])\n",
    "    cap_scatt_1_eff.append(100*effs[e]['cap_scatt_1_eff']), cap_scatt_1_err.append(100*errs[e]['cap_scatt_1_eff'])\n",
    "    cap_scatt_2_eff.append(100*effs[e]['cap_scatt_2_eff']), cap_scatt_2_err.append(100*errs[e]['cap_scatt_2_eff'])\n"
   ]
  },
  {
   "cell_type": "code",
   "execution_count": null,
   "id": "07dce92e",
   "metadata": {},
   "outputs": [],
   "source": []
  },
  {
   "cell_type": "code",
   "execution_count": 71,
   "id": "f73ed35e",
   "metadata": {},
   "outputs": [
    {
     "data": {
      "text/plain": [
       "(0.01, 100)"
      ]
     },
     "execution_count": 71,
     "metadata": {},
     "output_type": "execute_result"
    }
   ],
   "source": [
    "fig = plt.figure()\n",
    "ax = fig.add_subplot(111)\n",
    "\n",
    "ax.plot(energies, cap_eff, c = 'xkcd:tangerine', label = 'All captured events', linestyle = '--')\n",
    "ax.errorbar(energies, cap_eff, yerr = cap_err, fmt = 'none', ecolor = 'xkcd:tangerine')\n",
    "\n",
    "ax.plot(energies, scatt_eff, c = 'xkcd:light blue', label = 'All scatter events', linestyle = '--')\n",
    "ax.errorbar(energies, scatt_eff, yerr = scatt_err, fmt = 'none', ecolor = 'xkcd:light blue')\n",
    "\n",
    "ax.plot(energies, scatt_1_eff, c = 'b', label = '1 detectable scatter')\n",
    "ax.errorbar(energies, scatt_1_eff, yerr = scatt_1_err, fmt = 'none', ecolor = 'b')\n",
    "\n",
    "ax.plot(energies, scatt_2_eff, c = 'xkcd:deep blue', label = '2 detectable scatters')\n",
    "ax.errorbar(energies, scatt_2_eff, yerr = scatt_1_err, fmt = 'none', ecolor = 'xkcd:deep blue')\n",
    "\n",
    "ax.plot(energies, cap_scatt_1_eff, c = 'r', label = '1 scatter + capture')\n",
    "ax.errorbar(energies, cap_scatt_1_eff, yerr = cap_scatt_1_err, fmt = 'none', ecolor = 'r')\n",
    "\n",
    "ax.plot(energies, cap_scatt_2_eff, c = 'xkcd:dark red', label = '2 scatters + capture')\n",
    "ax.errorbar(energies, cap_scatt_2_eff, yerr = cap_scatt_2_err, fmt = 'none', ecolor = 'xkcd:dark red')\n",
    "\n",
    "ax.set_xlabel('Energy / MeV',fontsize=24)\n",
    "ax.set_ylabel('Detection efficiency / $\\%$',fontsize=24)\n",
    "ax.legend(markerscale = 2, scatterpoints = 3, loc = 'upper right')\n",
    "ax.set_xscale('log')\n",
    "ax.set_xlim(0.01,100)"
   ]
  },
  {
   "cell_type": "code",
   "execution_count": 78,
   "id": "2de52f9a",
   "metadata": {},
   "outputs": [
    {
     "data": {
      "text/plain": [
       "{'cap_eff': 0.3859627558232438,\n",
       " 'scatt_eff': 3.072951877573597e-05,\n",
       " 'scatt_1_eff': 2.0486345850490648e-05,\n",
       " 'scatt_2_eff': 1.0243172925245324e-05,\n",
       " 'cap_scatt_eff': 2.0486345850490648e-05,\n",
       " 'cap_scatt_1_eff': 1.0243172925245324e-05,\n",
       " 'cap_scatt_2_eff': 1.0243172925245324e-05}"
      ]
     },
     "execution_count": 78,
     "metadata": {},
     "output_type": "execute_result"
    }
   ],
   "source": [
    "effs[energies[9]]"
   ]
  },
  {
   "cell_type": "code",
   "execution_count": 81,
   "id": "8dedf0f1",
   "metadata": {},
   "outputs": [
    {
     "data": {
      "text/plain": [
       "{'cap_eff': 0.3766134774890429,\n",
       " 'scatt_eff': 1.002938610127674e-05,\n",
       " 'scatt_1_eff': 0.0,\n",
       " 'scatt_2_eff': 1.002938610127674e-05,\n",
       " 'cap_scatt_eff': 1.002938610127674e-05,\n",
       " 'cap_scatt_1_eff': 0.0,\n",
       " 'cap_scatt_2_eff': 1.002938610127674e-05}"
      ]
     },
     "execution_count": 81,
     "metadata": {},
     "output_type": "execute_result"
    }
   ],
   "source": [
    "effs[energies[13]]"
   ]
  },
  {
   "cell_type": "code",
   "execution_count": 77,
   "id": "16596f64",
   "metadata": {},
   "outputs": [
    {
     "data": {
      "text/plain": [
       "{'cap_eff': 0.32119402985074624,\n",
       " 'scatt_eff': 0.0,\n",
       " 'scatt_1_eff': 0.0,\n",
       " 'scatt_2_eff': 0.0,\n",
       " 'cap_scatt_eff': 0.0,\n",
       " 'cap_scatt_1_eff': 0.0,\n",
       " 'cap_scatt_2_eff': 0.0}"
      ]
     },
     "execution_count": 77,
     "metadata": {},
     "output_type": "execute_result"
    }
   ],
   "source": [
    "effs[energies[10]]"
   ]
  },
  {
   "cell_type": "code",
   "execution_count": null,
   "id": "1b0aadc0",
   "metadata": {},
   "outputs": [],
   "source": []
  }
 ],
 "metadata": {
  "kernelspec": {
   "display_name": "Python 3 (ipykernel)",
   "language": "python",
   "name": "python3"
  },
  "language_info": {
   "codemirror_mode": {
    "name": "ipython",
    "version": 3
   },
   "file_extension": ".py",
   "mimetype": "text/x-python",
   "name": "python",
   "nbconvert_exporter": "python",
   "pygments_lexer": "ipython3",
   "version": "3.7.6"
  }
 },
 "nbformat": 4,
 "nbformat_minor": 5
}
