{
 "cells": [
  {
   "cell_type": "markdown",
   "id": "157c332c",
   "metadata": {},
   "source": [
    "# Gamma Calibration\n",
    "\n",
    "## Introduction and loading data\n",
    "\n",
    "Detector response to incident gamma rays across the detector varies as a result of various effects at the channel and cube level, including the cube light yield, the channel coupling to the SiPMs, and attenuation effects within the WLS fibres. Due to the directional dependence of effective dose, it is key to ensure that the detector response is isotropic. As a result, we require calibration of these channel effects such that we measure the same distribution of ADC counts per channel for the same energy of incident particles, as otherwise rotation of the detector would change the measured effective dose for the same radiation field. \n",
    " \n",
    "In 2020, data was taken using a Co$^{60}$ source in a lab setting at Imperial. This was used to perform a channel-to-channel light response calibration, using the Compton edge from the first photopeak of Co$^{60}$ as a reference point.\n",
    "\n",
    "\n",
    "The majority of the code used for this analysis can be found in GammaCalib.py, but key sections will be reproduced here."
   ]
  },
  {
   "cell_type": "code",
   "execution_count": 2,
   "id": "b4974017",
   "metadata": {},
   "outputs": [],
   "source": [
    "import GammaCalib as GammaCalib\n",
    "\n",
    "import numpy as np\n",
    "import pandas as pd\n",
    "\n",
    "%matplotlib inline"
   ]
  },
  {
   "cell_type": "markdown",
   "id": "14147131",
   "metadata": {},
   "source": [
    "The analysis code is contained within the CouplingAnalysis class, which is instantiated with a timing window for determining coincidence between signals in the detector."
   ]
  },
  {
   "cell_type": "code",
   "execution_count": 3,
   "id": "4cf7c431",
   "metadata": {},
   "outputs": [],
   "source": [
    "analysis = GammaCalib.CouplingAnalysis(100)"
   ]
  },
  {
   "cell_type": "markdown",
   "id": "0b70b159",
   "metadata": {},
   "source": [
    "Individual data files can be loaded into the CouplingAnalysis object via the add_data method, which takes the ROOT file of the data run. The peak value over pedestal for each signal is calculated on a channel-by-channel basis by subtracting the channel baseline from the peak of the waveform. Coincidence calculation is then performed to prepare the datafile for analysis. Background data is also loaded for the purposes of background subtraction during the analysis."
   ]
  },
  {
   "cell_type": "code",
   "execution_count": 4,
   "id": "43524c2c",
   "metadata": {},
   "outputs": [],
   "source": [
    "data_file = '/home/nr1315/Documents/Project/GammaCalibration/Data/lab_2020-09-16_Co60_lowToT.root'\n",
    "bkg_file = '/home/nr1315/Documents/Project/GammaCalibration/Data/lab_2020-09-16_bkg_lowToT.root'\n",
    "\n",
    "analysis.add_data('/home/nr1315/Documents/Project/GammaCalibration/Data/lab_2020-09-16_Co60_lowToT.root')\n",
    "analysis.add_data('/home/nr1315/Documents/Project/GammaCalibration/Data/lab_2020-09-16_bkg_lowToT.root')"
   ]
  },
  {
   "cell_type": "markdown",
   "id": "868d3219",
   "metadata": {},
   "source": [
    "## Channel fitting\n",
    "\n",
    "Now that the data has been loaded, it is instructive to visualise the distribution of peak values over pedestal for a single channel.\n",
    "\n",
    "![Single channel distribution](Plots/single_channel_Compton_edge.png)\n",
    "\n",
    "This shows the Compton energy distribution from the Co$^{60}$ source incident in the detector, which comprises of Compton scattering from the two photopeaks of the source. However, peak broadening effects in the detector distort these distributions, resulting in the shape seen in this plot. For this analysis, we focus on the distribution from the first photopeak of Co$^{60}$ at 1173.2 keV, with a Compton edge energy of 963.3 keV. The broadening effects give rise to a non-trivial distribution, but here it is approximated by a half-Gaussian function from the peak of the distribution onwards. The ADC value of this Compton edge can be extracted from the value of ADC at the 1$\\sigma$ width of the distribution. By fitting a half-Gaussian distribution to each channel, this value can be extracted from each channel.\n",
    "\n",
    "The gen_df function of the CouplingAnalysis class performs this fit for each channel and calculates the chi-squared value of each fit, and returns this information in a Pandas DataFrame. If a background dataset is provided, background subtraction is done at this stage as well. "
   ]
  },
  {
   "cell_type": "code",
   "execution_count": 6,
   "id": "be3d9d8e",
   "metadata": {},
   "outputs": [
    {
     "name": "stderr",
     "output_type": "stream",
     "text": [
      "/home/nr1315/miniconda3/lib/python3.7/site-packages/numpy/core/fromnumeric.py:3373: RuntimeWarning: Mean of empty slice.\n",
      "  out=out, **kwargs)\n",
      "/home/nr1315/miniconda3/lib/python3.7/site-packages/numpy/core/_methods.py:170: RuntimeWarning: invalid value encountered in double_scalars\n",
      "  ret = ret.dtype.type(ret / rcount)\n"
     ]
    }
   ],
   "source": [
    "analysis.gen_df(dfile = data_file, binsize = 128, maxval = 6144, bkg = bkg_file, ToTcut = 20, corrected = False)"
   ]
  },
  {
   "cell_type": "markdown",
   "id": "21dde6a8",
   "metadata": {},
   "source": [
    "This fit can be visualised using the individual_gauss_fit function, which produces a plot of the individual channel distribution alongside the half-Gaussian fit and the residuals of the fit. This function can be used to scroll through each of the channels. An example channel is shown below."
   ]
  },
  {
   "cell_type": "code",
   "execution_count": 8,
   "id": "419da103",
   "metadata": {},
   "outputs": [],
   "source": [
    "analysis.individual_gauss_fit(data_file)"
   ]
  },
  {
   "cell_type": "markdown",
   "id": "27afcb33",
   "metadata": {},
   "source": [
    "![Single channel half-Gaussian fit](Plots/example_gaussian_fit.png)"
   ]
  },
  {
   "cell_type": "markdown",
   "id": "b95abbe6",
   "metadata": {},
   "source": [
    "After the initial round of fitting, the reduced $\\chi^2$ values are checked against a user-defined threshold to decide on the quality of the fit. Here the threshold is set as 2, so any fits with a $\\chi^2$ value greater than this are identifed and labelled as poor fits. Then, the mean fit parameters $\\mu_i$ and $\\sigma_i$ are calculated from the good fits, and these are used as initial parameter guesses for re-fitting the channels with poor initial fits. This is done using the refit_mean function, and an example of the effect this has can be seen below.\n",
    "\n",
    "![Refit example](Plots/pre_post_refit.png)\n",
    "\n",
    "Following this, the correction factors are calculated for each channel. The correction factor for the channel $i$ on FPGA $a$ is defined as\n",
    "\n",
    "$$f_i = \\frac{E_i}{{\\langle E_i \\rangle}^a}, \\qquad\n",
    "E_i = \\mu_i + \\sigma_i,$$\n",
    "\n",
    "\n",
    "where ${\\langle E_i \\rangle}^a$ denotes the mean over channels across FPGA $a$. The peak value over pedestal distribution for each channel $v_i$ is then scaled using these correction factors, such that the corrected values $v^\\prime_i$ are define as\n",
    "\n",
    "$$v^\\prime_i = \\frac{v_i}{f_i},$$\n",
    "\n",
    "for channel $i$. The corrected values are saved in the DataFrame under the \"corrected\" key.\n",
    "\n",
    "After this, the gen_df function is used to recalculate the fit for the corrected data to check that the correction factors have scaled the distribution in the correct direction. In order to verify the effects of this scaling effect, we look at the distribution of $E_i$ for both FPGAs, before and after applying the correction factors to the peak value distributions. "
   ]
  },
  {
   "cell_type": "markdown",
   "id": "5e33147e",
   "metadata": {},
   "source": [
    "![Initial E_i](Plots/initial_E_i_distributions.png)\n",
    "\n",
    "![Final E_i](Plots/corrected_E_i_distributions.png)"
   ]
  },
  {
   "cell_type": "markdown",
   "id": "f8d707cd",
   "metadata": {},
   "source": [
    "Clearly the corrected data has much better agreement across channels for the Compton edge position than for the initial data."
   ]
  },
  {
   "cell_type": "code",
   "execution_count": null,
   "id": "42d19f21",
   "metadata": {},
   "outputs": [],
   "source": []
  }
 ],
 "metadata": {
  "kernelspec": {
   "display_name": "Python 3",
   "language": "python",
   "name": "python3"
  },
  "language_info": {
   "codemirror_mode": {
    "name": "ipython",
    "version": 3
   },
   "file_extension": ".py",
   "mimetype": "text/x-python",
   "name": "python",
   "nbconvert_exporter": "python",
   "pygments_lexer": "ipython3",
   "version": "3.7.6"
  }
 },
 "nbformat": 4,
 "nbformat_minor": 5
}
