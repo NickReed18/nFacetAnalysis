{
 "cells": [
  {
   "cell_type": "markdown",
   "id": "157c332c",
   "metadata": {},
   "source": [
    "# Gamma Calibration\n",
    "\n",
    "## Introduction and loading data\n",
    "\n",
    "In 2020, data was taken using a Co$^{60}$ source in a lab setting at Imperial. This was used to perform a channel-to-channel light response calibration, using the Compton edge from the first photopeak of Co$^{60}$ as a reference point. \n",
    "\n",
    "The majority of the code used for this analysis can be found in GammaCalib.py, but key sections will be reproduced here."
   ]
  },
  {
   "cell_type": "code",
   "execution_count": 4,
   "id": "b4974017",
   "metadata": {},
   "outputs": [],
   "source": [
    "import GammaCalib as GammaCalib\n",
    "\n",
    "import numpy as np\n",
    "import pandas as pd\n",
    "\n",
    "%matplotlib inline"
   ]
  },
  {
   "cell_type": "markdown",
   "id": "14147131",
   "metadata": {},
   "source": [
    "The analysis code is contained within the CouplingAnalysis class, which is instantiated with a timing window for determining coincidence between signals in the detector."
   ]
  },
  {
   "cell_type": "code",
   "execution_count": 3,
   "id": "4cf7c431",
   "metadata": {},
   "outputs": [],
   "source": [
    "analysis = GammaCalib.CouplingAnalysis(100)"
   ]
  },
  {
   "cell_type": "markdown",
   "id": "0b70b159",
   "metadata": {},
   "source": [
    "Individual data files can be loaded into the CouplingAnalysis object via the add_data method, which takes the ROOT file of the data run. The peak value over pedestal for each signal is calculated on a channel-by-channel basis by subtracting the channel baseline from the peak of the waveform. Coincidence calculation is then performed to prepare the datafile for analysis. Background data is also loaded for the purposes of background subtraction during the analysis."
   ]
  },
  {
   "cell_type": "code",
   "execution_count": 7,
   "id": "43524c2c",
   "metadata": {},
   "outputs": [],
   "source": [
    "data_file = '/home/nr1315/Documents/Project/GammaCalibration/Data/lab_2020-09-16_Co60_lowToT.root'\n",
    "bkg_file = '/home/nr1315/Documents/Project/GammaCalibration/Data/lab_2020-09-16_bkg_lowToT.root'\n",
    "\n",
    "analysis.add_data('/home/nr1315/Documents/Project/GammaCalibration/Data/lab_2020-09-16_Co60_lowToT.root')\n",
    "analysis.add_data('/home/nr1315/Documents/Project/GammaCalibration/Data/lab_2020-09-16_bkg_lowToT.root')"
   ]
  },
  {
   "cell_type": "markdown",
   "id": "f68a61bb",
   "metadata": {},
   "source": [
    "## Channel fitting\n",
    "\n",
    "Now that the data has been loaded, it is instructive to visualise the distribution of peak values over pedestal for a single channel.\n",
    "\n",
    "![Single channel distribution](Plots/single_channel_Compton_edge.png)\n",
    "\n",
    "This shows the Compton energy distribution from the Co$^{60}$ source incident in the detector, which comprises of Compton scattering from the two photopeaks of the source. However, peak broadening effects in the detector distort these distributions, resulting in the shape seen in this plot. For this analysis, we focus on the distribution from the first photopeak of Co$^{60}$ at 1173.2 keV, with a Compton edge energy of 963.3 keV. The broadening effects give rise to a non-trivial distribution, but here it is approximated by a half-Gaussian function from the peak of the distribution onwards. The ADC value of this Compton edge can be extracted from the value of ADC at the 1$\\sigma$ width of the distribution. By fitting a half-Gaussian distribution to each channel, this value can be extracted from each channel.\n",
    "\n",
    "The gen_df function of the CouplingAnalysis class performs this fit for each channel and calculates the chi-squared value of each fit, and returns this information in a Pandas DataFrame. If a background dataset is provided, background subtraction is done at this stage as well. "
   ]
  },
  {
   "cell_type": "code",
   "execution_count": 8,
   "id": "486fa3dc",
   "metadata": {},
   "outputs": [
    {
     "name": "stderr",
     "output_type": "stream",
     "text": [
      "/home/nr1315/miniconda3/lib/python3.7/site-packages/numpy/core/fromnumeric.py:3373: RuntimeWarning: Mean of empty slice.\n",
      "  out=out, **kwargs)\n",
      "/home/nr1315/miniconda3/lib/python3.7/site-packages/numpy/core/_methods.py:170: RuntimeWarning: invalid value encountered in double_scalars\n",
      "  ret = ret.dtype.type(ret / rcount)\n"
     ]
    }
   ],
   "source": [
    "analysis.gen_df(dfile = data_file, binsize = 128, maxval = 6144, bkg = bkg_file, ToTcut = 20, corrected = False)"
   ]
  },
  {
   "cell_type": "markdown",
   "id": "af909cfd",
   "metadata": {},
   "source": [
    "This fit can be visualised using the "
   ]
  },
  {
   "cell_type": "code",
   "execution_count": null,
   "id": "7309a8e2",
   "metadata": {},
   "outputs": [],
   "source": []
  }
 ],
 "metadata": {
  "kernelspec": {
   "display_name": "Python 3",
   "language": "python",
   "name": "python3"
  },
  "language_info": {
   "codemirror_mode": {
    "name": "ipython",
    "version": 3
   },
   "file_extension": ".py",
   "mimetype": "text/x-python",
   "name": "python",
   "nbconvert_exporter": "python",
   "pygments_lexer": "ipython3",
   "version": "3.7.6"
  }
 },
 "nbformat": 4,
 "nbformat_minor": 5
}
